{
 "cells": [
  {
   "cell_type": "markdown",
   "metadata": {},
   "source": [
    "### Training of CNN  "
   ]
  },
  {
   "cell_type": "markdown",
   "metadata": {},
   "source": [
    "#### Import libraries  "
   ]
  },
  {
   "cell_type": "code",
   "execution_count": null,
   "metadata": {},
   "outputs": [],
   "source": [
    "import os\n",
    "import numpy as np\n",
    "import pandas as pd\n",
    "import matplotlib.pyplot as plt\n",
    "from tensorflow.keras.models import Sequential\n",
    "from tensorflow.keras.layers import Conv2D,MaxPooling2D\n",
    "from tensorflow.keras.layers import Dropout,Flatten,Dense\n",
    "from tensorflow.keras.callbacks import EarlyStopping\n",
    "from tensorflow.keras.callbacks import CSVLogger\n",
    "from tensorflow.keras.utils import to_categorical\n",
    "\n",
    "import  os\n",
    "os.environ['KMP_DUPLICATE_LIB_OK'] = 'True'\n",
    "os.environ['TF_CPP_MIN_LOG_LEVEL'] = '2'  # for mac OS"
   ]
  },
  {
   "cell_type": "markdown",
   "metadata": {},
   "source": [
    "#### Uncomment these lines to fix random sequences "
   ]
  },
  {
   "cell_type": "code",
   "execution_count": null,
   "metadata": {},
   "outputs": [],
   "source": [
    "#import random\n",
    "#import tensorflow as tf\n",
    "#seedval = 13\n",
    "#tf.random.set_seed(seedval)\n",
    "#np.random.seed(seedval)\n",
    "#random.seed(seedval)\n",
    "#os.environ[\"PYTHONHASHSEED\"] = str(seedval)"
   ]
  },
  {
   "cell_type": "markdown",
   "metadata": {},
   "source": [
    "#### Parameters  "
   ]
  },
  {
   "cell_type": "code",
   "execution_count": null,
   "metadata": {},
   "outputs": [],
   "source": [
    "w=56\n",
    "work_dir='data/dogs_cats'\n",
    "npy_data_base='dogs_cats-data'\n",
    "npy_labels_base='dogs_cats-labels'\n",
    "classes=['cats', 'dogs']\n",
    "num_classes=len(classes)\n",
    "\n",
    "model_file=\"dogs_cats-model-w{}.h5\".format(w)\n",
    "history_file=\"dogs_cats-history-w{}.csv\".format(w)"
   ]
  },
  {
   "cell_type": "markdown",
   "metadata": {},
   "source": [
    "#### Read files and convert data format  "
   ]
  },
  {
   "cell_type": "code",
   "execution_count": null,
   "metadata": {},
   "outputs": [],
   "source": [
    "mode=\"train\"\n",
    "npy_data_file='{}-{}-w{}.npy'.format(npy_data_base, mode, w)\n",
    "data_file_path=os.path.join(work_dir, npy_data_file)\n",
    "npy_labels_file='{}-{}-w{}.npy'.format(npy_labels_base, mode, w)\n",
    "labels_file_path=os.path.join(work_dir, npy_labels_file)\n",
    "X_train=np.load(data_file_path).astype('float16')\n",
    "X_train/=255\n",
    "print(X_train.shape)\n",
    "y_train=np.load(labels_file_path)\n",
    "y_train=to_categorical(y_train, num_classes)\n",
    "\n",
    "mode=\"test\"\n",
    "npy_data_file='{}-{}-w{}.npy'.format(npy_data_base, mode, w)\n",
    "data_file_path=os.path.join(work_dir, npy_data_file)\n",
    "npy_labels_file='{}-{}-w{}.npy'.format(npy_labels_base, mode, w)\n",
    "labels_file_path=os.path.join(work_dir, npy_labels_file)\n",
    "X_test=np.load(data_file_path).astype(\"float16\")\n",
    "X_test/=255\n",
    "y_test=np.load(labels_file_path)\n",
    "y_test=to_categorical(y_test, num_classes)\n",
    "\n",
    "print( X_train.shape )\n",
    "print( y_train.shape )\n",
    "print( X_test.shape )\n",
    "print( y_test.shape )\n",
    "img_rows=X_train.shape[1]\n",
    "img_cols=X_train.shape[2]\n",
    "img_channels=X_train.shape[3]\n",
    "print(\"image_size:\", img_rows, img_cols)\n",
    "print(\"image_channels:\", img_channels)"
   ]
  },
  {
   "cell_type": "markdown",
   "metadata": {},
   "source": [
    "#### Structure of CNN  "
   ]
  },
  {
   "cell_type": "code",
   "execution_count": null,
   "metadata": {},
   "outputs": [],
   "source": [
    "input_shape=(img_rows,img_cols,img_channels)\n",
    "model=Sequential()\n",
    "model.add(Conv2D(32, (3,3), activation='relu', padding='same',\n",
    "                 input_shape=input_shape))\n",
    "model.add(MaxPooling2D(pool_size=(2,2)))\n",
    "model.add(Dropout(0.25))\n",
    "model.add(Conv2D(32, (3,3), activation='relu', padding='same'))\n",
    "model.add(MaxPooling2D(pool_size=(2,2)))\n",
    "model.add(Dropout(0.25))\n",
    "model.add(Conv2D(32, (3,3), activation='relu', padding='same'))\n",
    "model.add(MaxPooling2D(pool_size=(2,2)))\n",
    "model.add(Dropout(0.25))\n",
    "model.add(Flatten())\n",
    "model.add(Dense(64, activation='relu'))\n",
    "model.add(Dropout(0.25))\n",
    "model.add(Dense(num_classes, activation='softmax'))\n",
    "model.summary()"
   ]
  },
  {
   "cell_type": "markdown",
   "metadata": {},
   "source": [
    "#### Training of CNN  "
   ]
  },
  {
   "cell_type": "code",
   "execution_count": null,
   "metadata": {},
   "outputs": [],
   "source": [
    "%%time\n",
    "n_epochs=100\n",
    "val_split=0.2\n",
    "batch_size=128\n",
    "model.compile(loss='categorical_crossentropy', optimizer='rmsprop',\n",
    "              metrics=['accuracy'])\n",
    "cl=CSVLogger(history_file)\n",
    "es=EarlyStopping(monitor='val_loss', patience=12, verbose=1)\n",
    "fit_log=model.fit(X_train, y_train, batch_size=batch_size,\n",
    "                  epochs=n_epochs, validation_split=val_split,\n",
    "                  callbacks=[cl, es])"
   ]
  },
  {
   "cell_type": "markdown",
   "metadata": {},
   "source": [
    "#### Visualization of training progress  "
   ]
  },
  {
   "cell_type": "code",
   "execution_count": null,
   "metadata": {},
   "outputs": [],
   "source": [
    "loss=fit_log.history['loss']\n",
    "val_loss=fit_log.history['val_loss']\n",
    "acc=fit_log.history['accuracy']\n",
    "val_acc=fit_log.history['val_accuracy']\n",
    "epoch=range(len(loss))\n",
    "\n",
    "plt.plot(epoch, loss, label='train')\n",
    "plt.plot(epoch, val_loss, label='valid')\n",
    "plt.title('Model Loss')\n",
    "plt.xlabel('Epochs')\n",
    "plt.ylabel('Loss')\n",
    "plt.legend()\n",
    "plt.show()\n",
    "\n",
    "plt.plot(epoch, acc, label='train')\n",
    "plt.plot(epoch, val_acc, label='valid')\n",
    "plt.title('Model Accuracy')\n",
    "plt.xlabel('Epochs')\n",
    "plt.ylabel('Accuracy')\n",
    "plt.legend()\n",
    "plt.show()"
   ]
  },
  {
   "cell_type": "markdown",
   "metadata": {},
   "source": [
    "#### Visualization of training progress (from file) "
   ]
  },
  {
   "cell_type": "code",
   "execution_count": null,
   "metadata": {},
   "outputs": [],
   "source": [
    "df=pd.read_csv(history_file, sep=',', skiprows=0, header=0)\n",
    "loss=df['loss']\n",
    "val_loss=df['val_loss']\n",
    "acc=df['accuracy']\n",
    "val_acc=df['val_accuracy']\n",
    "epoch=df['epoch']\n",
    "\n",
    "plt.plot(epoch, loss, label='train')\n",
    "plt.plot(epoch, val_loss, label='valid')\n",
    "plt.title('Model Loss')\n",
    "plt.xlabel('Epochs')\n",
    "plt.ylabel('Loss')\n",
    "plt.legend()\n",
    "plt.show()\n",
    "\n",
    "plt.plot(epoch, acc, label='train')\n",
    "plt.plot(epoch, val_acc, label='valid')\n",
    "plt.title('Model Accuracy')\n",
    "plt.xlabel('Epochs')\n",
    "plt.ylabel('Accuracy')\n",
    "plt.legend()\n",
    "plt.show()"
   ]
  },
  {
   "cell_type": "markdown",
   "metadata": {},
   "source": [
    "#### Generalization performance  "
   ]
  },
  {
   "cell_type": "code",
   "execution_count": null,
   "metadata": {},
   "outputs": [],
   "source": [
    "score=model.evaluate(X_test, y_test, verbose=0)\n",
    "print('loss=', score[0])\n",
    "print('accuracy=', score[1])"
   ]
  },
  {
   "cell_type": "code",
   "execution_count": null,
   "metadata": {},
   "outputs": [],
   "source": [
    "y_test_pred=model.predict(X_test, verbose=0)\n",
    "ct = pd.crosstab(y_test.argmax(axis=1),\n",
    "                 y_test_pred.argmax(axis=1))\n",
    "display(ct)"
   ]
  },
  {
   "cell_type": "markdown",
   "metadata": {},
   "source": [
    "#### Save model to file  "
   ]
  },
  {
   "cell_type": "code",
   "execution_count": null,
   "metadata": {},
   "outputs": [],
   "source": [
    "model.save(model_file)"
   ]
  },
  {
   "cell_type": "code",
   "execution_count": null,
   "metadata": {},
   "outputs": [],
   "source": []
  }
 ],
 "metadata": {
  "kernelspec": {
   "display_name": "Python 3 (ipykernel)",
   "language": "python",
   "name": "python3"
  },
  "language_info": {
   "codemirror_mode": {
    "name": "ipython",
    "version": 3
   },
   "file_extension": ".py",
   "mimetype": "text/x-python",
   "name": "python",
   "nbconvert_exporter": "python",
   "pygments_lexer": "ipython3",
   "version": "3.8.16"
  }
 },
 "nbformat": 4,
 "nbformat_minor": 4
}
