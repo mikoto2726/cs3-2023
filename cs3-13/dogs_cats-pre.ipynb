{
 "cells": [
  {
   "cell_type": "markdown",
   "metadata": {},
   "source": [
    "### Preprocessing of images  "
   ]
  },
  {
   "cell_type": "markdown",
   "metadata": {},
   "source": [
    "#### Import libraries  "
   ]
  },
  {
   "cell_type": "code",
   "execution_count": 1,
   "metadata": {},
   "outputs": [],
   "source": [
    "import os, glob\n",
    "import numpy as np\n",
    "from PIL import Image"
   ]
  },
  {
   "cell_type": "code",
   "execution_count": 2,
   "metadata": {},
   "outputs": [],
   "source": [
    "seedval = 111\n",
    "np.random.seed(seedval)"
   ]
  },
  {
   "cell_type": "markdown",
   "metadata": {},
   "source": [
    "#### Parameters  "
   ]
  },
  {
   "cell_type": "code",
   "execution_count": 3,
   "metadata": {},
   "outputs": [],
   "source": [
    "w=56\n",
    "work_dir='data/dogs_cats'\n",
    "npy_data_base='dogs_cats-data'\n",
    "npy_labels_base='dogs_cats-labels'\n",
    "classes=['cats', 'dogs']\n",
    "num_classes=len(classes)"
   ]
  },
  {
   "cell_type": "markdown",
   "metadata": {},
   "source": [
    "#### Preprocess images and save them to files  "
   ]
  },
  {
   "cell_type": "code",
   "execution_count": 4,
   "metadata": {},
   "outputs": [
    {
     "name": "stdout",
     "output_type": "stream",
     "text": [
      "w: 56  mode: train  class: cats\n",
      "w: 56  mode: train  class: dogs\n",
      "Number of data in X: 2000\n",
      "Number of data in y: 2000\n",
      "w: 56  mode: test  class: cats\n",
      "w: 56  mode: test  class: dogs\n",
      "Number of data in X: 400\n",
      "Number of data in y: 400\n",
      "OK\n",
      "CPU times: total: 13.4 s\n",
      "Wall time: 1min 24s\n"
     ]
    }
   ],
   "source": [
    "%%time\n",
    "\n",
    "ok=1\n",
    "for mode in [\"train\", \"test\"]:\n",
    "    X=[]\n",
    "    y=[]\n",
    "    for i in range(num_classes):\n",
    "        cls=classes[i]\n",
    "        image_dir=os.path.join(work_dir, 'original', mode, cls)\n",
    "        image_pat=os.path.join(image_dir, '*.*')\n",
    "        files=glob.glob(image_pat)\n",
    "        print(\"w:\", w, \" mode:\", mode, \" class:\", cls)\n",
    "        for f in files:\n",
    "            img=Image.open(f)\n",
    "            img=img.convert(\"RGB\")\n",
    "            img=img.resize((w,w))\n",
    "            data=np.array(img)\n",
    "            X.append(data)\n",
    "            y.append(i)\n",
    "    X=np.array(X)\n",
    "    y=np.array(y)\n",
    "    \n",
    "    # shuffle train data (for validation_split of fit())\n",
    "    if mode == 'train':\n",
    "        idx = np.random.permutation(X.shape[0])\n",
    "        X = X[idx]\n",
    "        y = y[idx]\n",
    "        \n",
    "    print('Number of data in X:', X.shape[0])\n",
    "    print('Number of data in y:', y.shape[0])\n",
    "    npy_data_file='{}-{}-w{}.npy'.format(npy_data_base, mode, w)\n",
    "    data_file_path=os.path.join(work_dir, npy_data_file)\n",
    "    npy_labels_file='{}-{}-w{}.npy'.format(npy_labels_base, mode, w)\n",
    "    labels_file_path=os.path.join(work_dir, npy_labels_file)\n",
    "    np.save(data_file_path, X)\n",
    "    np.save(labels_file_path, y)\n",
    "    \n",
    "    if not os.path.exists(data_file_path):\n",
    "        ok=0\n",
    "    if not os.path.exists(labels_file_path):\n",
    "        ok=0\n",
    "        \n",
    "if ok==1:\n",
    "    print(\"OK\")"
   ]
  },
  {
   "cell_type": "code",
   "execution_count": null,
   "metadata": {},
   "outputs": [],
   "source": []
  }
 ],
 "metadata": {
  "kernelspec": {
   "display_name": "Python 3 (ipykernel)",
   "language": "python",
   "name": "python3"
  },
  "language_info": {
   "codemirror_mode": {
    "name": "ipython",
    "version": 3
   },
   "file_extension": ".py",
   "mimetype": "text/x-python",
   "name": "python",
   "nbconvert_exporter": "python",
   "pygments_lexer": "ipython3",
   "version": "3.8.16"
  }
 },
 "nbformat": 4,
 "nbformat_minor": 4
}
