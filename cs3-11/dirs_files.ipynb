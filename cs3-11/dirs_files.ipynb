{
 "cells": [
  {
   "cell_type": "code",
   "execution_count": 1,
   "id": "75e20071-5ae9-4f28-9588-090c9cf9e0a9",
   "metadata": {},
   "outputs": [],
   "source": [
    "import shutil, os, glob"
   ]
  },
  {
   "cell_type": "code",
   "execution_count": 2,
   "id": "63aca1df-72bb-45eb-b7b6-baddc09fdc59",
   "metadata": {},
   "outputs": [],
   "source": [
    "d = 'dir1'"
   ]
  },
  {
   "cell_type": "code",
   "execution_count": 3,
   "id": "f5875307-3397-4ab7-b4a6-6d43c4246c65",
   "metadata": {},
   "outputs": [],
   "source": [
    "if os.path.isdir(d):\n",
    "    shutil.rmtree(d)"
   ]
  },
  {
   "cell_type": "code",
   "execution_count": 4,
   "id": "c0f46ced-4420-4e35-9fb9-349195ece1c2",
   "metadata": {},
   "outputs": [
    {
     "name": "stdout",
     "output_type": "stream",
     "text": [
      "dir1\\file0.txt\n",
      "dir1\\file1.txt\n",
      "dir1\\file2.txt\n",
      "dir1\\file3.txt\n"
     ]
    }
   ],
   "source": [
    "os.makedirs(d)\n",
    "for i in range(4):\n",
    "    file = 'file{}.txt'.format(i)\n",
    "    file_path = os.path.join(d, file)\n",
    "    print(file_path)\n",
    "    with open(file_path, 'w') as f:\n",
    "        f.write('Top line of {}\\n'.format(file))\n",
    "        f.write('Second line of {}\\n'.format(file))"
   ]
  },
  {
   "cell_type": "code",
   "execution_count": 5,
   "id": "aece1e36-9da0-4c2a-8d2e-caf5caabed11",
   "metadata": {},
   "outputs": [
    {
     "name": "stdout",
     "output_type": "stream",
     "text": [
      "dir1\\file0.txt\n",
      "Top line of file0.txt\n",
      "Second line of file0.txt\n",
      "dir1\\file1.txt\n",
      "Top line of file1.txt\n",
      "Second line of file1.txt\n",
      "dir1\\file2.txt\n",
      "Top line of file2.txt\n",
      "Second line of file2.txt\n",
      "dir1\\file3.txt\n",
      "Top line of file3.txt\n",
      "Second line of file3.txt\n"
     ]
    }
   ],
   "source": [
    "file_pat = '{}/*.txt'.format(d)\n",
    "for file_path in glob.glob(file_pat):\n",
    "    print(file_path)\n",
    "    with open(file_path, 'r') as f:\n",
    "        for line in f:\n",
    "            print(line, end='')"
   ]
  },
  {
   "cell_type": "code",
   "execution_count": null,
   "id": "c41dff2c-933c-4b42-af53-9b570edbfb5f",
   "metadata": {},
   "outputs": [],
   "source": []
  }
 ],
 "metadata": {
  "kernelspec": {
   "display_name": "Python 3 (ipykernel)",
   "language": "python",
   "name": "python3"
  },
  "language_info": {
   "codemirror_mode": {
    "name": "ipython",
    "version": 3
   },
   "file_extension": ".py",
   "mimetype": "text/x-python",
   "name": "python",
   "nbconvert_exporter": "python",
   "pygments_lexer": "ipython3",
   "version": "3.8.16"
  }
 },
 "nbformat": 4,
 "nbformat_minor": 5
}
