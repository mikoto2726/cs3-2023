{
 "cells": [
  {
   "cell_type": "code",
   "execution_count": 4,
   "id": "2e589ee3-3492-4a6c-923e-ea9681338867",
   "metadata": {},
   "outputs": [
    {
     "name": "stdout",
     "output_type": "stream",
     "text": [
      "      0\n",
      "3  3.25\n",
      "4  4.00\n",
      "5  4.25\n",
      "6  4.00\n"
     ]
    }
   ],
   "source": [
    "import numpy as np #numpyにnpという別名を付けてimport\n",
    "import pandas as pd #pandasにpdという別名を付けてimport\n",
    "import matplotlib.pyplot as plt #グラフ描画のためのライブラリmatplotlibをimportする\n",
    "df = pd.DataFrame([1, 4, 3, 5, 4, 5, 2])\n",
    "df_rolling7=df.rolling(4).mean().dropna()\n",
    "print(df_rolling7)"
   ]
  },
  {
   "cell_type": "code",
   "execution_count": null,
   "id": "b7f28a44-c747-445b-98dd-d83bf0d7562a",
   "metadata": {},
   "outputs": [],
   "source": []
  }
 ],
 "metadata": {
  "kernelspec": {
   "display_name": "Python 3 (ipykernel)",
   "language": "python",
   "name": "python3"
  },
  "language_info": {
   "codemirror_mode": {
    "name": "ipython",
    "version": 3
   },
   "file_extension": ".py",
   "mimetype": "text/x-python",
   "name": "python",
   "nbconvert_exporter": "python",
   "pygments_lexer": "ipython3",
   "version": "3.8.16"
  }
 },
 "nbformat": 4,
 "nbformat_minor": 5
}
