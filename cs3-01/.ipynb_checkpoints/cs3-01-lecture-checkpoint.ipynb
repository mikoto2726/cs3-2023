{
 "cells": [
  {
   "cell_type": "markdown",
   "id": "58817baf-1fd3-4fdb-8c1d-7024121aa957",
   "metadata": {},
   "source": [
    "#### Import libraries"
   ]
  },
  {
   "cell_type": "code",
   "execution_count": 1,
   "id": "228801fa-77a6-4590-9b8e-0d439ac6cb43",
   "metadata": {},
   "outputs": [],
   "source": [
    "import numpy as np\n",
    "import numpy as pd"
   ]
  },
  {
   "cell_type": "markdown",
   "id": "c70dae11-d8c7-4081-8871-e122aae9510b",
   "metadata": {},
   "source": [
    "#### List and ndarray"
   ]
  },
  {
   "cell_type": "code",
   "execution_count": 2,
   "id": "b41df993-55e6-4c92-9fa9-dd82bcdcdc9e",
   "metadata": {},
   "outputs": [
    {
     "name": "stdout",
     "output_type": "stream",
     "text": [
      "[0, 1, 2]\n",
      "<class 'list'>\n",
      "[0 1 2]\n",
      "<class 'numpy.ndarray'>\n"
     ]
    }
   ],
   "source": [
    "lst = [0, 1, 2]\n",
    "nd = np.array(lst)\n",
    "print(lst)\n",
    "print(type(lst))\n",
    "print(nd)\n",
    "print(type(nd))"
   ]
  },
  {
   "cell_type": "code",
   "execution_count": 3,
   "id": "c0d06591-0c40-4059-b98e-2a74e55d6588",
   "metadata": {},
   "outputs": [
    {
     "name": "stdout",
     "output_type": "stream",
     "text": [
      "[0, 1, 2, 0, 1, 2]\n",
      "[0 2 4]\n"
     ]
    }
   ],
   "source": [
    "print(lst * 2)\n",
    "print(nd * 2)"
   ]
  },
  {
   "cell_type": "markdown",
   "id": "ddab618a-bbb9-4dc0-bd0f-52a650c43042",
   "metadata": {},
   "source": [
    "#### List and ndarray 2"
   ]
  },
  {
   "cell_type": "code",
   "execution_count": 5,
   "id": "509410b0-5c5e-44bb-85fc-97f7db95fb9f",
   "metadata": {},
   "outputs": [
    {
     "name": "stdout",
     "output_type": "stream",
     "text": [
      "<class 'list'>\n",
      "[0, 1, 2, 3, 4, 5]\n"
     ]
    }
   ],
   "source": [
    "a = [0, 1, 2]\n",
    "b = [3, 4, 5]\n",
    "print(type(a))\n",
    "print(a + b)\n",
    "#print(a * b)"
   ]
  },
  {
   "cell_type": "code",
   "execution_count": 6,
   "id": "6628ee9e-6e1c-4f7d-8839-6f88299a4941",
   "metadata": {},
   "outputs": [
    {
     "name": "stdout",
     "output_type": "stream",
     "text": [
      "<class 'numpy.ndarray'>\n",
      "[3 5 7]\n",
      "[ 0  4 10]\n"
     ]
    }
   ],
   "source": [
    "a = np.array([0, 1, 2])\n",
    "b = np.array([3, 4, 5])\n",
    "print(type(a))\n",
    "print(a + b)\n",
    "print(a * b)"
   ]
  },
  {
   "cell_type": "code",
   "execution_count": 10,
   "id": "28f2ce2e-1a82-4f49-9aa6-437842b42941",
   "metadata": {},
   "outputs": [
    {
     "name": "stdout",
     "output_type": "stream",
     "text": [
      "[ 0  4 10]\n",
      "[ 0  4 10]\n"
     ]
    }
   ],
   "source": [
    "a = np.array([0, 1, 2])\n",
    "b = np.array([3, 4, 5])\n",
    "c = a * b\n",
    "print(c)\n",
    "\n",
    "a = np.array([0, 1, 2])\n",
    "b = np.array([3, 4, 5])\n",
    "c = []\n",
    "for i in range(len(a)):\n",
    "    c.append(a[i] * b[i])\n",
    "c = np.array(c)\n",
    "print(c)"
   ]
  },
  {
   "cell_type": "markdown",
   "id": "6ac7d10a-712b-427a-96ee-499c0cd68012",
   "metadata": {},
   "source": [
    "#### Check dimensions"
   ]
  },
  {
   "cell_type": "code",
   "execution_count": 14,
   "id": "8547c77a-81e4-4e65-a8fc-a4f66e6dec59",
   "metadata": {},
   "outputs": [
    {
     "name": "stdout",
     "output_type": "stream",
     "text": [
      "[0 1 2]\n",
      "[[0 1 2]\n",
      " [3 4 5]]\n",
      "[[[ 0  1  2]\n",
      "  [ 3  4  5]]\n",
      "\n",
      " [[ 6  7  8]\n",
      "  [ 9 10 11]]]\n",
      "(3,)\n",
      "(2, 3)\n",
      "(2, 2, 3)\n"
     ]
    }
   ],
   "source": [
    "a1 = np.array([0, 1, 2])\n",
    "a2 = np.array([[0, 1, 2], [3, 4, 5]])\n",
    "a3 = np.array([[[0, 1, 2], [3, 4, 5]], [[6, 7, 8], [9, 10, 11]]])\n",
    "print(a1)\n",
    "print(a2)\n",
    "print(a3)\n",
    "print(a1.shape)\n",
    "print(a2.shape)\n",
    "print(a3.shape)"
   ]
  },
  {
   "cell_type": "code",
   "execution_count": null,
   "id": "21818b64-54c1-409e-8072-c36f867e5efd",
   "metadata": {},
   "outputs": [],
   "source": []
  }
 ],
 "metadata": {
  "kernelspec": {
   "display_name": "Python 3 (ipykernel)",
   "language": "python",
   "name": "python3"
  },
  "language_info": {
   "codemirror_mode": {
    "name": "ipython",
    "version": 3
   },
   "file_extension": ".py",
   "mimetype": "text/x-python",
   "name": "python",
   "nbconvert_exporter": "python",
   "pygments_lexer": "ipython3",
   "version": "3.8.16"
  }
 },
 "nbformat": 4,
 "nbformat_minor": 5
}
