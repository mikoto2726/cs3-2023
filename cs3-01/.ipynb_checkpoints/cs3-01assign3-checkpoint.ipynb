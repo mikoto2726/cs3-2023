{
 "cells": [
  {
   "cell_type": "code",
   "execution_count": 6,
   "id": "8ff17682-1ef2-4f58-8b3b-230001cb392a",
   "metadata": {},
   "outputs": [
    {
     "data": {
      "text/html": [
       "<div>\n",
       "<style scoped>\n",
       "    .dataframe tbody tr th:only-of-type {\n",
       "        vertical-align: middle;\n",
       "    }\n",
       "\n",
       "    .dataframe tbody tr th {\n",
       "        vertical-align: top;\n",
       "    }\n",
       "\n",
       "    .dataframe thead th {\n",
       "        text-align: right;\n",
       "    }\n",
       "</style>\n",
       "<table border=\"1\" class=\"dataframe\">\n",
       "  <thead>\n",
       "    <tr style=\"text-align: right;\">\n",
       "      <th></th>\n",
       "      <th>4/1</th>\n",
       "      <th>4/2</th>\n",
       "      <th>4/3</th>\n",
       "      <th>4/4</th>\n",
       "      <th>4/5</th>\n",
       "      <th>4/6</th>\n",
       "      <th>4/7</th>\n",
       "      <th>4/8</th>\n",
       "      <th>4/9</th>\n",
       "    </tr>\n",
       "  </thead>\n",
       "  <tbody>\n",
       "    <tr>\n",
       "      <th>high</th>\n",
       "      <td>23.3</td>\n",
       "      <td>19.0</td>\n",
       "      <td>18.4</td>\n",
       "      <td>21.0</td>\n",
       "      <td>21.8</td>\n",
       "      <td>23.4</td>\n",
       "      <td>21.3</td>\n",
       "      <td>21.1</td>\n",
       "      <td>17.7</td>\n",
       "    </tr>\n",
       "    <tr>\n",
       "      <th>low</th>\n",
       "      <td>10.3</td>\n",
       "      <td>11.1</td>\n",
       "      <td>9.5</td>\n",
       "      <td>7.7</td>\n",
       "      <td>9.8</td>\n",
       "      <td>16.3</td>\n",
       "      <td>17.0</td>\n",
       "      <td>9.1</td>\n",
       "      <td>6.6</td>\n",
       "    </tr>\n",
       "  </tbody>\n",
       "</table>\n",
       "</div>"
      ],
      "text/plain": [
       "       4/1   4/2   4/3   4/4   4/5   4/6   4/7   4/8   4/9\n",
       "high  23.3  19.0  18.4  21.0  21.8  23.4  21.3  21.1  17.7\n",
       "low   10.3  11.1   9.5   7.7   9.8  16.3  17.0   9.1   6.6"
      ]
     },
     "metadata": {},
     "output_type": "display_data"
    }
   ],
   "source": [
    "import numpy as np\n",
    "import pandas as pd\n",
    "\n",
    "temp = pd.DataFrame([[23.3, 19.0, 18.4, 21, 21.8, 23.4, 21.3, 21.1, 17.7], [10.3, 11.1, 9.5, 7.7, 9.8, 16.3, 17.0, 9.1, 6.6]])\n",
    "temp.columns = ['4/1', '4/2', '4/3', '4/4', '4/5', '4/6', '4/7', '4/8', '4/9']\n",
    "temp.index = ['high', 'low']\n",
    "\n",
    "\n",
    "display(temp)"
   ]
  },
  {
   "cell_type": "code",
   "execution_count": null,
   "id": "00584768-7983-461a-a116-51df0a58bb26",
   "metadata": {},
   "outputs": [],
   "source": []
  }
 ],
 "metadata": {
  "kernelspec": {
   "display_name": "Python 3 (ipykernel)",
   "language": "python",
   "name": "python3"
  },
  "language_info": {
   "codemirror_mode": {
    "name": "ipython",
    "version": 3
   },
   "file_extension": ".py",
   "mimetype": "text/x-python",
   "name": "python",
   "nbconvert_exporter": "python",
   "pygments_lexer": "ipython3",
   "version": "3.8.16"
  }
 },
 "nbformat": 4,
 "nbformat_minor": 5
}
