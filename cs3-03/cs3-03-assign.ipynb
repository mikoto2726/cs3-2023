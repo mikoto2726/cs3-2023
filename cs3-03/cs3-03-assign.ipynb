{
 "cells": [
  {
   "cell_type": "code",
   "execution_count": 5,
   "id": "c9a6d710-8362-42ea-86c5-d7600a97a715",
   "metadata": {},
   "outputs": [
    {
     "name": "stdout",
     "output_type": "stream",
     "text": [
      "(440, 8)\n",
      "<class 'pandas.core.frame.DataFrame'>\n",
      "RangeIndex: 440 entries, 0 to 439\n",
      "Data columns (total 8 columns):\n",
      " #   Column            Non-Null Count  Dtype \n",
      "---  ------            --------------  ----- \n",
      " 0   Channel           440 non-null    int64 \n",
      " 1   Region            440 non-null    object\n",
      " 2   Fresh             440 non-null    int64 \n",
      " 3   Milk              440 non-null    int64 \n",
      " 4   Grocery           440 non-null    int64 \n",
      " 5   Frozen            440 non-null    int64 \n",
      " 6   Detergents_Paper  440 non-null    int64 \n",
      " 7   Delicatessen      440 non-null    int64 \n",
      "dtypes: int64(7), object(1)\n",
      "memory usage: 27.6+ KB\n",
      "None\n",
      "   Channel Region  Fresh  Milk  Grocery  Frozen  Detergents_Paper  \\\n",
      "0        2  Other  12669  9656     7561     214              2674   \n",
      "1        2  Other   7057  9810     9568    1762              3293   \n",
      "2        2  Other   6353  8808     7684    2405              3516   \n",
      "3        1  Other  13265  1196     4221    6404               507   \n",
      "4        2  Other  22615  5410     7198    3915              1777   \n",
      "\n",
      "   Delicatessen  \n",
      "0          1338  \n",
      "1          1776  \n",
      "2          7844  \n",
      "3          1788  \n",
      "4          5185  \n"
     ]
    }
   ],
   "source": [
    "import numpy as np \n",
    "import pandas as pd\n",
    "import matplotlib.pyplot as plt\n",
    "\n",
    "csv_in = '../cs3-02/wholesale_customers.csv'\n",
    "df1 = pd.read_csv(csv_in, sep=',', skiprows=13, header=0)\n",
    "\n",
    "print(df1.shape)\n",
    "print(df1.info())\n",
    "print(df1.head())"
   ]
  },
  {
   "cell_type": "code",
   "execution_count": 6,
   "id": "0aa2131e-5497-4f49-b67d-150ed4e0311e",
   "metadata": {},
   "outputs": [
    {
     "name": "stdout",
     "output_type": "stream",
     "text": [
      "Other     316\n",
      "Lisbon     77\n",
      "Oporto     47\n",
      "Name: Region, dtype: int64\n"
     ]
    }
   ],
   "source": [
    "print(df1['Region'].value_counts())"
   ]
  },
  {
   "cell_type": "code",
   "execution_count": 8,
   "id": "482ccc87-5fe7-468b-841e-c3bba670bd0c",
   "metadata": {},
   "outputs": [
    {
     "name": "stdout",
     "output_type": "stream",
     "text": [
      "1524.8704545454545\n"
     ]
    }
   ],
   "source": [
    "ave_deli = df1['Delicatessen'].mean()\n",
    "print(ave_deli)"
   ]
  },
  {
   "cell_type": "code",
   "execution_count": 11,
   "id": "09d0ff82-4ca5-43ab-85d7-12c8356fcaaa",
   "metadata": {},
   "outputs": [
    {
     "name": "stdout",
     "output_type": "stream",
     "text": [
      "112151\n"
     ]
    }
   ],
   "source": [
    "max_fre = df1['Fresh'].max()\n",
    "print(max_fre)"
   ]
  },
  {
   "cell_type": "code",
   "execution_count": 12,
   "id": "76c5af23-a8dd-40dd-a2a8-e2c01711e8c7",
   "metadata": {},
   "outputs": [
    {
     "name": "stdout",
     "output_type": "stream",
     "text": [
      "3627.0\n"
     ]
    }
   ],
   "source": [
    "medi_mil = df1['Milk'].median()\n",
    "print(medi_mil)"
   ]
  },
  {
   "cell_type": "code",
   "execution_count": null,
   "id": "74849d68-1561-4ef7-94b5-4d343c183deb",
   "metadata": {},
   "outputs": [],
   "source": []
  }
 ],
 "metadata": {
  "kernelspec": {
   "display_name": "Python 3 (ipykernel)",
   "language": "python",
   "name": "python3"
  },
  "language_info": {
   "codemirror_mode": {
    "name": "ipython",
    "version": 3
   },
   "file_extension": ".py",
   "mimetype": "text/x-python",
   "name": "python",
   "nbconvert_exporter": "python",
   "pygments_lexer": "ipython3",
   "version": "3.8.16"
  }
 },
 "nbformat": 4,
 "nbformat_minor": 5
}
