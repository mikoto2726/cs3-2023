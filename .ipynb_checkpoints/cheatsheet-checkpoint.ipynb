{
 "cells": [
  {
   "cell_type": "markdown",
   "id": "0b2005aa-5079-45ac-ba7b-7d2c7a6cced3",
   "metadata": {},
   "source": [
    "Numpyはndarrayと呼ばれるデータ型を用いる\n",
    "Pandasは表はDataFrame、表から取り出した1行または1列はSeriesと呼ばれるデータ型を用いる\n"
   ]
  },
  {
   "cell_type": "code",
   "execution_count": 170,
   "id": "956c956d-7f07-4238-bbe6-655e01529c50",
   "metadata": {},
   "outputs": [],
   "source": [
    "import numpy as np #numpyにnpという別名を付けてimport\n",
    "import pandas as pd #pandasにpdという別名を付けてimport\n",
    "import matplotlib.pyplot as plt #グラフ描画のためのライブラリmatplotlibをimportする\n",
    "from sklearn.cluster import KMeans\n",
    "from sklearn.preprocessing import scale"
   ]
  },
  {
   "cell_type": "code",
   "execution_count": 3,
   "id": "fd57a049-467e-46a1-a465-cc20f4fc1015",
   "metadata": {},
   "outputs": [
    {
     "name": "stdout",
     "output_type": "stream",
     "text": [
      "[0, 1, 2]\n",
      "<class 'list'>\n",
      "[0 1 2]\n",
      "<class 'numpy.ndarray'>\n",
      "[0, 1, 2, 0, 1, 2]\n",
      "[0 2 4]\n"
     ]
    }
   ],
   "source": [
    "\n",
    "#ndarrayの作り方\n",
    "lst = [0, 1, 2]\n",
    "nd = np.array(lst)\n",
    "print(lst)\n",
    "print(type(lst)) #lstはlist型\n",
    "print(nd)\n",
    "print(type(nd)) #ndはndarray型\n",
    "\n",
    "print(lst * 2) #全要素の2回繰り返し\n",
    "print(nd * 2) #全要素の数値が2倍"
   ]
  },
  {
   "cell_type": "code",
   "execution_count": 4,
   "id": "fbad461b-ef80-42c4-b34c-1aadeb76e430",
   "metadata": {},
   "outputs": [
    {
     "name": "stdout",
     "output_type": "stream",
     "text": [
      "[3 5 7]\n",
      "[ 0  4 10]\n"
     ]
    }
   ],
   "source": [
    "a = np.array([0, 1, 2])\n",
    "b = np.array([3, 4, 5])\n",
    "print(a + b) #adarrayはいずれも対応する要素同士の演算になる\n",
    "print(a * b)"
   ]
  },
  {
   "cell_type": "code",
   "execution_count": 5,
   "id": "ebf22914-f445-48bb-9ceb-d2d85561d27a",
   "metadata": {},
   "outputs": [
    {
     "name": "stdout",
     "output_type": "stream",
     "text": [
      "[ 0  4 10]\n"
     ]
    }
   ],
   "source": [
    "#下の方が計算が高速\n",
    "a = np.array([0, 1, 2])\n",
    "b = np.array([3, 4, 5])\n",
    "c = []\n",
    "for i in range(len(a)):\n",
    "    c.append(a[i] * b[i])\n",
    "c = np.array(c)\n",
    "print(c)"
   ]
  },
  {
   "cell_type": "code",
   "execution_count": 6,
   "id": "3f71ddba-1398-4d09-827d-51eabcfdb9d0",
   "metadata": {},
   "outputs": [
    {
     "name": "stdout",
     "output_type": "stream",
     "text": [
      "[0 1 2]\n",
      "[[0 1 2]\n",
      " [3 4 5]]\n",
      "[[[ 0  1  2]\n",
      "  [ 3  4  5]]\n",
      "\n",
      " [[ 6  7  8]\n",
      "  [ 9 10 11]]]\n"
     ]
    }
   ],
   "source": [
    "a1 = np.array([0, 1, 2])\n",
    "a2 = np.array([[0, 1, 2], [3, 4, 5]])\n",
    "a3 = np.array([[[0, 1, 2], [3, 4, 5]], [[6, 7, 8], [9, 10, 11]]])\n",
    "print(a1)\n",
    "print(a2)\n",
    "print(a3)"
   ]
  },
  {
   "cell_type": "code",
   "execution_count": 7,
   "id": "f4f588af-c196-41e7-b002-6d145177eafc",
   "metadata": {},
   "outputs": [
    {
     "name": "stdout",
     "output_type": "stream",
     "text": [
      "(3,)\n",
      "(2, 3)\n",
      "(2, 2, 3)\n"
     ]
    }
   ],
   "source": [
    "#属性shapeは各軸（次元）の要素数\n",
    "print(a1.shape) #3要素の1次元配列\n",
    "print(a2.shape) #3要素の1次元配列が2つ並んだ2次元配列\n",
    "print(a3.shape) #2行3列の2次元配列が2つ並んだ3次元配列"
   ]
  },
  {
   "cell_type": "code",
   "execution_count": 8,
   "id": "815f668a-b301-441b-b551-511e4b5f56d9",
   "metadata": {},
   "outputs": [
    {
     "name": "stdout",
     "output_type": "stream",
     "text": [
      "<class 'pandas.core.frame.DataFrame'>\n",
      "(2, 3)\n"
     ]
    },
    {
     "data": {
      "text/html": [
       "<div>\n",
       "<style scoped>\n",
       "    .dataframe tbody tr th:only-of-type {\n",
       "        vertical-align: middle;\n",
       "    }\n",
       "\n",
       "    .dataframe tbody tr th {\n",
       "        vertical-align: top;\n",
       "    }\n",
       "\n",
       "    .dataframe thead th {\n",
       "        text-align: right;\n",
       "    }\n",
       "</style>\n",
       "<table border=\"1\" class=\"dataframe\">\n",
       "  <thead>\n",
       "    <tr style=\"text-align: right;\">\n",
       "      <th></th>\n",
       "      <th>c0</th>\n",
       "      <th>c1</th>\n",
       "      <th>c2</th>\n",
       "    </tr>\n",
       "  </thead>\n",
       "  <tbody>\n",
       "    <tr>\n",
       "      <th>r0</th>\n",
       "      <td>0</td>\n",
       "      <td>1</td>\n",
       "      <td>2</td>\n",
       "    </tr>\n",
       "    <tr>\n",
       "      <th>r1</th>\n",
       "      <td>3</td>\n",
       "      <td>4</td>\n",
       "      <td>5</td>\n",
       "    </tr>\n",
       "  </tbody>\n",
       "</table>\n",
       "</div>"
      ],
      "text/plain": [
       "    c0  c1  c2\n",
       "r0   0   1   2\n",
       "r1   3   4   5"
      ]
     },
     "metadata": {},
     "output_type": "display_data"
    }
   ],
   "source": [
    "#DataFrameは、2次元のndarrayに行(index)と列(columns)を付加したもの\n",
    "#pd.DataFrame関数に2次元リストとcolumnsを設定するためのリストを与えるとDataFrameを簡単に作れる\n",
    "df = pd.DataFrame([[0, 1, 2], [3, 4, 5]], columns = ['c0', 'c1', 'c2'], index = ['r0', 'r1'])\n",
    "print(type(df))\n",
    "print(df.shape)\n",
    "display(df) #displayはDataFrameを表にして表示してくれる"
   ]
  },
  {
   "cell_type": "code",
   "execution_count": 9,
   "id": "cb6d08b3-7a40-474f-93f7-60da064c5b46",
   "metadata": {},
   "outputs": [
    {
     "data": {
      "text/html": [
       "<div>\n",
       "<style scoped>\n",
       "    .dataframe tbody tr th:only-of-type {\n",
       "        vertical-align: middle;\n",
       "    }\n",
       "\n",
       "    .dataframe tbody tr th {\n",
       "        vertical-align: top;\n",
       "    }\n",
       "\n",
       "    .dataframe thead th {\n",
       "        text-align: right;\n",
       "    }\n",
       "</style>\n",
       "<table border=\"1\" class=\"dataframe\">\n",
       "  <thead>\n",
       "    <tr style=\"text-align: right;\">\n",
       "      <th></th>\n",
       "      <th>0</th>\n",
       "      <th>1</th>\n",
       "      <th>2</th>\n",
       "    </tr>\n",
       "  </thead>\n",
       "  <tbody>\n",
       "    <tr>\n",
       "      <th>0</th>\n",
       "      <td>0</td>\n",
       "      <td>1</td>\n",
       "      <td>2</td>\n",
       "    </tr>\n",
       "    <tr>\n",
       "      <th>1</th>\n",
       "      <td>3</td>\n",
       "      <td>4</td>\n",
       "      <td>5</td>\n",
       "    </tr>\n",
       "  </tbody>\n",
       "</table>\n",
       "</div>"
      ],
      "text/plain": [
       "   0  1  2\n",
       "0  0  1  2\n",
       "1  3  4  5"
      ]
     },
     "metadata": {},
     "output_type": "display_data"
    },
    {
     "data": {
      "text/html": [
       "<div>\n",
       "<style scoped>\n",
       "    .dataframe tbody tr th:only-of-type {\n",
       "        vertical-align: middle;\n",
       "    }\n",
       "\n",
       "    .dataframe tbody tr th {\n",
       "        vertical-align: top;\n",
       "    }\n",
       "\n",
       "    .dataframe thead th {\n",
       "        text-align: right;\n",
       "    }\n",
       "</style>\n",
       "<table border=\"1\" class=\"dataframe\">\n",
       "  <thead>\n",
       "    <tr style=\"text-align: right;\">\n",
       "      <th></th>\n",
       "      <th>c0</th>\n",
       "      <th>c1</th>\n",
       "      <th>c2</th>\n",
       "    </tr>\n",
       "  </thead>\n",
       "  <tbody>\n",
       "    <tr>\n",
       "      <th>r0</th>\n",
       "      <td>0</td>\n",
       "      <td>1</td>\n",
       "      <td>2</td>\n",
       "    </tr>\n",
       "    <tr>\n",
       "      <th>r1</th>\n",
       "      <td>3</td>\n",
       "      <td>4</td>\n",
       "      <td>5</td>\n",
       "    </tr>\n",
       "  </tbody>\n",
       "</table>\n",
       "</div>"
      ],
      "text/plain": [
       "    c0  c1  c2\n",
       "r0   0   1   2\n",
       "r1   3   4   5"
      ]
     },
     "metadata": {},
     "output_type": "display_data"
    }
   ],
   "source": [
    "#DataFrameのindex属性とcolumns属性にリストを代入することで、行番号と列ラベルを後で指定できる\n",
    "df3 = pd.DataFrame([[0, 1, 2], [3, 4, 5]])\n",
    "display(df3)                 \n",
    "df3.index = ['r0', 'r1']\n",
    "df3.columns = ['c0', 'c1', 'c2']\n",
    "display(df3)"
   ]
  },
  {
   "cell_type": "code",
   "execution_count": 10,
   "id": "68dcc445-bd58-4ce2-9970-a93dee56442b",
   "metadata": {},
   "outputs": [
    {
     "name": "stdout",
     "output_type": "stream",
     "text": [
      "<class 'numpy.ndarray'>\n",
      "[[0 1 2]\n",
      " [3 4 5]]\n"
     ]
    }
   ],
   "source": [
    "#to_numpyメソッドでindexとcolumnsを除いた2次元のndarrayだけを取り出す事が出来る\n",
    "print(type(df3.to_numpy()))\n",
    "print(df3.to_numpy())"
   ]
  },
  {
   "cell_type": "code",
   "execution_count": 11,
   "id": "5496fa38-577b-40df-9140-d3c4439daaa3",
   "metadata": {},
   "outputs": [],
   "source": [
    "#print(df.info())\n",
    "#print(df.head(n)) nは書かないと5の初期設定\n",
    "#print(df.tail())\n",
    "#print(df.tail(N)) 末尾を表示させる"
   ]
  },
  {
   "cell_type": "code",
   "execution_count": 12,
   "id": "97b18941-cf73-44a6-91b3-2283059ac744",
   "metadata": {},
   "outputs": [],
   "source": [
    "#変数 = pd.read_csv('CSVファイル名', sep=',', skiprows=N, header=M)\n",
    "# もしくは \n",
    "# csv_in ='csvファイル名'\n",
    "# 変数 = pd.read_csv(csv_in, sep=',', skiprows=N, header=M)\n",
    "# 区切り字がTab文字の場合はsep='\\t'、空白文字の場合はsep='\\s+'とする。\n",
    "# sep=を省略した場合は区切り字はコンマとみなされる\n",
    "\n",
    "# 先頭の読み飛ばすべきデータ以外の行がない場合はskiprows=0とする\n",
    "#非データ行の行頭に#がついている物はskiprowsの代わりにcomment='#'で読み飛ばせる\n",
    "\n",
    "# 列ラベルの行がない場合はheader=Noneとする"
   ]
  },
  {
   "cell_type": "code",
   "execution_count": 13,
   "id": "8c2c4ea6-5b61-408a-a105-90fb46b9f4c7",
   "metadata": {},
   "outputs": [],
   "source": [
    "# 変数 = データフレーム[列名]でデータフレーム（表）の１列分のデータを取り出せる\n",
    "# 変数 = データフレーム[列名リスト]でデータフレームの複数のデータを取り出せる\n",
    "#例　df1 = df[['Region', 'Milk', 'Grocery']]"
   ]
  },
  {
   "cell_type": "code",
   "execution_count": 14,
   "id": "251a8d86-f699-4f7e-8f11-67ee25fc97b1",
   "metadata": {},
   "outputs": [],
   "source": [
    "# 複数列の取り出しは　変数 = データフレーム.loc[先頭行の行番号:末尾行の行番号, 先頭列の列ラベル:末尾列の列ラベル]\n",
    "# 例 df3 = df.loc[1:3, 'Milk':'Frozen']\n",
    "# 行番号や列ラベルを省略すると先頭から末尾までになる"
   ]
  },
  {
   "cell_type": "code",
   "execution_count": 15,
   "id": "309bfa2c-3c72-4ded-b0c1-485e7be08fe5",
   "metadata": {},
   "outputs": [],
   "source": [
    "# 列番号を用いて複数列を取り出す場合はilocを使う\n",
    "# 変数 = データフレーム.iloc[先頭行の行番号:末尾行の１つ先の行番号, 先頭列の列番号:末尾列の１つ先の列番号]"
   ]
  },
  {
   "cell_type": "code",
   "execution_count": 16,
   "id": "d52c9d3b-98a2-4cdc-ae56-e8aab5fb1767",
   "metadata": {},
   "outputs": [],
   "source": [
    "# 一定間隔での取り出し、逆順での取り出し\n",
    "# 例 display(df.iloc[2:15:2, 14:3:-1])\n",
    "# 行番号2から14まで、2行ごと\n",
    "# 列番号14から4まで、逆順に1列ごと"
   ]
  },
  {
   "cell_type": "code",
   "execution_count": 17,
   "id": "d8775d70-f60a-461a-8280-1dfef9145297",
   "metadata": {},
   "outputs": [
    {
     "name": "stdout",
     "output_type": "stream",
     "text": [
      "[0 1 2]\n",
      "0\n"
     ]
    }
   ],
   "source": [
    "# ndarrayに対して各軸の番号を指定することで要素の値を取り出せる\n",
    "a1 = np.array([0, 1, 2])\n",
    "print(a1)\n",
    "print(a1[0])"
   ]
  },
  {
   "cell_type": "code",
   "execution_count": 18,
   "id": "32e44002-1520-4240-899e-805bf81bd60a",
   "metadata": {},
   "outputs": [
    {
     "name": "stdout",
     "output_type": "stream",
     "text": [
      "[[0 1 2]\n",
      " [3 4 5]]\n",
      "1\n"
     ]
    }
   ],
   "source": [
    "a2 = np.array([[0, 1, 2], [3, 4, 5]])\n",
    "print(a2)\n",
    "print(a2[0, 1])"
   ]
  },
  {
   "cell_type": "code",
   "execution_count": 19,
   "id": "7c6b1ae8-0012-4d41-b9d9-5ed0f2de5ca4",
   "metadata": {},
   "outputs": [
    {
     "name": "stdout",
     "output_type": "stream",
     "text": [
      "[[[ 0  1  2]\n",
      "  [ 3  4  5]]\n",
      "\n",
      " [[ 6  7  8]\n",
      "  [ 9 10 11]]]\n",
      "8\n"
     ]
    }
   ],
   "source": [
    "a3 = np.array([[[0, 1, 2], [3, 4, 5]], [[6, 7, 8], [9, 10, 11]]])\n",
    "print(a3)\n",
    "print(a3[1, 0, 2])"
   ]
  },
  {
   "cell_type": "code",
   "execution_count": 20,
   "id": "2abebe8f-ff9e-4917-bff5-65e9622e1b46",
   "metadata": {},
   "outputs": [
    {
     "name": "stdout",
     "output_type": "stream",
     "text": [
      "[99  1  2]\n",
      "[[ 0 99  2]\n",
      " [ 3  4  5]]\n",
      "[[[ 0  1  2]\n",
      "  [ 3  4  5]]\n",
      "\n",
      " [[ 6  7 99]\n",
      "  [ 9 10 11]]]\n"
     ]
    }
   ],
   "source": [
    "# 取り出す代わりに値を代入すると値を変更できる\n",
    "a1[0] = 99\n",
    "print(a1)\n",
    "a2[0, 1] = 99\n",
    "print(a2)\n",
    "a3[1, 0, 2] = 99\n",
    "print(a3)"
   ]
  },
  {
   "cell_type": "code",
   "execution_count": 21,
   "id": "cec46473-4f62-48e6-bd66-a479dd052036",
   "metadata": {},
   "outputs": [],
   "source": [
    "# DataFrameに対してatを使って行番号と列ラベルを指定できる\n",
    "# print(df6.at[2, 'Frozen'])"
   ]
  },
  {
   "cell_type": "code",
   "execution_count": 22,
   "id": "666ba9c7-61f9-47b8-abf9-e965e2d24c97",
   "metadata": {},
   "outputs": [],
   "source": [
    "# atの代わりにiatを使うと番号で1つの要素を指定できる\n",
    "# print(df6.iat[2, 1])"
   ]
  },
  {
   "cell_type": "code",
   "execution_count": 23,
   "id": "f708e07a-27db-41c3-8a84-dd544e132916",
   "metadata": {},
   "outputs": [],
   "source": [
    "# DataFrameでも値の代入によって要素の1つを変更できる\n",
    "# df6.at[2, 'Frozen'] = 99\n",
    "# df6.iat[2, 1] = 88"
   ]
  },
  {
   "cell_type": "code",
   "execution_count": 24,
   "id": "086dbffb-8b03-4e29-98ee-4195644f6900",
   "metadata": {},
   "outputs": [],
   "source": [
    "#カテゴリー変数の値を頻度はseriesのvalue_counts()で取得\n",
    "#print(df['Region'].value_counts())\n",
    "#データ数がわかる"
   ]
  },
  {
   "cell_type": "code",
   "execution_count": 25,
   "id": "dd295403-4ddf-4b3d-b520-01131f9dbbfc",
   "metadata": {},
   "outputs": [],
   "source": [
    "#print(df.sum(axis=0)) 各列の和\n",
    "#print(df.sum(axis=1)) 各行の和"
   ]
  },
  {
   "cell_type": "code",
   "execution_count": 26,
   "id": "75e6a3d7-16cc-46c7-9f11-362dd66dee0d",
   "metadata": {},
   "outputs": [],
   "source": [
    "#pandasにはsumに加えて以下のような様々な統計用関数が用意されている\n",
    "#総和:sum()\n",
    "#最小:min()\n",
    "#最大:max\n",
    "#平均:mean()\n",
    "#中央値:median()\n",
    "#分散(不偏分散):var() 母分散はvar(ddof=0)\n",
    "#標準偏差(不偏標準偏差):std() 母標準偏差はstd(ddof=0)\n",
    "#データフレームに非数値行が含まれているときはnumeric_only=Trueオプションを追加する"
   ]
  },
  {
   "cell_type": "code",
   "execution_count": 27,
   "id": "aae4b7ac-0d42-4672-9e51-11f56c61541a",
   "metadata": {},
   "outputs": [],
   "source": [
    "#Numpyの統計用関数\n",
    "#総和:sum()\n",
    "#最小:amin()\n",
    "#最大:amax()\n",
    "#平均:mean()\n",
    "#中央:median()\n",
    "#分散:(母分散):var() 不偏分散はvar(データ, ddof=1)\n",
    "#標準偏差(母標準偏差):std() 不偏標準偏差はstd(データ, ddof=1)"
   ]
  },
  {
   "cell_type": "code",
   "execution_count": 28,
   "id": "423027fd-7f21-4e8a-accd-0481e1f5c307",
   "metadata": {},
   "outputs": [],
   "source": [
    "#display(df.describe())　数値変数の列\n",
    "#count:データ個数\n",
    "#mean:平均\n",
    "#std:標準偏差\n",
    "#min:最小\n",
    "#25％,50％,75％:各四分位数\n",
    "#max:最大"
   ]
  },
  {
   "cell_type": "code",
   "execution_count": 29,
   "id": "2a363d8f-34c6-45a5-bbae-88a912b0a4d8",
   "metadata": {},
   "outputs": [],
   "source": [
    "#display(df.describe(exclude=[np.number]))　カテゴリー変数の列\n",
    "#count:データ個数\n",
    "#unique:値の種類\n",
    "#top:最頻値\n",
    "#freq:最頻値の度数"
   ]
  },
  {
   "cell_type": "code",
   "execution_count": 30,
   "id": "8535aca2-524e-4234-92c8-97645e8140e6",
   "metadata": {},
   "outputs": [],
   "source": [
    "#channel列は値は数値だがカテゴリー変数なのでdf.describe(exclude=[np.number])の方に表示させる方が適当です\n",
    "#そのために、astypeメソッドを使ってchannel列のデータ型をcategoryに変更する\n",
    "#df['Channel']=df['Channel'].astype('category')\n",
    "#print(df.info) channel列のデータ型がcategoryに変わっている "
   ]
  },
  {
   "cell_type": "code",
   "execution_count": 31,
   "id": "0f9a4009-06fa-4b7a-9a51-23c22c0d039b",
   "metadata": {},
   "outputs": [],
   "source": [
    "#plt.boxplot(df_num, labels=df_num.columns) 箱ひげ図を置く\n",
    "#plt.xticks(rotation=90) x軸目盛ラベルを90度回転\n",
    "#plt.ylabel('Annual spending [m.u.]')　y軸ラベルを設定\n",
    "#plt.show()　グラフ全体を描画"
   ]
  },
  {
   "cell_type": "code",
   "execution_count": 32,
   "id": "f503ccb3-363a-4c3b-ac0d-d99b194a9575",
   "metadata": {},
   "outputs": [],
   "source": [
    "#グラフ装飾用の関数\n",
    "#plt.plot(折れ線グラフ)\n",
    "#plt.boxplot(箱ひげ図)\n",
    "#plt.hist(ヒストグラム)\n",
    "#plt.scatter(散布図)\n",
    "\n",
    "#plt.title() タイトル\n",
    "#plt.xlabel()　ｘ軸ラベル\n",
    "#plt.ylabel()　ｙ軸ラベル\n",
    "#plt.xticks()　ｘ軸目盛ラベル\n",
    "#plt.yticks()　ｙ軸目盛ラベル\n",
    "#plt.xlim()　ｘ軸の描画範囲\n",
    "#plt.ylim()　ｙ軸の描画範囲\n",
    "#plt.xscale()　ｘ軸の目盛の種類\n",
    "#plt.yscale()　ｙ軸の目盛の種類\n",
    "#plt.legend()　凡例\n",
    "#plt.tick_paramas()　目盛や軸ラベルなどの書式設定"
   ]
  },
  {
   "cell_type": "code",
   "execution_count": 33,
   "id": "c062f33c-e1c4-4faf-82f2-4a83d1fd8523",
   "metadata": {},
   "outputs": [],
   "source": [
    "#plt.boxplot(df_num[['Fresh','Grocery']], labels=['Fr','Gr'])\n",
    "#plt.ylabel('Annual spending [m.u.]')\n",
    "#plt.xticks(fontsize=24)\n",
    "#plt.show()"
   ]
  },
  {
   "cell_type": "code",
   "execution_count": 34,
   "id": "3f90b642-1466-4bde-a7d5-87742dda1a17",
   "metadata": {},
   "outputs": [],
   "source": [
    "#plt.hist(df_num['Fresh'])　ヒストグラムを置く\n",
    "#plt.xlanel('Annual spending [m.u.]')　ｘ軸ラベルを設定\n",
    "#plt.ylabel('Frequency')　ｙ軸ラベルを設定\n",
    "#plt.show()　グラフ全体を描画"
   ]
  },
  {
   "cell_type": "code",
   "execution_count": 35,
   "id": "d7c1d20f-17d3-4bd2-a3ed-637de228b88b",
   "metadata": {},
   "outputs": [],
   "source": [
    "#オプション引数の例\n",
    "#幅:bins=N (デフォルトはN=10）\n",
    "#density=True　デフォルトはFalse　Trueにすると確率密度分布になる"
   ]
  },
  {
   "cell_type": "code",
   "execution_count": 36,
   "id": "4c10db5a-6f39-4365-a7fa-ed80822f6364",
   "metadata": {},
   "outputs": [],
   "source": [
    "#ser1 = 2 * df['Fresh'] + df['Frozen'] - 20000\n",
    "#このように列の数値をまとめて一気に計算できる"
   ]
  },
  {
   "cell_type": "code",
   "execution_count": 37,
   "id": "6cce1941-214c-4bc4-9404-34ca6587148d",
   "metadata": {},
   "outputs": [],
   "source": [
    "#df['new_col'] = ser1 のようにdfに新しい列を追加できる"
   ]
  },
  {
   "cell_type": "code",
   "execution_count": 38,
   "id": "319d61de-3637-4624-a4bf-c76dcc517fc9",
   "metadata": {},
   "outputs": [],
   "source": [
    "#dfから指定した列を削除する\n",
    "#df_drop_c = df.drop(columns='Detergents_Paper') Detergents_Papaer列を削除する\n",
    "#dfから指定した行を削除する\n",
    "#df_drop_r = df.drop(index[1,3]) 1,3行目を削除する"
   ]
  },
  {
   "cell_type": "code",
   "execution_count": 39,
   "id": "b1316ea9-df92-446a-b118-01922c147ed6",
   "metadata": {},
   "outputs": [],
   "source": [
    "#スライスで連続する行、列をして削除することもできる\n",
    "#df_drop_c2 = df.drop(df.loc[:, 'Fresh':'Frozen'],axis=1)\n",
    "#dfのFresh列からFrozen列までを削除\n",
    "#df_drop_r2 = df.drop(df.index[1:3])\n",
    "#dfの行番号1から2まで削除"
   ]
  },
  {
   "cell_type": "code",
   "execution_count": 40,
   "id": "1c630d50-111d-44da-bc9c-430dc2fb7c5f",
   "metadata": {},
   "outputs": [],
   "source": [
    "#inplaceを使えば新しい変数に入れなくても直接変わる\n",
    "#df.drop(columns='new_col', inplace=True)"
   ]
  },
  {
   "cell_type": "code",
   "execution_count": 41,
   "id": "94a908d2-36ab-4946-a030-5a120b8a0e5c",
   "metadata": {},
   "outputs": [],
   "source": [
    "#df_ret1=df[df['Region']=='Lisbon'] dfの中でRegion列の値がLisbonの行を抜き出す\n",
    "#df_ret1=df[df['Region']!='Lisbon'] dfの中でRegion列の値がLibon以外の行を抜き出す\n",
    "#df_ret1=df[df['列名']<='値1'] dfの中で列名の列の値が値1以下の行を抜き出す\n",
    "#df_ret1=df[df['列名'].str.match(r'正規表現パターン')]　dfの中で列名の列の値が正規表現にマッチする行を抜き出す\n",
    "#df_ret1=df[df['列名'].isin(['値1','値2'])　dfの中で列名の列の値が値1、値2のいずれかである行"
   ]
  },
  {
   "cell_type": "code",
   "execution_count": 42,
   "id": "8bc547ca-bca1-4b33-9af4-395c98633035",
   "metadata": {},
   "outputs": [],
   "source": [
    "#df_ret2=df[(df['Region']=='Other')&(df['Fresh']>100000)]\n",
    "#dfの中でRegion列の値がOtherかつ100000より大きい行を抜き出す"
   ]
  },
  {
   "cell_type": "code",
   "execution_count": 43,
   "id": "fbd36797-1348-45f5-8a63-0c0a237d8037",
   "metadata": {},
   "outputs": [],
   "source": [
    "#df_ret2=df[~(df['Region']=='Other')|(df['Fresh']>100000)]\n",
    "#dfの中でRegion列の値がOtherではない、またはFresh列が100000より大きい行を抜き出す"
   ]
  },
  {
   "cell_type": "code",
   "execution_count": 44,
   "id": "9e56232b-a4b3-43b8-beec-847689a167c2",
   "metadata": {},
   "outputs": [],
   "source": [
    "#dfの中でRegion列の値がOtherの行を削除したいときはOther以外の行を取り出すと考えればいい\n",
    "#df_ret4=df[~(df['Region']=='Other')]"
   ]
  },
  {
   "cell_type": "code",
   "execution_count": 45,
   "id": "3a3728b7-a630-4e6b-956d-d014cd0aa7fa",
   "metadata": {},
   "outputs": [],
   "source": [
    "#df_ret5=df_ret3.reset_index(drop=True)\n",
    "#reset_index()を用いると不連続になっていた行番号を0から始まる連番に直せる\n",
    "#drop=Trueがあることによって元の列番号がindex列にならない"
   ]
  },
  {
   "cell_type": "code",
   "execution_count": 46,
   "id": "deff37ad-8600-4034-9d7c-071cee45b1b1",
   "metadata": {},
   "outputs": [],
   "source": [
    "#df1=df.sort_values(by='列名', ascending=True or False)\n",
    "#Trueだと昇順"
   ]
  },
  {
   "cell_type": "code",
   "execution_count": 47,
   "id": "c49f4abd-518a-4ff2-bcfe-716c72faf30a",
   "metadata": {},
   "outputs": [],
   "source": [
    "#df1=df['Fresh'].idxmax() Fresh列の最大値に対応する行番号が取得できる\n",
    "#df1=df['Fresh'].idxmin() Fresh列の最小値に対応する行番号が取得できる"
   ]
  },
  {
   "cell_type": "code",
   "execution_count": 48,
   "id": "cbb6740a-5d4a-4113-8b0a-ce99cda2c6a7",
   "metadata": {},
   "outputs": [
    {
     "name": "stdout",
     "output_type": "stream",
     "text": [
      "7 -2\n",
      "2 1\n"
     ]
    }
   ],
   "source": [
    "a = np.array([5,-2,7,4,1])\n",
    "print(a.max(),a.min())\n",
    "print(a.argmax(),a.argmin())\n",
    "#ndarrayの最大値、最小値に対応するindexはargmax(),argmin()で取得できる"
   ]
  },
  {
   "cell_type": "code",
   "execution_count": 49,
   "id": "018fcc72-03b4-4d1a-aae1-b61cb35f883c",
   "metadata": {},
   "outputs": [],
   "source": [
    "#重複業のチェック\n",
    "#display(df[df.duplicated(keep=False)])\n",
    "#dfの重複した行だけを取り出す事が出来る\n",
    "#keep=Falseとすると重複している行すべてがTrueになる"
   ]
  },
  {
   "cell_type": "code",
   "execution_count": 50,
   "id": "9136d7b8-b217-4558-a2b0-0e8fed37ec2d",
   "metadata": {},
   "outputs": [],
   "source": [
    "#df1=df.drop_duplicates()で重複行を削除できる\n",
    "#削除によって列番号が不連続になってしまうのでreset_index()で0から始まる連番に振りなおす\n",
    "#df1=df.drop_duplicates().reset_index(drop=True)"
   ]
  },
  {
   "cell_type": "code",
   "execution_count": 51,
   "id": "35f66f5e-e1ab-4ba1-ac8d-0790358e91d0",
   "metadata": {},
   "outputs": [],
   "source": [
    "#列ごとの欠損値の数を取得するには\n",
    "#print(df.isna().sum())\n",
    "#print(df.isnull().sum())"
   ]
  },
  {
   "cell_type": "code",
   "execution_count": 52,
   "id": "bed7047b-8159-41ce-83e6-afbd97277eda",
   "metadata": {},
   "outputs": [],
   "source": [
    "#欠損値を1つでも含む行を表示するにはdisplay(df[df.isna().any(axis=1)])"
   ]
  },
  {
   "cell_type": "code",
   "execution_count": 53,
   "id": "13f3cd27-3347-4613-a93f-6cfa71d96396",
   "metadata": {},
   "outputs": [],
   "source": [
    "#df1=df.fillna(10) 10で埋める\n",
    "#df1=df.fillna(method='bfill')1つ先の非欠損値で埋める\n",
    "#df1=df.fillna(method='ffill')1つ手前の非欠損値で埋める"
   ]
  },
  {
   "cell_type": "code",
   "execution_count": 54,
   "id": "085f8b91-9bd0-4635-9376-979a45e8170b",
   "metadata": {},
   "outputs": [],
   "source": [
    "#mu=df.mean(numeric_only=True) 各列の平均\n",
    "#df_filled=df.fillna(mu)　各列の平均で欠損値を埋める"
   ]
  },
  {
   "cell_type": "code",
   "execution_count": 55,
   "id": "27332a1c-06fd-4aba-93b9-66fa3100341c",
   "metadata": {},
   "outputs": [],
   "source": [
    "#df['Milk']=df['milk'].fillna(埋める値)　milk列の欠損値を指定した値で埋める"
   ]
  },
  {
   "cell_type": "code",
   "execution_count": 185,
   "id": "1af6d160-9fa6-445f-975e-4f15017492c7",
   "metadata": {},
   "outputs": [],
   "source": [
    "#df1=df.dropna() 1つでも欠損値を含む行を削除\n",
    "#df1=df.dropna(how='all')　すべての値が欠損値の行を削除\n",
    "#df1=df.dropna(axis=1)　1つでも欠損値を含む列を削除"
   ]
  },
  {
   "cell_type": "code",
   "execution_count": 57,
   "id": "258a5dfe-bb68-4d5a-aa36-6fbcc4fd37ca",
   "metadata": {},
   "outputs": [],
   "source": [
    "#df['Milk'] = df['Milk'].astype('int') Milk列のデータ型をintに変更"
   ]
  },
  {
   "cell_type": "code",
   "execution_count": 58,
   "id": "41a5319d-eabc-403d-8c8a-1b093abe6c1f",
   "metadata": {},
   "outputs": [],
   "source": [
    "#表記ゆれ等への対応\n",
    "#print(df['Region'].value_counts())　表記ゆれやスペルミスがあるか確認する\n",
    "#df['Region']=df['Region'].replace('other','Other') otherをOtherに変更\n",
    "#df['Region']=df['Region'].replace(['lisbon','Lisbn'],'Lisbon')\n",
    "#df['Region']=df['Region'].replace({'porto':'Oporto','Porto':'Oporto','Otheer':Other',})"
   ]
  },
  {
   "cell_type": "code",
   "execution_count": 59,
   "id": "12b1db88-98c3-4b4d-8f93-6172470fbd7a",
   "metadata": {},
   "outputs": [],
   "source": [
    "#ser_fresh=df['Fresh'].map(lambda x: 10000 if x > 10000 else x)\n",
    "#Fresh列の各値が引数xに代入される。xが10000より大きいなら10000に置き換え、そうでなければ元の値xのままにする"
   ]
  },
  {
   "cell_type": "code",
   "execution_count": 60,
   "id": "a3d8889f-a95a-4c36-ace6-6f634b55df39",
   "metadata": {},
   "outputs": [],
   "source": [
    "#クレンジング済みデータの保存\n",
    "#データフレーム.to_csv('出力CSVファイル名(保存先の名前）', index=False または True, encoding=出力ファイルの文字コード)\n",
    "#index=Trueとすると、index列が追加され行番号がそこに格納されます\n",
    "#行番号をCSVファイルに保存する必要がない場合はindex=Falseとします"
   ]
  },
  {
   "cell_type": "code",
   "execution_count": 61,
   "id": "5be59a41-060d-41cb-9f97-7f547a768685",
   "metadata": {},
   "outputs": [],
   "source": [
    "#csv_out='wholesale_customers-cleaned.csv'\n",
    "#df.to_csv(csv_out,index=False,encoding='utf-8-sig')\n",
    "#以下のようにread_csv()で正常に出力できたか確認\n",
    "#df_check=pd.read_csv(csv_out, sep=',',sikiprows=0,header=0)"
   ]
  },
  {
   "cell_type": "markdown",
   "id": "733c2661-9599-43e9-99c5-971fe3ec45e1",
   "metadata": {},
   "source": [
    "#### 5"
   ]
  },
  {
   "cell_type": "code",
   "execution_count": 62,
   "id": "83d00454-ce7c-4afb-a07f-eb3959a15da9",
   "metadata": {},
   "outputs": [],
   "source": [
    "#カテゴリーデータである１列の各値によってデータを分類し、残りの各列のデータの最大、最小、平均などの統計量を求める事が出来る\n",
    "#変数=df.groupby('列名').統計関数()\n",
    "#統計関数:max(),min(),mean(),size()など"
   ]
  },
  {
   "cell_type": "code",
   "execution_count": 63,
   "id": "25c1275c-3a85-4f0a-a56f-009289dc77be",
   "metadata": {},
   "outputs": [],
   "source": [
    "#df_no_channel=df.drop(columns='Channel')\n",
    "#df_region_max=df_no_channel.groupby('Region').max()\n",
    "#display(df_region_max)\n",
    "#Region列の各グループごとの最大を出す"
   ]
  },
  {
   "cell_type": "code",
   "execution_count": 64,
   "id": "fc8b1738-c266-41df-be0a-53e9190b5a8d",
   "metadata": {},
   "outputs": [],
   "source": [
    "#groupbyで得られた結果もデータフレームなのでこれまで同様に取り出せる\n",
    "#max_lisbon_milk=df_region_max.at['Lisbon','Milk']\n",
    "#print(max_lisbon_milk)"
   ]
  },
  {
   "cell_type": "code",
   "execution_count": 65,
   "id": "937df1d1-0120-4fea-af72-39041958d236",
   "metadata": {},
   "outputs": [],
   "source": [
    "#カテゴリー変数1と2の値を組み合わせてデータをグループ分けする\n",
    "#df_ct = pd.crosstab(df['Region'],df['Channel'])\n",
    "#display(df_ct)\n",
    "#表を見てChannelが１かつRegionが2などを探す"
   ]
  },
  {
   "cell_type": "code",
   "execution_count": 66,
   "id": "0a12c780-7860-4689-b168-dd6a09cb1c26",
   "metadata": {},
   "outputs": [],
   "source": [
    "#margins=Trueを指定すると行・列ごとの合計の列を追加できる\n",
    "#df_ct2 = pd.crosstab(df['Region'],df['Channel'], margins=True)\n",
    "#display(df_ct2)"
   ]
  },
  {
   "cell_type": "code",
   "execution_count": 67,
   "id": "bf6209c7-d609-4d4f-b34a-8bac299626b1",
   "metadata": {},
   "outputs": [],
   "source": [
    "#和が1になるように正規化できる\n",
    "#列の和が1:normalize='columns'\n",
    "#行の和が1:normalize='index'\n",
    "#全セルの和が1:normalize:'all'\n",
    "#df_ct3 = pd.crosstab(df['Region'],df['Channel'], normalize='columns')\n",
    "#display(df_ct3)"
   ]
  },
  {
   "cell_type": "code",
   "execution_count": 68,
   "id": "d5e040d7-20fd-4adb-b0c1-b65bc0bd2c4f",
   "metadata": {},
   "outputs": [],
   "source": [
    "#2列でデータを分類した際に平均最大最小などを求める事が出来る\n",
    "#変数 = df.pivot_table(index='列1', columns='列2',values=['列3',・・・], aggfunc=統計関数)\n",
    "#index, columnsは複数列名をリストで与えることもできる\n",
    "#values=を付けないと残りの全列が対象になる\n",
    "#aggfunc=を付けないとnp.mean"
   ]
  },
  {
   "cell_type": "code",
   "execution_count": 69,
   "id": "14455d62-cad7-4c9f-b745-6229109dd949",
   "metadata": {},
   "outputs": [],
   "source": [
    "#df_pt = df.pivot_table(index='Region', columns='Channel', values=['Fresh','Frozen'],aggfunc=np.mean)\n",
    "#display(df_pt)\n",
    "#Region列の値とChannel列の値で分類\n",
    "#Fresh列とFrozen列の平均値を憑依"
   ]
  },
  {
   "cell_type": "code",
   "execution_count": 70,
   "id": "c984b2a4-d764-424e-82b9-a28a51f74fb1",
   "metadata": {},
   "outputs": [],
   "source": [
    "#datetime型に変換するためにはpd.to_datetime関数を使う\n",
    "#df['Date']=pd.to_datetime(df['Date'])\n",
    "#print(df.info())"
   ]
  },
  {
   "cell_type": "code",
   "execution_count": 71,
   "id": "c24f39f7-426d-434a-b40b-2dd80a1d987b",
   "metadata": {},
   "outputs": [],
   "source": [
    "#plt.plot(x軸用データ,y軸用データ,[フォーマット文字列],オプション引数)\n",
    "#データは2つの1次元データ(第1,2引数)\n",
    "#フォーマット文字列:'マーカー指定線指定色指定'(指定しなくてもよい)\n",
    "#マーカー指定:'o':丸, 's':四角, 'x':x印, ',':点,\n",
    "#線指定:'-':実線, '--':破線, ':':点線\n",
    "#色指定:'r':赤, 'g':緑, 'b':青, 'y':黄\n",
    "#例:'x-r':xマーカーと赤い実線\n",
    "#'--b':マーカー無し青い実線\n",
    "#label='凡例用ラベル'\n",
    "#linewidth=N 線の太さ指定"
   ]
  },
  {
   "cell_type": "code",
   "execution_count": 72,
   "id": "708b9cc5-a793-47d1-8b4c-c67877ad38f5",
   "metadata": {},
   "outputs": [],
   "source": [
    "#set_index(indexに指定したい列名)\n",
    "#df=df.set_index('Date')\n",
    "#Date列をindexに設定"
   ]
  },
  {
   "cell_type": "code",
   "execution_count": 73,
   "id": "3e0e02d8-9080-482a-8981-65cb17cf658c",
   "metadata": {},
   "outputs": [],
   "source": [
    "#datetime型のindexから日付などの情報を取得するためのメソッドが用意されている\n",
    "#以下先頭の3データだけを表示\n",
    "#print(df.index[:3])\n",
    "#print(df.index.year[:3])\n",
    "#month\n",
    "#day\n",
    "#date 年月日のndarray\n",
    "#dayofyear　1年の何日目か\n",
    "#dayofweek　曜日番号0~7\n",
    "#quarter　四半期番号"
   ]
  },
  {
   "cell_type": "code",
   "execution_count": 74,
   "id": "85cbfe1d-8506-447d-b74c-e9984470facb",
   "metadata": {},
   "outputs": [],
   "source": [
    "#時系列データをいてい期間ごとに区切って処理するためのメソッド\n",
    "\n",
    "#rolling:窓関数の適用\n",
    "#一定幅の窓を設定し窓の位置をずらしながら窓内のデータに対する集計の計算を行う\n",
    "#df_rolling7=df.rolling(7).mean() #窓幅7の移動平均を求める\n",
    "#display(df_rolling7.head(10))\n",
    "#display(df_rolling7.tail())\n",
    "#平均移動を用いることによって日ごとの値のばらつきが軽減され全体的他値の変化の傾向を把握しやすくなる\n",
    "#df_rolling7d=df.rolling('7D').mean() 窓幅7日間の移動平均を求める\n",
    "#D:日 H:時間 T:分 S:秒\n",
    "#月平均を求める時は30Dとする\n",
    "#rolling(5) rolling(5D)はちがう\n",
    "\n",
    "#resample:期間の集計\n",
    "#オーバーラップしない一定幅の期間を設定し期間ごとに集計の計算を行う\n",
    "#df_resample_w=df.resample('W').mean() 1週間内のデータの平均を求める"
   ]
  },
  {
   "cell_type": "code",
   "execution_count": 75,
   "id": "a856b267-938c-462c-bbaf-84d01417a13e",
   "metadata": {},
   "outputs": [],
   "source": [
    "#グラフの一部を拡大したいとき\n",
    "#start_date=pd.to_datetime('2018-04-01')\n",
    "#end_date=pd.to_datetime('2018-06-30')\n",
    "#plt.xlim(start_date, end_date)"
   ]
  },
  {
   "cell_type": "code",
   "execution_count": 76,
   "id": "910fd535-a98f-4333-b689-1ac096e77fed",
   "metadata": {},
   "outputs": [],
   "source": [
    "#plt.bar() 棒グラフに描画"
   ]
  },
  {
   "cell_type": "code",
   "execution_count": 167,
   "id": "3ce22fdb-2c7e-4634-b664-ba17fe924b39",
   "metadata": {},
   "outputs": [],
   "source": [
    "#内結合(共通するデータのみ表示する)\n",
    "#select 列名, 列名, from 左テーブル[as 列名] inner join 右テーブル [as 列名] on 結合条件;\n",
    "#select 列名, 列名, from 左テーブル[as 列名] join 右テーブル [as 列名] on 結合条件;\n",
    "#外結合(共有しないデータも表示する方法)\n",
    "#select 列名, 列名, from 左テーブル[as 列名] left outer join 右テーブル [as 列名] on 結合条件;\n",
    "#select 列名, 列名, from 左テーブル[as 列名] right outer join 右テーブル [as 列名] on 結合条件;\n",
    "#select 列名, 列名, from 左テーブル[as 列名] full outer join 右テーブル [as 列名] on 結合条件;"
   ]
  },
  {
   "cell_type": "code",
   "execution_count": 169,
   "id": "391f785d-5d78-475c-8e9e-2a9b6b6e0481",
   "metadata": {},
   "outputs": [],
   "source": [
    "#merge(マージ)\n",
    "#df=pd.merge(左データフレーム,右データフレーム, how='マージ方式', left_on='左データフレームの列名', right_on='右データフレームの列名')\n",
    "#df=pd.merge(df_data, df_country, how='left', left_on='Contry Code', right_on='Code')\n",
    "#howで指定できるマージ方式:left, right, outer, inner, cross(直積:左テーブルと右テーブルの行の全組み合わせ)\n",
    "#列名が左右データフレームで同じ場合はon='共通の列名'とすることもできる\n",
    "#df=pd.merge(df_data, df_country, how='left', left_of='Country Code', right_on='Code')\n",
    "#列の順序変更\n",
    "#cols=list(df.columns)[:-2]\n",
    "#cols.insert(1,'Country Name']\n",
    "#df=df[cols]\n",
    "#csvファイルへの書き出し\n",
    "#csv_out='country_merge.csv'\n",
    "#df.to_csv(csv_out,index=False,encoding='utf-8-sig')"
   ]
  },
  {
   "cell_type": "code",
   "execution_count": 171,
   "id": "544e4f78-27af-4cbb-9f3f-80bc7291b96f",
   "metadata": {},
   "outputs": [],
   "source": [
    "#pd.options.display.max_columns=999\n",
    "#pd.options.display.max_rows=999\n",
    "#999列または999列を超えるデータだけ「・・・」で省略さあれるように設定"
   ]
  },
  {
   "cell_type": "code",
   "execution_count": 172,
   "id": "7803c0b0-59df-4b7c-ad48-85650a0a36d7",
   "metadata": {},
   "outputs": [],
   "source": [
    "#k-means法によるクラスタリング\n",
    "#dfX=df[['gdpp','imports']]\n",
    "#display(dfX.head())"
   ]
  },
  {
   "cell_type": "code",
   "execution_count": 174,
   "id": "8d75c554-b0f2-4d74-96dc-822f99bbf15a",
   "metadata": {},
   "outputs": [],
   "source": [
    "#入力される値の平均や標準偏差が大きく異なっていると妥当なクラスタリング結果が得られない可能性があるのでデータの標準化をする\n",
    "#X_scaled=scale(dfX)\n",
    "#print(dfX.mean())\n",
    "#print(dfX.std(ddof=0))\n",
    "#print(X_scaled.mean(axis=0))\n",
    "#print(X_scaled.std(ddof=0,axis=0))\n",
    "#標準化前のdfXはデータフレームでしたが、標準化後のX_scaledはndarrayなのでデータフレーム化する\n",
    "#dfX_scaled=pd.DataFrame(X_scaled, columns=dfX.columns)"
   ]
  },
  {
   "cell_type": "code",
   "execution_count": 177,
   "id": "6188ce58-cfd9-4bae-86f8-47d5e7fab48d",
   "metadata": {},
   "outputs": [],
   "source": [
    "#散布図の描画\n",
    "#plt.scatter(dfX_scaled['gdpp'], dfX_scaled['imports'], marker='o')\n",
    "#plt.xlabel('gdpp (scaled)')\n",
    "#plt.ylabel('imports (scaled)')\n",
    "#plt.show()\n",
    "#marker='o':丸, s:四角, x:x印, .:点\n",
    "#s=マーカーサイズ\n",
    "#color='red','green','blue'など\n",
    "#c=0~1\n",
    "#edgecolors=輪郭色\n",
    "#alpha=0~1"
   ]
  },
  {
   "cell_type": "code",
   "execution_count": 184,
   "id": "7cc02e0a-6194-4e57-bf2c-6f3533d485d9",
   "metadata": {},
   "outputs": [],
   "source": [
    "#クラスタリングの実行\n",
    "#オブジェクト=KMeans(n_clusters=クラスタ数, n_init=10, random_state=適当な整数)\n",
    "#クラスタリング結果=オブジェクト.fit_predict(入力データ)\n",
    "#n_cls=4\n",
    "#km=KMeans(n_clusters=n_cls, n_init=10, random_state=7)\n",
    "#cls=km.fit_predict(dfX_scaled)\n",
    "#print(cls)\n",
    "#クラスタリング結果clsを新しい列(cluster_no)に追加\n",
    "#df['cluster_no']=cls\n",
    "#各クラスタのメンバー数\n",
    "#print(df['cluster_no'].value_counts())\n",
    "#各クラスタごとに表示\n",
    "#for i in range(n_cls):\n",
    "    #print('Cluster No.',i)\n",
    "    #display(df[df['cluster_no']==i])\n",
    "#散布図の描画\n",
    "#plt.scatter(df['gdpp'],df['imports], marker='o', c=df['cluster_no'])\n",
    "#plt.colorbar()\n",
    "#plt.xlabel('gdpp')\n",
    "#plt.ylabel('imports')\n",
    "#plt.show()\n",
    "#散布図の描画の補足\n",
    "#plot(scaled)\n",
    "#print(km.cluster_kcenters_)\n",
    "#colors=['blue','green','orange','magenta'] クラスタ番号0～3に対応する色名をリストに用紙する\n",
    "#for i in range(n_cls):\n",
    "    #df_cls=dfX_scaled[df['cluster_no']==i]\n",
    "    #plt.scatter(df_cls['gdpp'],df_cls['imports'], color=colors[i], marker='${}$'.format(i), label='cluster{}.format(i))\n",
    "#plt.scatter(km.cluster_centers_[:,0], km.cluster_center_[:,1], s=250, marker='*', color='red', label='centroids')\n",
    "#plt.xlabel('gdpp (scaled)')\n",
    "#plt.ylabel('imports (scaled)')\n",
    "#plt.legend()\n",
    "#plt.show()"
   ]
  },
  {
   "cell_type": "markdown",
   "id": "c502c7b8-74e1-421a-b288-fa162d2b3afe",
   "metadata": {},
   "source": [
    "3-1 assign1"
   ]
  },
  {
   "cell_type": "code",
   "execution_count": 77,
   "id": "3983dccf-73bd-4a9d-a633-35eff7ad1b37",
   "metadata": {},
   "outputs": [
    {
     "data": {
      "text/html": [
       "<div>\n",
       "<style scoped>\n",
       "    .dataframe tbody tr th:only-of-type {\n",
       "        vertical-align: middle;\n",
       "    }\n",
       "\n",
       "    .dataframe tbody tr th {\n",
       "        vertical-align: top;\n",
       "    }\n",
       "\n",
       "    .dataframe thead th {\n",
       "        text-align: right;\n",
       "    }\n",
       "</style>\n",
       "<table border=\"1\" class=\"dataframe\">\n",
       "  <thead>\n",
       "    <tr style=\"text-align: right;\">\n",
       "      <th></th>\n",
       "      <th>0</th>\n",
       "      <th>1</th>\n",
       "      <th>2</th>\n",
       "    </tr>\n",
       "  </thead>\n",
       "  <tbody>\n",
       "    <tr>\n",
       "      <th>0</th>\n",
       "      <td>1</td>\n",
       "      <td>3</td>\n",
       "      <td>5</td>\n",
       "    </tr>\n",
       "    <tr>\n",
       "      <th>1</th>\n",
       "      <td>5</td>\n",
       "      <td>7</td>\n",
       "      <td>9</td>\n",
       "    </tr>\n",
       "  </tbody>\n",
       "</table>\n",
       "</div>"
      ],
      "text/plain": [
       "   0  1  2\n",
       "0  1  3  5\n",
       "1  5  7  9"
      ]
     },
     "metadata": {},
     "output_type": "display_data"
    }
   ],
   "source": [
    "import pandas as pd\n",
    "df1=pd.DataFrame([[1,3,5],[5,7,9]])\n",
    "display(df1)"
   ]
  },
  {
   "cell_type": "code",
   "execution_count": 78,
   "id": "767f3270-fc53-4e8c-8362-f93557e24be5",
   "metadata": {},
   "outputs": [
    {
     "data": {
      "text/html": [
       "<div>\n",
       "<style scoped>\n",
       "    .dataframe tbody tr th:only-of-type {\n",
       "        vertical-align: middle;\n",
       "    }\n",
       "\n",
       "    .dataframe tbody tr th {\n",
       "        vertical-align: top;\n",
       "    }\n",
       "\n",
       "    .dataframe thead th {\n",
       "        text-align: right;\n",
       "    }\n",
       "</style>\n",
       "<table border=\"1\" class=\"dataframe\">\n",
       "  <thead>\n",
       "    <tr style=\"text-align: right;\">\n",
       "      <th></th>\n",
       "      <th>c1</th>\n",
       "      <th>c2</th>\n",
       "      <th>c3</th>\n",
       "    </tr>\n",
       "  </thead>\n",
       "  <tbody>\n",
       "    <tr>\n",
       "      <th>0</th>\n",
       "      <td>1</td>\n",
       "      <td>3</td>\n",
       "      <td>5</td>\n",
       "    </tr>\n",
       "    <tr>\n",
       "      <th>1</th>\n",
       "      <td>5</td>\n",
       "      <td>7</td>\n",
       "      <td>9</td>\n",
       "    </tr>\n",
       "  </tbody>\n",
       "</table>\n",
       "</div>"
      ],
      "text/plain": [
       "   c1  c2  c3\n",
       "0   1   3   5\n",
       "1   5   7   9"
      ]
     },
     "metadata": {},
     "output_type": "display_data"
    }
   ],
   "source": [
    "df1.columns=['c1','c2','c3']\n",
    "display(df1)"
   ]
  },
  {
   "cell_type": "code",
   "execution_count": 79,
   "id": "e5e3861e-a075-4a41-bac8-e58a636df955",
   "metadata": {},
   "outputs": [
    {
     "data": {
      "text/html": [
       "<div>\n",
       "<style scoped>\n",
       "    .dataframe tbody tr th:only-of-type {\n",
       "        vertical-align: middle;\n",
       "    }\n",
       "\n",
       "    .dataframe tbody tr th {\n",
       "        vertical-align: top;\n",
       "    }\n",
       "\n",
       "    .dataframe thead th {\n",
       "        text-align: right;\n",
       "    }\n",
       "</style>\n",
       "<table border=\"1\" class=\"dataframe\">\n",
       "  <thead>\n",
       "    <tr style=\"text-align: right;\">\n",
       "      <th></th>\n",
       "      <th>c1</th>\n",
       "      <th>c2</th>\n",
       "      <th>c3</th>\n",
       "    </tr>\n",
       "  </thead>\n",
       "  <tbody>\n",
       "    <tr>\n",
       "      <th>r1</th>\n",
       "      <td>1</td>\n",
       "      <td>3</td>\n",
       "      <td>5</td>\n",
       "    </tr>\n",
       "    <tr>\n",
       "      <th>r2</th>\n",
       "      <td>5</td>\n",
       "      <td>7</td>\n",
       "      <td>9</td>\n",
       "    </tr>\n",
       "  </tbody>\n",
       "</table>\n",
       "</div>"
      ],
      "text/plain": [
       "    c1  c2  c3\n",
       "r1   1   3   5\n",
       "r2   5   7   9"
      ]
     },
     "metadata": {},
     "output_type": "display_data"
    }
   ],
   "source": [
    "df1.index=['r1','r2']\n",
    "display(df1)"
   ]
  },
  {
   "cell_type": "code",
   "execution_count": 80,
   "id": "1b917b37-425c-415b-bddf-efda5924f57f",
   "metadata": {},
   "outputs": [
    {
     "name": "stdout",
     "output_type": "stream",
     "text": [
      "[[1 3 5]\n",
      " [5 7 9]]\n"
     ]
    }
   ],
   "source": [
    "print(df1.to_numpy())"
   ]
  },
  {
   "cell_type": "code",
   "execution_count": 81,
   "id": "f36d31d9-369e-4083-af4e-7e926253073d",
   "metadata": {},
   "outputs": [
    {
     "name": "stdout",
     "output_type": "stream",
     "text": [
      "(2, 3)\n"
     ]
    }
   ],
   "source": [
    "print(df1.shape)"
   ]
  },
  {
   "cell_type": "markdown",
   "id": "2a9d3a75-db26-4688-b7c5-54b484adb286",
   "metadata": {},
   "source": [
    "3-1 assign2"
   ]
  },
  {
   "cell_type": "code",
   "execution_count": 82,
   "id": "cc5a5112-0955-45dd-93ce-ef3872615ae2",
   "metadata": {},
   "outputs": [],
   "source": [
    "import numpy as np"
   ]
  },
  {
   "cell_type": "code",
   "execution_count": 83,
   "id": "09a430db-8ed2-4449-9acf-a67d0fd13cd9",
   "metadata": {},
   "outputs": [
    {
     "name": "stdout",
     "output_type": "stream",
     "text": [
      "[1 3 5]\n",
      "[5 7 9]\n"
     ]
    }
   ],
   "source": [
    "a = np.array([1,3,5])\n",
    "b = np.array([5,7,9])\n",
    "print(a)\n",
    "print(b)"
   ]
  },
  {
   "cell_type": "code",
   "execution_count": 84,
   "id": "f8464c10-c393-4b77-938d-78edb0e2222d",
   "metadata": {},
   "outputs": [
    {
     "name": "stdout",
     "output_type": "stream",
     "text": [
      "<class 'numpy.ndarray'>\n"
     ]
    }
   ],
   "source": [
    "print(type(a))"
   ]
  },
  {
   "cell_type": "code",
   "execution_count": 85,
   "id": "875a2bb6-8a1c-4398-a2d4-be54084f858e",
   "metadata": {},
   "outputs": [
    {
     "name": "stdout",
     "output_type": "stream",
     "text": [
      "[ 6 10 14]\n"
     ]
    }
   ],
   "source": [
    "print(a+b)"
   ]
  },
  {
   "cell_type": "code",
   "execution_count": 86,
   "id": "22214bf8-649b-4072-ad35-b8538bad703b",
   "metadata": {},
   "outputs": [
    {
     "name": "stdout",
     "output_type": "stream",
     "text": [
      "[ 5 21 45]\n"
     ]
    }
   ],
   "source": [
    "print(a*b)"
   ]
  },
  {
   "cell_type": "code",
   "execution_count": 87,
   "id": "394e9427-e825-49c6-8d08-4c42add9131d",
   "metadata": {},
   "outputs": [
    {
     "name": "stdout",
     "output_type": "stream",
     "text": [
      "(3,)\n"
     ]
    }
   ],
   "source": [
    "print(a.shape)"
   ]
  },
  {
   "cell_type": "markdown",
   "id": "c5d12106-233e-42d6-9f9c-78c15305fbea",
   "metadata": {},
   "source": [
    "cs3-2 assign1"
   ]
  },
  {
   "cell_type": "code",
   "execution_count": 88,
   "id": "ae71f5bb-745a-4d7d-ab54-d9d1bd3ca991",
   "metadata": {},
   "outputs": [
    {
     "name": "stdout",
     "output_type": "stream",
     "text": [
      "(440, 8)\n",
      "<class 'pandas.core.frame.DataFrame'>\n",
      "RangeIndex: 440 entries, 0 to 439\n",
      "Data columns (total 8 columns):\n",
      " #   Column            Non-Null Count  Dtype \n",
      "---  ------            --------------  ----- \n",
      " 0   Channel           440 non-null    int64 \n",
      " 1   Region            440 non-null    object\n",
      " 2   Fresh             440 non-null    int64 \n",
      " 3   Milk              440 non-null    int64 \n",
      " 4   Grocery           440 non-null    int64 \n",
      " 5   Frozen            440 non-null    int64 \n",
      " 6   Detergents_Paper  440 non-null    int64 \n",
      " 7   Delicatessen      440 non-null    int64 \n",
      "dtypes: int64(7), object(1)\n",
      "memory usage: 27.6+ KB\n",
      "None\n"
     ]
    },
    {
     "data": {
      "text/html": [
       "<div>\n",
       "<style scoped>\n",
       "    .dataframe tbody tr th:only-of-type {\n",
       "        vertical-align: middle;\n",
       "    }\n",
       "\n",
       "    .dataframe tbody tr th {\n",
       "        vertical-align: top;\n",
       "    }\n",
       "\n",
       "    .dataframe thead th {\n",
       "        text-align: right;\n",
       "    }\n",
       "</style>\n",
       "<table border=\"1\" class=\"dataframe\">\n",
       "  <thead>\n",
       "    <tr style=\"text-align: right;\">\n",
       "      <th></th>\n",
       "      <th>Channel</th>\n",
       "      <th>Region</th>\n",
       "      <th>Fresh</th>\n",
       "      <th>Milk</th>\n",
       "      <th>Grocery</th>\n",
       "      <th>Frozen</th>\n",
       "      <th>Detergents_Paper</th>\n",
       "      <th>Delicatessen</th>\n",
       "    </tr>\n",
       "  </thead>\n",
       "  <tbody>\n",
       "    <tr>\n",
       "      <th>0</th>\n",
       "      <td>2</td>\n",
       "      <td>Other</td>\n",
       "      <td>12669</td>\n",
       "      <td>9656</td>\n",
       "      <td>7561</td>\n",
       "      <td>214</td>\n",
       "      <td>2674</td>\n",
       "      <td>1338</td>\n",
       "    </tr>\n",
       "    <tr>\n",
       "      <th>1</th>\n",
       "      <td>2</td>\n",
       "      <td>Other</td>\n",
       "      <td>7057</td>\n",
       "      <td>9810</td>\n",
       "      <td>9568</td>\n",
       "      <td>1762</td>\n",
       "      <td>3293</td>\n",
       "      <td>1776</td>\n",
       "    </tr>\n",
       "    <tr>\n",
       "      <th>2</th>\n",
       "      <td>2</td>\n",
       "      <td>Other</td>\n",
       "      <td>6353</td>\n",
       "      <td>8808</td>\n",
       "      <td>7684</td>\n",
       "      <td>2405</td>\n",
       "      <td>3516</td>\n",
       "      <td>7844</td>\n",
       "    </tr>\n",
       "    <tr>\n",
       "      <th>3</th>\n",
       "      <td>1</td>\n",
       "      <td>Other</td>\n",
       "      <td>13265</td>\n",
       "      <td>1196</td>\n",
       "      <td>4221</td>\n",
       "      <td>6404</td>\n",
       "      <td>507</td>\n",
       "      <td>1788</td>\n",
       "    </tr>\n",
       "    <tr>\n",
       "      <th>4</th>\n",
       "      <td>2</td>\n",
       "      <td>Other</td>\n",
       "      <td>22615</td>\n",
       "      <td>5410</td>\n",
       "      <td>7198</td>\n",
       "      <td>3915</td>\n",
       "      <td>1777</td>\n",
       "      <td>5185</td>\n",
       "    </tr>\n",
       "  </tbody>\n",
       "</table>\n",
       "</div>"
      ],
      "text/plain": [
       "   Channel Region  Fresh  Milk  Grocery  Frozen  Detergents_Paper  \\\n",
       "0        2  Other  12669  9656     7561     214              2674   \n",
       "1        2  Other   7057  9810     9568    1762              3293   \n",
       "2        2  Other   6353  8808     7684    2405              3516   \n",
       "3        1  Other  13265  1196     4221    6404               507   \n",
       "4        2  Other  22615  5410     7198    3915              1777   \n",
       "\n",
       "   Delicatessen  \n",
       "0          1338  \n",
       "1          1776  \n",
       "2          7844  \n",
       "3          1788  \n",
       "4          5185  "
      ]
     },
     "metadata": {},
     "output_type": "display_data"
    }
   ],
   "source": [
    "csv_in = 'cs3-02/wholesale_customers.csv'\n",
    "df1=pd.read_csv(csv_in, sep=',', skiprows=13, header=0)\n",
    "print(df1.shape)\n",
    "print(df1.info())\n",
    "display(df1.head())"
   ]
  },
  {
   "cell_type": "code",
   "execution_count": 89,
   "id": "aad0af91-2e1d-4bb0-86c4-1e27b085d5f2",
   "metadata": {},
   "outputs": [
    {
     "data": {
      "text/html": [
       "<div>\n",
       "<style scoped>\n",
       "    .dataframe tbody tr th:only-of-type {\n",
       "        vertical-align: middle;\n",
       "    }\n",
       "\n",
       "    .dataframe tbody tr th {\n",
       "        vertical-align: top;\n",
       "    }\n",
       "\n",
       "    .dataframe thead th {\n",
       "        text-align: right;\n",
       "    }\n",
       "</style>\n",
       "<table border=\"1\" class=\"dataframe\">\n",
       "  <thead>\n",
       "    <tr style=\"text-align: right;\">\n",
       "      <th></th>\n",
       "      <th>Channel</th>\n",
       "      <th>Region</th>\n",
       "      <th>Fresh</th>\n",
       "      <th>Milk</th>\n",
       "      <th>Grocery</th>\n",
       "      <th>Frozen</th>\n",
       "      <th>Detergents_Paper</th>\n",
       "      <th>Delicatessen</th>\n",
       "    </tr>\n",
       "  </thead>\n",
       "  <tbody>\n",
       "    <tr>\n",
       "      <th>0</th>\n",
       "      <td>2</td>\n",
       "      <td>Other</td>\n",
       "      <td>12669</td>\n",
       "      <td>9656</td>\n",
       "      <td>7561</td>\n",
       "      <td>214</td>\n",
       "      <td>2674</td>\n",
       "      <td>1338</td>\n",
       "    </tr>\n",
       "    <tr>\n",
       "      <th>1</th>\n",
       "      <td>2</td>\n",
       "      <td>Other</td>\n",
       "      <td>7057</td>\n",
       "      <td>9810</td>\n",
       "      <td>9568</td>\n",
       "      <td>1762</td>\n",
       "      <td>3293</td>\n",
       "      <td>1776</td>\n",
       "    </tr>\n",
       "    <tr>\n",
       "      <th>2</th>\n",
       "      <td>2</td>\n",
       "      <td>Other</td>\n",
       "      <td>6353</td>\n",
       "      <td>8808</td>\n",
       "      <td>7684</td>\n",
       "      <td>2405</td>\n",
       "      <td>3516</td>\n",
       "      <td>7844</td>\n",
       "    </tr>\n",
       "    <tr>\n",
       "      <th>3</th>\n",
       "      <td>1</td>\n",
       "      <td>Other</td>\n",
       "      <td>13265</td>\n",
       "      <td>1196</td>\n",
       "      <td>4221</td>\n",
       "      <td>6404</td>\n",
       "      <td>507</td>\n",
       "      <td>1788</td>\n",
       "    </tr>\n",
       "    <tr>\n",
       "      <th>4</th>\n",
       "      <td>2</td>\n",
       "      <td>Other</td>\n",
       "      <td>22615</td>\n",
       "      <td>5410</td>\n",
       "      <td>7198</td>\n",
       "      <td>3915</td>\n",
       "      <td>1777</td>\n",
       "      <td>5185</td>\n",
       "    </tr>\n",
       "    <tr>\n",
       "      <th>5</th>\n",
       "      <td>2</td>\n",
       "      <td>Other</td>\n",
       "      <td>9413</td>\n",
       "      <td>8259</td>\n",
       "      <td>5126</td>\n",
       "      <td>666</td>\n",
       "      <td>1795</td>\n",
       "      <td>1451</td>\n",
       "    </tr>\n",
       "    <tr>\n",
       "      <th>6</th>\n",
       "      <td>2</td>\n",
       "      <td>Other</td>\n",
       "      <td>12126</td>\n",
       "      <td>3199</td>\n",
       "      <td>6975</td>\n",
       "      <td>480</td>\n",
       "      <td>3140</td>\n",
       "      <td>545</td>\n",
       "    </tr>\n",
       "    <tr>\n",
       "      <th>7</th>\n",
       "      <td>2</td>\n",
       "      <td>Other</td>\n",
       "      <td>7579</td>\n",
       "      <td>4956</td>\n",
       "      <td>9426</td>\n",
       "      <td>1669</td>\n",
       "      <td>3321</td>\n",
       "      <td>2566</td>\n",
       "    </tr>\n",
       "    <tr>\n",
       "      <th>8</th>\n",
       "      <td>1</td>\n",
       "      <td>Other</td>\n",
       "      <td>5963</td>\n",
       "      <td>3648</td>\n",
       "      <td>6192</td>\n",
       "      <td>425</td>\n",
       "      <td>1716</td>\n",
       "      <td>750</td>\n",
       "    </tr>\n",
       "    <tr>\n",
       "      <th>9</th>\n",
       "      <td>2</td>\n",
       "      <td>Other</td>\n",
       "      <td>6006</td>\n",
       "      <td>11093</td>\n",
       "      <td>18881</td>\n",
       "      <td>1159</td>\n",
       "      <td>7425</td>\n",
       "      <td>2098</td>\n",
       "    </tr>\n",
       "  </tbody>\n",
       "</table>\n",
       "</div>"
      ],
      "text/plain": [
       "   Channel Region  Fresh   Milk  Grocery  Frozen  Detergents_Paper  \\\n",
       "0        2  Other  12669   9656     7561     214              2674   \n",
       "1        2  Other   7057   9810     9568    1762              3293   \n",
       "2        2  Other   6353   8808     7684    2405              3516   \n",
       "3        1  Other  13265   1196     4221    6404               507   \n",
       "4        2  Other  22615   5410     7198    3915              1777   \n",
       "5        2  Other   9413   8259     5126     666              1795   \n",
       "6        2  Other  12126   3199     6975     480              3140   \n",
       "7        2  Other   7579   4956     9426    1669              3321   \n",
       "8        1  Other   5963   3648     6192     425              1716   \n",
       "9        2  Other   6006  11093    18881    1159              7425   \n",
       "\n",
       "   Delicatessen  \n",
       "0          1338  \n",
       "1          1776  \n",
       "2          7844  \n",
       "3          1788  \n",
       "4          5185  \n",
       "5          1451  \n",
       "6           545  \n",
       "7          2566  \n",
       "8           750  \n",
       "9          2098  "
      ]
     },
     "metadata": {},
     "output_type": "display_data"
    }
   ],
   "source": [
    "display(df1.iloc[0:10])"
   ]
  },
  {
   "cell_type": "code",
   "execution_count": 90,
   "id": "437a1c45-7d6a-41ff-a881-cae9de256050",
   "metadata": {},
   "outputs": [
    {
     "data": {
      "text/html": [
       "<div>\n",
       "<style scoped>\n",
       "    .dataframe tbody tr th:only-of-type {\n",
       "        vertical-align: middle;\n",
       "    }\n",
       "\n",
       "    .dataframe tbody tr th {\n",
       "        vertical-align: top;\n",
       "    }\n",
       "\n",
       "    .dataframe thead th {\n",
       "        text-align: right;\n",
       "    }\n",
       "</style>\n",
       "<table border=\"1\" class=\"dataframe\">\n",
       "  <thead>\n",
       "    <tr style=\"text-align: right;\">\n",
       "      <th></th>\n",
       "      <th>Fresh</th>\n",
       "      <th>Milk</th>\n",
       "      <th>Grocery</th>\n",
       "      <th>Frozen</th>\n",
       "      <th>Detergents_Paper</th>\n",
       "      <th>Delicatessen</th>\n",
       "    </tr>\n",
       "  </thead>\n",
       "  <tbody>\n",
       "    <tr>\n",
       "      <th>0</th>\n",
       "      <td>12669</td>\n",
       "      <td>9656</td>\n",
       "      <td>7561</td>\n",
       "      <td>214</td>\n",
       "      <td>2674</td>\n",
       "      <td>1338</td>\n",
       "    </tr>\n",
       "    <tr>\n",
       "      <th>1</th>\n",
       "      <td>7057</td>\n",
       "      <td>9810</td>\n",
       "      <td>9568</td>\n",
       "      <td>1762</td>\n",
       "      <td>3293</td>\n",
       "      <td>1776</td>\n",
       "    </tr>\n",
       "    <tr>\n",
       "      <th>2</th>\n",
       "      <td>6353</td>\n",
       "      <td>8808</td>\n",
       "      <td>7684</td>\n",
       "      <td>2405</td>\n",
       "      <td>3516</td>\n",
       "      <td>7844</td>\n",
       "    </tr>\n",
       "    <tr>\n",
       "      <th>3</th>\n",
       "      <td>13265</td>\n",
       "      <td>1196</td>\n",
       "      <td>4221</td>\n",
       "      <td>6404</td>\n",
       "      <td>507</td>\n",
       "      <td>1788</td>\n",
       "    </tr>\n",
       "    <tr>\n",
       "      <th>4</th>\n",
       "      <td>22615</td>\n",
       "      <td>5410</td>\n",
       "      <td>7198</td>\n",
       "      <td>3915</td>\n",
       "      <td>1777</td>\n",
       "      <td>5185</td>\n",
       "    </tr>\n",
       "    <tr>\n",
       "      <th>5</th>\n",
       "      <td>9413</td>\n",
       "      <td>8259</td>\n",
       "      <td>5126</td>\n",
       "      <td>666</td>\n",
       "      <td>1795</td>\n",
       "      <td>1451</td>\n",
       "    </tr>\n",
       "    <tr>\n",
       "      <th>6</th>\n",
       "      <td>12126</td>\n",
       "      <td>3199</td>\n",
       "      <td>6975</td>\n",
       "      <td>480</td>\n",
       "      <td>3140</td>\n",
       "      <td>545</td>\n",
       "    </tr>\n",
       "    <tr>\n",
       "      <th>7</th>\n",
       "      <td>7579</td>\n",
       "      <td>4956</td>\n",
       "      <td>9426</td>\n",
       "      <td>1669</td>\n",
       "      <td>3321</td>\n",
       "      <td>2566</td>\n",
       "    </tr>\n",
       "    <tr>\n",
       "      <th>8</th>\n",
       "      <td>5963</td>\n",
       "      <td>3648</td>\n",
       "      <td>6192</td>\n",
       "      <td>425</td>\n",
       "      <td>1716</td>\n",
       "      <td>750</td>\n",
       "    </tr>\n",
       "    <tr>\n",
       "      <th>9</th>\n",
       "      <td>6006</td>\n",
       "      <td>11093</td>\n",
       "      <td>18881</td>\n",
       "      <td>1159</td>\n",
       "      <td>7425</td>\n",
       "      <td>2098</td>\n",
       "    </tr>\n",
       "  </tbody>\n",
       "</table>\n",
       "</div>"
      ],
      "text/plain": [
       "   Fresh   Milk  Grocery  Frozen  Detergents_Paper  Delicatessen\n",
       "0  12669   9656     7561     214              2674          1338\n",
       "1   7057   9810     9568    1762              3293          1776\n",
       "2   6353   8808     7684    2405              3516          7844\n",
       "3  13265   1196     4221    6404               507          1788\n",
       "4  22615   5410     7198    3915              1777          5185\n",
       "5   9413   8259     5126     666              1795          1451\n",
       "6  12126   3199     6975     480              3140           545\n",
       "7   7579   4956     9426    1669              3321          2566\n",
       "8   5963   3648     6192     425              1716           750\n",
       "9   6006  11093    18881    1159              7425          2098"
      ]
     },
     "metadata": {},
     "output_type": "display_data"
    }
   ],
   "source": [
    "df2=df1.loc[0:9,'Fresh':'Delicatessen']\n",
    "display(df2)"
   ]
  },
  {
   "cell_type": "markdown",
   "id": "c8e59c61-5682-4814-88b8-c41b9096fc32",
   "metadata": {},
   "source": [
    "cs3-2 assign2"
   ]
  },
  {
   "cell_type": "code",
   "execution_count": 91,
   "id": "4851e09a-5635-4a1d-8e06-92fe994f0977",
   "metadata": {},
   "outputs": [
    {
     "name": "stdout",
     "output_type": "stream",
     "text": [
      "(47, 4)\n",
      "<class 'pandas.core.frame.DataFrame'>\n",
      "RangeIndex: 47 entries, 0 to 46\n",
      "Data columns (total 4 columns):\n",
      " #   Column  Non-Null Count  Dtype \n",
      "---  ------  --------------  ----- \n",
      " 0   ID      47 non-null     int64 \n",
      " 1   Univ    47 non-null     object\n",
      " 2   Grade   47 non-null     int64 \n",
      " 3   Time    47 non-null     int64 \n",
      "dtypes: int64(3), object(1)\n",
      "memory usage: 1.6+ KB\n",
      "None\n"
     ]
    },
    {
     "data": {
      "text/html": [
       "<div>\n",
       "<style scoped>\n",
       "    .dataframe tbody tr th:only-of-type {\n",
       "        vertical-align: middle;\n",
       "    }\n",
       "\n",
       "    .dataframe tbody tr th {\n",
       "        vertical-align: top;\n",
       "    }\n",
       "\n",
       "    .dataframe thead th {\n",
       "        text-align: right;\n",
       "    }\n",
       "</style>\n",
       "<table border=\"1\" class=\"dataframe\">\n",
       "  <thead>\n",
       "    <tr style=\"text-align: right;\">\n",
       "      <th></th>\n",
       "      <th>ID</th>\n",
       "      <th>Univ</th>\n",
       "      <th>Grade</th>\n",
       "      <th>Time</th>\n",
       "    </tr>\n",
       "  </thead>\n",
       "  <tbody>\n",
       "    <tr>\n",
       "      <th>0</th>\n",
       "      <td>1001</td>\n",
       "      <td>D</td>\n",
       "      <td>3</td>\n",
       "      <td>1870</td>\n",
       "    </tr>\n",
       "    <tr>\n",
       "      <th>1</th>\n",
       "      <td>1004</td>\n",
       "      <td>C</td>\n",
       "      <td>1</td>\n",
       "      <td>1957</td>\n",
       "    </tr>\n",
       "    <tr>\n",
       "      <th>2</th>\n",
       "      <td>1006</td>\n",
       "      <td>D</td>\n",
       "      <td>2</td>\n",
       "      <td>2063</td>\n",
       "    </tr>\n",
       "    <tr>\n",
       "      <th>3</th>\n",
       "      <td>1007</td>\n",
       "      <td>D</td>\n",
       "      <td>3</td>\n",
       "      <td>1839</td>\n",
       "    </tr>\n",
       "    <tr>\n",
       "      <th>4</th>\n",
       "      <td>1008</td>\n",
       "      <td>C</td>\n",
       "      <td>2</td>\n",
       "      <td>1740</td>\n",
       "    </tr>\n",
       "  </tbody>\n",
       "</table>\n",
       "</div>"
      ],
      "text/plain": [
       "     ID Univ  Grade  Time\n",
       "0  1001    D      3  1870\n",
       "1  1004    C      1  1957\n",
       "2  1006    D      2  2063\n",
       "3  1007    D      3  1839\n",
       "4  1008    C      2  1740"
      ]
     },
     "metadata": {},
     "output_type": "display_data"
    }
   ],
   "source": [
    "csv_in='cs3-02/running_tab.csv'\n",
    "df1=pd.read_csv(csv_in, sep='\\t', skiprows=0, header=0)\n",
    "print(df1.shape)\n",
    "print(df1.info())\n",
    "display(df1.head())"
   ]
  },
  {
   "cell_type": "code",
   "execution_count": 92,
   "id": "98ccf63c-daa7-45a9-85d3-89148f80bb57",
   "metadata": {},
   "outputs": [
    {
     "data": {
      "text/html": [
       "<div>\n",
       "<style scoped>\n",
       "    .dataframe tbody tr th:only-of-type {\n",
       "        vertical-align: middle;\n",
       "    }\n",
       "\n",
       "    .dataframe tbody tr th {\n",
       "        vertical-align: top;\n",
       "    }\n",
       "\n",
       "    .dataframe thead th {\n",
       "        text-align: right;\n",
       "    }\n",
       "</style>\n",
       "<table border=\"1\" class=\"dataframe\">\n",
       "  <thead>\n",
       "    <tr style=\"text-align: right;\">\n",
       "      <th></th>\n",
       "      <th>ID</th>\n",
       "      <th>Univ</th>\n",
       "      <th>Grade</th>\n",
       "      <th>Time</th>\n",
       "    </tr>\n",
       "  </thead>\n",
       "  <tbody>\n",
       "    <tr>\n",
       "      <th>11</th>\n",
       "      <td>1015</td>\n",
       "      <td>A</td>\n",
       "      <td>2</td>\n",
       "      <td>2123</td>\n",
       "    </tr>\n",
       "    <tr>\n",
       "      <th>12</th>\n",
       "      <td>1016</td>\n",
       "      <td>D</td>\n",
       "      <td>4</td>\n",
       "      <td>1924</td>\n",
       "    </tr>\n",
       "    <tr>\n",
       "      <th>13</th>\n",
       "      <td>1017</td>\n",
       "      <td>C</td>\n",
       "      <td>4</td>\n",
       "      <td>1932</td>\n",
       "    </tr>\n",
       "    <tr>\n",
       "      <th>14</th>\n",
       "      <td>1018</td>\n",
       "      <td>D</td>\n",
       "      <td>1</td>\n",
       "      <td>1926</td>\n",
       "    </tr>\n",
       "    <tr>\n",
       "      <th>15</th>\n",
       "      <td>1019</td>\n",
       "      <td>C</td>\n",
       "      <td>3</td>\n",
       "      <td>1937</td>\n",
       "    </tr>\n",
       "    <tr>\n",
       "      <th>16</th>\n",
       "      <td>1020</td>\n",
       "      <td>D</td>\n",
       "      <td>1</td>\n",
       "      <td>1897</td>\n",
       "    </tr>\n",
       "    <tr>\n",
       "      <th>17</th>\n",
       "      <td>1021</td>\n",
       "      <td>B</td>\n",
       "      <td>3</td>\n",
       "      <td>2052</td>\n",
       "    </tr>\n",
       "    <tr>\n",
       "      <th>18</th>\n",
       "      <td>1022</td>\n",
       "      <td>C</td>\n",
       "      <td>4</td>\n",
       "      <td>1926</td>\n",
       "    </tr>\n",
       "    <tr>\n",
       "      <th>19</th>\n",
       "      <td>1023</td>\n",
       "      <td>A</td>\n",
       "      <td>4</td>\n",
       "      <td>2013</td>\n",
       "    </tr>\n",
       "    <tr>\n",
       "      <th>20</th>\n",
       "      <td>1024</td>\n",
       "      <td>D</td>\n",
       "      <td>1</td>\n",
       "      <td>1947</td>\n",
       "    </tr>\n",
       "  </tbody>\n",
       "</table>\n",
       "</div>"
      ],
      "text/plain": [
       "      ID Univ  Grade  Time\n",
       "11  1015    A      2  2123\n",
       "12  1016    D      4  1924\n",
       "13  1017    C      4  1932\n",
       "14  1018    D      1  1926\n",
       "15  1019    C      3  1937\n",
       "16  1020    D      1  1897\n",
       "17  1021    B      3  2052\n",
       "18  1022    C      4  1926\n",
       "19  1023    A      4  2013\n",
       "20  1024    D      1  1947"
      ]
     },
     "metadata": {},
     "output_type": "display_data"
    }
   ],
   "source": [
    "display(df1.loc[11:20,:])"
   ]
  },
  {
   "cell_type": "code",
   "execution_count": 93,
   "id": "d376b3bb-e8ac-4843-b30f-8fa9ae8c1dd2",
   "metadata": {},
   "outputs": [
    {
     "data": {
      "text/html": [
       "<div>\n",
       "<style scoped>\n",
       "    .dataframe tbody tr th:only-of-type {\n",
       "        vertical-align: middle;\n",
       "    }\n",
       "\n",
       "    .dataframe tbody tr th {\n",
       "        vertical-align: top;\n",
       "    }\n",
       "\n",
       "    .dataframe thead th {\n",
       "        text-align: right;\n",
       "    }\n",
       "</style>\n",
       "<table border=\"1\" class=\"dataframe\">\n",
       "  <thead>\n",
       "    <tr style=\"text-align: right;\">\n",
       "      <th></th>\n",
       "      <th>Univ</th>\n",
       "      <th>Grade</th>\n",
       "      <th>Time</th>\n",
       "    </tr>\n",
       "  </thead>\n",
       "  <tbody>\n",
       "    <tr>\n",
       "      <th>11</th>\n",
       "      <td>A</td>\n",
       "      <td>2</td>\n",
       "      <td>2123</td>\n",
       "    </tr>\n",
       "    <tr>\n",
       "      <th>12</th>\n",
       "      <td>D</td>\n",
       "      <td>4</td>\n",
       "      <td>1924</td>\n",
       "    </tr>\n",
       "    <tr>\n",
       "      <th>13</th>\n",
       "      <td>C</td>\n",
       "      <td>4</td>\n",
       "      <td>1932</td>\n",
       "    </tr>\n",
       "    <tr>\n",
       "      <th>14</th>\n",
       "      <td>D</td>\n",
       "      <td>1</td>\n",
       "      <td>1926</td>\n",
       "    </tr>\n",
       "    <tr>\n",
       "      <th>15</th>\n",
       "      <td>C</td>\n",
       "      <td>3</td>\n",
       "      <td>1937</td>\n",
       "    </tr>\n",
       "    <tr>\n",
       "      <th>16</th>\n",
       "      <td>D</td>\n",
       "      <td>1</td>\n",
       "      <td>1897</td>\n",
       "    </tr>\n",
       "    <tr>\n",
       "      <th>17</th>\n",
       "      <td>B</td>\n",
       "      <td>3</td>\n",
       "      <td>2052</td>\n",
       "    </tr>\n",
       "    <tr>\n",
       "      <th>18</th>\n",
       "      <td>C</td>\n",
       "      <td>4</td>\n",
       "      <td>1926</td>\n",
       "    </tr>\n",
       "    <tr>\n",
       "      <th>19</th>\n",
       "      <td>A</td>\n",
       "      <td>4</td>\n",
       "      <td>2013</td>\n",
       "    </tr>\n",
       "    <tr>\n",
       "      <th>20</th>\n",
       "      <td>D</td>\n",
       "      <td>1</td>\n",
       "      <td>1947</td>\n",
       "    </tr>\n",
       "  </tbody>\n",
       "</table>\n",
       "</div>"
      ],
      "text/plain": [
       "   Univ  Grade  Time\n",
       "11    A      2  2123\n",
       "12    D      4  1924\n",
       "13    C      4  1932\n",
       "14    D      1  1926\n",
       "15    C      3  1937\n",
       "16    D      1  1897\n",
       "17    B      3  2052\n",
       "18    C      4  1926\n",
       "19    A      4  2013\n",
       "20    D      1  1947"
      ]
     },
     "metadata": {},
     "output_type": "display_data"
    }
   ],
   "source": [
    "df2=df1.loc[11:20, 'Univ':'Time']\n",
    "display(df2)"
   ]
  },
  {
   "cell_type": "markdown",
   "id": "4d3aa015-e767-4804-bc33-b200c505f369",
   "metadata": {},
   "source": [
    "cs3-3 assign1"
   ]
  },
  {
   "cell_type": "code",
   "execution_count": 94,
   "id": "c21949b9-171f-429c-a95f-5dd1003f3346",
   "metadata": {},
   "outputs": [
    {
     "name": "stdout",
     "output_type": "stream",
     "text": [
      "(440, 8)\n",
      "<class 'pandas.core.frame.DataFrame'>\n",
      "RangeIndex: 440 entries, 0 to 439\n",
      "Data columns (total 8 columns):\n",
      " #   Column            Non-Null Count  Dtype \n",
      "---  ------            --------------  ----- \n",
      " 0   Channel           440 non-null    int64 \n",
      " 1   Region            440 non-null    object\n",
      " 2   Fresh             440 non-null    int64 \n",
      " 3   Milk              440 non-null    int64 \n",
      " 4   Grocery           440 non-null    int64 \n",
      " 5   Frozen            440 non-null    int64 \n",
      " 6   Detergents_Paper  440 non-null    int64 \n",
      " 7   Delicatessen      440 non-null    int64 \n",
      "dtypes: int64(7), object(1)\n",
      "memory usage: 27.6+ KB\n",
      "None\n"
     ]
    },
    {
     "data": {
      "text/html": [
       "<div>\n",
       "<style scoped>\n",
       "    .dataframe tbody tr th:only-of-type {\n",
       "        vertical-align: middle;\n",
       "    }\n",
       "\n",
       "    .dataframe tbody tr th {\n",
       "        vertical-align: top;\n",
       "    }\n",
       "\n",
       "    .dataframe thead th {\n",
       "        text-align: right;\n",
       "    }\n",
       "</style>\n",
       "<table border=\"1\" class=\"dataframe\">\n",
       "  <thead>\n",
       "    <tr style=\"text-align: right;\">\n",
       "      <th></th>\n",
       "      <th>Channel</th>\n",
       "      <th>Region</th>\n",
       "      <th>Fresh</th>\n",
       "      <th>Milk</th>\n",
       "      <th>Grocery</th>\n",
       "      <th>Frozen</th>\n",
       "      <th>Detergents_Paper</th>\n",
       "      <th>Delicatessen</th>\n",
       "    </tr>\n",
       "  </thead>\n",
       "  <tbody>\n",
       "    <tr>\n",
       "      <th>0</th>\n",
       "      <td>2</td>\n",
       "      <td>Other</td>\n",
       "      <td>12669</td>\n",
       "      <td>9656</td>\n",
       "      <td>7561</td>\n",
       "      <td>214</td>\n",
       "      <td>2674</td>\n",
       "      <td>1338</td>\n",
       "    </tr>\n",
       "    <tr>\n",
       "      <th>1</th>\n",
       "      <td>2</td>\n",
       "      <td>Other</td>\n",
       "      <td>7057</td>\n",
       "      <td>9810</td>\n",
       "      <td>9568</td>\n",
       "      <td>1762</td>\n",
       "      <td>3293</td>\n",
       "      <td>1776</td>\n",
       "    </tr>\n",
       "    <tr>\n",
       "      <th>2</th>\n",
       "      <td>2</td>\n",
       "      <td>Other</td>\n",
       "      <td>6353</td>\n",
       "      <td>8808</td>\n",
       "      <td>7684</td>\n",
       "      <td>2405</td>\n",
       "      <td>3516</td>\n",
       "      <td>7844</td>\n",
       "    </tr>\n",
       "    <tr>\n",
       "      <th>3</th>\n",
       "      <td>1</td>\n",
       "      <td>Other</td>\n",
       "      <td>13265</td>\n",
       "      <td>1196</td>\n",
       "      <td>4221</td>\n",
       "      <td>6404</td>\n",
       "      <td>507</td>\n",
       "      <td>1788</td>\n",
       "    </tr>\n",
       "    <tr>\n",
       "      <th>4</th>\n",
       "      <td>2</td>\n",
       "      <td>Other</td>\n",
       "      <td>22615</td>\n",
       "      <td>5410</td>\n",
       "      <td>7198</td>\n",
       "      <td>3915</td>\n",
       "      <td>1777</td>\n",
       "      <td>5185</td>\n",
       "    </tr>\n",
       "  </tbody>\n",
       "</table>\n",
       "</div>"
      ],
      "text/plain": [
       "   Channel Region  Fresh  Milk  Grocery  Frozen  Detergents_Paper  \\\n",
       "0        2  Other  12669  9656     7561     214              2674   \n",
       "1        2  Other   7057  9810     9568    1762              3293   \n",
       "2        2  Other   6353  8808     7684    2405              3516   \n",
       "3        1  Other  13265  1196     4221    6404               507   \n",
       "4        2  Other  22615  5410     7198    3915              1777   \n",
       "\n",
       "   Delicatessen  \n",
       "0          1338  \n",
       "1          1776  \n",
       "2          7844  \n",
       "3          1788  \n",
       "4          5185  "
      ]
     },
     "metadata": {},
     "output_type": "display_data"
    }
   ],
   "source": [
    "csv_in='cs3-02/wholesale_customers.csv'\n",
    "df1=pd.read_csv(csv_in, sep=',', skiprows=13, header=0)\n",
    "print(df1.shape)\n",
    "print(df1.info())\n",
    "display(df1.head())"
   ]
  },
  {
   "cell_type": "code",
   "execution_count": 95,
   "id": "aa5e9a00-cc86-477f-880b-618664c96ad9",
   "metadata": {},
   "outputs": [
    {
     "name": "stdout",
     "output_type": "stream",
     "text": [
      "Other     316\n",
      "Lisbon     77\n",
      "Oporto     47\n",
      "Name: Region, dtype: int64\n"
     ]
    }
   ],
   "source": [
    "print(df1['Region'].value_counts())"
   ]
  },
  {
   "cell_type": "code",
   "execution_count": 96,
   "id": "1aa9510c-bee3-4ba9-8625-c6f0995484a6",
   "metadata": {},
   "outputs": [
    {
     "name": "stdout",
     "output_type": "stream",
     "text": [
      "1524.8704545454545\n"
     ]
    }
   ],
   "source": [
    "print(df1['Delicatessen'].mean())"
   ]
  },
  {
   "cell_type": "code",
   "execution_count": 97,
   "id": "f520219d-e7c1-4527-9635-d76d14104930",
   "metadata": {},
   "outputs": [
    {
     "data": {
      "text/html": [
       "<div>\n",
       "<style scoped>\n",
       "    .dataframe tbody tr th:only-of-type {\n",
       "        vertical-align: middle;\n",
       "    }\n",
       "\n",
       "    .dataframe tbody tr th {\n",
       "        vertical-align: top;\n",
       "    }\n",
       "\n",
       "    .dataframe thead th {\n",
       "        text-align: right;\n",
       "    }\n",
       "</style>\n",
       "<table border=\"1\" class=\"dataframe\">\n",
       "  <thead>\n",
       "    <tr style=\"text-align: right;\">\n",
       "      <th></th>\n",
       "      <th>Channel</th>\n",
       "      <th>Fresh</th>\n",
       "      <th>Milk</th>\n",
       "      <th>Grocery</th>\n",
       "      <th>Frozen</th>\n",
       "      <th>Detergents_Paper</th>\n",
       "      <th>Delicatessen</th>\n",
       "    </tr>\n",
       "  </thead>\n",
       "  <tbody>\n",
       "    <tr>\n",
       "      <th>count</th>\n",
       "      <td>440.000000</td>\n",
       "      <td>440.000000</td>\n",
       "      <td>440.000000</td>\n",
       "      <td>440.000000</td>\n",
       "      <td>440.000000</td>\n",
       "      <td>440.000000</td>\n",
       "      <td>440.000000</td>\n",
       "    </tr>\n",
       "    <tr>\n",
       "      <th>mean</th>\n",
       "      <td>1.322727</td>\n",
       "      <td>12000.297727</td>\n",
       "      <td>5796.265909</td>\n",
       "      <td>7951.277273</td>\n",
       "      <td>3071.931818</td>\n",
       "      <td>2881.493182</td>\n",
       "      <td>1524.870455</td>\n",
       "    </tr>\n",
       "    <tr>\n",
       "      <th>std</th>\n",
       "      <td>0.468052</td>\n",
       "      <td>12647.328865</td>\n",
       "      <td>7380.377175</td>\n",
       "      <td>9503.162829</td>\n",
       "      <td>4854.673333</td>\n",
       "      <td>4767.854448</td>\n",
       "      <td>2820.105937</td>\n",
       "    </tr>\n",
       "    <tr>\n",
       "      <th>min</th>\n",
       "      <td>1.000000</td>\n",
       "      <td>3.000000</td>\n",
       "      <td>55.000000</td>\n",
       "      <td>3.000000</td>\n",
       "      <td>25.000000</td>\n",
       "      <td>3.000000</td>\n",
       "      <td>3.000000</td>\n",
       "    </tr>\n",
       "    <tr>\n",
       "      <th>25%</th>\n",
       "      <td>1.000000</td>\n",
       "      <td>3127.750000</td>\n",
       "      <td>1533.000000</td>\n",
       "      <td>2153.000000</td>\n",
       "      <td>742.250000</td>\n",
       "      <td>256.750000</td>\n",
       "      <td>408.250000</td>\n",
       "    </tr>\n",
       "    <tr>\n",
       "      <th>50%</th>\n",
       "      <td>1.000000</td>\n",
       "      <td>8504.000000</td>\n",
       "      <td>3627.000000</td>\n",
       "      <td>4755.500000</td>\n",
       "      <td>1526.000000</td>\n",
       "      <td>816.500000</td>\n",
       "      <td>965.500000</td>\n",
       "    </tr>\n",
       "    <tr>\n",
       "      <th>75%</th>\n",
       "      <td>2.000000</td>\n",
       "      <td>16933.750000</td>\n",
       "      <td>7190.250000</td>\n",
       "      <td>10655.750000</td>\n",
       "      <td>3554.250000</td>\n",
       "      <td>3922.000000</td>\n",
       "      <td>1820.250000</td>\n",
       "    </tr>\n",
       "    <tr>\n",
       "      <th>max</th>\n",
       "      <td>2.000000</td>\n",
       "      <td>112151.000000</td>\n",
       "      <td>73498.000000</td>\n",
       "      <td>92780.000000</td>\n",
       "      <td>60869.000000</td>\n",
       "      <td>40827.000000</td>\n",
       "      <td>47943.000000</td>\n",
       "    </tr>\n",
       "  </tbody>\n",
       "</table>\n",
       "</div>"
      ],
      "text/plain": [
       "          Channel          Fresh          Milk       Grocery        Frozen  \\\n",
       "count  440.000000     440.000000    440.000000    440.000000    440.000000   \n",
       "mean     1.322727   12000.297727   5796.265909   7951.277273   3071.931818   \n",
       "std      0.468052   12647.328865   7380.377175   9503.162829   4854.673333   \n",
       "min      1.000000       3.000000     55.000000      3.000000     25.000000   \n",
       "25%      1.000000    3127.750000   1533.000000   2153.000000    742.250000   \n",
       "50%      1.000000    8504.000000   3627.000000   4755.500000   1526.000000   \n",
       "75%      2.000000   16933.750000   7190.250000  10655.750000   3554.250000   \n",
       "max      2.000000  112151.000000  73498.000000  92780.000000  60869.000000   \n",
       "\n",
       "       Detergents_Paper  Delicatessen  \n",
       "count        440.000000    440.000000  \n",
       "mean        2881.493182   1524.870455  \n",
       "std         4767.854448   2820.105937  \n",
       "min            3.000000      3.000000  \n",
       "25%          256.750000    408.250000  \n",
       "50%          816.500000    965.500000  \n",
       "75%         3922.000000   1820.250000  \n",
       "max        40827.000000  47943.000000  "
      ]
     },
     "metadata": {},
     "output_type": "display_data"
    }
   ],
   "source": [
    "display(df1.describe())"
   ]
  },
  {
   "cell_type": "markdown",
   "id": "e5279c90-a47c-44dc-ad9a-ebef18c9aa7f",
   "metadata": {},
   "source": [
    "cs3-3 assign2"
   ]
  },
  {
   "cell_type": "code",
   "execution_count": 98,
   "id": "3ba18adf-5984-4703-8050-0482dbdcf8a7",
   "metadata": {},
   "outputs": [
    {
     "name": "stdout",
     "output_type": "stream",
     "text": [
      "(47, 4)\n",
      "<class 'pandas.core.frame.DataFrame'>\n",
      "RangeIndex: 47 entries, 0 to 46\n",
      "Data columns (total 4 columns):\n",
      " #   Column  Non-Null Count  Dtype \n",
      "---  ------  --------------  ----- \n",
      " 0   ID      47 non-null     int64 \n",
      " 1   Univ    47 non-null     object\n",
      " 2   Grade   47 non-null     int64 \n",
      " 3   Time    47 non-null     int64 \n",
      "dtypes: int64(3), object(1)\n",
      "memory usage: 1.6+ KB\n",
      "None\n"
     ]
    },
    {
     "data": {
      "text/html": [
       "<div>\n",
       "<style scoped>\n",
       "    .dataframe tbody tr th:only-of-type {\n",
       "        vertical-align: middle;\n",
       "    }\n",
       "\n",
       "    .dataframe tbody tr th {\n",
       "        vertical-align: top;\n",
       "    }\n",
       "\n",
       "    .dataframe thead th {\n",
       "        text-align: right;\n",
       "    }\n",
       "</style>\n",
       "<table border=\"1\" class=\"dataframe\">\n",
       "  <thead>\n",
       "    <tr style=\"text-align: right;\">\n",
       "      <th></th>\n",
       "      <th>ID</th>\n",
       "      <th>Univ</th>\n",
       "      <th>Grade</th>\n",
       "      <th>Time</th>\n",
       "    </tr>\n",
       "  </thead>\n",
       "  <tbody>\n",
       "    <tr>\n",
       "      <th>0</th>\n",
       "      <td>1001</td>\n",
       "      <td>D</td>\n",
       "      <td>3</td>\n",
       "      <td>1870</td>\n",
       "    </tr>\n",
       "    <tr>\n",
       "      <th>1</th>\n",
       "      <td>1004</td>\n",
       "      <td>C</td>\n",
       "      <td>1</td>\n",
       "      <td>1957</td>\n",
       "    </tr>\n",
       "    <tr>\n",
       "      <th>2</th>\n",
       "      <td>1006</td>\n",
       "      <td>D</td>\n",
       "      <td>2</td>\n",
       "      <td>2063</td>\n",
       "    </tr>\n",
       "    <tr>\n",
       "      <th>3</th>\n",
       "      <td>1007</td>\n",
       "      <td>D</td>\n",
       "      <td>3</td>\n",
       "      <td>1839</td>\n",
       "    </tr>\n",
       "    <tr>\n",
       "      <th>4</th>\n",
       "      <td>1008</td>\n",
       "      <td>C</td>\n",
       "      <td>2</td>\n",
       "      <td>1740</td>\n",
       "    </tr>\n",
       "  </tbody>\n",
       "</table>\n",
       "</div>"
      ],
      "text/plain": [
       "     ID Univ  Grade  Time\n",
       "0  1001    D      3  1870\n",
       "1  1004    C      1  1957\n",
       "2  1006    D      2  2063\n",
       "3  1007    D      3  1839\n",
       "4  1008    C      2  1740"
      ]
     },
     "metadata": {},
     "output_type": "display_data"
    }
   ],
   "source": [
    "csv_in='cs3-02/running_tab.csv'\n",
    "df1=pd.read_csv(csv_in,sep='\\t',skiprows=0,header=0)\n",
    "print(df1.shape)\n",
    "print(df1.info())\n",
    "display(df1.head())"
   ]
  },
  {
   "cell_type": "code",
   "execution_count": 99,
   "id": "1e6beae6-44c4-4fc5-9230-76b9205cb2e0",
   "metadata": {},
   "outputs": [
    {
     "name": "stdout",
     "output_type": "stream",
     "text": [
      "A    16\n",
      "D    15\n",
      "C     8\n",
      "B     8\n",
      "Name: Univ, dtype: int64\n"
     ]
    }
   ],
   "source": [
    "print(df1['Univ'].value_counts())"
   ]
  },
  {
   "cell_type": "code",
   "execution_count": 100,
   "id": "377d1920-8233-49ca-b5dd-7bae6ff9e173",
   "metadata": {},
   "outputs": [
    {
     "data": {
      "text/html": [
       "<div>\n",
       "<style scoped>\n",
       "    .dataframe tbody tr th:only-of-type {\n",
       "        vertical-align: middle;\n",
       "    }\n",
       "\n",
       "    .dataframe tbody tr th {\n",
       "        vertical-align: top;\n",
       "    }\n",
       "\n",
       "    .dataframe thead th {\n",
       "        text-align: right;\n",
       "    }\n",
       "</style>\n",
       "<table border=\"1\" class=\"dataframe\">\n",
       "  <thead>\n",
       "    <tr style=\"text-align: right;\">\n",
       "      <th></th>\n",
       "      <th>ID</th>\n",
       "      <th>Grade</th>\n",
       "      <th>Time</th>\n",
       "    </tr>\n",
       "  </thead>\n",
       "  <tbody>\n",
       "    <tr>\n",
       "      <th>count</th>\n",
       "      <td>47.000000</td>\n",
       "      <td>47.000000</td>\n",
       "      <td>47.000000</td>\n",
       "    </tr>\n",
       "    <tr>\n",
       "      <th>mean</th>\n",
       "      <td>1026.914894</td>\n",
       "      <td>2.531915</td>\n",
       "      <td>1913.276596</td>\n",
       "    </tr>\n",
       "    <tr>\n",
       "      <th>std</th>\n",
       "      <td>13.862414</td>\n",
       "      <td>1.100416</td>\n",
       "      <td>90.930624</td>\n",
       "    </tr>\n",
       "    <tr>\n",
       "      <th>min</th>\n",
       "      <td>1001.000000</td>\n",
       "      <td>1.000000</td>\n",
       "      <td>1740.000000</td>\n",
       "    </tr>\n",
       "    <tr>\n",
       "      <th>25%</th>\n",
       "      <td>1015.500000</td>\n",
       "      <td>2.000000</td>\n",
       "      <td>1860.000000</td>\n",
       "    </tr>\n",
       "    <tr>\n",
       "      <th>50%</th>\n",
       "      <td>1027.000000</td>\n",
       "      <td>3.000000</td>\n",
       "      <td>1923.000000</td>\n",
       "    </tr>\n",
       "    <tr>\n",
       "      <th>75%</th>\n",
       "      <td>1038.500000</td>\n",
       "      <td>3.000000</td>\n",
       "      <td>1967.000000</td>\n",
       "    </tr>\n",
       "    <tr>\n",
       "      <th>max</th>\n",
       "      <td>1050.000000</td>\n",
       "      <td>4.000000</td>\n",
       "      <td>2123.000000</td>\n",
       "    </tr>\n",
       "  </tbody>\n",
       "</table>\n",
       "</div>"
      ],
      "text/plain": [
       "                ID      Grade         Time\n",
       "count    47.000000  47.000000    47.000000\n",
       "mean   1026.914894   2.531915  1913.276596\n",
       "std      13.862414   1.100416    90.930624\n",
       "min    1001.000000   1.000000  1740.000000\n",
       "25%    1015.500000   2.000000  1860.000000\n",
       "50%    1027.000000   3.000000  1923.000000\n",
       "75%    1038.500000   3.000000  1967.000000\n",
       "max    1050.000000   4.000000  2123.000000"
      ]
     },
     "metadata": {},
     "output_type": "display_data"
    }
   ],
   "source": [
    "display(df1.describe())"
   ]
  },
  {
   "cell_type": "code",
   "execution_count": 101,
   "id": "c773a380-1a67-49c0-9699-c927e5f45266",
   "metadata": {},
   "outputs": [
    {
     "data": {
      "image/png": "[encoded data removed]",
      "text/plain": [
       "<Figure size 640x480 with 1 Axes>"
      ]
     },
     "metadata": {},
     "output_type": "display_data"
    }
   ],
   "source": [
    "plt.boxplot(df1['Time'], labels=['Time'])\n",
    "plt.title('Time')\n",
    "plt.ylabel('Time[sec.]')\n",
    "plt.show()"
   ]
  },
  {
   "cell_type": "code",
   "execution_count": 102,
   "id": "4cc3a7c2-ecec-4145-8cd6-017d2b97bb84",
   "metadata": {},
   "outputs": [
    {
     "data": {
      "image/png": "[encoded data removed]",
      "text/plain": [
       "<Figure size 640x480 with 1 Axes>"
      ]
     },
     "metadata": {},
     "output_type": "display_data"
    }
   ],
   "source": [
    "plt.hist(df1['Time'], bins=12)\n",
    "plt.xlabel('Time[sec.]')\n",
    "plt.ylabel('Frequency')\n",
    "plt.show()"
   ]
  },
  {
   "cell_type": "markdown",
   "id": "82ce935e-8029-489b-94e0-d9b0d590ed04",
   "metadata": {},
   "source": [
    "cs3-4 assign1"
   ]
  },
  {
   "cell_type": "code",
   "execution_count": 103,
   "id": "88916fae-0117-42ec-b610-94f9d48e9513",
   "metadata": {},
   "outputs": [
    {
     "name": "stdout",
     "output_type": "stream",
     "text": [
      "(47, 4)\n",
      "<class 'pandas.core.frame.DataFrame'>\n",
      "RangeIndex: 47 entries, 0 to 46\n",
      "Data columns (total 4 columns):\n",
      " #   Column  Non-Null Count  Dtype \n",
      "---  ------  --------------  ----- \n",
      " 0   ID      47 non-null     int64 \n",
      " 1   Univ    47 non-null     object\n",
      " 2   Grade   47 non-null     int64 \n",
      " 3   Time    47 non-null     int64 \n",
      "dtypes: int64(3), object(1)\n",
      "memory usage: 1.6+ KB\n",
      "None\n"
     ]
    },
    {
     "data": {
      "text/html": [
       "<div>\n",
       "<style scoped>\n",
       "    .dataframe tbody tr th:only-of-type {\n",
       "        vertical-align: middle;\n",
       "    }\n",
       "\n",
       "    .dataframe tbody tr th {\n",
       "        vertical-align: top;\n",
       "    }\n",
       "\n",
       "    .dataframe thead th {\n",
       "        text-align: right;\n",
       "    }\n",
       "</style>\n",
       "<table border=\"1\" class=\"dataframe\">\n",
       "  <thead>\n",
       "    <tr style=\"text-align: right;\">\n",
       "      <th></th>\n",
       "      <th>ID</th>\n",
       "      <th>Univ</th>\n",
       "      <th>Grade</th>\n",
       "      <th>Time</th>\n",
       "    </tr>\n",
       "  </thead>\n",
       "  <tbody>\n",
       "    <tr>\n",
       "      <th>0</th>\n",
       "      <td>1001</td>\n",
       "      <td>D</td>\n",
       "      <td>3</td>\n",
       "      <td>1870</td>\n",
       "    </tr>\n",
       "    <tr>\n",
       "      <th>1</th>\n",
       "      <td>1004</td>\n",
       "      <td>C</td>\n",
       "      <td>1</td>\n",
       "      <td>1957</td>\n",
       "    </tr>\n",
       "    <tr>\n",
       "      <th>2</th>\n",
       "      <td>1006</td>\n",
       "      <td>D</td>\n",
       "      <td>2</td>\n",
       "      <td>2063</td>\n",
       "    </tr>\n",
       "    <tr>\n",
       "      <th>3</th>\n",
       "      <td>1007</td>\n",
       "      <td>D</td>\n",
       "      <td>3</td>\n",
       "      <td>1839</td>\n",
       "    </tr>\n",
       "    <tr>\n",
       "      <th>4</th>\n",
       "      <td>1008</td>\n",
       "      <td>C</td>\n",
       "      <td>2</td>\n",
       "      <td>1740</td>\n",
       "    </tr>\n",
       "  </tbody>\n",
       "</table>\n",
       "</div>"
      ],
      "text/plain": [
       "     ID Univ  Grade  Time\n",
       "0  1001    D      3  1870\n",
       "1  1004    C      1  1957\n",
       "2  1006    D      2  2063\n",
       "3  1007    D      3  1839\n",
       "4  1008    C      2  1740"
      ]
     },
     "metadata": {},
     "output_type": "display_data"
    }
   ],
   "source": [
    "csv_in='cs3-04/running.csv'\n",
    "df1=pd.read_csv(csv_in, sep=',', skiprows=0, header=0)\n",
    "print(df1.shape)\n",
    "print(df1.info())\n",
    "display(df1.head())"
   ]
  },
  {
   "cell_type": "code",
   "execution_count": 104,
   "id": "617e8f8d-5331-4eff-a960-6366e87ad701",
   "metadata": {},
   "outputs": [
    {
     "data": {
      "text/plain": [
       "A    16\n",
       "D    15\n",
       "C     8\n",
       "B     8\n",
       "Name: Univ, dtype: int64"
      ]
     },
     "metadata": {},
     "output_type": "display_data"
    }
   ],
   "source": [
    "display(df1['Univ'].value_counts())"
   ]
  },
  {
   "cell_type": "code",
   "execution_count": 105,
   "id": "0c9d0dc6-92f6-4b92-9620-53d269e79a85",
   "metadata": {},
   "outputs": [
    {
     "data": {
      "text/html": [
       "<div>\n",
       "<style scoped>\n",
       "    .dataframe tbody tr th:only-of-type {\n",
       "        vertical-align: middle;\n",
       "    }\n",
       "\n",
       "    .dataframe tbody tr th {\n",
       "        vertical-align: top;\n",
       "    }\n",
       "\n",
       "    .dataframe thead th {\n",
       "        text-align: right;\n",
       "    }\n",
       "</style>\n",
       "<table border=\"1\" class=\"dataframe\">\n",
       "  <thead>\n",
       "    <tr style=\"text-align: right;\">\n",
       "      <th></th>\n",
       "      <th>ID</th>\n",
       "      <th>Univ</th>\n",
       "      <th>Grade</th>\n",
       "      <th>Time</th>\n",
       "    </tr>\n",
       "  </thead>\n",
       "  <tbody>\n",
       "    <tr>\n",
       "      <th>4</th>\n",
       "      <td>1008</td>\n",
       "      <td>C</td>\n",
       "      <td>2</td>\n",
       "      <td>1740</td>\n",
       "    </tr>\n",
       "    <tr>\n",
       "      <th>26</th>\n",
       "      <td>1030</td>\n",
       "      <td>D</td>\n",
       "      <td>3</td>\n",
       "      <td>1761</td>\n",
       "    </tr>\n",
       "    <tr>\n",
       "      <th>38</th>\n",
       "      <td>1042</td>\n",
       "      <td>A</td>\n",
       "      <td>3</td>\n",
       "      <td>1764</td>\n",
       "    </tr>\n",
       "    <tr>\n",
       "      <th>8</th>\n",
       "      <td>1012</td>\n",
       "      <td>A</td>\n",
       "      <td>3</td>\n",
       "      <td>1783</td>\n",
       "    </tr>\n",
       "    <tr>\n",
       "      <th>24</th>\n",
       "      <td>1028</td>\n",
       "      <td>B</td>\n",
       "      <td>4</td>\n",
       "      <td>1785</td>\n",
       "    </tr>\n",
       "  </tbody>\n",
       "</table>\n",
       "</div>"
      ],
      "text/plain": [
       "      ID Univ  Grade  Time\n",
       "4   1008    C      2  1740\n",
       "26  1030    D      3  1761\n",
       "38  1042    A      3  1764\n",
       "8   1012    A      3  1783\n",
       "24  1028    B      4  1785"
      ]
     },
     "metadata": {},
     "output_type": "display_data"
    }
   ],
   "source": [
    "df2=df1.sort_values(by='Time')\n",
    "display(df2.head())"
   ]
  },
  {
   "cell_type": "code",
   "execution_count": 106,
   "id": "5f99dba1-342e-4d34-a482-95a1fa4cb12d",
   "metadata": {},
   "outputs": [
    {
     "data": {
      "text/html": [
       "<div>\n",
       "<style scoped>\n",
       "    .dataframe tbody tr th:only-of-type {\n",
       "        vertical-align: middle;\n",
       "    }\n",
       "\n",
       "    .dataframe tbody tr th {\n",
       "        vertical-align: top;\n",
       "    }\n",
       "\n",
       "    .dataframe thead th {\n",
       "        text-align: right;\n",
       "    }\n",
       "</style>\n",
       "<table border=\"1\" class=\"dataframe\">\n",
       "  <thead>\n",
       "    <tr style=\"text-align: right;\">\n",
       "      <th></th>\n",
       "      <th>ID</th>\n",
       "      <th>Univ</th>\n",
       "      <th>Grade</th>\n",
       "      <th>Time</th>\n",
       "      <th>MinTime</th>\n",
       "    </tr>\n",
       "  </thead>\n",
       "  <tbody>\n",
       "    <tr>\n",
       "      <th>4</th>\n",
       "      <td>1008</td>\n",
       "      <td>C</td>\n",
       "      <td>2</td>\n",
       "      <td>1740</td>\n",
       "      <td>29.000000</td>\n",
       "    </tr>\n",
       "    <tr>\n",
       "      <th>26</th>\n",
       "      <td>1030</td>\n",
       "      <td>D</td>\n",
       "      <td>3</td>\n",
       "      <td>1761</td>\n",
       "      <td>29.350000</td>\n",
       "    </tr>\n",
       "    <tr>\n",
       "      <th>38</th>\n",
       "      <td>1042</td>\n",
       "      <td>A</td>\n",
       "      <td>3</td>\n",
       "      <td>1764</td>\n",
       "      <td>29.400000</td>\n",
       "    </tr>\n",
       "    <tr>\n",
       "      <th>8</th>\n",
       "      <td>1012</td>\n",
       "      <td>A</td>\n",
       "      <td>3</td>\n",
       "      <td>1783</td>\n",
       "      <td>29.716667</td>\n",
       "    </tr>\n",
       "    <tr>\n",
       "      <th>24</th>\n",
       "      <td>1028</td>\n",
       "      <td>B</td>\n",
       "      <td>4</td>\n",
       "      <td>1785</td>\n",
       "      <td>29.750000</td>\n",
       "    </tr>\n",
       "  </tbody>\n",
       "</table>\n",
       "</div>"
      ],
      "text/plain": [
       "      ID Univ  Grade  Time    MinTime\n",
       "4   1008    C      2  1740  29.000000\n",
       "26  1030    D      3  1761  29.350000\n",
       "38  1042    A      3  1764  29.400000\n",
       "8   1012    A      3  1783  29.716667\n",
       "24  1028    B      4  1785  29.750000"
      ]
     },
     "metadata": {},
     "output_type": "display_data"
    }
   ],
   "source": [
    "df2['MinTime']=df2['Time']/60.0\n",
    "display(df2.head())"
   ]
  },
  {
   "cell_type": "code",
   "execution_count": 107,
   "id": "1c41a652-a0d9-4801-82bd-2efe7abf022d",
   "metadata": {},
   "outputs": [
    {
     "data": {
      "text/html": [
       "<div>\n",
       "<style scoped>\n",
       "    .dataframe tbody tr th:only-of-type {\n",
       "        vertical-align: middle;\n",
       "    }\n",
       "\n",
       "    .dataframe tbody tr th {\n",
       "        vertical-align: top;\n",
       "    }\n",
       "\n",
       "    .dataframe thead th {\n",
       "        text-align: right;\n",
       "    }\n",
       "</style>\n",
       "<table border=\"1\" class=\"dataframe\">\n",
       "  <thead>\n",
       "    <tr style=\"text-align: right;\">\n",
       "      <th></th>\n",
       "      <th>ID</th>\n",
       "      <th>Time</th>\n",
       "      <th>MinTime</th>\n",
       "    </tr>\n",
       "  </thead>\n",
       "  <tbody>\n",
       "    <tr>\n",
       "      <th>4</th>\n",
       "      <td>1008</td>\n",
       "      <td>1740</td>\n",
       "      <td>29.000000</td>\n",
       "    </tr>\n",
       "    <tr>\n",
       "      <th>26</th>\n",
       "      <td>1030</td>\n",
       "      <td>1761</td>\n",
       "      <td>29.350000</td>\n",
       "    </tr>\n",
       "    <tr>\n",
       "      <th>38</th>\n",
       "      <td>1042</td>\n",
       "      <td>1764</td>\n",
       "      <td>29.400000</td>\n",
       "    </tr>\n",
       "    <tr>\n",
       "      <th>8</th>\n",
       "      <td>1012</td>\n",
       "      <td>1783</td>\n",
       "      <td>29.716667</td>\n",
       "    </tr>\n",
       "    <tr>\n",
       "      <th>24</th>\n",
       "      <td>1028</td>\n",
       "      <td>1785</td>\n",
       "      <td>29.750000</td>\n",
       "    </tr>\n",
       "  </tbody>\n",
       "</table>\n",
       "</div>"
      ],
      "text/plain": [
       "      ID  Time    MinTime\n",
       "4   1008  1740  29.000000\n",
       "26  1030  1761  29.350000\n",
       "38  1042  1764  29.400000\n",
       "8   1012  1783  29.716667\n",
       "24  1028  1785  29.750000"
      ]
     },
     "metadata": {},
     "output_type": "display_data"
    }
   ],
   "source": [
    "df3=df2.drop(columns=['Univ','Grade'])\n",
    "display(df3.head())"
   ]
  },
  {
   "cell_type": "markdown",
   "id": "edbc5988-ff94-4c99-aa3b-363e2336e9d5",
   "metadata": {},
   "source": [
    "cs3-4 assign2"
   ]
  },
  {
   "cell_type": "code",
   "execution_count": 108,
   "id": "5ad725e6-0c22-4457-b82d-1c17e991a10a",
   "metadata": {},
   "outputs": [
    {
     "data": {
      "text/html": [
       "<div>\n",
       "<style scoped>\n",
       "    .dataframe tbody tr th:only-of-type {\n",
       "        vertical-align: middle;\n",
       "    }\n",
       "\n",
       "    .dataframe tbody tr th {\n",
       "        vertical-align: top;\n",
       "    }\n",
       "\n",
       "    .dataframe thead th {\n",
       "        text-align: right;\n",
       "    }\n",
       "</style>\n",
       "<table border=\"1\" class=\"dataframe\">\n",
       "  <thead>\n",
       "    <tr style=\"text-align: right;\">\n",
       "      <th></th>\n",
       "      <th>Channel</th>\n",
       "      <th>Region</th>\n",
       "      <th>Fresh</th>\n",
       "      <th>Milk</th>\n",
       "      <th>Grocery</th>\n",
       "      <th>Frozen</th>\n",
       "      <th>Detergents_Paper</th>\n",
       "      <th>Delicatessen</th>\n",
       "    </tr>\n",
       "  </thead>\n",
       "  <tbody>\n",
       "    <tr>\n",
       "      <th>0</th>\n",
       "      <td>2</td>\n",
       "      <td>Other</td>\n",
       "      <td>12669</td>\n",
       "      <td>NaN</td>\n",
       "      <td>7561</td>\n",
       "      <td>214.0</td>\n",
       "      <td>2674</td>\n",
       "      <td>1338</td>\n",
       "    </tr>\n",
       "    <tr>\n",
       "      <th>1</th>\n",
       "      <td>2</td>\n",
       "      <td>other</td>\n",
       "      <td>7057</td>\n",
       "      <td>9810.0</td>\n",
       "      <td>9568</td>\n",
       "      <td>1762.0</td>\n",
       "      <td>3293</td>\n",
       "      <td>1776</td>\n",
       "    </tr>\n",
       "    <tr>\n",
       "      <th>2</th>\n",
       "      <td>2</td>\n",
       "      <td>Otheer</td>\n",
       "      <td>6353</td>\n",
       "      <td>8808.0</td>\n",
       "      <td>7684</td>\n",
       "      <td>2405.0</td>\n",
       "      <td>3516</td>\n",
       "      <td>7844</td>\n",
       "    </tr>\n",
       "    <tr>\n",
       "      <th>3</th>\n",
       "      <td>1</td>\n",
       "      <td>Other</td>\n",
       "      <td>13265</td>\n",
       "      <td>NaN</td>\n",
       "      <td>4221</td>\n",
       "      <td>NaN</td>\n",
       "      <td>507</td>\n",
       "      <td>1788</td>\n",
       "    </tr>\n",
       "    <tr>\n",
       "      <th>4</th>\n",
       "      <td>2</td>\n",
       "      <td>Other</td>\n",
       "      <td>22615</td>\n",
       "      <td>5410.0</td>\n",
       "      <td>7198</td>\n",
       "      <td>3915.0</td>\n",
       "      <td>1777</td>\n",
       "      <td>5185</td>\n",
       "    </tr>\n",
       "  </tbody>\n",
       "</table>\n",
       "</div>"
      ],
      "text/plain": [
       "  Channel  Region  Fresh    Milk  Grocery  Frozen  Detergents_Paper  \\\n",
       "0       2   Other  12669     NaN     7561   214.0              2674   \n",
       "1       2   other   7057  9810.0     9568  1762.0              3293   \n",
       "2       2  Otheer   6353  8808.0     7684  2405.0              3516   \n",
       "3       1   Other  13265     NaN     4221     NaN               507   \n",
       "4       2   Other  22615  5410.0     7198  3915.0              1777   \n",
       "\n",
       "   Delicatessen  \n",
       "0          1338  \n",
       "1          1776  \n",
       "2          7844  \n",
       "3          1788  \n",
       "4          5185  "
      ]
     },
     "metadata": {},
     "output_type": "display_data"
    }
   ],
   "source": [
    "csv_in='cs3-04/wholesale_customers-with-errors.csv'\n",
    "df=pd.read_csv(csv_in, sep=',', skiprows=13, header=0)\n",
    "df['Channel'] = df['Channel'].astype('category')\n",
    "df=df.drop_duplicates().reset_index(drop=True)\n",
    "display(df.head())"
   ]
  },
  {
   "cell_type": "code",
   "execution_count": 109,
   "id": "62354f3b-5077-4fe9-b864-dfb843b6571a",
   "metadata": {},
   "outputs": [
    {
     "name": "stdout",
     "output_type": "stream",
     "text": [
      "Other     313\n",
      "Lisbon     75\n",
      "Oporto     43\n",
      "other       1\n",
      "Otheer      1\n",
      "lisbon      1\n",
      "Lisbn       1\n",
      "Porto       1\n",
      "porto       1\n",
      "Name: Region, dtype: int64\n"
     ]
    }
   ],
   "source": [
    "print(df['Region'].value_counts())"
   ]
  },
  {
   "cell_type": "code",
   "execution_count": 110,
   "id": "4ae35a90-bbae-4acb-bbba-7e4939d13c7d",
   "metadata": {},
   "outputs": [
    {
     "name": "stdout",
     "output_type": "stream",
     "text": [
      "other     315\n",
      "lisbon     77\n",
      "oporto     45\n",
      "Name: Region, dtype: int64\n"
     ]
    }
   ],
   "source": [
    "df['Region'] = df['Region'].replace(['Other', 'Otheer',], 'other')\n",
    "df['Region'] = df['Region'].replace(['Lisbon', 'Lisbn'], 'lisbon')\n",
    "df['Region'] = df['Region'].replace(['Oporto', 'Porto', 'porto'], 'oporto')\n",
    "\n",
    "print(df['Region'].value_counts())"
   ]
  },
  {
   "cell_type": "code",
   "execution_count": 111,
   "id": "11da9f95-af8a-4e6c-bd20-71972bff4ca2",
   "metadata": {},
   "outputs": [
    {
     "data": {
      "text/html": [
       "<div>\n",
       "<style scoped>\n",
       "    .dataframe tbody tr th:only-of-type {\n",
       "        vertical-align: middle;\n",
       "    }\n",
       "\n",
       "    .dataframe tbody tr th {\n",
       "        vertical-align: top;\n",
       "    }\n",
       "\n",
       "    .dataframe thead th {\n",
       "        text-align: right;\n",
       "    }\n",
       "</style>\n",
       "<table border=\"1\" class=\"dataframe\">\n",
       "  <thead>\n",
       "    <tr style=\"text-align: right;\">\n",
       "      <th></th>\n",
       "      <th>Channel</th>\n",
       "      <th>Region</th>\n",
       "      <th>Fresh</th>\n",
       "      <th>Milk</th>\n",
       "      <th>Grocery</th>\n",
       "      <th>Frozen</th>\n",
       "      <th>Detergents_Paper</th>\n",
       "      <th>Delicatessen</th>\n",
       "    </tr>\n",
       "  </thead>\n",
       "  <tbody>\n",
       "    <tr>\n",
       "      <th>0</th>\n",
       "      <td>2</td>\n",
       "      <td>other</td>\n",
       "      <td>12669</td>\n",
       "      <td>NaN</td>\n",
       "      <td>7561</td>\n",
       "      <td>214.0</td>\n",
       "      <td>2674</td>\n",
       "      <td>1338</td>\n",
       "    </tr>\n",
       "    <tr>\n",
       "      <th>3</th>\n",
       "      <td>1</td>\n",
       "      <td>other</td>\n",
       "      <td>13265</td>\n",
       "      <td>NaN</td>\n",
       "      <td>4221</td>\n",
       "      <td>NaN</td>\n",
       "      <td>507</td>\n",
       "      <td>1788</td>\n",
       "    </tr>\n",
       "  </tbody>\n",
       "</table>\n",
       "</div>"
      ],
      "text/plain": [
       "  Channel Region  Fresh  Milk  Grocery  Frozen  Detergents_Paper  Delicatessen\n",
       "0       2  other  12669   NaN     7561   214.0              2674          1338\n",
       "3       1  other  13265   NaN     4221     NaN               507          1788"
      ]
     },
     "metadata": {},
     "output_type": "display_data"
    }
   ],
   "source": [
    "display(df[df.isna().any(axis=1)])"
   ]
  },
  {
   "cell_type": "code",
   "execution_count": 112,
   "id": "f4ae3a49-636f-44d4-9a6f-2bf13a8b7f28",
   "metadata": {},
   "outputs": [],
   "source": [
    "df['Milk']=df['Milk'].fillna(0)\n",
    "df['Frozen']=df['Frozen'].fillna(0)"
   ]
  },
  {
   "cell_type": "code",
   "execution_count": 113,
   "id": "d1b6f002-c692-42ac-a9c2-755610b54b0c",
   "metadata": {},
   "outputs": [
    {
     "name": "stdout",
     "output_type": "stream",
     "text": [
      "<class 'pandas.core.frame.DataFrame'>\n",
      "RangeIndex: 437 entries, 0 to 436\n",
      "Data columns (total 8 columns):\n",
      " #   Column            Non-Null Count  Dtype   \n",
      "---  ------            --------------  -----   \n",
      " 0   Channel           437 non-null    category\n",
      " 1   Region            437 non-null    object  \n",
      " 2   Fresh             437 non-null    int64   \n",
      " 3   Milk              437 non-null    float64 \n",
      " 4   Grocery           437 non-null    int64   \n",
      " 5   Frozen            437 non-null    float64 \n",
      " 6   Detergents_Paper  437 non-null    int64   \n",
      " 7   Delicatessen      437 non-null    int64   \n",
      "dtypes: category(1), float64(2), int64(4), object(1)\n",
      "memory usage: 24.6+ KB\n"
     ]
    }
   ],
   "source": [
    "df.info()"
   ]
  },
  {
   "cell_type": "code",
   "execution_count": 114,
   "id": "8efd92da-d542-47f7-b9eb-1ac616e15ffa",
   "metadata": {},
   "outputs": [],
   "source": [
    "df.to_csv('cs3-04/wholesale_cutsomers_fill0.csv',index=False)"
   ]
  },
  {
   "cell_type": "markdown",
   "id": "bb4e593b-724a-423b-a024-8b3dd5c01d3a",
   "metadata": {},
   "source": [
    "cs3-5 assign1"
   ]
  },
  {
   "cell_type": "code",
   "execution_count": 115,
   "id": "3a800b16-ae27-43bd-a690-d977c9bda88c",
   "metadata": {},
   "outputs": [
    {
     "data": {
      "text/html": [
       "<div>\n",
       "<style scoped>\n",
       "    .dataframe tbody tr th:only-of-type {\n",
       "        vertical-align: middle;\n",
       "    }\n",
       "\n",
       "    .dataframe tbody tr th {\n",
       "        vertical-align: top;\n",
       "    }\n",
       "\n",
       "    .dataframe thead th {\n",
       "        text-align: right;\n",
       "    }\n",
       "</style>\n",
       "<table border=\"1\" class=\"dataframe\">\n",
       "  <thead>\n",
       "    <tr style=\"text-align: right;\">\n",
       "      <th></th>\n",
       "      <th>Date</th>\n",
       "      <th>bldg_1</th>\n",
       "      <th>bldg_2&amp;3</th>\n",
       "      <th>bldg_4</th>\n",
       "      <th>bldg_5</th>\n",
       "      <th>bldg_6</th>\n",
       "      <th>bldg_7</th>\n",
       "      <th>bldg_8&amp;9</th>\n",
       "      <th>bldg_10</th>\n",
       "      <th>Hosui-kaikan</th>\n",
       "      <th>Total</th>\n",
       "    </tr>\n",
       "  </thead>\n",
       "  <tbody>\n",
       "    <tr>\n",
       "      <th>0</th>\n",
       "      <td>2014/4/1</td>\n",
       "      <td>5940</td>\n",
       "      <td>8480</td>\n",
       "      <td>1800</td>\n",
       "      <td>1800</td>\n",
       "      <td>6000</td>\n",
       "      <td>62</td>\n",
       "      <td>3660</td>\n",
       "      <td>0</td>\n",
       "      <td>384</td>\n",
       "      <td>28116</td>\n",
       "    </tr>\n",
       "    <tr>\n",
       "      <th>1</th>\n",
       "      <td>2014/4/2</td>\n",
       "      <td>5460</td>\n",
       "      <td>8550</td>\n",
       "      <td>1600</td>\n",
       "      <td>2100</td>\n",
       "      <td>5700</td>\n",
       "      <td>65</td>\n",
       "      <td>3700</td>\n",
       "      <td>0</td>\n",
       "      <td>337</td>\n",
       "      <td>27512</td>\n",
       "    </tr>\n",
       "    <tr>\n",
       "      <th>2</th>\n",
       "      <td>2014/4/3</td>\n",
       "      <td>5390</td>\n",
       "      <td>8220</td>\n",
       "      <td>2000</td>\n",
       "      <td>2000</td>\n",
       "      <td>6800</td>\n",
       "      <td>70</td>\n",
       "      <td>3720</td>\n",
       "      <td>0</td>\n",
       "      <td>418</td>\n",
       "      <td>28667</td>\n",
       "    </tr>\n",
       "    <tr>\n",
       "      <th>3</th>\n",
       "      <td>2014/4/4</td>\n",
       "      <td>4220</td>\n",
       "      <td>8280</td>\n",
       "      <td>1800</td>\n",
       "      <td>2000</td>\n",
       "      <td>7200</td>\n",
       "      <td>70</td>\n",
       "      <td>3720</td>\n",
       "      <td>0</td>\n",
       "      <td>399</td>\n",
       "      <td>27719</td>\n",
       "    </tr>\n",
       "    <tr>\n",
       "      <th>4</th>\n",
       "      <td>2014/4/5</td>\n",
       "      <td>5650</td>\n",
       "      <td>7840</td>\n",
       "      <td>1500</td>\n",
       "      <td>1900</td>\n",
       "      <td>5000</td>\n",
       "      <td>65</td>\n",
       "      <td>3220</td>\n",
       "      <td>0</td>\n",
       "      <td>239</td>\n",
       "      <td>25384</td>\n",
       "    </tr>\n",
       "  </tbody>\n",
       "</table>\n",
       "</div>"
      ],
      "text/plain": [
       "       Date  bldg_1  bldg_2&3  bldg_4  bldg_5  bldg_6  bldg_7  bldg_8&9  \\\n",
       "0  2014/4/1    5940      8480    1800    1800    6000      62      3660   \n",
       "1  2014/4/2    5460      8550    1600    2100    5700      65      3700   \n",
       "2  2014/4/3    5390      8220    2000    2000    6800      70      3720   \n",
       "3  2014/4/4    4220      8280    1800    2000    7200      70      3720   \n",
       "4  2014/4/5    5650      7840    1500    1900    5000      65      3220   \n",
       "\n",
       "   bldg_10  Hosui-kaikan  Total  \n",
       "0        0           384  28116  \n",
       "1        0           337  27512  \n",
       "2        0           418  28667  \n",
       "3        0           399  27719  \n",
       "4        0           239  25384  "
      ]
     },
     "metadata": {},
     "output_type": "display_data"
    }
   ],
   "source": [
    "csv_in='cs3-05/hakusan_elec.csv'\n",
    "df=pd.read_csv(csv_in, sep=',', skiprows=1, header=0)\n",
    "display(df.head())"
   ]
  },
  {
   "cell_type": "code",
   "execution_count": 116,
   "id": "3fe805d5-e558-44e7-9d3e-8d90e73c7b0e",
   "metadata": {},
   "outputs": [],
   "source": [
    "df['Date']=pd.to_datetime(df['Date'])"
   ]
  },
  {
   "cell_type": "code",
   "execution_count": 117,
   "id": "7b3ed297-ef4b-4915-85ce-056bfe9df300",
   "metadata": {},
   "outputs": [
    {
     "data": {
      "image/png": "[encoded data removed]",
      "text/plain": [
       "<Figure size 640x480 with 1 Axes>"
      ]
     },
     "metadata": {},
     "output_type": "display_data"
    }
   ],
   "source": [
    "plt.plot(df['Date'],df['Total'])\n",
    "plt.xlabel('Date')\n",
    "plt.ylabel('Electricity Power Consumption [kWh]')\n",
    "plt.show()"
   ]
  },
  {
   "cell_type": "code",
   "execution_count": 118,
   "id": "c8dd7847-2850-4812-a526-7c3fc727dae8",
   "metadata": {},
   "outputs": [
    {
     "data": {
      "text/html": [
       "<div>\n",
       "<style scoped>\n",
       "    .dataframe tbody tr th:only-of-type {\n",
       "        vertical-align: middle;\n",
       "    }\n",
       "\n",
       "    .dataframe tbody tr th {\n",
       "        vertical-align: top;\n",
       "    }\n",
       "\n",
       "    .dataframe thead th {\n",
       "        text-align: right;\n",
       "    }\n",
       "</style>\n",
       "<table border=\"1\" class=\"dataframe\">\n",
       "  <thead>\n",
       "    <tr style=\"text-align: right;\">\n",
       "      <th></th>\n",
       "      <th>bldg_1</th>\n",
       "      <th>bldg_2&amp;3</th>\n",
       "      <th>bldg_4</th>\n",
       "      <th>bldg_5</th>\n",
       "      <th>bldg_6</th>\n",
       "      <th>bldg_7</th>\n",
       "      <th>bldg_8&amp;9</th>\n",
       "      <th>bldg_10</th>\n",
       "      <th>Hosui-kaikan</th>\n",
       "      <th>Total</th>\n",
       "    </tr>\n",
       "    <tr>\n",
       "      <th>Date</th>\n",
       "      <th></th>\n",
       "      <th></th>\n",
       "      <th></th>\n",
       "      <th></th>\n",
       "      <th></th>\n",
       "      <th></th>\n",
       "      <th></th>\n",
       "      <th></th>\n",
       "      <th></th>\n",
       "      <th></th>\n",
       "    </tr>\n",
       "  </thead>\n",
       "  <tbody>\n",
       "    <tr>\n",
       "      <th>2014-04-01</th>\n",
       "      <td>5940</td>\n",
       "      <td>8480</td>\n",
       "      <td>1800</td>\n",
       "      <td>1800</td>\n",
       "      <td>6000</td>\n",
       "      <td>62</td>\n",
       "      <td>3660</td>\n",
       "      <td>0</td>\n",
       "      <td>384</td>\n",
       "      <td>28116</td>\n",
       "    </tr>\n",
       "    <tr>\n",
       "      <th>2014-04-02</th>\n",
       "      <td>5460</td>\n",
       "      <td>8550</td>\n",
       "      <td>1600</td>\n",
       "      <td>2100</td>\n",
       "      <td>5700</td>\n",
       "      <td>65</td>\n",
       "      <td>3700</td>\n",
       "      <td>0</td>\n",
       "      <td>337</td>\n",
       "      <td>27512</td>\n",
       "    </tr>\n",
       "    <tr>\n",
       "      <th>2014-04-03</th>\n",
       "      <td>5390</td>\n",
       "      <td>8220</td>\n",
       "      <td>2000</td>\n",
       "      <td>2000</td>\n",
       "      <td>6800</td>\n",
       "      <td>70</td>\n",
       "      <td>3720</td>\n",
       "      <td>0</td>\n",
       "      <td>418</td>\n",
       "      <td>28667</td>\n",
       "    </tr>\n",
       "    <tr>\n",
       "      <th>2014-04-04</th>\n",
       "      <td>4220</td>\n",
       "      <td>8280</td>\n",
       "      <td>1800</td>\n",
       "      <td>2000</td>\n",
       "      <td>7200</td>\n",
       "      <td>70</td>\n",
       "      <td>3720</td>\n",
       "      <td>0</td>\n",
       "      <td>399</td>\n",
       "      <td>27719</td>\n",
       "    </tr>\n",
       "    <tr>\n",
       "      <th>2014-04-05</th>\n",
       "      <td>5650</td>\n",
       "      <td>7840</td>\n",
       "      <td>1500</td>\n",
       "      <td>1900</td>\n",
       "      <td>5000</td>\n",
       "      <td>65</td>\n",
       "      <td>3220</td>\n",
       "      <td>0</td>\n",
       "      <td>239</td>\n",
       "      <td>25384</td>\n",
       "    </tr>\n",
       "  </tbody>\n",
       "</table>\n",
       "</div>"
      ],
      "text/plain": [
       "            bldg_1  bldg_2&3  bldg_4  bldg_5  bldg_6  bldg_7  bldg_8&9  \\\n",
       "Date                                                                     \n",
       "2014-04-01    5940      8480    1800    1800    6000      62      3660   \n",
       "2014-04-02    5460      8550    1600    2100    5700      65      3700   \n",
       "2014-04-03    5390      8220    2000    2000    6800      70      3720   \n",
       "2014-04-04    4220      8280    1800    2000    7200      70      3720   \n",
       "2014-04-05    5650      7840    1500    1900    5000      65      3220   \n",
       "\n",
       "            bldg_10  Hosui-kaikan  Total  \n",
       "Date                                      \n",
       "2014-04-01        0           384  28116  \n",
       "2014-04-02        0           337  27512  \n",
       "2014-04-03        0           418  28667  \n",
       "2014-04-04        0           399  27719  \n",
       "2014-04-05        0           239  25384  "
      ]
     },
     "metadata": {},
     "output_type": "display_data"
    }
   ],
   "source": [
    "df=df.set_index('Date')\n",
    "display(df.head())"
   ]
  },
  {
   "cell_type": "code",
   "execution_count": 119,
   "id": "6e22cef5-9b72-41cb-b630-85e2b9e7e654",
   "metadata": {},
   "outputs": [
    {
     "data": {
      "text/html": [
       "<div>\n",
       "<style scoped>\n",
       "    .dataframe tbody tr th:only-of-type {\n",
       "        vertical-align: middle;\n",
       "    }\n",
       "\n",
       "    .dataframe tbody tr th {\n",
       "        vertical-align: top;\n",
       "    }\n",
       "\n",
       "    .dataframe thead th {\n",
       "        text-align: right;\n",
       "    }\n",
       "</style>\n",
       "<table border=\"1\" class=\"dataframe\">\n",
       "  <thead>\n",
       "    <tr style=\"text-align: right;\">\n",
       "      <th></th>\n",
       "      <th>bldg_1</th>\n",
       "      <th>bldg_2&amp;3</th>\n",
       "      <th>bldg_4</th>\n",
       "      <th>bldg_5</th>\n",
       "      <th>bldg_6</th>\n",
       "      <th>bldg_7</th>\n",
       "      <th>bldg_8&amp;9</th>\n",
       "      <th>bldg_10</th>\n",
       "      <th>Hosui-kaikan</th>\n",
       "      <th>Total</th>\n",
       "    </tr>\n",
       "    <tr>\n",
       "      <th>Date</th>\n",
       "      <th></th>\n",
       "      <th></th>\n",
       "      <th></th>\n",
       "      <th></th>\n",
       "      <th></th>\n",
       "      <th></th>\n",
       "      <th></th>\n",
       "      <th></th>\n",
       "      <th></th>\n",
       "      <th></th>\n",
       "    </tr>\n",
       "  </thead>\n",
       "  <tbody>\n",
       "    <tr>\n",
       "      <th>2014-04-01</th>\n",
       "      <td>5940.000000</td>\n",
       "      <td>8480.000000</td>\n",
       "      <td>1800.0</td>\n",
       "      <td>1800.000000</td>\n",
       "      <td>6000.000000</td>\n",
       "      <td>62.000000</td>\n",
       "      <td>3660.000000</td>\n",
       "      <td>0.0</td>\n",
       "      <td>384.000000</td>\n",
       "      <td>28116.000000</td>\n",
       "    </tr>\n",
       "    <tr>\n",
       "      <th>2014-04-02</th>\n",
       "      <td>5700.000000</td>\n",
       "      <td>8515.000000</td>\n",
       "      <td>1700.0</td>\n",
       "      <td>1950.000000</td>\n",
       "      <td>5850.000000</td>\n",
       "      <td>63.500000</td>\n",
       "      <td>3680.000000</td>\n",
       "      <td>0.0</td>\n",
       "      <td>360.500000</td>\n",
       "      <td>27814.000000</td>\n",
       "    </tr>\n",
       "    <tr>\n",
       "      <th>2014-04-03</th>\n",
       "      <td>5596.666667</td>\n",
       "      <td>8416.666667</td>\n",
       "      <td>1800.0</td>\n",
       "      <td>1966.666667</td>\n",
       "      <td>6166.666667</td>\n",
       "      <td>65.666667</td>\n",
       "      <td>3693.333333</td>\n",
       "      <td>0.0</td>\n",
       "      <td>379.666667</td>\n",
       "      <td>28098.333333</td>\n",
       "    </tr>\n",
       "    <tr>\n",
       "      <th>2014-04-04</th>\n",
       "      <td>5252.500000</td>\n",
       "      <td>8382.500000</td>\n",
       "      <td>1800.0</td>\n",
       "      <td>1975.000000</td>\n",
       "      <td>6425.000000</td>\n",
       "      <td>66.750000</td>\n",
       "      <td>3700.000000</td>\n",
       "      <td>0.0</td>\n",
       "      <td>384.500000</td>\n",
       "      <td>28003.500000</td>\n",
       "    </tr>\n",
       "    <tr>\n",
       "      <th>2014-04-05</th>\n",
       "      <td>5332.000000</td>\n",
       "      <td>8274.000000</td>\n",
       "      <td>1740.0</td>\n",
       "      <td>1960.000000</td>\n",
       "      <td>6140.000000</td>\n",
       "      <td>66.400000</td>\n",
       "      <td>3604.000000</td>\n",
       "      <td>0.0</td>\n",
       "      <td>355.400000</td>\n",
       "      <td>27479.600000</td>\n",
       "    </tr>\n",
       "  </tbody>\n",
       "</table>\n",
       "</div>"
      ],
      "text/plain": [
       "                 bldg_1     bldg_2&3  bldg_4       bldg_5       bldg_6  \\\n",
       "Date                                                                     \n",
       "2014-04-01  5940.000000  8480.000000  1800.0  1800.000000  6000.000000   \n",
       "2014-04-02  5700.000000  8515.000000  1700.0  1950.000000  5850.000000   \n",
       "2014-04-03  5596.666667  8416.666667  1800.0  1966.666667  6166.666667   \n",
       "2014-04-04  5252.500000  8382.500000  1800.0  1975.000000  6425.000000   \n",
       "2014-04-05  5332.000000  8274.000000  1740.0  1960.000000  6140.000000   \n",
       "\n",
       "               bldg_7     bldg_8&9  bldg_10  Hosui-kaikan         Total  \n",
       "Date                                                                     \n",
       "2014-04-01  62.000000  3660.000000      0.0    384.000000  28116.000000  \n",
       "2014-04-02  63.500000  3680.000000      0.0    360.500000  27814.000000  \n",
       "2014-04-03  65.666667  3693.333333      0.0    379.666667  28098.333333  \n",
       "2014-04-04  66.750000  3700.000000      0.0    384.500000  28003.500000  \n",
       "2014-04-05  66.400000  3604.000000      0.0    355.400000  27479.600000  "
      ]
     },
     "metadata": {},
     "output_type": "display_data"
    }
   ],
   "source": [
    "df_rolling30d=df.rolling('30D').mean()\n",
    "display(df_rolling30d.head())"
   ]
  },
  {
   "cell_type": "code",
   "execution_count": 120,
   "id": "66137b4d-8cc3-4aba-87fa-0f423925142c",
   "metadata": {},
   "outputs": [
    {
     "data": {
      "image/png": "[encoded data removed]",
      "text/plain": [
       "<Figure size 640x480 with 1 Axes>"
      ]
     },
     "metadata": {},
     "output_type": "display_data"
    }
   ],
   "source": [
    "plt.plot(df.index, df['Total'] ,label='Total')\n",
    "plt.plot(df_rolling30d.index, df_rolling30d['Total'], label='rolling30d')\n",
    "plt.xlabel('Date')\n",
    "plt.ylabel('Electricity Power Consumption [kWh]')\n",
    "plt.legend()\n",
    "plt.show()"
   ]
  },
  {
   "cell_type": "code",
   "execution_count": 121,
   "id": "bfc72c11-177c-4df4-9fc0-112cfbdc3d2f",
   "metadata": {},
   "outputs": [
    {
     "data": {
      "image/png": "[encoded data removed]",
      "text/plain": [
       "<Figure size 640x480 with 1 Axes>"
      ]
     },
     "metadata": {},
     "output_type": "display_data"
    }
   ],
   "source": [
    "start_date = pd.to_datetime('2019-04-01')\n",
    "end_date = pd.to_datetime('2021-04-01')\n",
    "\n",
    "plt.plot(df.index, df['Total'], label='df')\n",
    "plt.plot(df_rolling30d.index, df_rolling30d['Total'], label='rolling30d')\n",
    "plt.xlim(start_date, end_date)\n",
    "plt.xticks(rotation=90)\n",
    "plt.legend()\n",
    "plt.show()"
   ]
  },
  {
   "cell_type": "code",
   "execution_count": 122,
   "id": "38ceaba0-693d-48a9-9e4e-d33c6c500d53",
   "metadata": {},
   "outputs": [
    {
     "data": {
      "text/html": [
       "<div>\n",
       "<style scoped>\n",
       "    .dataframe tbody tr th:only-of-type {\n",
       "        vertical-align: middle;\n",
       "    }\n",
       "\n",
       "    .dataframe tbody tr th {\n",
       "        vertical-align: top;\n",
       "    }\n",
       "\n",
       "    .dataframe thead th {\n",
       "        text-align: right;\n",
       "    }\n",
       "</style>\n",
       "<table border=\"1\" class=\"dataframe\">\n",
       "  <thead>\n",
       "    <tr style=\"text-align: right;\">\n",
       "      <th></th>\n",
       "      <th>bldg_1</th>\n",
       "      <th>bldg_2&amp;3</th>\n",
       "      <th>bldg_4</th>\n",
       "      <th>bldg_5</th>\n",
       "      <th>bldg_6</th>\n",
       "      <th>bldg_7</th>\n",
       "      <th>bldg_8&amp;9</th>\n",
       "      <th>bldg_10</th>\n",
       "      <th>Hosui-kaikan</th>\n",
       "      <th>Total</th>\n",
       "    </tr>\n",
       "    <tr>\n",
       "      <th>Date</th>\n",
       "      <th></th>\n",
       "      <th></th>\n",
       "      <th></th>\n",
       "      <th></th>\n",
       "      <th></th>\n",
       "      <th></th>\n",
       "      <th></th>\n",
       "      <th></th>\n",
       "      <th></th>\n",
       "      <th></th>\n",
       "    </tr>\n",
       "  </thead>\n",
       "  <tbody>\n",
       "    <tr>\n",
       "      <th>2014-04-06</th>\n",
       "      <td>4838.333333</td>\n",
       "      <td>7988.333333</td>\n",
       "      <td>1633.333333</td>\n",
       "      <td>1950.000000</td>\n",
       "      <td>5750.000000</td>\n",
       "      <td>65.666667</td>\n",
       "      <td>3323.333333</td>\n",
       "      <td>0.000000</td>\n",
       "      <td>322.500000</td>\n",
       "      <td>25884.666667</td>\n",
       "    </tr>\n",
       "    <tr>\n",
       "      <th>2014-04-13</th>\n",
       "      <td>5167.142857</td>\n",
       "      <td>8765.714286</td>\n",
       "      <td>1785.714286</td>\n",
       "      <td>1871.428571</td>\n",
       "      <td>6542.857143</td>\n",
       "      <td>107.571429</td>\n",
       "      <td>3494.285714</td>\n",
       "      <td>0.000000</td>\n",
       "      <td>342.714286</td>\n",
       "      <td>28101.857143</td>\n",
       "    </tr>\n",
       "    <tr>\n",
       "      <th>2014-04-20</th>\n",
       "      <td>4401.428571</td>\n",
       "      <td>8415.714286</td>\n",
       "      <td>1771.428571</td>\n",
       "      <td>1657.142857</td>\n",
       "      <td>6371.428571</td>\n",
       "      <td>106.571429</td>\n",
       "      <td>3391.428571</td>\n",
       "      <td>0.000000</td>\n",
       "      <td>315.857143</td>\n",
       "      <td>26458.428571</td>\n",
       "    </tr>\n",
       "    <tr>\n",
       "      <th>2014-04-27</th>\n",
       "      <td>4418.571429</td>\n",
       "      <td>8728.571429</td>\n",
       "      <td>1900.000000</td>\n",
       "      <td>1742.857143</td>\n",
       "      <td>6571.428571</td>\n",
       "      <td>107.142857</td>\n",
       "      <td>3447.142857</td>\n",
       "      <td>0.000000</td>\n",
       "      <td>351.714286</td>\n",
       "      <td>27289.000000</td>\n",
       "    </tr>\n",
       "    <tr>\n",
       "      <th>2014-05-04</th>\n",
       "      <td>4214.285714</td>\n",
       "      <td>8245.714286</td>\n",
       "      <td>1800.000000</td>\n",
       "      <td>1385.714286</td>\n",
       "      <td>6342.857143</td>\n",
       "      <td>101.857143</td>\n",
       "      <td>2877.142857</td>\n",
       "      <td>0.000000</td>\n",
       "      <td>236.571429</td>\n",
       "      <td>25218.285714</td>\n",
       "    </tr>\n",
       "    <tr>\n",
       "      <th>...</th>\n",
       "      <td>...</td>\n",
       "      <td>...</td>\n",
       "      <td>...</td>\n",
       "      <td>...</td>\n",
       "      <td>...</td>\n",
       "      <td>...</td>\n",
       "      <td>...</td>\n",
       "      <td>...</td>\n",
       "      <td>...</td>\n",
       "      <td>...</td>\n",
       "    </tr>\n",
       "    <tr>\n",
       "      <th>2021-06-13</th>\n",
       "      <td>2897.142857</td>\n",
       "      <td>6252.857143</td>\n",
       "      <td>1242.857143</td>\n",
       "      <td>1500.000000</td>\n",
       "      <td>4971.428571</td>\n",
       "      <td>109.000000</td>\n",
       "      <td>2681.000000</td>\n",
       "      <td>426.142857</td>\n",
       "      <td>399.142857</td>\n",
       "      <td>20956.000000</td>\n",
       "    </tr>\n",
       "    <tr>\n",
       "      <th>2021-06-20</th>\n",
       "      <td>2658.571429</td>\n",
       "      <td>6268.571429</td>\n",
       "      <td>1228.571429</td>\n",
       "      <td>1500.000000</td>\n",
       "      <td>4971.428571</td>\n",
       "      <td>116.142857</td>\n",
       "      <td>2579.714286</td>\n",
       "      <td>424.571429</td>\n",
       "      <td>354.142857</td>\n",
       "      <td>20556.285714</td>\n",
       "    </tr>\n",
       "    <tr>\n",
       "      <th>2021-06-27</th>\n",
       "      <td>3321.428571</td>\n",
       "      <td>6371.428571</td>\n",
       "      <td>1271.428571</td>\n",
       "      <td>1571.428571</td>\n",
       "      <td>5471.428571</td>\n",
       "      <td>119.571429</td>\n",
       "      <td>2723.285714</td>\n",
       "      <td>431.000000</td>\n",
       "      <td>371.285714</td>\n",
       "      <td>22149.428571</td>\n",
       "    </tr>\n",
       "    <tr>\n",
       "      <th>2021-07-04</th>\n",
       "      <td>3185.714286</td>\n",
       "      <td>6315.714286</td>\n",
       "      <td>1328.571429</td>\n",
       "      <td>1614.285714</td>\n",
       "      <td>5500.000000</td>\n",
       "      <td>123.714286</td>\n",
       "      <td>2697.714286</td>\n",
       "      <td>459.428571</td>\n",
       "      <td>350.285714</td>\n",
       "      <td>22055.571429</td>\n",
       "    </tr>\n",
       "    <tr>\n",
       "      <th>2021-07-11</th>\n",
       "      <td>3873.333333</td>\n",
       "      <td>6910.000000</td>\n",
       "      <td>1366.666667</td>\n",
       "      <td>1733.333333</td>\n",
       "      <td>6266.666667</td>\n",
       "      <td>130.666667</td>\n",
       "      <td>3138.000000</td>\n",
       "      <td>532.000000</td>\n",
       "      <td>472.000000</td>\n",
       "      <td>24994.000000</td>\n",
       "    </tr>\n",
       "  </tbody>\n",
       "</table>\n",
       "<p>380 rows × 10 columns</p>\n",
       "</div>"
      ],
      "text/plain": [
       "                 bldg_1     bldg_2&3       bldg_4       bldg_5       bldg_6  \\\n",
       "Date                                                                          \n",
       "2014-04-06  4838.333333  7988.333333  1633.333333  1950.000000  5750.000000   \n",
       "2014-04-13  5167.142857  8765.714286  1785.714286  1871.428571  6542.857143   \n",
       "2014-04-20  4401.428571  8415.714286  1771.428571  1657.142857  6371.428571   \n",
       "2014-04-27  4418.571429  8728.571429  1900.000000  1742.857143  6571.428571   \n",
       "2014-05-04  4214.285714  8245.714286  1800.000000  1385.714286  6342.857143   \n",
       "...                 ...          ...          ...          ...          ...   \n",
       "2021-06-13  2897.142857  6252.857143  1242.857143  1500.000000  4971.428571   \n",
       "2021-06-20  2658.571429  6268.571429  1228.571429  1500.000000  4971.428571   \n",
       "2021-06-27  3321.428571  6371.428571  1271.428571  1571.428571  5471.428571   \n",
       "2021-07-04  3185.714286  6315.714286  1328.571429  1614.285714  5500.000000   \n",
       "2021-07-11  3873.333333  6910.000000  1366.666667  1733.333333  6266.666667   \n",
       "\n",
       "                bldg_7     bldg_8&9     bldg_10  Hosui-kaikan         Total  \n",
       "Date                                                                         \n",
       "2014-04-06   65.666667  3323.333333    0.000000    322.500000  25884.666667  \n",
       "2014-04-13  107.571429  3494.285714    0.000000    342.714286  28101.857143  \n",
       "2014-04-20  106.571429  3391.428571    0.000000    315.857143  26458.428571  \n",
       "2014-04-27  107.142857  3447.142857    0.000000    351.714286  27289.000000  \n",
       "2014-05-04  101.857143  2877.142857    0.000000    236.571429  25218.285714  \n",
       "...                ...          ...         ...           ...           ...  \n",
       "2021-06-13  109.000000  2681.000000  426.142857    399.142857  20956.000000  \n",
       "2021-06-20  116.142857  2579.714286  424.571429    354.142857  20556.285714  \n",
       "2021-06-27  119.571429  2723.285714  431.000000    371.285714  22149.428571  \n",
       "2021-07-04  123.714286  2697.714286  459.428571    350.285714  22055.571429  \n",
       "2021-07-11  130.666667  3138.000000  532.000000    472.000000  24994.000000  \n",
       "\n",
       "[380 rows x 10 columns]"
      ]
     },
     "metadata": {},
     "output_type": "display_data"
    }
   ],
   "source": [
    "df_resample_w = df.resample('W').mean()\n",
    "display(df_resample_w)"
   ]
  },
  {
   "cell_type": "code",
   "execution_count": 123,
   "id": "77d08eb9-91ae-4e66-8ff4-232f7ab36b9f",
   "metadata": {},
   "outputs": [
    {
     "data": {
      "image/png": "[encoded data removed]",
      "text/plain": [
       "<Figure size 640x480 with 1 Axes>"
      ]
     },
     "metadata": {},
     "output_type": "display_data"
    }
   ],
   "source": [
    "for y in range(2018,2021):\n",
    "    df_y = df_resample_w[df_resample_w.index.year==y]\n",
    "    plt.plot(df_y.index.dayofyear,df_y['Total'])\n",
    "plt.show()"
   ]
  },
  {
   "cell_type": "code",
   "execution_count": 125,
   "id": "a4121a49-048b-4a72-be78-eae01d89d563",
   "metadata": {},
   "outputs": [
    {
     "data": {
      "text/html": [
       "<div>\n",
       "<style scoped>\n",
       "    .dataframe tbody tr th:only-of-type {\n",
       "        vertical-align: middle;\n",
       "    }\n",
       "\n",
       "    .dataframe tbody tr th {\n",
       "        vertical-align: top;\n",
       "    }\n",
       "\n",
       "    .dataframe thead th {\n",
       "        text-align: right;\n",
       "    }\n",
       "</style>\n",
       "<table border=\"1\" class=\"dataframe\">\n",
       "  <thead>\n",
       "    <tr style=\"text-align: right;\">\n",
       "      <th></th>\n",
       "      <th>bldg_1</th>\n",
       "      <th>bldg_2&amp;3</th>\n",
       "      <th>bldg_4</th>\n",
       "      <th>bldg_5</th>\n",
       "      <th>bldg_6</th>\n",
       "      <th>bldg_7</th>\n",
       "      <th>bldg_8&amp;9</th>\n",
       "      <th>bldg_10</th>\n",
       "      <th>Hosui-kaikan</th>\n",
       "      <th>Total</th>\n",
       "      <th>day_of_week</th>\n",
       "    </tr>\n",
       "    <tr>\n",
       "      <th>Date</th>\n",
       "      <th></th>\n",
       "      <th></th>\n",
       "      <th></th>\n",
       "      <th></th>\n",
       "      <th></th>\n",
       "      <th></th>\n",
       "      <th></th>\n",
       "      <th></th>\n",
       "      <th></th>\n",
       "      <th></th>\n",
       "      <th></th>\n",
       "    </tr>\n",
       "  </thead>\n",
       "  <tbody>\n",
       "    <tr>\n",
       "      <th>2014-04-01</th>\n",
       "      <td>5940</td>\n",
       "      <td>8480</td>\n",
       "      <td>1800</td>\n",
       "      <td>1800</td>\n",
       "      <td>6000</td>\n",
       "      <td>62</td>\n",
       "      <td>3660</td>\n",
       "      <td>0</td>\n",
       "      <td>384</td>\n",
       "      <td>28116</td>\n",
       "      <td>1</td>\n",
       "    </tr>\n",
       "    <tr>\n",
       "      <th>2014-04-02</th>\n",
       "      <td>5460</td>\n",
       "      <td>8550</td>\n",
       "      <td>1600</td>\n",
       "      <td>2100</td>\n",
       "      <td>5700</td>\n",
       "      <td>65</td>\n",
       "      <td>3700</td>\n",
       "      <td>0</td>\n",
       "      <td>337</td>\n",
       "      <td>27512</td>\n",
       "      <td>2</td>\n",
       "    </tr>\n",
       "    <tr>\n",
       "      <th>2014-04-03</th>\n",
       "      <td>5390</td>\n",
       "      <td>8220</td>\n",
       "      <td>2000</td>\n",
       "      <td>2000</td>\n",
       "      <td>6800</td>\n",
       "      <td>70</td>\n",
       "      <td>3720</td>\n",
       "      <td>0</td>\n",
       "      <td>418</td>\n",
       "      <td>28667</td>\n",
       "      <td>3</td>\n",
       "    </tr>\n",
       "    <tr>\n",
       "      <th>2014-04-04</th>\n",
       "      <td>4220</td>\n",
       "      <td>8280</td>\n",
       "      <td>1800</td>\n",
       "      <td>2000</td>\n",
       "      <td>7200</td>\n",
       "      <td>70</td>\n",
       "      <td>3720</td>\n",
       "      <td>0</td>\n",
       "      <td>399</td>\n",
       "      <td>27719</td>\n",
       "      <td>4</td>\n",
       "    </tr>\n",
       "    <tr>\n",
       "      <th>2014-04-05</th>\n",
       "      <td>5650</td>\n",
       "      <td>7840</td>\n",
       "      <td>1500</td>\n",
       "      <td>1900</td>\n",
       "      <td>5000</td>\n",
       "      <td>65</td>\n",
       "      <td>3220</td>\n",
       "      <td>0</td>\n",
       "      <td>239</td>\n",
       "      <td>25384</td>\n",
       "      <td>5</td>\n",
       "    </tr>\n",
       "  </tbody>\n",
       "</table>\n",
       "</div>"
      ],
      "text/plain": [
       "            bldg_1  bldg_2&3  bldg_4  bldg_5  bldg_6  bldg_7  bldg_8&9  \\\n",
       "Date                                                                     \n",
       "2014-04-01    5940      8480    1800    1800    6000      62      3660   \n",
       "2014-04-02    5460      8550    1600    2100    5700      65      3700   \n",
       "2014-04-03    5390      8220    2000    2000    6800      70      3720   \n",
       "2014-04-04    4220      8280    1800    2000    7200      70      3720   \n",
       "2014-04-05    5650      7840    1500    1900    5000      65      3220   \n",
       "\n",
       "            bldg_10  Hosui-kaikan  Total  day_of_week  \n",
       "Date                                                   \n",
       "2014-04-01        0           384  28116            1  \n",
       "2014-04-02        0           337  27512            2  \n",
       "2014-04-03        0           418  28667            3  \n",
       "2014-04-04        0           399  27719            4  \n",
       "2014-04-05        0           239  25384            5  "
      ]
     },
     "metadata": {},
     "output_type": "display_data"
    }
   ],
   "source": [
    "df['day_of_week'] = df.index.dayofweek\n",
    "display(df.head())"
   ]
  },
  {
   "cell_type": "code",
   "execution_count": 126,
   "id": "d459556f-ba93-470a-b99b-0169865ae183",
   "metadata": {},
   "outputs": [
    {
     "data": {
      "text/html": [
       "<div>\n",
       "<style scoped>\n",
       "    .dataframe tbody tr th:only-of-type {\n",
       "        vertical-align: middle;\n",
       "    }\n",
       "\n",
       "    .dataframe tbody tr th {\n",
       "        vertical-align: top;\n",
       "    }\n",
       "\n",
       "    .dataframe thead th {\n",
       "        text-align: right;\n",
       "    }\n",
       "</style>\n",
       "<table border=\"1\" class=\"dataframe\">\n",
       "  <thead>\n",
       "    <tr style=\"text-align: right;\">\n",
       "      <th></th>\n",
       "      <th>bldg_1</th>\n",
       "      <th>bldg_2&amp;3</th>\n",
       "      <th>bldg_4</th>\n",
       "      <th>bldg_5</th>\n",
       "      <th>bldg_6</th>\n",
       "      <th>bldg_7</th>\n",
       "      <th>bldg_8&amp;9</th>\n",
       "      <th>bldg_10</th>\n",
       "      <th>Hosui-kaikan</th>\n",
       "      <th>Total</th>\n",
       "    </tr>\n",
       "    <tr>\n",
       "      <th>day_of_week</th>\n",
       "      <th></th>\n",
       "      <th></th>\n",
       "      <th></th>\n",
       "      <th></th>\n",
       "      <th></th>\n",
       "      <th></th>\n",
       "      <th></th>\n",
       "      <th></th>\n",
       "      <th></th>\n",
       "      <th></th>\n",
       "    </tr>\n",
       "  </thead>\n",
       "  <tbody>\n",
       "    <tr>\n",
       "      <th>0</th>\n",
       "      <td>3968.759894</td>\n",
       "      <td>7480.263852</td>\n",
       "      <td>1758.575198</td>\n",
       "      <td>1635.356201</td>\n",
       "      <td>5728.453826</td>\n",
       "      <td>112.242744</td>\n",
       "      <td>3509.269129</td>\n",
       "      <td>288.733509</td>\n",
       "      <td>427.686016</td>\n",
       "      <td>25477.089710</td>\n",
       "    </tr>\n",
       "    <tr>\n",
       "      <th>1</th>\n",
       "      <td>4128.736842</td>\n",
       "      <td>7667.815789</td>\n",
       "      <td>1782.894737</td>\n",
       "      <td>1669.473684</td>\n",
       "      <td>5994.178947</td>\n",
       "      <td>114.505263</td>\n",
       "      <td>3588.107895</td>\n",
       "      <td>286.331579</td>\n",
       "      <td>436.210526</td>\n",
       "      <td>26244.992105</td>\n",
       "    </tr>\n",
       "    <tr>\n",
       "      <th>2</th>\n",
       "      <td>4042.500000</td>\n",
       "      <td>7584.763158</td>\n",
       "      <td>1788.421053</td>\n",
       "      <td>1650.789474</td>\n",
       "      <td>5961.465789</td>\n",
       "      <td>109.897368</td>\n",
       "      <td>3521.831579</td>\n",
       "      <td>293.905263</td>\n",
       "      <td>438.942105</td>\n",
       "      <td>26016.102632</td>\n",
       "    </tr>\n",
       "    <tr>\n",
       "      <th>3</th>\n",
       "      <td>4022.401055</td>\n",
       "      <td>7559.182058</td>\n",
       "      <td>1785.488127</td>\n",
       "      <td>1675.725594</td>\n",
       "      <td>5907.588391</td>\n",
       "      <td>120.976253</td>\n",
       "      <td>3544.292876</td>\n",
       "      <td>285.076517</td>\n",
       "      <td>438.598945</td>\n",
       "      <td>25926.891821</td>\n",
       "    </tr>\n",
       "    <tr>\n",
       "      <th>4</th>\n",
       "      <td>4097.704485</td>\n",
       "      <td>7512.295515</td>\n",
       "      <td>1811.873351</td>\n",
       "      <td>1681.530343</td>\n",
       "      <td>5808.910290</td>\n",
       "      <td>115.664908</td>\n",
       "      <td>3504.852243</td>\n",
       "      <td>281.794195</td>\n",
       "      <td>428.960422</td>\n",
       "      <td>25814.823219</td>\n",
       "    </tr>\n",
       "    <tr>\n",
       "      <th>5</th>\n",
       "      <td>3383.799472</td>\n",
       "      <td>6646.649077</td>\n",
       "      <td>1563.852243</td>\n",
       "      <td>1507.387863</td>\n",
       "      <td>4679.662269</td>\n",
       "      <td>108.408971</td>\n",
       "      <td>2871.588391</td>\n",
       "      <td>233.124011</td>\n",
       "      <td>261.361478</td>\n",
       "      <td>21769.583113</td>\n",
       "    </tr>\n",
       "    <tr>\n",
       "      <th>6</th>\n",
       "      <td>2213.060686</td>\n",
       "      <td>4738.153034</td>\n",
       "      <td>1216.358839</td>\n",
       "      <td>1237.994723</td>\n",
       "      <td>2868.079156</td>\n",
       "      <td>93.350923</td>\n",
       "      <td>1755.532982</td>\n",
       "      <td>114.440633</td>\n",
       "      <td>177.158311</td>\n",
       "      <td>14746.506596</td>\n",
       "    </tr>\n",
       "  </tbody>\n",
       "</table>\n",
       "</div>"
      ],
      "text/plain": [
       "                  bldg_1     bldg_2&3       bldg_4       bldg_5       bldg_6  \\\n",
       "day_of_week                                                                    \n",
       "0            3968.759894  7480.263852  1758.575198  1635.356201  5728.453826   \n",
       "1            4128.736842  7667.815789  1782.894737  1669.473684  5994.178947   \n",
       "2            4042.500000  7584.763158  1788.421053  1650.789474  5961.465789   \n",
       "3            4022.401055  7559.182058  1785.488127  1675.725594  5907.588391   \n",
       "4            4097.704485  7512.295515  1811.873351  1681.530343  5808.910290   \n",
       "5            3383.799472  6646.649077  1563.852243  1507.387863  4679.662269   \n",
       "6            2213.060686  4738.153034  1216.358839  1237.994723  2868.079156   \n",
       "\n",
       "                 bldg_7     bldg_8&9     bldg_10  Hosui-kaikan         Total  \n",
       "day_of_week                                                                   \n",
       "0            112.242744  3509.269129  288.733509    427.686016  25477.089710  \n",
       "1            114.505263  3588.107895  286.331579    436.210526  26244.992105  \n",
       "2            109.897368  3521.831579  293.905263    438.942105  26016.102632  \n",
       "3            120.976253  3544.292876  285.076517    438.598945  25926.891821  \n",
       "4            115.664908  3504.852243  281.794195    428.960422  25814.823219  \n",
       "5            108.408971  2871.588391  233.124011    261.361478  21769.583113  \n",
       "6             93.350923  1755.532982  114.440633    177.158311  14746.506596  "
      ]
     },
     "metadata": {},
     "output_type": "display_data"
    }
   ],
   "source": [
    "df_wday_ave = df.groupby('day_of_week').mean()\n",
    "display(df_wday_ave)"
   ]
  },
  {
   "cell_type": "code",
   "execution_count": 127,
   "id": "c2f6ddfc-cd1b-44d9-a38c-ffeab0f9877b",
   "metadata": {},
   "outputs": [
    {
     "data": {
      "image/png": "[encoded data removed]",
      "text/plain": [
       "<Figure size 640x480 with 1 Axes>"
      ]
     },
     "metadata": {},
     "output_type": "display_data"
    }
   ],
   "source": [
    "wday_list = ['Mon','Tue','Wed','Thu','Fri','Sat','Sun']\n",
    "plt.bar(wday_list,df_wday_ave['Total'])\n",
    "plt.show()"
   ]
  },
  {
   "cell_type": "markdown",
   "id": "1a41cdb5-8157-4388-8086-87e5aaf71095",
   "metadata": {},
   "source": [
    "cs3-05 assign2"
   ]
  },
  {
   "cell_type": "code",
   "execution_count": 129,
   "id": "5fbb545c-ad5e-4ca4-adf6-406ddecbd8f6",
   "metadata": {},
   "outputs": [
    {
     "name": "stdout",
     "output_type": "stream",
     "text": [
      "(376, 5)\n",
      "<class 'pandas.core.frame.DataFrame'>\n",
      "RangeIndex: 376 entries, 0 to 375\n",
      "Data columns (total 5 columns):\n",
      " #   Column   Non-Null Count  Dtype \n",
      "---  ------   --------------  ----- \n",
      " 0   ShopID   376 non-null    int64 \n",
      " 1   Pref     376 non-null    object\n",
      " 2   Product  376 non-null    object\n",
      " 3   Price    376 non-null    int64 \n",
      " 4   Amount   376 non-null    int64 \n",
      "dtypes: int64(3), object(2)\n",
      "memory usage: 14.8+ KB\n",
      "None\n"
     ]
    },
    {
     "data": {
      "text/html": [
       "<div>\n",
       "<style scoped>\n",
       "    .dataframe tbody tr th:only-of-type {\n",
       "        vertical-align: middle;\n",
       "    }\n",
       "\n",
       "    .dataframe tbody tr th {\n",
       "        vertical-align: top;\n",
       "    }\n",
       "\n",
       "    .dataframe thead th {\n",
       "        text-align: right;\n",
       "    }\n",
       "</style>\n",
       "<table border=\"1\" class=\"dataframe\">\n",
       "  <thead>\n",
       "    <tr style=\"text-align: right;\">\n",
       "      <th></th>\n",
       "      <th>ShopID</th>\n",
       "      <th>Pref</th>\n",
       "      <th>Product</th>\n",
       "      <th>Price</th>\n",
       "      <th>Amount</th>\n",
       "    </tr>\n",
       "  </thead>\n",
       "  <tbody>\n",
       "    <tr>\n",
       "      <th>0</th>\n",
       "      <td>18</td>\n",
       "      <td>Kanagawa</td>\n",
       "      <td>BAT</td>\n",
       "      <td>13800</td>\n",
       "      <td>10</td>\n",
       "    </tr>\n",
       "    <tr>\n",
       "      <th>1</th>\n",
       "      <td>18</td>\n",
       "      <td>Kanagawa</td>\n",
       "      <td>UNIFORM</td>\n",
       "      <td>11800</td>\n",
       "      <td>12</td>\n",
       "    </tr>\n",
       "    <tr>\n",
       "      <th>2</th>\n",
       "      <td>18</td>\n",
       "      <td>Kanagawa</td>\n",
       "      <td>GLOVE</td>\n",
       "      <td>16700</td>\n",
       "      <td>10</td>\n",
       "    </tr>\n",
       "    <tr>\n",
       "      <th>3</th>\n",
       "      <td>18</td>\n",
       "      <td>Kanagawa</td>\n",
       "      <td>SHOES</td>\n",
       "      <td>12800</td>\n",
       "      <td>10</td>\n",
       "    </tr>\n",
       "    <tr>\n",
       "      <th>4</th>\n",
       "      <td>30</td>\n",
       "      <td>Ibaraki</td>\n",
       "      <td>BAT</td>\n",
       "      <td>13800</td>\n",
       "      <td>8</td>\n",
       "    </tr>\n",
       "  </tbody>\n",
       "</table>\n",
       "</div>"
      ],
      "text/plain": [
       "   ShopID      Pref  Product  Price  Amount\n",
       "0      18  Kanagawa      BAT  13800      10\n",
       "1      18  Kanagawa  UNIFORM  11800      12\n",
       "2      18  Kanagawa    GLOVE  16700      10\n",
       "3      18  Kanagawa    SHOES  12800      10\n",
       "4      30   Ibaraki      BAT  13800       8"
      ]
     },
     "metadata": {},
     "output_type": "display_data"
    }
   ],
   "source": [
    "csv_in = 'cs3-05/baseball_shop.csv'\n",
    "df_baseball = pd.read_csv(csv_in,sep=',',skiprows=0,header=0)\n",
    "print(df_baseball.shape)\n",
    "print(df_baseball.info())\n",
    "display(df_baseball.head())"
   ]
  },
  {
   "cell_type": "code",
   "execution_count": 130,
   "id": "ab3d0f82-a117-4527-a265-972a5934e4e6",
   "metadata": {},
   "outputs": [
    {
     "name": "stdout",
     "output_type": "stream",
     "text": [
      "Kanagawa    68\n",
      "Tokyo       68\n",
      "Chiba       64\n",
      "Ibaraki     48\n",
      "Saitama     48\n",
      "Tochigi     40\n",
      "Gunma       40\n",
      "Name: Pref, dtype: int64\n"
     ]
    }
   ],
   "source": [
    "print(df_baseball['Pref'].value_counts())"
   ]
  },
  {
   "cell_type": "code",
   "execution_count": 131,
   "id": "42c48a66-16ea-453d-a58a-458bb27ef07b",
   "metadata": {},
   "outputs": [
    {
     "data": {
      "text/html": [
       "<div>\n",
       "<style scoped>\n",
       "    .dataframe tbody tr th:only-of-type {\n",
       "        vertical-align: middle;\n",
       "    }\n",
       "\n",
       "    .dataframe tbody tr th {\n",
       "        vertical-align: top;\n",
       "    }\n",
       "\n",
       "    .dataframe thead th {\n",
       "        text-align: right;\n",
       "    }\n",
       "</style>\n",
       "<table border=\"1\" class=\"dataframe\">\n",
       "  <thead>\n",
       "    <tr style=\"text-align: right;\">\n",
       "      <th>Product</th>\n",
       "      <th>BAT</th>\n",
       "      <th>GLOVE</th>\n",
       "      <th>SHOES</th>\n",
       "      <th>UNIFORM</th>\n",
       "      <th>All</th>\n",
       "    </tr>\n",
       "    <tr>\n",
       "      <th>Pref</th>\n",
       "      <th></th>\n",
       "      <th></th>\n",
       "      <th></th>\n",
       "      <th></th>\n",
       "      <th></th>\n",
       "    </tr>\n",
       "  </thead>\n",
       "  <tbody>\n",
       "    <tr>\n",
       "      <th>Chiba</th>\n",
       "      <td>16</td>\n",
       "      <td>16</td>\n",
       "      <td>16</td>\n",
       "      <td>16</td>\n",
       "      <td>64</td>\n",
       "    </tr>\n",
       "    <tr>\n",
       "      <th>Gunma</th>\n",
       "      <td>10</td>\n",
       "      <td>10</td>\n",
       "      <td>10</td>\n",
       "      <td>10</td>\n",
       "      <td>40</td>\n",
       "    </tr>\n",
       "    <tr>\n",
       "      <th>Ibaraki</th>\n",
       "      <td>12</td>\n",
       "      <td>12</td>\n",
       "      <td>12</td>\n",
       "      <td>12</td>\n",
       "      <td>48</td>\n",
       "    </tr>\n",
       "    <tr>\n",
       "      <th>Kanagawa</th>\n",
       "      <td>17</td>\n",
       "      <td>17</td>\n",
       "      <td>17</td>\n",
       "      <td>17</td>\n",
       "      <td>68</td>\n",
       "    </tr>\n",
       "    <tr>\n",
       "      <th>Saitama</th>\n",
       "      <td>12</td>\n",
       "      <td>12</td>\n",
       "      <td>12</td>\n",
       "      <td>12</td>\n",
       "      <td>48</td>\n",
       "    </tr>\n",
       "    <tr>\n",
       "      <th>Tochigi</th>\n",
       "      <td>10</td>\n",
       "      <td>10</td>\n",
       "      <td>10</td>\n",
       "      <td>10</td>\n",
       "      <td>40</td>\n",
       "    </tr>\n",
       "    <tr>\n",
       "      <th>Tokyo</th>\n",
       "      <td>17</td>\n",
       "      <td>17</td>\n",
       "      <td>17</td>\n",
       "      <td>17</td>\n",
       "      <td>68</td>\n",
       "    </tr>\n",
       "    <tr>\n",
       "      <th>All</th>\n",
       "      <td>94</td>\n",
       "      <td>94</td>\n",
       "      <td>94</td>\n",
       "      <td>94</td>\n",
       "      <td>376</td>\n",
       "    </tr>\n",
       "  </tbody>\n",
       "</table>\n",
       "</div>"
      ],
      "text/plain": [
       "Product   BAT  GLOVE  SHOES  UNIFORM  All\n",
       "Pref                                     \n",
       "Chiba      16     16     16       16   64\n",
       "Gunma      10     10     10       10   40\n",
       "Ibaraki    12     12     12       12   48\n",
       "Kanagawa   17     17     17       17   68\n",
       "Saitama    12     12     12       12   48\n",
       "Tochigi    10     10     10       10   40\n",
       "Tokyo      17     17     17       17   68\n",
       "All        94     94     94       94  376"
      ]
     },
     "metadata": {},
     "output_type": "display_data"
    }
   ],
   "source": [
    "df_baseball2 = pd.crosstab(df_baseball['Pref'],df_baseball['Product'],margins=True)\n",
    "display(df_baseball2)"
   ]
  },
  {
   "cell_type": "code",
   "execution_count": 132,
   "id": "f4b2d0b9-7fff-43c8-aa28-0c2899f10203",
   "metadata": {},
   "outputs": [
    {
     "name": "stdout",
     "output_type": "stream",
     "text": [
      "Pref\n",
      "Chiba       128\n",
      "Gunma        80\n",
      "Ibaraki      96\n",
      "Kanagawa    136\n",
      "Saitama      96\n",
      "Tochigi      80\n",
      "Tokyo       136\n",
      "All         752\n",
      "dtype: int64\n"
     ]
    }
   ],
   "source": [
    "print(df_baseball2.sum(axis=1))"
   ]
  },
  {
   "cell_type": "code",
   "execution_count": 133,
   "id": "d1d27f62-0d11-46bf-994f-837dd0aef454",
   "metadata": {},
   "outputs": [
    {
     "data": {
      "text/html": [
       "<div>\n",
       "<style scoped>\n",
       "    .dataframe tbody tr th:only-of-type {\n",
       "        vertical-align: middle;\n",
       "    }\n",
       "\n",
       "    .dataframe tbody tr th {\n",
       "        vertical-align: top;\n",
       "    }\n",
       "\n",
       "    .dataframe thead tr th {\n",
       "        text-align: left;\n",
       "    }\n",
       "\n",
       "    .dataframe thead tr:last-of-type th {\n",
       "        text-align: right;\n",
       "    }\n",
       "</style>\n",
       "<table border=\"1\" class=\"dataframe\">\n",
       "  <thead>\n",
       "    <tr>\n",
       "      <th></th>\n",
       "      <th colspan=\"4\" halign=\"left\">Amount</th>\n",
       "    </tr>\n",
       "    <tr>\n",
       "      <th>Product</th>\n",
       "      <th>BAT</th>\n",
       "      <th>GLOVE</th>\n",
       "      <th>SHOES</th>\n",
       "      <th>UNIFORM</th>\n",
       "    </tr>\n",
       "    <tr>\n",
       "      <th>Pref</th>\n",
       "      <th></th>\n",
       "      <th></th>\n",
       "      <th></th>\n",
       "      <th></th>\n",
       "    </tr>\n",
       "  </thead>\n",
       "  <tbody>\n",
       "    <tr>\n",
       "      <th>Chiba</th>\n",
       "      <td>4.375000</td>\n",
       "      <td>5.562500</td>\n",
       "      <td>6.625000</td>\n",
       "      <td>8.125000</td>\n",
       "    </tr>\n",
       "    <tr>\n",
       "      <th>Gunma</th>\n",
       "      <td>6.800000</td>\n",
       "      <td>8.400000</td>\n",
       "      <td>7.500000</td>\n",
       "      <td>6.100000</td>\n",
       "    </tr>\n",
       "    <tr>\n",
       "      <th>Ibaraki</th>\n",
       "      <td>6.583333</td>\n",
       "      <td>5.750000</td>\n",
       "      <td>7.333333</td>\n",
       "      <td>8.083333</td>\n",
       "    </tr>\n",
       "    <tr>\n",
       "      <th>Kanagawa</th>\n",
       "      <td>5.529412</td>\n",
       "      <td>5.705882</td>\n",
       "      <td>7.235294</td>\n",
       "      <td>6.588235</td>\n",
       "    </tr>\n",
       "    <tr>\n",
       "      <th>Saitama</th>\n",
       "      <td>7.416667</td>\n",
       "      <td>7.500000</td>\n",
       "      <td>8.583333</td>\n",
       "      <td>8.666667</td>\n",
       "    </tr>\n",
       "    <tr>\n",
       "      <th>Tochigi</th>\n",
       "      <td>5.500000</td>\n",
       "      <td>4.300000</td>\n",
       "      <td>6.100000</td>\n",
       "      <td>8.800000</td>\n",
       "    </tr>\n",
       "    <tr>\n",
       "      <th>Tokyo</th>\n",
       "      <td>9.235294</td>\n",
       "      <td>10.000000</td>\n",
       "      <td>9.823529</td>\n",
       "      <td>9.352941</td>\n",
       "    </tr>\n",
       "  </tbody>\n",
       "</table>\n",
       "</div>"
      ],
      "text/plain": [
       "            Amount                               \n",
       "Product        BAT      GLOVE     SHOES   UNIFORM\n",
       "Pref                                             \n",
       "Chiba     4.375000   5.562500  6.625000  8.125000\n",
       "Gunma     6.800000   8.400000  7.500000  6.100000\n",
       "Ibaraki   6.583333   5.750000  7.333333  8.083333\n",
       "Kanagawa  5.529412   5.705882  7.235294  6.588235\n",
       "Saitama   7.416667   7.500000  8.583333  8.666667\n",
       "Tochigi   5.500000   4.300000  6.100000  8.800000\n",
       "Tokyo     9.235294  10.000000  9.823529  9.352941"
      ]
     },
     "metadata": {},
     "output_type": "display_data"
    }
   ],
   "source": [
    "display(df_baseball.pivot_table(index='Pref',columns='Product',values=['Amount'],aggfunc=np.mean))"
   ]
  },
  {
   "cell_type": "markdown",
   "id": "4e6f0829-ef8c-4d40-ad4a-3812fd59b869",
   "metadata": {},
   "source": [
    "cs3－06 assign1"
   ]
  },
  {
   "cell_type": "code",
   "execution_count": 134,
   "id": "64156612-f62f-4ba7-b70e-990310dd2e53",
   "metadata": {},
   "outputs": [],
   "source": [
    "import os\n",
    "os.environ['OMP_NUM_THREADS'] = '1'\n",
    "\n",
    "import numpy as np\n",
    "import pandas as pd\n",
    "import matplotlib.pyplot as plt\n",
    "from sklearn.cluster import KMeans\n",
    "from sklearn.preprocessing import scale"
   ]
  },
  {
   "cell_type": "code",
   "execution_count": 135,
   "id": "88ed5677-bcab-443e-9a1d-38bbbf3fd8b6",
   "metadata": {},
   "outputs": [],
   "source": [
    "pd.options.display.max_columns = 999\n",
    "pd.options.display.max_rows = 999"
   ]
  },
  {
   "cell_type": "code",
   "execution_count": 137,
   "id": "d5ef2e0c-9153-43fc-98b1-e5fa938e88e2",
   "metadata": {},
   "outputs": [
    {
     "name": "stdout",
     "output_type": "stream",
     "text": [
      "(69079, 13)\n",
      "<class 'pandas.core.frame.DataFrame'>\n",
      "RangeIndex: 69079 entries, 0 to 69078\n",
      "Data columns (total 13 columns):\n",
      " #   Column   Non-Null Count  Dtype \n",
      "---  ------   --------------  ----- \n",
      " 0   レシートNo   69079 non-null  int64 \n",
      " 1   日        69079 non-null  int64 \n",
      " 2   時間       69079 non-null  int64 \n",
      " 3   顧客ID     69079 non-null  int64 \n",
      " 4   税抜価格     69079 non-null  int64 \n",
      " 5   税抜単価     69079 non-null  int64 \n",
      " 6   個数       69079 non-null  int64 \n",
      " 7   大カテゴリ番号  69079 non-null  int64 \n",
      " 8   大カテゴリ名   69079 non-null  object\n",
      " 9   中カテゴリ番号  69079 non-null  int64 \n",
      " 10  中カテゴリ名   69079 non-null  object\n",
      " 11  小カテゴリ番号  69079 non-null  int64 \n",
      " 12  小カテゴリ名   69079 non-null  object\n",
      "dtypes: int64(10), object(3)\n",
      "memory usage: 6.9+ MB\n",
      "None\n"
     ]
    },
    {
     "data": {
      "text/html": [
       "<div>\n",
       "<style scoped>\n",
       "    .dataframe tbody tr th:only-of-type {\n",
       "        vertical-align: middle;\n",
       "    }\n",
       "\n",
       "    .dataframe tbody tr th {\n",
       "        vertical-align: top;\n",
       "    }\n",
       "\n",
       "    .dataframe thead th {\n",
       "        text-align: right;\n",
       "    }\n",
       "</style>\n",
       "<table border=\"1\" class=\"dataframe\">\n",
       "  <thead>\n",
       "    <tr style=\"text-align: right;\">\n",
       "      <th></th>\n",
       "      <th>レシートNo</th>\n",
       "      <th>日</th>\n",
       "      <th>時間</th>\n",
       "      <th>顧客ID</th>\n",
       "      <th>税抜価格</th>\n",
       "      <th>税抜単価</th>\n",
       "      <th>個数</th>\n",
       "      <th>大カテゴリ番号</th>\n",
       "      <th>大カテゴリ名</th>\n",
       "      <th>中カテゴリ番号</th>\n",
       "      <th>中カテゴリ名</th>\n",
       "      <th>小カテゴリ番号</th>\n",
       "      <th>小カテゴリ名</th>\n",
       "    </tr>\n",
       "  </thead>\n",
       "  <tbody>\n",
       "    <tr>\n",
       "      <th>0</th>\n",
       "      <td>1</td>\n",
       "      <td>1</td>\n",
       "      <td>9</td>\n",
       "      <td>1518</td>\n",
       "      <td>50</td>\n",
       "      <td>10</td>\n",
       "      <td>5</td>\n",
       "      <td>11</td>\n",
       "      <td>農産</td>\n",
       "      <td>1113</td>\n",
       "      <td>野菜</td>\n",
       "      <td>111327</td>\n",
       "      <td>じゃが芋</td>\n",
       "    </tr>\n",
       "    <tr>\n",
       "      <th>1</th>\n",
       "      <td>1</td>\n",
       "      <td>1</td>\n",
       "      <td>9</td>\n",
       "      <td>1518</td>\n",
       "      <td>50</td>\n",
       "      <td>10</td>\n",
       "      <td>5</td>\n",
       "      <td>11</td>\n",
       "      <td>農産</td>\n",
       "      <td>1113</td>\n",
       "      <td>野菜</td>\n",
       "      <td>111363</td>\n",
       "      <td>玉葱</td>\n",
       "    </tr>\n",
       "    <tr>\n",
       "      <th>2</th>\n",
       "      <td>1</td>\n",
       "      <td>1</td>\n",
       "      <td>9</td>\n",
       "      <td>1518</td>\n",
       "      <td>90</td>\n",
       "      <td>90</td>\n",
       "      <td>1</td>\n",
       "      <td>11</td>\n",
       "      <td>農産</td>\n",
       "      <td>1113</td>\n",
       "      <td>野菜</td>\n",
       "      <td>111361</td>\n",
       "      <td>レタス</td>\n",
       "    </tr>\n",
       "    <tr>\n",
       "      <th>3</th>\n",
       "      <td>1</td>\n",
       "      <td>1</td>\n",
       "      <td>9</td>\n",
       "      <td>1518</td>\n",
       "      <td>185</td>\n",
       "      <td>185</td>\n",
       "      <td>1</td>\n",
       "      <td>11</td>\n",
       "      <td>農産</td>\n",
       "      <td>1113</td>\n",
       "      <td>野菜</td>\n",
       "      <td>111339</td>\n",
       "      <td>トマト</td>\n",
       "    </tr>\n",
       "    <tr>\n",
       "      <th>4</th>\n",
       "      <td>2</td>\n",
       "      <td>1</td>\n",
       "      <td>9</td>\n",
       "      <td>1532</td>\n",
       "      <td>85</td>\n",
       "      <td>85</td>\n",
       "      <td>1</td>\n",
       "      <td>11</td>\n",
       "      <td>農産</td>\n",
       "      <td>1113</td>\n",
       "      <td>野菜</td>\n",
       "      <td>111318</td>\n",
       "      <td>キャベツ</td>\n",
       "    </tr>\n",
       "  </tbody>\n",
       "</table>\n",
       "</div>"
      ],
      "text/plain": [
       "   レシートNo  日  時間  顧客ID  税抜価格  税抜単価  個数  大カテゴリ番号 大カテゴリ名  中カテゴリ番号 中カテゴリ名  \\\n",
       "0       1  1   9  1518    50    10   5       11     農産     1113     野菜   \n",
       "1       1  1   9  1518    50    10   5       11     農産     1113     野菜   \n",
       "2       1  1   9  1518    90    90   1       11     農産     1113     野菜   \n",
       "3       1  1   9  1518   185   185   1       11     農産     1113     野菜   \n",
       "4       2  1   9  1532    85    85   1       11     農産     1113     野菜   \n",
       "\n",
       "   小カテゴリ番号 小カテゴリ名  \n",
       "0   111327   じゃが芋  \n",
       "1   111363     玉葱  \n",
       "2   111361    レタス  \n",
       "3   111339    トマト  \n",
       "4   111318   キャベツ  "
      ]
     },
     "metadata": {},
     "output_type": "display_data"
    },
    {
     "data": {
      "text/html": [
       "<div>\n",
       "<style scoped>\n",
       "    .dataframe tbody tr th:only-of-type {\n",
       "        vertical-align: middle;\n",
       "    }\n",
       "\n",
       "    .dataframe tbody tr th {\n",
       "        vertical-align: top;\n",
       "    }\n",
       "\n",
       "    .dataframe thead th {\n",
       "        text-align: right;\n",
       "    }\n",
       "</style>\n",
       "<table border=\"1\" class=\"dataframe\">\n",
       "  <thead>\n",
       "    <tr style=\"text-align: right;\">\n",
       "      <th></th>\n",
       "      <th>レシートNo</th>\n",
       "      <th>日</th>\n",
       "      <th>時間</th>\n",
       "      <th>顧客ID</th>\n",
       "      <th>税抜価格</th>\n",
       "      <th>税抜単価</th>\n",
       "      <th>個数</th>\n",
       "      <th>大カテゴリ番号</th>\n",
       "      <th>大カテゴリ名</th>\n",
       "      <th>中カテゴリ番号</th>\n",
       "      <th>中カテゴリ名</th>\n",
       "      <th>小カテゴリ番号</th>\n",
       "      <th>小カテゴリ名</th>\n",
       "    </tr>\n",
       "  </thead>\n",
       "  <tbody>\n",
       "    <tr>\n",
       "      <th>69074</th>\n",
       "      <td>6998</td>\n",
       "      <td>30</td>\n",
       "      <td>17</td>\n",
       "      <td>1190</td>\n",
       "      <td>80</td>\n",
       "      <td>80</td>\n",
       "      <td>1</td>\n",
       "      <td>11</td>\n",
       "      <td>農産</td>\n",
       "      <td>1113</td>\n",
       "      <td>野菜</td>\n",
       "      <td>111371</td>\n",
       "      <td>大根</td>\n",
       "    </tr>\n",
       "    <tr>\n",
       "      <th>69075</th>\n",
       "      <td>6998</td>\n",
       "      <td>30</td>\n",
       "      <td>17</td>\n",
       "      <td>1190</td>\n",
       "      <td>95</td>\n",
       "      <td>95</td>\n",
       "      <td>1</td>\n",
       "      <td>16</td>\n",
       "      <td>加工食品</td>\n",
       "      <td>1614</td>\n",
       "      <td>水物</td>\n",
       "      <td>161412</td>\n",
       "      <td>ところてん</td>\n",
       "    </tr>\n",
       "    <tr>\n",
       "      <th>69076</th>\n",
       "      <td>6998</td>\n",
       "      <td>30</td>\n",
       "      <td>17</td>\n",
       "      <td>1190</td>\n",
       "      <td>155</td>\n",
       "      <td>155</td>\n",
       "      <td>1</td>\n",
       "      <td>20</td>\n",
       "      <td>飲料</td>\n",
       "      <td>2013</td>\n",
       "      <td>乳系飲料</td>\n",
       "      <td>201311</td>\n",
       "      <td>牛乳</td>\n",
       "    </tr>\n",
       "    <tr>\n",
       "      <th>69077</th>\n",
       "      <td>6998</td>\n",
       "      <td>30</td>\n",
       "      <td>17</td>\n",
       "      <td>1190</td>\n",
       "      <td>165</td>\n",
       "      <td>165</td>\n",
       "      <td>1</td>\n",
       "      <td>13</td>\n",
       "      <td>畜産</td>\n",
       "      <td>1313</td>\n",
       "      <td>精肉加工品</td>\n",
       "      <td>131312</td>\n",
       "      <td>鶏卵</td>\n",
       "    </tr>\n",
       "    <tr>\n",
       "      <th>69078</th>\n",
       "      <td>6998</td>\n",
       "      <td>30</td>\n",
       "      <td>17</td>\n",
       "      <td>1190</td>\n",
       "      <td>315</td>\n",
       "      <td>315</td>\n",
       "      <td>1</td>\n",
       "      <td>13</td>\n",
       "      <td>畜産</td>\n",
       "      <td>1315</td>\n",
       "      <td>豚肉</td>\n",
       "      <td>131512</td>\n",
       "      <td>ブランド豚</td>\n",
       "    </tr>\n",
       "  </tbody>\n",
       "</table>\n",
       "</div>"
      ],
      "text/plain": [
       "       レシートNo   日  時間  顧客ID  税抜価格  税抜単価  個数  大カテゴリ番号 大カテゴリ名  中カテゴリ番号 中カテゴリ名  \\\n",
       "69074    6998  30  17  1190    80    80   1       11     農産     1113     野菜   \n",
       "69075    6998  30  17  1190    95    95   1       16   加工食品     1614     水物   \n",
       "69076    6998  30  17  1190   155   155   1       20     飲料     2013   乳系飲料   \n",
       "69077    6998  30  17  1190   165   165   1       13     畜産     1313  精肉加工品   \n",
       "69078    6998  30  17  1190   315   315   1       13     畜産     1315     豚肉   \n",
       "\n",
       "       小カテゴリ番号 小カテゴリ名  \n",
       "69074   111371     大根  \n",
       "69075   161412  ところてん  \n",
       "69076   201311     牛乳  \n",
       "69077   131312     鶏卵  \n",
       "69078   131512  ブランド豚  "
      ]
     },
     "metadata": {},
     "output_type": "display_data"
    }
   ],
   "source": [
    "csv_market = 'cs3-06/market.csv'\n",
    "df_market = pd.read_csv(csv_market, sep=',', skiprows=0, header=0, encoding='shift-jis')\n",
    "print(df_market.shape)\n",
    "print(df_market.info())\n",
    "display(df_market.head())\n",
    "display(df_market.tail())"
   ]
  },
  {
   "cell_type": "code",
   "execution_count": 139,
   "id": "b4da80c2-1ddf-4203-99c4-fd4ccba450e1",
   "metadata": {},
   "outputs": [
    {
     "name": "stdout",
     "output_type": "stream",
     "text": [
      "(1000, 3)\n",
      "<class 'pandas.core.frame.DataFrame'>\n",
      "RangeIndex: 1000 entries, 0 to 999\n",
      "Data columns (total 3 columns):\n",
      " #   Column  Non-Null Count  Dtype\n",
      "---  ------  --------------  -----\n",
      " 0   顧客ID    1000 non-null   int64\n",
      " 1   性別      1000 non-null   int64\n",
      " 2   年代      1000 non-null   int64\n",
      "dtypes: int64(3)\n",
      "memory usage: 23.6 KB\n",
      "None\n"
     ]
    },
    {
     "data": {
      "text/html": [
       "<div>\n",
       "<style scoped>\n",
       "    .dataframe tbody tr th:only-of-type {\n",
       "        vertical-align: middle;\n",
       "    }\n",
       "\n",
       "    .dataframe tbody tr th {\n",
       "        vertical-align: top;\n",
       "    }\n",
       "\n",
       "    .dataframe thead th {\n",
       "        text-align: right;\n",
       "    }\n",
       "</style>\n",
       "<table border=\"1\" class=\"dataframe\">\n",
       "  <thead>\n",
       "    <tr style=\"text-align: right;\">\n",
       "      <th></th>\n",
       "      <th>顧客ID</th>\n",
       "      <th>性別</th>\n",
       "      <th>年代</th>\n",
       "    </tr>\n",
       "  </thead>\n",
       "  <tbody>\n",
       "    <tr>\n",
       "      <th>0</th>\n",
       "      <td>1001</td>\n",
       "      <td>2</td>\n",
       "      <td>70</td>\n",
       "    </tr>\n",
       "    <tr>\n",
       "      <th>1</th>\n",
       "      <td>1002</td>\n",
       "      <td>2</td>\n",
       "      <td>40</td>\n",
       "    </tr>\n",
       "    <tr>\n",
       "      <th>2</th>\n",
       "      <td>1003</td>\n",
       "      <td>2</td>\n",
       "      <td>20</td>\n",
       "    </tr>\n",
       "    <tr>\n",
       "      <th>3</th>\n",
       "      <td>1004</td>\n",
       "      <td>2</td>\n",
       "      <td>50</td>\n",
       "    </tr>\n",
       "    <tr>\n",
       "      <th>4</th>\n",
       "      <td>1005</td>\n",
       "      <td>2</td>\n",
       "      <td>40</td>\n",
       "    </tr>\n",
       "  </tbody>\n",
       "</table>\n",
       "</div>"
      ],
      "text/plain": [
       "   顧客ID  性別  年代\n",
       "0  1001   2  70\n",
       "1  1002   2  40\n",
       "2  1003   2  20\n",
       "3  1004   2  50\n",
       "4  1005   2  40"
      ]
     },
     "metadata": {},
     "output_type": "display_data"
    },
    {
     "data": {
      "text/html": [
       "<div>\n",
       "<style scoped>\n",
       "    .dataframe tbody tr th:only-of-type {\n",
       "        vertical-align: middle;\n",
       "    }\n",
       "\n",
       "    .dataframe tbody tr th {\n",
       "        vertical-align: top;\n",
       "    }\n",
       "\n",
       "    .dataframe thead th {\n",
       "        text-align: right;\n",
       "    }\n",
       "</style>\n",
       "<table border=\"1\" class=\"dataframe\">\n",
       "  <thead>\n",
       "    <tr style=\"text-align: right;\">\n",
       "      <th></th>\n",
       "      <th>顧客ID</th>\n",
       "      <th>性別</th>\n",
       "      <th>年代</th>\n",
       "    </tr>\n",
       "  </thead>\n",
       "  <tbody>\n",
       "    <tr>\n",
       "      <th>995</th>\n",
       "      <td>1996</td>\n",
       "      <td>2</td>\n",
       "      <td>40</td>\n",
       "    </tr>\n",
       "    <tr>\n",
       "      <th>996</th>\n",
       "      <td>1997</td>\n",
       "      <td>2</td>\n",
       "      <td>100</td>\n",
       "    </tr>\n",
       "    <tr>\n",
       "      <th>997</th>\n",
       "      <td>1998</td>\n",
       "      <td>2</td>\n",
       "      <td>30</td>\n",
       "    </tr>\n",
       "    <tr>\n",
       "      <th>998</th>\n",
       "      <td>1999</td>\n",
       "      <td>2</td>\n",
       "      <td>40</td>\n",
       "    </tr>\n",
       "    <tr>\n",
       "      <th>999</th>\n",
       "      <td>2000</td>\n",
       "      <td>0</td>\n",
       "      <td>100</td>\n",
       "    </tr>\n",
       "  </tbody>\n",
       "</table>\n",
       "</div>"
      ],
      "text/plain": [
       "     顧客ID  性別   年代\n",
       "995  1996   2   40\n",
       "996  1997   2  100\n",
       "997  1998   2   30\n",
       "998  1999   2   40\n",
       "999  2000   0  100"
      ]
     },
     "metadata": {},
     "output_type": "display_data"
    }
   ],
   "source": [
    "csv_id = 'cs3-06/ID_data.csv'\n",
    "df_id = pd.read_csv(csv_id, sep=',', skiprows=0, header=0, encoding='shift-jis')\n",
    "print(df_id.shape)\n",
    "print(df_id.info())\n",
    "display(df_id.head())\n",
    "display(df_id.tail())"
   ]
  },
  {
   "cell_type": "code",
   "execution_count": 140,
   "id": "86c8c8ef-51eb-4064-9092-f8790e3020eb",
   "metadata": {},
   "outputs": [
    {
     "data": {
      "text/html": [
       "<div>\n",
       "<style scoped>\n",
       "    .dataframe tbody tr th:only-of-type {\n",
       "        vertical-align: middle;\n",
       "    }\n",
       "\n",
       "    .dataframe tbody tr th {\n",
       "        vertical-align: top;\n",
       "    }\n",
       "\n",
       "    .dataframe thead th {\n",
       "        text-align: right;\n",
       "    }\n",
       "</style>\n",
       "<table border=\"1\" class=\"dataframe\">\n",
       "  <thead>\n",
       "    <tr style=\"text-align: right;\">\n",
       "      <th></th>\n",
       "      <th>レシートNo</th>\n",
       "      <th>日</th>\n",
       "      <th>時間</th>\n",
       "      <th>顧客ID</th>\n",
       "      <th>税抜価格</th>\n",
       "      <th>税抜単価</th>\n",
       "      <th>個数</th>\n",
       "      <th>大カテゴリ番号</th>\n",
       "      <th>大カテゴリ名</th>\n",
       "      <th>中カテゴリ番号</th>\n",
       "      <th>中カテゴリ名</th>\n",
       "      <th>小カテゴリ番号</th>\n",
       "      <th>小カテゴリ名</th>\n",
       "      <th>性別</th>\n",
       "      <th>年代</th>\n",
       "    </tr>\n",
       "  </thead>\n",
       "  <tbody>\n",
       "    <tr>\n",
       "      <th>0</th>\n",
       "      <td>1</td>\n",
       "      <td>1</td>\n",
       "      <td>9</td>\n",
       "      <td>1518</td>\n",
       "      <td>50</td>\n",
       "      <td>10</td>\n",
       "      <td>5</td>\n",
       "      <td>11</td>\n",
       "      <td>農産</td>\n",
       "      <td>1113</td>\n",
       "      <td>野菜</td>\n",
       "      <td>111327</td>\n",
       "      <td>じゃが芋</td>\n",
       "      <td>2</td>\n",
       "      <td>60</td>\n",
       "    </tr>\n",
       "    <tr>\n",
       "      <th>1</th>\n",
       "      <td>1</td>\n",
       "      <td>1</td>\n",
       "      <td>9</td>\n",
       "      <td>1518</td>\n",
       "      <td>50</td>\n",
       "      <td>10</td>\n",
       "      <td>5</td>\n",
       "      <td>11</td>\n",
       "      <td>農産</td>\n",
       "      <td>1113</td>\n",
       "      <td>野菜</td>\n",
       "      <td>111363</td>\n",
       "      <td>玉葱</td>\n",
       "      <td>2</td>\n",
       "      <td>60</td>\n",
       "    </tr>\n",
       "    <tr>\n",
       "      <th>2</th>\n",
       "      <td>1</td>\n",
       "      <td>1</td>\n",
       "      <td>9</td>\n",
       "      <td>1518</td>\n",
       "      <td>90</td>\n",
       "      <td>90</td>\n",
       "      <td>1</td>\n",
       "      <td>11</td>\n",
       "      <td>農産</td>\n",
       "      <td>1113</td>\n",
       "      <td>野菜</td>\n",
       "      <td>111361</td>\n",
       "      <td>レタス</td>\n",
       "      <td>2</td>\n",
       "      <td>60</td>\n",
       "    </tr>\n",
       "    <tr>\n",
       "      <th>3</th>\n",
       "      <td>1</td>\n",
       "      <td>1</td>\n",
       "      <td>9</td>\n",
       "      <td>1518</td>\n",
       "      <td>185</td>\n",
       "      <td>185</td>\n",
       "      <td>1</td>\n",
       "      <td>11</td>\n",
       "      <td>農産</td>\n",
       "      <td>1113</td>\n",
       "      <td>野菜</td>\n",
       "      <td>111339</td>\n",
       "      <td>トマト</td>\n",
       "      <td>2</td>\n",
       "      <td>60</td>\n",
       "    </tr>\n",
       "    <tr>\n",
       "      <th>4</th>\n",
       "      <td>2</td>\n",
       "      <td>1</td>\n",
       "      <td>9</td>\n",
       "      <td>1532</td>\n",
       "      <td>85</td>\n",
       "      <td>85</td>\n",
       "      <td>1</td>\n",
       "      <td>11</td>\n",
       "      <td>農産</td>\n",
       "      <td>1113</td>\n",
       "      <td>野菜</td>\n",
       "      <td>111318</td>\n",
       "      <td>キャベツ</td>\n",
       "      <td>1</td>\n",
       "      <td>40</td>\n",
       "    </tr>\n",
       "  </tbody>\n",
       "</table>\n",
       "</div>"
      ],
      "text/plain": [
       "   レシートNo  日  時間  顧客ID  税抜価格  税抜単価  個数  大カテゴリ番号 大カテゴリ名  中カテゴリ番号 中カテゴリ名  \\\n",
       "0       1  1   9  1518    50    10   5       11     農産     1113     野菜   \n",
       "1       1  1   9  1518    50    10   5       11     農産     1113     野菜   \n",
       "2       1  1   9  1518    90    90   1       11     農産     1113     野菜   \n",
       "3       1  1   9  1518   185   185   1       11     農産     1113     野菜   \n",
       "4       2  1   9  1532    85    85   1       11     農産     1113     野菜   \n",
       "\n",
       "   小カテゴリ番号 小カテゴリ名  性別  年代  \n",
       "0   111327   じゃが芋   2  60  \n",
       "1   111363     玉葱   2  60  \n",
       "2   111361    レタス   2  60  \n",
       "3   111339    トマト   2  60  \n",
       "4   111318   キャベツ   1  40  "
      ]
     },
     "metadata": {},
     "output_type": "display_data"
    }
   ],
   "source": [
    "df = pd.merge(df_market, df_id, how='left', on='顧客ID')\n",
    "display(df.head())"
   ]
  },
  {
   "cell_type": "code",
   "execution_count": 141,
   "id": "a0d86b06-c9a5-4f5a-a961-7f8dd330f62d",
   "metadata": {},
   "outputs": [
    {
     "name": "stdout",
     "output_type": "stream",
     "text": [
      "(69079, 2)\n"
     ]
    },
    {
     "data": {
      "text/html": [
       "<div>\n",
       "<style scoped>\n",
       "    .dataframe tbody tr th:only-of-type {\n",
       "        vertical-align: middle;\n",
       "    }\n",
       "\n",
       "    .dataframe tbody tr th {\n",
       "        vertical-align: top;\n",
       "    }\n",
       "\n",
       "    .dataframe thead th {\n",
       "        text-align: right;\n",
       "    }\n",
       "</style>\n",
       "<table border=\"1\" class=\"dataframe\">\n",
       "  <thead>\n",
       "    <tr style=\"text-align: right;\">\n",
       "      <th></th>\n",
       "      <th>個数</th>\n",
       "      <th>税抜価格</th>\n",
       "    </tr>\n",
       "  </thead>\n",
       "  <tbody>\n",
       "    <tr>\n",
       "      <th>0</th>\n",
       "      <td>5</td>\n",
       "      <td>50</td>\n",
       "    </tr>\n",
       "    <tr>\n",
       "      <th>1</th>\n",
       "      <td>5</td>\n",
       "      <td>50</td>\n",
       "    </tr>\n",
       "    <tr>\n",
       "      <th>2</th>\n",
       "      <td>1</td>\n",
       "      <td>90</td>\n",
       "    </tr>\n",
       "    <tr>\n",
       "      <th>3</th>\n",
       "      <td>1</td>\n",
       "      <td>185</td>\n",
       "    </tr>\n",
       "    <tr>\n",
       "      <th>4</th>\n",
       "      <td>1</td>\n",
       "      <td>85</td>\n",
       "    </tr>\n",
       "  </tbody>\n",
       "</table>\n",
       "</div>"
      ],
      "text/plain": [
       "   個数  税抜価格\n",
       "0   5    50\n",
       "1   5    50\n",
       "2   1    90\n",
       "3   1   185\n",
       "4   1    85"
      ]
     },
     "metadata": {},
     "output_type": "display_data"
    }
   ],
   "source": [
    "dfX = df[['個数', '税抜価格']]\n",
    "print(dfX.shape)\n",
    "display(dfX.head())"
   ]
  },
  {
   "cell_type": "code",
   "execution_count": 142,
   "id": "2c5c7916-179f-4b92-b034-fb1801a9e943",
   "metadata": {},
   "outputs": [],
   "source": [
    "X_scaled = scale(dfX)"
   ]
  },
  {
   "cell_type": "code",
   "execution_count": 143,
   "id": "5bd0fb28-98cc-47a6-9f76-aa7f7d2ea8c5",
   "metadata": {},
   "outputs": [
    {
     "name": "stdout",
     "output_type": "stream",
     "text": [
      "[ 1.21579860e-16 -4.11437766e-18]\n",
      "[1. 1.]\n"
     ]
    }
   ],
   "source": [
    "print(X_scaled.mean(axis=0))\n",
    "print(X_scaled.std(ddof=0, axis=0))"
   ]
  },
  {
   "cell_type": "code",
   "execution_count": 144,
   "id": "7e6f4ebe-7e37-4e14-a0a9-f29d8576daeb",
   "metadata": {},
   "outputs": [
    {
     "name": "stdout",
     "output_type": "stream",
     "text": [
      "<class 'numpy.ndarray'>\n",
      "(69079, 2)\n"
     ]
    }
   ],
   "source": [
    "print(type(X_scaled))\n",
    "print(X_scaled.shape)"
   ]
  },
  {
   "cell_type": "code",
   "execution_count": 145,
   "id": "1607da2c-c7cb-4f06-b6f6-95d2fc576988",
   "metadata": {},
   "outputs": [
    {
     "name": "stdout",
     "output_type": "stream",
     "text": [
      "<class 'pandas.core.frame.DataFrame'>\n"
     ]
    },
    {
     "data": {
      "text/html": [
       "<div>\n",
       "<style scoped>\n",
       "    .dataframe tbody tr th:only-of-type {\n",
       "        vertical-align: middle;\n",
       "    }\n",
       "\n",
       "    .dataframe tbody tr th {\n",
       "        vertical-align: top;\n",
       "    }\n",
       "\n",
       "    .dataframe thead th {\n",
       "        text-align: right;\n",
       "    }\n",
       "</style>\n",
       "<table border=\"1\" class=\"dataframe\">\n",
       "  <thead>\n",
       "    <tr style=\"text-align: right;\">\n",
       "      <th></th>\n",
       "      <th>個数</th>\n",
       "      <th>税抜価格</th>\n",
       "    </tr>\n",
       "  </thead>\n",
       "  <tbody>\n",
       "    <tr>\n",
       "      <th>0</th>\n",
       "      <td>4.988122</td>\n",
       "      <td>-0.761211</td>\n",
       "    </tr>\n",
       "    <tr>\n",
       "      <th>1</th>\n",
       "      <td>4.988122</td>\n",
       "      <td>-0.761211</td>\n",
       "    </tr>\n",
       "    <tr>\n",
       "      <th>2</th>\n",
       "      <td>-0.237375</td>\n",
       "      <td>-0.557889</td>\n",
       "    </tr>\n",
       "    <tr>\n",
       "      <th>3</th>\n",
       "      <td>-0.237375</td>\n",
       "      <td>-0.075000</td>\n",
       "    </tr>\n",
       "    <tr>\n",
       "      <th>4</th>\n",
       "      <td>-0.237375</td>\n",
       "      <td>-0.583304</td>\n",
       "    </tr>\n",
       "  </tbody>\n",
       "</table>\n",
       "</div>"
      ],
      "text/plain": [
       "         個数      税抜価格\n",
       "0  4.988122 -0.761211\n",
       "1  4.988122 -0.761211\n",
       "2 -0.237375 -0.557889\n",
       "3 -0.237375 -0.075000\n",
       "4 -0.237375 -0.583304"
      ]
     },
     "metadata": {},
     "output_type": "display_data"
    }
   ],
   "source": [
    "dfX_scaled = pd.DataFrame(X_scaled, columns=dfX.columns)\n",
    "print(type(dfX_scaled))\n",
    "display(dfX_scaled.head())"
   ]
  },
  {
   "cell_type": "code",
   "execution_count": 146,
   "id": "a759cd5f-75a3-4ae9-bf89-d7d33fb3d205",
   "metadata": {},
   "outputs": [
    {
     "data": {
      "image/png": "[encoded data removed]",
      "text/plain": [
       "<Figure size 640x480 with 1 Axes>"
      ]
     },
     "metadata": {},
     "output_type": "display_data"
    }
   ],
   "source": [
    "distortions = []\n",
    "for i in range(1, 11):\n",
    "    km = KMeans(n_clusters=i, n_init=10)\n",
    "    km.fit(dfX_scaled)\n",
    "    distortions.append(km.inertia_)\n",
    "plt.plot(range(1, 11), distortions, marker='o')\n",
    "plt.xlabel('Number of clusters')\n",
    "plt.ylabel('Distortion')\n",
    "plt.show()\n"
   ]
  },
  {
   "cell_type": "code",
   "execution_count": 147,
   "id": "4475a7dc-d51d-4c82-b138-53d30efb8d7d",
   "metadata": {},
   "outputs": [
    {
     "name": "stdout",
     "output_type": "stream",
     "text": [
      "[2 2 0 ... 0 0 1]\n"
     ]
    }
   ],
   "source": [
    "n_cls = 4\n",
    "km = KMeans(n_clusters=n_cls, n_init=10, random_state=5)\n",
    "cls = km.fit_predict(dfX_scaled)\n",
    "print(cls)"
   ]
  },
  {
   "cell_type": "code",
   "execution_count": 148,
   "id": "0c6e39f0-db8a-47a4-acfd-d5d4291851bf",
   "metadata": {},
   "outputs": [
    {
     "data": {
      "text/html": [
       "<div>\n",
       "<style scoped>\n",
       "    .dataframe tbody tr th:only-of-type {\n",
       "        vertical-align: middle;\n",
       "    }\n",
       "\n",
       "    .dataframe tbody tr th {\n",
       "        vertical-align: top;\n",
       "    }\n",
       "\n",
       "    .dataframe thead th {\n",
       "        text-align: right;\n",
       "    }\n",
       "</style>\n",
       "<table border=\"1\" class=\"dataframe\">\n",
       "  <thead>\n",
       "    <tr style=\"text-align: right;\">\n",
       "      <th></th>\n",
       "      <th>レシートNo</th>\n",
       "      <th>日</th>\n",
       "      <th>時間</th>\n",
       "      <th>顧客ID</th>\n",
       "      <th>税抜価格</th>\n",
       "      <th>税抜単価</th>\n",
       "      <th>個数</th>\n",
       "      <th>大カテゴリ番号</th>\n",
       "      <th>大カテゴリ名</th>\n",
       "      <th>中カテゴリ番号</th>\n",
       "      <th>中カテゴリ名</th>\n",
       "      <th>小カテゴリ番号</th>\n",
       "      <th>小カテゴリ名</th>\n",
       "      <th>性別</th>\n",
       "      <th>年代</th>\n",
       "      <th>cluster_no</th>\n",
       "    </tr>\n",
       "  </thead>\n",
       "  <tbody>\n",
       "    <tr>\n",
       "      <th>0</th>\n",
       "      <td>1</td>\n",
       "      <td>1</td>\n",
       "      <td>9</td>\n",
       "      <td>1518</td>\n",
       "      <td>50</td>\n",
       "      <td>10</td>\n",
       "      <td>5</td>\n",
       "      <td>11</td>\n",
       "      <td>農産</td>\n",
       "      <td>1113</td>\n",
       "      <td>野菜</td>\n",
       "      <td>111327</td>\n",
       "      <td>じゃが芋</td>\n",
       "      <td>2</td>\n",
       "      <td>60</td>\n",
       "      <td>2</td>\n",
       "    </tr>\n",
       "    <tr>\n",
       "      <th>1</th>\n",
       "      <td>1</td>\n",
       "      <td>1</td>\n",
       "      <td>9</td>\n",
       "      <td>1518</td>\n",
       "      <td>50</td>\n",
       "      <td>10</td>\n",
       "      <td>5</td>\n",
       "      <td>11</td>\n",
       "      <td>農産</td>\n",
       "      <td>1113</td>\n",
       "      <td>野菜</td>\n",
       "      <td>111363</td>\n",
       "      <td>玉葱</td>\n",
       "      <td>2</td>\n",
       "      <td>60</td>\n",
       "      <td>2</td>\n",
       "    </tr>\n",
       "    <tr>\n",
       "      <th>2</th>\n",
       "      <td>1</td>\n",
       "      <td>1</td>\n",
       "      <td>9</td>\n",
       "      <td>1518</td>\n",
       "      <td>90</td>\n",
       "      <td>90</td>\n",
       "      <td>1</td>\n",
       "      <td>11</td>\n",
       "      <td>農産</td>\n",
       "      <td>1113</td>\n",
       "      <td>野菜</td>\n",
       "      <td>111361</td>\n",
       "      <td>レタス</td>\n",
       "      <td>2</td>\n",
       "      <td>60</td>\n",
       "      <td>0</td>\n",
       "    </tr>\n",
       "    <tr>\n",
       "      <th>3</th>\n",
       "      <td>1</td>\n",
       "      <td>1</td>\n",
       "      <td>9</td>\n",
       "      <td>1518</td>\n",
       "      <td>185</td>\n",
       "      <td>185</td>\n",
       "      <td>1</td>\n",
       "      <td>11</td>\n",
       "      <td>農産</td>\n",
       "      <td>1113</td>\n",
       "      <td>野菜</td>\n",
       "      <td>111339</td>\n",
       "      <td>トマト</td>\n",
       "      <td>2</td>\n",
       "      <td>60</td>\n",
       "      <td>0</td>\n",
       "    </tr>\n",
       "    <tr>\n",
       "      <th>4</th>\n",
       "      <td>2</td>\n",
       "      <td>1</td>\n",
       "      <td>9</td>\n",
       "      <td>1532</td>\n",
       "      <td>85</td>\n",
       "      <td>85</td>\n",
       "      <td>1</td>\n",
       "      <td>11</td>\n",
       "      <td>農産</td>\n",
       "      <td>1113</td>\n",
       "      <td>野菜</td>\n",
       "      <td>111318</td>\n",
       "      <td>キャベツ</td>\n",
       "      <td>1</td>\n",
       "      <td>40</td>\n",
       "      <td>0</td>\n",
       "    </tr>\n",
       "  </tbody>\n",
       "</table>\n",
       "</div>"
      ],
      "text/plain": [
       "   レシートNo  日  時間  顧客ID  税抜価格  税抜単価  個数  大カテゴリ番号 大カテゴリ名  中カテゴリ番号 中カテゴリ名  \\\n",
       "0       1  1   9  1518    50    10   5       11     農産     1113     野菜   \n",
       "1       1  1   9  1518    50    10   5       11     農産     1113     野菜   \n",
       "2       1  1   9  1518    90    90   1       11     農産     1113     野菜   \n",
       "3       1  1   9  1518   185   185   1       11     農産     1113     野菜   \n",
       "4       2  1   9  1532    85    85   1       11     農産     1113     野菜   \n",
       "\n",
       "   小カテゴリ番号 小カテゴリ名  性別  年代  cluster_no  \n",
       "0   111327   じゃが芋   2  60           2  \n",
       "1   111363     玉葱   2  60           2  \n",
       "2   111361    レタス   2  60           0  \n",
       "3   111339    トマト   2  60           0  \n",
       "4   111318   キャベツ   1  40           0  "
      ]
     },
     "metadata": {},
     "output_type": "display_data"
    }
   ],
   "source": [
    "df['cluster_no'] = cls\n",
    "display(df.head())"
   ]
  },
  {
   "cell_type": "code",
   "execution_count": 149,
   "id": "dd941f27-c83b-493a-9f4e-1bd1e2998824",
   "metadata": {},
   "outputs": [
    {
     "name": "stdout",
     "output_type": "stream",
     "text": [
      "0    52804\n",
      "1    13406\n",
      "2     2391\n",
      "3      478\n",
      "Name: cluster_no, dtype: int64\n"
     ]
    }
   ],
   "source": [
    "print(df['cluster_no'].value_counts())"
   ]
  },
  {
   "cell_type": "code",
   "execution_count": 150,
   "id": "e5a39fbf-18d7-455d-9532-c18b754a8d17",
   "metadata": {},
   "outputs": [
    {
     "data": {
      "image/png": "[encoded data removed]",
      "text/plain": [
       "<Figure size 640x480 with 2 Axes>"
      ]
     },
     "metadata": {},
     "output_type": "display_data"
    }
   ],
   "source": [
    "plt.rcParams['font.family'] = 'Yu Mincho'\n",
    "plt.scatter(df['個数'], df['税抜価格'], \n",
    "            marker='o', c=df['cluster_no'])\n",
    "plt.colorbar()\n",
    "plt.xlabel('個数')\n",
    "plt.ylabel('税抜価格')\n",
    "plt.show()"
   ]
  },
  {
   "cell_type": "code",
   "execution_count": 151,
   "id": "f3a8a1cf-b1e2-42ea-a284-f1d0f72cd7fb",
   "metadata": {},
   "outputs": [
    {
     "name": "stdout",
     "output_type": "stream",
     "text": [
      "[[-0.15137827 -0.32822721]\n",
      " [-0.08253148  0.9453807 ]\n",
      " [ 3.74785871  0.39213574]\n",
      " [ 0.29009434  7.78313709]]\n"
     ]
    }
   ],
   "source": [
    "print(km.cluster_centers_)"
   ]
  },
  {
   "cell_type": "code",
   "execution_count": 152,
   "id": "ef531bb9-0f9d-405e-8ac8-e305fb19dae0",
   "metadata": {},
   "outputs": [
    {
     "data": {
      "image/png": "[encoded data removed]",
      "text/plain": [
       "<Figure size 640x480 with 1 Axes>"
      ]
     },
     "metadata": {},
     "output_type": "display_data"
    }
   ],
   "source": [
    "colors = ['blue', 'green', 'orange', 'magenta']\n",
    "for i in range(n_cls):\n",
    "    df_cls = dfX_scaled[ df['cluster_no']==i ]\n",
    "    plt.scatter(df_cls['個数'], df_cls['税抜価格'],\n",
    "                color=colors[i], marker='${}$'.format(i),\n",
    "                label='cluster{}'.format(i))\n",
    "\n",
    "plt.scatter(km.cluster_centers_[:, 0], km.cluster_centers_[:, 1],\n",
    "            s=250, marker='*', color='red', label='centroids')\n",
    "\n",
    "plt.xlabel('個数 (scaled)')\n",
    "plt.ylabel('税抜価格 (scaled)')\n",
    "plt.legend()\n",
    "plt.show()"
   ]
  },
  {
   "cell_type": "markdown",
   "id": "17d9073d-a984-4fab-bc60-1c1bc891d009",
   "metadata": {},
   "source": [
    "cs3-06 assign2"
   ]
  },
  {
   "cell_type": "code",
   "execution_count": 153,
   "id": "7ff62b6f-96d3-4a2c-bf94-45340d5979d0",
   "metadata": {},
   "outputs": [],
   "source": [
    "import os\n",
    "os.environ['OMP_NUM_THREADS'] = '1'\n",
    "\n",
    "import numpy as np\n",
    "import pandas as pd\n",
    "import matplotlib.pyplot as plt\n",
    "from sklearn.cluster import KMeans\n",
    "from sklearn.preprocessing import scale"
   ]
  },
  {
   "cell_type": "code",
   "execution_count": 154,
   "id": "1ec8d237-fa22-437a-9ea3-f0b105d933de",
   "metadata": {},
   "outputs": [],
   "source": [
    "pd.options.display.max_columns = 999\n",
    "pd.options.display.max_rows = 999"
   ]
  },
  {
   "cell_type": "code",
   "execution_count": 156,
   "id": "73b4d1d6-c161-4103-ba0f-3ae94cd02b9c",
   "metadata": {},
   "outputs": [
    {
     "name": "stdout",
     "output_type": "stream",
     "text": [
      "(1599, 12)\n",
      "<class 'pandas.core.frame.DataFrame'>\n",
      "RangeIndex: 1599 entries, 0 to 1598\n",
      "Data columns (total 12 columns):\n",
      " #   Column                Non-Null Count  Dtype  \n",
      "---  ------                --------------  -----  \n",
      " 0   fixed acidity         1599 non-null   float64\n",
      " 1   volatile acidity      1599 non-null   float64\n",
      " 2   citric acid           1599 non-null   float64\n",
      " 3   residual sugar        1599 non-null   float64\n",
      " 4   chlorides             1599 non-null   float64\n",
      " 5   free sulfur dioxide   1599 non-null   float64\n",
      " 6   total sulfur dioxide  1599 non-null   float64\n",
      " 7   density               1599 non-null   float64\n",
      " 8   pH                    1599 non-null   float64\n",
      " 9   sulphates             1599 non-null   float64\n",
      " 10  alcohol               1599 non-null   float64\n",
      " 11  quality               1599 non-null   int64  \n",
      "dtypes: float64(11), int64(1)\n",
      "memory usage: 150.0 KB\n",
      "None\n"
     ]
    },
    {
     "data": {
      "text/html": [
       "<div>\n",
       "<style scoped>\n",
       "    .dataframe tbody tr th:only-of-type {\n",
       "        vertical-align: middle;\n",
       "    }\n",
       "\n",
       "    .dataframe tbody tr th {\n",
       "        vertical-align: top;\n",
       "    }\n",
       "\n",
       "    .dataframe thead th {\n",
       "        text-align: right;\n",
       "    }\n",
       "</style>\n",
       "<table border=\"1\" class=\"dataframe\">\n",
       "  <thead>\n",
       "    <tr style=\"text-align: right;\">\n",
       "      <th></th>\n",
       "      <th>fixed acidity</th>\n",
       "      <th>volatile acidity</th>\n",
       "      <th>citric acid</th>\n",
       "      <th>residual sugar</th>\n",
       "      <th>chlorides</th>\n",
       "      <th>free sulfur dioxide</th>\n",
       "      <th>total sulfur dioxide</th>\n",
       "      <th>density</th>\n",
       "      <th>pH</th>\n",
       "      <th>sulphates</th>\n",
       "      <th>alcohol</th>\n",
       "      <th>quality</th>\n",
       "    </tr>\n",
       "  </thead>\n",
       "  <tbody>\n",
       "    <tr>\n",
       "      <th>0</th>\n",
       "      <td>7.4</td>\n",
       "      <td>0.70</td>\n",
       "      <td>0.00</td>\n",
       "      <td>1.9</td>\n",
       "      <td>0.076</td>\n",
       "      <td>11.0</td>\n",
       "      <td>34.0</td>\n",
       "      <td>0.9978</td>\n",
       "      <td>3.51</td>\n",
       "      <td>0.56</td>\n",
       "      <td>9.4</td>\n",
       "      <td>5</td>\n",
       "    </tr>\n",
       "    <tr>\n",
       "      <th>1</th>\n",
       "      <td>7.8</td>\n",
       "      <td>0.88</td>\n",
       "      <td>0.00</td>\n",
       "      <td>2.6</td>\n",
       "      <td>0.098</td>\n",
       "      <td>25.0</td>\n",
       "      <td>67.0</td>\n",
       "      <td>0.9968</td>\n",
       "      <td>3.20</td>\n",
       "      <td>0.68</td>\n",
       "      <td>9.8</td>\n",
       "      <td>5</td>\n",
       "    </tr>\n",
       "    <tr>\n",
       "      <th>2</th>\n",
       "      <td>7.8</td>\n",
       "      <td>0.76</td>\n",
       "      <td>0.04</td>\n",
       "      <td>2.3</td>\n",
       "      <td>0.092</td>\n",
       "      <td>15.0</td>\n",
       "      <td>54.0</td>\n",
       "      <td>0.9970</td>\n",
       "      <td>3.26</td>\n",
       "      <td>0.65</td>\n",
       "      <td>9.8</td>\n",
       "      <td>5</td>\n",
       "    </tr>\n",
       "    <tr>\n",
       "      <th>3</th>\n",
       "      <td>11.2</td>\n",
       "      <td>0.28</td>\n",
       "      <td>0.56</td>\n",
       "      <td>1.9</td>\n",
       "      <td>0.075</td>\n",
       "      <td>17.0</td>\n",
       "      <td>60.0</td>\n",
       "      <td>0.9980</td>\n",
       "      <td>3.16</td>\n",
       "      <td>0.58</td>\n",
       "      <td>9.8</td>\n",
       "      <td>6</td>\n",
       "    </tr>\n",
       "    <tr>\n",
       "      <th>4</th>\n",
       "      <td>7.4</td>\n",
       "      <td>0.70</td>\n",
       "      <td>0.00</td>\n",
       "      <td>1.9</td>\n",
       "      <td>0.076</td>\n",
       "      <td>11.0</td>\n",
       "      <td>34.0</td>\n",
       "      <td>0.9978</td>\n",
       "      <td>3.51</td>\n",
       "      <td>0.56</td>\n",
       "      <td>9.4</td>\n",
       "      <td>5</td>\n",
       "    </tr>\n",
       "  </tbody>\n",
       "</table>\n",
       "</div>"
      ],
      "text/plain": [
       "   fixed acidity  volatile acidity  citric acid  residual sugar  chlorides  \\\n",
       "0            7.4              0.70         0.00             1.9      0.076   \n",
       "1            7.8              0.88         0.00             2.6      0.098   \n",
       "2            7.8              0.76         0.04             2.3      0.092   \n",
       "3           11.2              0.28         0.56             1.9      0.075   \n",
       "4            7.4              0.70         0.00             1.9      0.076   \n",
       "\n",
       "   free sulfur dioxide  total sulfur dioxide  density    pH  sulphates  \\\n",
       "0                 11.0                  34.0   0.9978  3.51       0.56   \n",
       "1                 25.0                  67.0   0.9968  3.20       0.68   \n",
       "2                 15.0                  54.0   0.9970  3.26       0.65   \n",
       "3                 17.0                  60.0   0.9980  3.16       0.58   \n",
       "4                 11.0                  34.0   0.9978  3.51       0.56   \n",
       "\n",
       "   alcohol  quality  \n",
       "0      9.4        5  \n",
       "1      9.8        5  \n",
       "2      9.8        5  \n",
       "3      9.8        6  \n",
       "4      9.4        5  "
      ]
     },
     "metadata": {},
     "output_type": "display_data"
    }
   ],
   "source": [
    "csv_in = 'cs3-06/winequality-red.csv'\n",
    "df = pd.read_csv(csv_in, sep=';', skiprows=0, header=0)\n",
    "print(df.shape)\n",
    "print(df.info())\n",
    "display(df.head())"
   ]
  },
  {
   "cell_type": "code",
   "execution_count": 157,
   "id": "410dc0dd-c3f9-4b96-ae83-e040f0d18a07",
   "metadata": {},
   "outputs": [
    {
     "data": {
      "text/html": [
       "<div>\n",
       "<style scoped>\n",
       "    .dataframe tbody tr th:only-of-type {\n",
       "        vertical-align: middle;\n",
       "    }\n",
       "\n",
       "    .dataframe tbody tr th {\n",
       "        vertical-align: top;\n",
       "    }\n",
       "\n",
       "    .dataframe thead th {\n",
       "        text-align: right;\n",
       "    }\n",
       "</style>\n",
       "<table border=\"1\" class=\"dataframe\">\n",
       "  <thead>\n",
       "    <tr style=\"text-align: right;\">\n",
       "      <th></th>\n",
       "      <th>fixed acidity</th>\n",
       "      <th>volatile acidity</th>\n",
       "      <th>citric acid</th>\n",
       "      <th>residual sugar</th>\n",
       "      <th>chlorides</th>\n",
       "      <th>free sulfur dioxide</th>\n",
       "      <th>total sulfur dioxide</th>\n",
       "      <th>density</th>\n",
       "      <th>pH</th>\n",
       "      <th>sulphates</th>\n",
       "      <th>alcohol</th>\n",
       "      <th>quality</th>\n",
       "    </tr>\n",
       "  </thead>\n",
       "  <tbody>\n",
       "    <tr>\n",
       "      <th>count</th>\n",
       "      <td>1599.000000</td>\n",
       "      <td>1599.000000</td>\n",
       "      <td>1599.000000</td>\n",
       "      <td>1599.000000</td>\n",
       "      <td>1599.000000</td>\n",
       "      <td>1599.000000</td>\n",
       "      <td>1599.000000</td>\n",
       "      <td>1599.000000</td>\n",
       "      <td>1599.000000</td>\n",
       "      <td>1599.000000</td>\n",
       "      <td>1599.000000</td>\n",
       "      <td>1599.000000</td>\n",
       "    </tr>\n",
       "    <tr>\n",
       "      <th>mean</th>\n",
       "      <td>8.319637</td>\n",
       "      <td>0.527821</td>\n",
       "      <td>0.270976</td>\n",
       "      <td>2.538806</td>\n",
       "      <td>0.087467</td>\n",
       "      <td>15.874922</td>\n",
       "      <td>46.467792</td>\n",
       "      <td>0.996747</td>\n",
       "      <td>3.311113</td>\n",
       "      <td>0.658149</td>\n",
       "      <td>10.422983</td>\n",
       "      <td>5.636023</td>\n",
       "    </tr>\n",
       "    <tr>\n",
       "      <th>std</th>\n",
       "      <td>1.741096</td>\n",
       "      <td>0.179060</td>\n",
       "      <td>0.194801</td>\n",
       "      <td>1.409928</td>\n",
       "      <td>0.047065</td>\n",
       "      <td>10.460157</td>\n",
       "      <td>32.895324</td>\n",
       "      <td>0.001887</td>\n",
       "      <td>0.154386</td>\n",
       "      <td>0.169507</td>\n",
       "      <td>1.065668</td>\n",
       "      <td>0.807569</td>\n",
       "    </tr>\n",
       "    <tr>\n",
       "      <th>min</th>\n",
       "      <td>4.600000</td>\n",
       "      <td>0.120000</td>\n",
       "      <td>0.000000</td>\n",
       "      <td>0.900000</td>\n",
       "      <td>0.012000</td>\n",
       "      <td>1.000000</td>\n",
       "      <td>6.000000</td>\n",
       "      <td>0.990070</td>\n",
       "      <td>2.740000</td>\n",
       "      <td>0.330000</td>\n",
       "      <td>8.400000</td>\n",
       "      <td>3.000000</td>\n",
       "    </tr>\n",
       "    <tr>\n",
       "      <th>25%</th>\n",
       "      <td>7.100000</td>\n",
       "      <td>0.390000</td>\n",
       "      <td>0.090000</td>\n",
       "      <td>1.900000</td>\n",
       "      <td>0.070000</td>\n",
       "      <td>7.000000</td>\n",
       "      <td>22.000000</td>\n",
       "      <td>0.995600</td>\n",
       "      <td>3.210000</td>\n",
       "      <td>0.550000</td>\n",
       "      <td>9.500000</td>\n",
       "      <td>5.000000</td>\n",
       "    </tr>\n",
       "    <tr>\n",
       "      <th>50%</th>\n",
       "      <td>7.900000</td>\n",
       "      <td>0.520000</td>\n",
       "      <td>0.260000</td>\n",
       "      <td>2.200000</td>\n",
       "      <td>0.079000</td>\n",
       "      <td>14.000000</td>\n",
       "      <td>38.000000</td>\n",
       "      <td>0.996750</td>\n",
       "      <td>3.310000</td>\n",
       "      <td>0.620000</td>\n",
       "      <td>10.200000</td>\n",
       "      <td>6.000000</td>\n",
       "    </tr>\n",
       "    <tr>\n",
       "      <th>75%</th>\n",
       "      <td>9.200000</td>\n",
       "      <td>0.640000</td>\n",
       "      <td>0.420000</td>\n",
       "      <td>2.600000</td>\n",
       "      <td>0.090000</td>\n",
       "      <td>21.000000</td>\n",
       "      <td>62.000000</td>\n",
       "      <td>0.997835</td>\n",
       "      <td>3.400000</td>\n",
       "      <td>0.730000</td>\n",
       "      <td>11.100000</td>\n",
       "      <td>6.000000</td>\n",
       "    </tr>\n",
       "    <tr>\n",
       "      <th>max</th>\n",
       "      <td>15.900000</td>\n",
       "      <td>1.580000</td>\n",
       "      <td>1.000000</td>\n",
       "      <td>15.500000</td>\n",
       "      <td>0.611000</td>\n",
       "      <td>72.000000</td>\n",
       "      <td>289.000000</td>\n",
       "      <td>1.003690</td>\n",
       "      <td>4.010000</td>\n",
       "      <td>2.000000</td>\n",
       "      <td>14.900000</td>\n",
       "      <td>8.000000</td>\n",
       "    </tr>\n",
       "  </tbody>\n",
       "</table>\n",
       "</div>"
      ],
      "text/plain": [
       "       fixed acidity  volatile acidity  citric acid  residual sugar  \\\n",
       "count    1599.000000       1599.000000  1599.000000     1599.000000   \n",
       "mean        8.319637          0.527821     0.270976        2.538806   \n",
       "std         1.741096          0.179060     0.194801        1.409928   \n",
       "min         4.600000          0.120000     0.000000        0.900000   \n",
       "25%         7.100000          0.390000     0.090000        1.900000   \n",
       "50%         7.900000          0.520000     0.260000        2.200000   \n",
       "75%         9.200000          0.640000     0.420000        2.600000   \n",
       "max        15.900000          1.580000     1.000000       15.500000   \n",
       "\n",
       "         chlorides  free sulfur dioxide  total sulfur dioxide      density  \\\n",
       "count  1599.000000          1599.000000           1599.000000  1599.000000   \n",
       "mean      0.087467            15.874922             46.467792     0.996747   \n",
       "std       0.047065            10.460157             32.895324     0.001887   \n",
       "min       0.012000             1.000000              6.000000     0.990070   \n",
       "25%       0.070000             7.000000             22.000000     0.995600   \n",
       "50%       0.079000            14.000000             38.000000     0.996750   \n",
       "75%       0.090000            21.000000             62.000000     0.997835   \n",
       "max       0.611000            72.000000            289.000000     1.003690   \n",
       "\n",
       "                pH    sulphates      alcohol      quality  \n",
       "count  1599.000000  1599.000000  1599.000000  1599.000000  \n",
       "mean      3.311113     0.658149    10.422983     5.636023  \n",
       "std       0.154386     0.169507     1.065668     0.807569  \n",
       "min       2.740000     0.330000     8.400000     3.000000  \n",
       "25%       3.210000     0.550000     9.500000     5.000000  \n",
       "50%       3.310000     0.620000    10.200000     6.000000  \n",
       "75%       3.400000     0.730000    11.100000     6.000000  \n",
       "max       4.010000     2.000000    14.900000     8.000000  "
      ]
     },
     "metadata": {},
     "output_type": "display_data"
    }
   ],
   "source": [
    "display(df.describe())"
   ]
  },
  {
   "cell_type": "code",
   "execution_count": 158,
   "id": "4049a0c5-edd0-4ffd-94a0-cd105bf736bd",
   "metadata": {},
   "outputs": [],
   "source": [
    "X_scaled = scale(df)"
   ]
  },
  {
   "cell_type": "code",
   "execution_count": 159,
   "id": "1e998dee-1ec4-4364-b4b5-7bc46907b7ac",
   "metadata": {},
   "outputs": [
    {
     "name": "stdout",
     "output_type": "stream",
     "text": [
      "[ 3.55493551e-16  1.73303106e-16 -8.88733878e-17 -1.24422743e-16\n",
      "  3.73268229e-16 -6.22113715e-17  4.44366939e-17 -3.47317200e-14\n",
      "  2.86172309e-15  6.75437748e-16  1.06648065e-16  8.88733878e-17]\n",
      "[1. 1. 1. 1. 1. 1. 1. 1. 1. 1. 1. 1.]\n"
     ]
    }
   ],
   "source": [
    "print(X_scaled.mean(axis=0))\n",
    "print(X_scaled.std(ddof=0, axis=0))"
   ]
  },
  {
   "cell_type": "code",
   "execution_count": 160,
   "id": "2d4a67eb-76eb-4612-acfc-5e431c56f0f5",
   "metadata": {},
   "outputs": [
    {
     "data": {
      "text/html": [
       "<div>\n",
       "<style scoped>\n",
       "    .dataframe tbody tr th:only-of-type {\n",
       "        vertical-align: middle;\n",
       "    }\n",
       "\n",
       "    .dataframe tbody tr th {\n",
       "        vertical-align: top;\n",
       "    }\n",
       "\n",
       "    .dataframe thead th {\n",
       "        text-align: right;\n",
       "    }\n",
       "</style>\n",
       "<table border=\"1\" class=\"dataframe\">\n",
       "  <thead>\n",
       "    <tr style=\"text-align: right;\">\n",
       "      <th></th>\n",
       "      <th>fixed acidity</th>\n",
       "      <th>volatile acidity</th>\n",
       "      <th>citric acid</th>\n",
       "      <th>residual sugar</th>\n",
       "      <th>chlorides</th>\n",
       "      <th>free sulfur dioxide</th>\n",
       "      <th>total sulfur dioxide</th>\n",
       "      <th>density</th>\n",
       "      <th>pH</th>\n",
       "      <th>sulphates</th>\n",
       "      <th>alcohol</th>\n",
       "      <th>quality</th>\n",
       "    </tr>\n",
       "  </thead>\n",
       "  <tbody>\n",
       "    <tr>\n",
       "      <th>0</th>\n",
       "      <td>-0.528360</td>\n",
       "      <td>0.961877</td>\n",
       "      <td>-1.391472</td>\n",
       "      <td>-0.453218</td>\n",
       "      <td>-0.243707</td>\n",
       "      <td>-0.466193</td>\n",
       "      <td>-0.379133</td>\n",
       "      <td>0.558274</td>\n",
       "      <td>1.288643</td>\n",
       "      <td>-0.579207</td>\n",
       "      <td>-0.960246</td>\n",
       "      <td>-0.787823</td>\n",
       "    </tr>\n",
       "    <tr>\n",
       "      <th>1</th>\n",
       "      <td>-0.298547</td>\n",
       "      <td>1.967442</td>\n",
       "      <td>-1.391472</td>\n",
       "      <td>0.043416</td>\n",
       "      <td>0.223875</td>\n",
       "      <td>0.872638</td>\n",
       "      <td>0.624363</td>\n",
       "      <td>0.028261</td>\n",
       "      <td>-0.719933</td>\n",
       "      <td>0.128950</td>\n",
       "      <td>-0.584777</td>\n",
       "      <td>-0.787823</td>\n",
       "    </tr>\n",
       "    <tr>\n",
       "      <th>2</th>\n",
       "      <td>-0.298547</td>\n",
       "      <td>1.297065</td>\n",
       "      <td>-1.186070</td>\n",
       "      <td>-0.169427</td>\n",
       "      <td>0.096353</td>\n",
       "      <td>-0.083669</td>\n",
       "      <td>0.229047</td>\n",
       "      <td>0.134264</td>\n",
       "      <td>-0.331177</td>\n",
       "      <td>-0.048089</td>\n",
       "      <td>-0.584777</td>\n",
       "      <td>-0.787823</td>\n",
       "    </tr>\n",
       "    <tr>\n",
       "      <th>3</th>\n",
       "      <td>1.654856</td>\n",
       "      <td>-1.384443</td>\n",
       "      <td>1.484154</td>\n",
       "      <td>-0.453218</td>\n",
       "      <td>-0.264960</td>\n",
       "      <td>0.107592</td>\n",
       "      <td>0.411500</td>\n",
       "      <td>0.664277</td>\n",
       "      <td>-0.979104</td>\n",
       "      <td>-0.461180</td>\n",
       "      <td>-0.584777</td>\n",
       "      <td>0.450848</td>\n",
       "    </tr>\n",
       "    <tr>\n",
       "      <th>4</th>\n",
       "      <td>-0.528360</td>\n",
       "      <td>0.961877</td>\n",
       "      <td>-1.391472</td>\n",
       "      <td>-0.453218</td>\n",
       "      <td>-0.243707</td>\n",
       "      <td>-0.466193</td>\n",
       "      <td>-0.379133</td>\n",
       "      <td>0.558274</td>\n",
       "      <td>1.288643</td>\n",
       "      <td>-0.579207</td>\n",
       "      <td>-0.960246</td>\n",
       "      <td>-0.787823</td>\n",
       "    </tr>\n",
       "  </tbody>\n",
       "</table>\n",
       "</div>"
      ],
      "text/plain": [
       "   fixed acidity  volatile acidity  citric acid  residual sugar  chlorides  \\\n",
       "0      -0.528360          0.961877    -1.391472       -0.453218  -0.243707   \n",
       "1      -0.298547          1.967442    -1.391472        0.043416   0.223875   \n",
       "2      -0.298547          1.297065    -1.186070       -0.169427   0.096353   \n",
       "3       1.654856         -1.384443     1.484154       -0.453218  -0.264960   \n",
       "4      -0.528360          0.961877    -1.391472       -0.453218  -0.243707   \n",
       "\n",
       "   free sulfur dioxide  total sulfur dioxide   density        pH  sulphates  \\\n",
       "0            -0.466193             -0.379133  0.558274  1.288643  -0.579207   \n",
       "1             0.872638              0.624363  0.028261 -0.719933   0.128950   \n",
       "2            -0.083669              0.229047  0.134264 -0.331177  -0.048089   \n",
       "3             0.107592              0.411500  0.664277 -0.979104  -0.461180   \n",
       "4            -0.466193             -0.379133  0.558274  1.288643  -0.579207   \n",
       "\n",
       "    alcohol   quality  \n",
       "0 -0.960246 -0.787823  \n",
       "1 -0.584777 -0.787823  \n",
       "2 -0.584777 -0.787823  \n",
       "3 -0.584777  0.450848  \n",
       "4 -0.960246 -0.787823  "
      ]
     },
     "metadata": {},
     "output_type": "display_data"
    }
   ],
   "source": [
    "df_scaled = pd.DataFrame(X_scaled, columns=df.columns)\n",
    "display(df_scaled.head())"
   ]
  },
  {
   "cell_type": "code",
   "execution_count": 161,
   "id": "d2a6f601-f87e-49da-b92b-4d3d66819dc2",
   "metadata": {},
   "outputs": [
    {
     "data": {
      "image/png": "[encoded data removed]",
      "text/plain": [
       "<Figure size 640x480 with 1 Axes>"
      ]
     },
     "metadata": {},
     "output_type": "display_data"
    }
   ],
   "source": [
    "distortions = []\n",
    "for i in range(1, 11):\n",
    "    km = KMeans(n_clusters=i, n_init=10)\n",
    "    km.fit(df_scaled)\n",
    "    distortions.append(km.inertia_)\n",
    "plt.plot(range(1, 11), distortions, marker='o')\n",
    "plt.xlabel('Number of clusters')\n",
    "plt.ylabel('Distortion')\n",
    "plt.show()"
   ]
  },
  {
   "cell_type": "code",
   "execution_count": 162,
   "id": "87a14c0c-f9ce-4a32-85cd-ea6b7ef5428a",
   "metadata": {},
   "outputs": [
    {
     "name": "stdout",
     "output_type": "stream",
     "text": [
      "[1 2 1 ... 1 1 1]\n"
     ]
    }
   ],
   "source": [
    "n_cls = 4\n",
    "km = KMeans(n_clusters=n_cls, n_init=10, random_state=5)\n",
    "cls = km.fit_predict(df_scaled)\n",
    "print(cls)\n"
   ]
  },
  {
   "cell_type": "code",
   "execution_count": 163,
   "id": "8e6ede28-f886-4d54-b216-ef3063762a5e",
   "metadata": {},
   "outputs": [
    {
     "data": {
      "text/html": [
       "<div>\n",
       "<style scoped>\n",
       "    .dataframe tbody tr th:only-of-type {\n",
       "        vertical-align: middle;\n",
       "    }\n",
       "\n",
       "    .dataframe tbody tr th {\n",
       "        vertical-align: top;\n",
       "    }\n",
       "\n",
       "    .dataframe thead th {\n",
       "        text-align: right;\n",
       "    }\n",
       "</style>\n",
       "<table border=\"1\" class=\"dataframe\">\n",
       "  <thead>\n",
       "    <tr style=\"text-align: right;\">\n",
       "      <th></th>\n",
       "      <th>fixed acidity</th>\n",
       "      <th>volatile acidity</th>\n",
       "      <th>citric acid</th>\n",
       "      <th>residual sugar</th>\n",
       "      <th>chlorides</th>\n",
       "      <th>free sulfur dioxide</th>\n",
       "      <th>total sulfur dioxide</th>\n",
       "      <th>density</th>\n",
       "      <th>pH</th>\n",
       "      <th>sulphates</th>\n",
       "      <th>alcohol</th>\n",
       "      <th>quality</th>\n",
       "      <th>cluster_no</th>\n",
       "    </tr>\n",
       "  </thead>\n",
       "  <tbody>\n",
       "    <tr>\n",
       "      <th>0</th>\n",
       "      <td>7.4</td>\n",
       "      <td>0.70</td>\n",
       "      <td>0.00</td>\n",
       "      <td>1.9</td>\n",
       "      <td>0.076</td>\n",
       "      <td>11.0</td>\n",
       "      <td>34.0</td>\n",
       "      <td>0.9978</td>\n",
       "      <td>3.51</td>\n",
       "      <td>0.56</td>\n",
       "      <td>9.4</td>\n",
       "      <td>5</td>\n",
       "      <td>1</td>\n",
       "    </tr>\n",
       "    <tr>\n",
       "      <th>1</th>\n",
       "      <td>7.8</td>\n",
       "      <td>0.88</td>\n",
       "      <td>0.00</td>\n",
       "      <td>2.6</td>\n",
       "      <td>0.098</td>\n",
       "      <td>25.0</td>\n",
       "      <td>67.0</td>\n",
       "      <td>0.9968</td>\n",
       "      <td>3.20</td>\n",
       "      <td>0.68</td>\n",
       "      <td>9.8</td>\n",
       "      <td>5</td>\n",
       "      <td>2</td>\n",
       "    </tr>\n",
       "    <tr>\n",
       "      <th>2</th>\n",
       "      <td>7.8</td>\n",
       "      <td>0.76</td>\n",
       "      <td>0.04</td>\n",
       "      <td>2.3</td>\n",
       "      <td>0.092</td>\n",
       "      <td>15.0</td>\n",
       "      <td>54.0</td>\n",
       "      <td>0.9970</td>\n",
       "      <td>3.26</td>\n",
       "      <td>0.65</td>\n",
       "      <td>9.8</td>\n",
       "      <td>5</td>\n",
       "      <td>1</td>\n",
       "    </tr>\n",
       "    <tr>\n",
       "      <th>3</th>\n",
       "      <td>11.2</td>\n",
       "      <td>0.28</td>\n",
       "      <td>0.56</td>\n",
       "      <td>1.9</td>\n",
       "      <td>0.075</td>\n",
       "      <td>17.0</td>\n",
       "      <td>60.0</td>\n",
       "      <td>0.9980</td>\n",
       "      <td>3.16</td>\n",
       "      <td>0.58</td>\n",
       "      <td>9.8</td>\n",
       "      <td>6</td>\n",
       "      <td>0</td>\n",
       "    </tr>\n",
       "    <tr>\n",
       "      <th>4</th>\n",
       "      <td>7.4</td>\n",
       "      <td>0.70</td>\n",
       "      <td>0.00</td>\n",
       "      <td>1.9</td>\n",
       "      <td>0.076</td>\n",
       "      <td>11.0</td>\n",
       "      <td>34.0</td>\n",
       "      <td>0.9978</td>\n",
       "      <td>3.51</td>\n",
       "      <td>0.56</td>\n",
       "      <td>9.4</td>\n",
       "      <td>5</td>\n",
       "      <td>1</td>\n",
       "    </tr>\n",
       "  </tbody>\n",
       "</table>\n",
       "</div>"
      ],
      "text/plain": [
       "   fixed acidity  volatile acidity  citric acid  residual sugar  chlorides  \\\n",
       "0            7.4              0.70         0.00             1.9      0.076   \n",
       "1            7.8              0.88         0.00             2.6      0.098   \n",
       "2            7.8              0.76         0.04             2.3      0.092   \n",
       "3           11.2              0.28         0.56             1.9      0.075   \n",
       "4            7.4              0.70         0.00             1.9      0.076   \n",
       "\n",
       "   free sulfur dioxide  total sulfur dioxide  density    pH  sulphates  \\\n",
       "0                 11.0                  34.0   0.9978  3.51       0.56   \n",
       "1                 25.0                  67.0   0.9968  3.20       0.68   \n",
       "2                 15.0                  54.0   0.9970  3.26       0.65   \n",
       "3                 17.0                  60.0   0.9980  3.16       0.58   \n",
       "4                 11.0                  34.0   0.9978  3.51       0.56   \n",
       "\n",
       "   alcohol  quality  cluster_no  \n",
       "0      9.4        5           1  \n",
       "1      9.8        5           2  \n",
       "2      9.8        5           1  \n",
       "3      9.8        6           0  \n",
       "4      9.4        5           1  "
      ]
     },
     "metadata": {},
     "output_type": "display_data"
    }
   ],
   "source": [
    "df['cluster_no'] = cls\n",
    "display(df.head())"
   ]
  },
  {
   "cell_type": "code",
   "execution_count": 164,
   "id": "f81e56ec-c6a8-49a1-a3a7-b8d1fcd4d328",
   "metadata": {},
   "outputs": [
    {
     "name": "stdout",
     "output_type": "stream",
     "text": [
      "1    703\n",
      "0    480\n",
      "2    388\n",
      "3     28\n",
      "Name: cluster_no, dtype: int64\n"
     ]
    }
   ],
   "source": [
    "print(df['cluster_no'].value_counts())"
   ]
  },
  {
   "cell_type": "code",
   "execution_count": 165,
   "id": "296c8e2c-1e68-45c4-af69-e272450644a9",
   "metadata": {},
   "outputs": [
    {
     "data": {
      "image/png": "[encoded data removed]",
      "text/plain": [
       "<Figure size 640x480 with 1 Axes>"
      ]
     },
     "metadata": {},
     "output_type": "display_data"
    },
    {
     "data": {
      "image/png": "[encoded data removed]",
      "text/plain": [
       "<Figure size 640x480 with 1 Axes>"
      ]
     },
     "metadata": {},
     "output_type": "display_data"
    },
    {
     "data": {
      "image/png": "[encoded data removed]",
      "text/plain": [
       "<Figure size 640x480 with 1 Axes>"
      ]
     },
     "metadata": {},
     "output_type": "display_data"
    },
    {
     "data": {
      "image/png": "[encoded data removed]",
      "text/plain": [
       "<Figure size 640x480 with 1 Axes>"
      ]
     },
     "metadata": {},
     "output_type": "display_data"
    },
    {
     "data": {
      "image/png": "[encoded data removed]",
      "text/plain": [
       "<Figure size 640x480 with 1 Axes>"
      ]
     },
     "metadata": {},
     "output_type": "display_data"
    },
    {
     "data": {
      "image/png": "[encoded data removed]",
      "text/plain": [
       "<Figure size 640x480 with 1 Axes>"
      ]
     },
     "metadata": {},
     "output_type": "display_data"
    },
    {
     "data": {
      "image/png": "[encoded data removed]",
      "text/plain": [
       "<Figure size 640x480 with 1 Axes>"
      ]
     },
     "metadata": {},
     "output_type": "display_data"
    },
    {
     "data": {
      "image/png": "[encoded data removed]",
      "text/plain": [
       "<Figure size 640x480 with 1 Axes>"
      ]
     },
     "metadata": {},
     "output_type": "display_data"
    },
    {
     "data": {
      "image/png": "[encoded data removed]",
      "text/plain": [
       "<Figure size 640x480 with 1 Axes>"
      ]
     },
     "metadata": {},
     "output_type": "display_data"
    },
    {
     "data": {
      "image/png": "[encoded data removed]",
      "text/plain": [
       "<Figure size 640x480 with 1 Axes>"
      ]
     },
     "metadata": {},
     "output_type": "display_data"
    },
    {
     "data": {
      "image/png": "[encoded data removed]",
      "text/plain": [
       "<Figure size 640x480 with 1 Axes>"
      ]
     },
     "metadata": {},
     "output_type": "display_data"
    },
    {
     "data": {
      "image/png": "[encoded data removed]",
      "text/plain": [
       "<Figure size 640x480 with 1 Axes>"
      ]
     },
     "metadata": {},
     "output_type": "display_data"
    }
   ],
   "source": [
    "cols = list(df.columns)\n",
    "for c in cols:\n",
    "    if c == 'cluster_no': continue\n",
    "    dat = []\n",
    "    for i in range(n_cls):\n",
    "        df_cls = df[ df['cluster_no']==i ]\n",
    "        dat.append(df_cls[c])\n",
    "    plt.boxplot(dat, labels=range(n_cls))\n",
    "    plt.xlabel('Cluster No.')\n",
    "    plt.ylabel(c)\n",
    "    plt.show()"
   ]
  },
  {
   "cell_type": "code",
   "execution_count": null,
   "id": "4b9d39a6-eba6-4ac2-94bc-ab1a2d5e5981",
   "metadata": {},
   "outputs": [],
   "source": []
  }
 ],
 "metadata": {
  "kernelspec": {
   "display_name": "Python 3 (ipykernel)",
   "language": "python",
   "name": "python3"
  },
  "language_info": {
   "codemirror_mode": {
    "name": "ipython",
    "version": 3
   },
   "file_extension": ".py",
   "mimetype": "text/x-python",
   "name": "python",
   "nbconvert_exporter": "python",
   "pygments_lexer": "ipython3",
   "version": "3.8.16"
  }
 },
 "nbformat": 4,
 "nbformat_minor": 5
}
