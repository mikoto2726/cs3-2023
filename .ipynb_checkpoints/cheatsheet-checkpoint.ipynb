{
 "cells": [
  {
   "cell_type": "markdown",
   "id": "0b2005aa-5079-45ac-ba7b-7d2c7a6cced3",
   "metadata": {},
   "source": [
    "Numpyはndarrayと呼ばれるデータ型を用いる\n",
    "Pandasは表はDataFrame、表から取り出した1行または1列はSeriesと呼ばれるデータ型を用いる\n"
   ]
  },
  {
   "cell_type": "code",
   "execution_count": 16,
   "id": "956c956d-7f07-4238-bbe6-655e01529c50",
   "metadata": {},
   "outputs": [],
   "source": [
    "import numpy as np #numpyにnpという別名を付けてimport\n",
    "import pandas as pd #pandasにpdという別名を付けてimport\n",
    "import matplotlib.pyplot as plt #グラフ描画のためのライブラリmatplotlibをimportする\n"
   ]
  },
  {
   "cell_type": "code",
   "execution_count": 2,
   "id": "fd57a049-467e-46a1-a465-cc20f4fc1015",
   "metadata": {},
   "outputs": [
    {
     "name": "stdout",
     "output_type": "stream",
     "text": [
      "[0, 1, 2]\n",
      "<class 'list'>\n",
      "[0 1 2]\n",
      "<class 'numpy.ndarray'>\n",
      "[0, 1, 2, 0, 1, 2]\n",
      "[0 2 4]\n"
     ]
    }
   ],
   "source": [
    "\n",
    "#ndarrayの作り方\n",
    "lst = [0, 1, 2]\n",
    "nd = np.array(lst)\n",
    "print(lst)\n",
    "print(type(lst)) #lstはlist型\n",
    "print(nd)\n",
    "print(type(nd)) #ndはndarray型\n",
    "\n",
    "print(lst * 2) #全要素の2回繰り返し\n",
    "print(nd * 2) #全要素の数値が2倍"
   ]
  },
  {
   "cell_type": "code",
   "execution_count": 3,
   "id": "fbad461b-ef80-42c4-b34c-1aadeb76e430",
   "metadata": {},
   "outputs": [
    {
     "name": "stdout",
     "output_type": "stream",
     "text": [
      "[3 5 7]\n",
      "[ 0  4 10]\n"
     ]
    }
   ],
   "source": [
    "a = np.array([0, 1, 2])\n",
    "b = np.array([3, 4, 5])\n",
    "print(a + b) #adarrayはいずれも対応する要素同士の演算になる\n",
    "print(a * b)"
   ]
  },
  {
   "cell_type": "code",
   "execution_count": 4,
   "id": "ebf22914-f445-48bb-9ceb-d2d85561d27a",
   "metadata": {},
   "outputs": [
    {
     "name": "stdout",
     "output_type": "stream",
     "text": [
      "[ 0  4 10]\n"
     ]
    }
   ],
   "source": [
    "#下の方が計算が高速\n",
    "a = np.array([0, 1, 2])\n",
    "b = np.array([3, 4, 5])\n",
    "c = []\n",
    "for i in range(len(a)):\n",
    "    c.append(a[i] * b[i])\n",
    "c = np.array(c)\n",
    "print(c)"
   ]
  },
  {
   "cell_type": "code",
   "execution_count": 5,
   "id": "3f71ddba-1398-4d09-827d-51eabcfdb9d0",
   "metadata": {},
   "outputs": [
    {
     "name": "stdout",
     "output_type": "stream",
     "text": [
      "[0 1 2]\n",
      "[[0 1 2]\n",
      " [3 4 5]]\n",
      "[[[ 0  1  2]\n",
      "  [ 3  4  5]]\n",
      "\n",
      " [[ 6  7  8]\n",
      "  [ 9 10 11]]]\n"
     ]
    }
   ],
   "source": [
    "a1 = np.array([0, 1, 2])\n",
    "a2 = np.array([[0, 1, 2], [3, 4, 5]])\n",
    "a3 = np.array([[[0, 1, 2], [3, 4, 5]], [[6, 7, 8], [9, 10, 11]]])\n",
    "print(a1)\n",
    "print(a2)\n",
    "print(a3)"
   ]
  },
  {
   "cell_type": "code",
   "execution_count": 6,
   "id": "f4f588af-c196-41e7-b002-6d145177eafc",
   "metadata": {},
   "outputs": [
    {
     "name": "stdout",
     "output_type": "stream",
     "text": [
      "(3,)\n",
      "(2, 3)\n",
      "(2, 2, 3)\n"
     ]
    }
   ],
   "source": [
    "#属性shapeは各軸（次元）の要素数\n",
    "print(a1.shape) #3要素の1次元配列\n",
    "print(a2.shape) #3要素の1次元配列が2つ並んだ2次元配列\n",
    "print(a3.shape) #2行3列の2次元配列が2つ並んだ3次元配列"
   ]
  },
  {
   "cell_type": "code",
   "execution_count": 7,
   "id": "815f668a-b301-441b-b551-511e4b5f56d9",
   "metadata": {},
   "outputs": [
    {
     "name": "stdout",
     "output_type": "stream",
     "text": [
      "<class 'pandas.core.frame.DataFrame'>\n",
      "(2, 3)\n"
     ]
    },
    {
     "data": {
      "text/html": [
       "<div>\n",
       "<style scoped>\n",
       "    .dataframe tbody tr th:only-of-type {\n",
       "        vertical-align: middle;\n",
       "    }\n",
       "\n",
       "    .dataframe tbody tr th {\n",
       "        vertical-align: top;\n",
       "    }\n",
       "\n",
       "    .dataframe thead th {\n",
       "        text-align: right;\n",
       "    }\n",
       "</style>\n",
       "<table border=\"1\" class=\"dataframe\">\n",
       "  <thead>\n",
       "    <tr style=\"text-align: right;\">\n",
       "      <th></th>\n",
       "      <th>c0</th>\n",
       "      <th>c1</th>\n",
       "      <th>c2</th>\n",
       "    </tr>\n",
       "  </thead>\n",
       "  <tbody>\n",
       "    <tr>\n",
       "      <th>r0</th>\n",
       "      <td>0</td>\n",
       "      <td>1</td>\n",
       "      <td>2</td>\n",
       "    </tr>\n",
       "    <tr>\n",
       "      <th>r1</th>\n",
       "      <td>3</td>\n",
       "      <td>4</td>\n",
       "      <td>5</td>\n",
       "    </tr>\n",
       "  </tbody>\n",
       "</table>\n",
       "</div>"
      ],
      "text/plain": [
       "    c0  c1  c2\n",
       "r0   0   1   2\n",
       "r1   3   4   5"
      ]
     },
     "metadata": {},
     "output_type": "display_data"
    }
   ],
   "source": [
    "#DataFrameは、2次元のndarrayに行(index)と列(columns)を付加したもの\n",
    "#pd.DataFrame関数に2次元リストとcolumnsを設定するためのリストを与えるとDataFrameを簡単に作れる\n",
    "df = pd.DataFrame([[0, 1, 2], [3, 4, 5]], columns = ['c0', 'c1', 'c2'], index = ['r0', 'r1'])\n",
    "print(type(df))\n",
    "print(df.shape)\n",
    "display(df) #displayはDataFrameを表にして表示してくれる"
   ]
  },
  {
   "cell_type": "code",
   "execution_count": 8,
   "id": "cb6d08b3-7a40-474f-93f7-60da064c5b46",
   "metadata": {},
   "outputs": [
    {
     "data": {
      "text/html": [
       "<div>\n",
       "<style scoped>\n",
       "    .dataframe tbody tr th:only-of-type {\n",
       "        vertical-align: middle;\n",
       "    }\n",
       "\n",
       "    .dataframe tbody tr th {\n",
       "        vertical-align: top;\n",
       "    }\n",
       "\n",
       "    .dataframe thead th {\n",
       "        text-align: right;\n",
       "    }\n",
       "</style>\n",
       "<table border=\"1\" class=\"dataframe\">\n",
       "  <thead>\n",
       "    <tr style=\"text-align: right;\">\n",
       "      <th></th>\n",
       "      <th>0</th>\n",
       "      <th>1</th>\n",
       "      <th>2</th>\n",
       "    </tr>\n",
       "  </thead>\n",
       "  <tbody>\n",
       "    <tr>\n",
       "      <th>0</th>\n",
       "      <td>0</td>\n",
       "      <td>1</td>\n",
       "      <td>2</td>\n",
       "    </tr>\n",
       "    <tr>\n",
       "      <th>1</th>\n",
       "      <td>3</td>\n",
       "      <td>4</td>\n",
       "      <td>5</td>\n",
       "    </tr>\n",
       "  </tbody>\n",
       "</table>\n",
       "</div>"
      ],
      "text/plain": [
       "   0  1  2\n",
       "0  0  1  2\n",
       "1  3  4  5"
      ]
     },
     "metadata": {},
     "output_type": "display_data"
    },
    {
     "data": {
      "text/html": [
       "<div>\n",
       "<style scoped>\n",
       "    .dataframe tbody tr th:only-of-type {\n",
       "        vertical-align: middle;\n",
       "    }\n",
       "\n",
       "    .dataframe tbody tr th {\n",
       "        vertical-align: top;\n",
       "    }\n",
       "\n",
       "    .dataframe thead th {\n",
       "        text-align: right;\n",
       "    }\n",
       "</style>\n",
       "<table border=\"1\" class=\"dataframe\">\n",
       "  <thead>\n",
       "    <tr style=\"text-align: right;\">\n",
       "      <th></th>\n",
       "      <th>c0</th>\n",
       "      <th>c1</th>\n",
       "      <th>c2</th>\n",
       "    </tr>\n",
       "  </thead>\n",
       "  <tbody>\n",
       "    <tr>\n",
       "      <th>r0</th>\n",
       "      <td>0</td>\n",
       "      <td>1</td>\n",
       "      <td>2</td>\n",
       "    </tr>\n",
       "    <tr>\n",
       "      <th>r1</th>\n",
       "      <td>3</td>\n",
       "      <td>4</td>\n",
       "      <td>5</td>\n",
       "    </tr>\n",
       "  </tbody>\n",
       "</table>\n",
       "</div>"
      ],
      "text/plain": [
       "    c0  c1  c2\n",
       "r0   0   1   2\n",
       "r1   3   4   5"
      ]
     },
     "metadata": {},
     "output_type": "display_data"
    }
   ],
   "source": [
    "#DataFrameのindex属性とcolumns属性にリストを代入することで、行番号と列ラベルを後で指定できる\n",
    "df3 = pd.DataFrame([[0, 1, 2], [3, 4, 5]])\n",
    "display(df3)                 \n",
    "df3.index = ['r0', 'r1']\n",
    "df3.columns = ['c0', 'c1', 'c2']\n",
    "display(df3)"
   ]
  },
  {
   "cell_type": "code",
   "execution_count": 9,
   "id": "68dcc445-bd58-4ce2-9970-a93dee56442b",
   "metadata": {},
   "outputs": [
    {
     "name": "stdout",
     "output_type": "stream",
     "text": [
      "<class 'numpy.ndarray'>\n",
      "[[0 1 2]\n",
      " [3 4 5]]\n"
     ]
    }
   ],
   "source": [
    "#to_numpyメソッドでindexとcolumnsを除いた2次元のndarrayだけを取り出す事が出来る\n",
    "print(type(df3.to_numpy()))\n",
    "print(df3.to_numpy())"
   ]
  },
  {
   "cell_type": "code",
   "execution_count": 10,
   "id": "5496fa38-577b-40df-9140-d3c4439daaa3",
   "metadata": {},
   "outputs": [],
   "source": [
    "#print(df.info())\n",
    "#print(df.head(n)) nは書かないと5の初期設定\n",
    "#print(df.tail())\n",
    "#print(df.tail(N)) 末尾を表示させる"
   ]
  },
  {
   "cell_type": "code",
   "execution_count": 11,
   "id": "97b18941-cf73-44a6-91b3-2283059ac744",
   "metadata": {},
   "outputs": [],
   "source": [
    "#変数 = pd.read_csv('CSVファイル名', sep=',', skiprows=N, header=M)\n",
    "# もしくは \n",
    "# csv_in ='csvファイル名'\n",
    "# 変数 = pd.read_csv(csv_in, sep=',', skiprows=N, header=M)\n",
    "# 区切り字がTab文字の場合はsep='\\t'、空白文字の場合はsep='\\s+'とする。\n",
    "# sep=を省略した場合は区切り字はコンマとみなされる\n",
    "\n",
    "# 先頭の読み飛ばすべきデータ以外の行がない場合はskiprows=0とする\n",
    "#非データ行の行頭に#がついている物はskiprowsの代わりにcomment='#'で読み飛ばせる\n",
    "\n",
    "# 列ラベルの行がない場合はheader=Noneとする"
   ]
  },
  {
   "cell_type": "code",
   "execution_count": 12,
   "id": "8c2c4ea6-5b61-408a-a105-90fb46b9f4c7",
   "metadata": {},
   "outputs": [],
   "source": [
    "# 変数 = データフレーム[列名]でデータフレーム（表）の１列分のデータを取り出せる\n",
    "# 変数 = データフレーム[列名リスト]でデータフレームの複数のデータを取り出せる\n",
    "#例　df1 = df[['Region', 'Milk', 'Grocery']]"
   ]
  },
  {
   "cell_type": "code",
   "execution_count": 13,
   "id": "251a8d86-f699-4f7e-8f11-67ee25fc97b1",
   "metadata": {},
   "outputs": [],
   "source": [
    "# 複数列の取り出しは　変数 = データフレーム.loc[先頭行の行番号:末尾行の行番号, 先頭列の列ラベル:末尾列の列ラベル]\n",
    "# 例 df3 = df.loc[1:3, 'Milk':'Frozen']\n",
    "# 行番号や列ラベルを省略すると先頭から末尾までになる"
   ]
  },
  {
   "cell_type": "code",
   "execution_count": 14,
   "id": "309bfa2c-3c72-4ded-b0c1-485e7be08fe5",
   "metadata": {},
   "outputs": [],
   "source": [
    "# 列番号を用いて複数列を取り出す場合はilocを使う\n",
    "# 変数 = データフレーム.iloc[先頭行の行番号:末尾行の１つ先の行番号, 先頭列の列番号:末尾列の１つ先の列番号]"
   ]
  },
  {
   "cell_type": "code",
   "execution_count": 15,
   "id": "d52c9d3b-98a2-4cdc-ae56-e8aab5fb1767",
   "metadata": {},
   "outputs": [],
   "source": [
    "# 一定間隔での取り出し、逆順での取り出し\n",
    "# 例 display(df.iloc[2:15:2, 14:3:-1])\n",
    "# 行番号2から14まで、2行ごと\n",
    "# 列番号14から4まで、逆順に1列ごと"
   ]
  },
  {
   "cell_type": "code",
   "execution_count": 16,
   "id": "d8775d70-f60a-461a-8280-1dfef9145297",
   "metadata": {},
   "outputs": [
    {
     "name": "stdout",
     "output_type": "stream",
     "text": [
      "[0 1 2]\n",
      "0\n"
     ]
    }
   ],
   "source": [
    "# ndarrayに対して各軸の番号を指定することで要素の値を取り出せる\n",
    "a1 = np.array([0, 1, 2])\n",
    "print(a1)\n",
    "print(a1[0])"
   ]
  },
  {
   "cell_type": "code",
   "execution_count": 17,
   "id": "32e44002-1520-4240-899e-805bf81bd60a",
   "metadata": {},
   "outputs": [
    {
     "name": "stdout",
     "output_type": "stream",
     "text": [
      "[[0 1 2]\n",
      " [3 4 5]]\n",
      "1\n"
     ]
    }
   ],
   "source": [
    "a2 = np.array([[0, 1, 2], [3, 4, 5]])\n",
    "print(a2)\n",
    "print(a2[0, 1])"
   ]
  },
  {
   "cell_type": "code",
   "execution_count": 18,
   "id": "7c6b1ae8-0012-4d41-b9d9-5ed0f2de5ca4",
   "metadata": {},
   "outputs": [
    {
     "name": "stdout",
     "output_type": "stream",
     "text": [
      "[[[ 0  1  2]\n",
      "  [ 3  4  5]]\n",
      "\n",
      " [[ 6  7  8]\n",
      "  [ 9 10 11]]]\n",
      "8\n"
     ]
    }
   ],
   "source": [
    "a3 = np.array([[[0, 1, 2], [3, 4, 5]], [[6, 7, 8], [9, 10, 11]]])\n",
    "print(a3)\n",
    "print(a3[1, 0, 2])"
   ]
  },
  {
   "cell_type": "code",
   "execution_count": 19,
   "id": "2abebe8f-ff9e-4917-bff5-65e9622e1b46",
   "metadata": {},
   "outputs": [
    {
     "name": "stdout",
     "output_type": "stream",
     "text": [
      "[99  1  2]\n",
      "[[ 0 99  2]\n",
      " [ 3  4  5]]\n",
      "[[[ 0  1  2]\n",
      "  [ 3  4  5]]\n",
      "\n",
      " [[ 6  7 99]\n",
      "  [ 9 10 11]]]\n"
     ]
    }
   ],
   "source": [
    "# 取り出す代わりに値を代入すると値を変更できる\n",
    "a1[0] = 99\n",
    "print(a1)\n",
    "a2[0, 1] = 99\n",
    "print(a2)\n",
    "a3[1, 0, 2] = 99\n",
    "print(a3)"
   ]
  },
  {
   "cell_type": "code",
   "execution_count": 20,
   "id": "cec46473-4f62-48e6-bd66-a479dd052036",
   "metadata": {},
   "outputs": [],
   "source": [
    "# DataFrameに対してatを使って行番号と列ラベルを指定できる\n",
    "# print(df6.at[2, 'Frozen'])"
   ]
  },
  {
   "cell_type": "code",
   "execution_count": 21,
   "id": "666ba9c7-61f9-47b8-abf9-e965e2d24c97",
   "metadata": {},
   "outputs": [],
   "source": [
    "# atの代わりにiatを使うと番号で1つの要素を指定できる\n",
    "# print(df6.iat[2, 1])"
   ]
  },
  {
   "cell_type": "code",
   "execution_count": 22,
   "id": "f708e07a-27db-41c3-8a84-dd544e132916",
   "metadata": {},
   "outputs": [],
   "source": [
    "# DataFrameでも値の代入によって要素の1つを変更できる\n",
    "# df6.at[2, 'Frozen'] = 99\n",
    "# df6.iat[2, 1] = 88"
   ]
  },
  {
   "cell_type": "code",
   "execution_count": 24,
   "id": "086dbffb-8b03-4e29-98ee-4195644f6900",
   "metadata": {},
   "outputs": [],
   "source": [
    "#カテゴリー変数の値を頻度はseriesのvalue_counts()で取得\n",
    "#print(df['Region'].value_counts())\n",
    "#データ数がわかる"
   ]
  },
  {
   "cell_type": "code",
   "execution_count": 25,
   "id": "dd295403-4ddf-4b3d-b520-01131f9dbbfc",
   "metadata": {},
   "outputs": [],
   "source": [
    "#print(df.sum(axis=0)) 各列の和\n",
    "#print(df.sum(axis=1)) 各行の和"
   ]
  },
  {
   "cell_type": "code",
   "execution_count": 27,
   "id": "75e6a3d7-16cc-46c7-9f11-362dd66dee0d",
   "metadata": {},
   "outputs": [],
   "source": [
    "#pandasにはsumに加えて以下のような様々な統計用関数が用意されている\n",
    "#総和:sum()\n",
    "#最小:min()\n",
    "#最大:max\n",
    "#平均:mean()\n",
    "#中央値:median()\n",
    "#分散(不偏分散):var() 母分散はvar(ddof=0)\n",
    "#標準偏差(不偏標準偏差):std() 母標準偏差はstd(ddof=0)\n",
    "#データフレームに非数値行が含まれているときはnumeric_only=Trueオプションを追加する"
   ]
  },
  {
   "cell_type": "code",
   "execution_count": 28,
   "id": "aae4b7ac-0d42-4672-9e51-11f56c61541a",
   "metadata": {},
   "outputs": [],
   "source": [
    "#Numpyの統計用関数\n",
    "#総和:sum()\n",
    "#最小:amin()\n",
    "#最大:amax()\n",
    "#平均:mean()\n",
    "#中央:median()\n",
    "#分散:(母分散):var() 不偏分散はvar(データ, ddof=1)\n",
    "#標準偏差(母標準偏差):std() 不偏標準偏差はstd(データ, ddof=1)"
   ]
  },
  {
   "cell_type": "code",
   "execution_count": 33,
   "id": "423027fd-7f21-4e8a-accd-0481e1f5c307",
   "metadata": {},
   "outputs": [],
   "source": [
    "#display(df.describe())　数値変数の列\n",
    "#count:データ個数\n",
    "#mean:平均\n",
    "#std:標準偏差\n",
    "#min:最小\n",
    "#25％,50％,75％:各四分位数\n",
    "#max:最大"
   ]
  },
  {
   "cell_type": "code",
   "execution_count": 34,
   "id": "2a363d8f-34c6-45a5-bbae-88a912b0a4d8",
   "metadata": {},
   "outputs": [],
   "source": [
    "#display(df.describe(exclude=[np.number]))　カテゴリー変数の列\n",
    "#count:データ個数\n",
    "#unique:値の種類\n",
    "#top:最頻値\n",
    "#freq:最頻値の度数"
   ]
  },
  {
   "cell_type": "code",
   "execution_count": 35,
   "id": "8535aca2-524e-4234-92c8-97645e8140e6",
   "metadata": {},
   "outputs": [],
   "source": [
    "#channel列は値は数値だがカテゴリー変数なのでdf.describe(exclude=[np.number])の方に表示させる方が適当です\n",
    "#そのために、astypeメソッドを使ってchannel列のデータ型をcategoryに変更する\n",
    "#df['Channel']=df['Channel'].astype('category')\n",
    "#print(df.info) channel列のデータ型がcategoryに変わっている "
   ]
  },
  {
   "cell_type": "code",
   "execution_count": 36,
   "id": "0f9a4009-06fa-4b7a-9a51-23c22c0d039b",
   "metadata": {},
   "outputs": [],
   "source": [
    "#plt.boxplot(df_num, labels=df_num.columns) 箱ひげ図を置く\n",
    "#plt.xticks(rotation=90) x軸目盛ラベルを90度回転\n",
    "#plt.ylabel('Annual spending [m.u.]')　y軸ラベルを設定\n",
    "#plt.show()　グラフ全体を描画"
   ]
  },
  {
   "cell_type": "code",
   "execution_count": 1,
   "id": "f503ccb3-363a-4c3b-ac0d-d99b194a9575",
   "metadata": {},
   "outputs": [],
   "source": [
    "#グラフ装飾用の関数\n",
    "#plt.plot(折れ線グラフ)\n",
    "#plt.boxplot(箱ひげ図)\n",
    "#plt.hist(ヒストグラム)\n",
    "#plt.scatter(散布図)\n",
    "\n",
    "#plt.title() タイトル\n",
    "#plt.xlabel()　ｘ軸ラベル\n",
    "#plt.ylabel()　ｙ軸ラベル\n",
    "#plt.xticks()　ｘ軸目盛ラベル\n",
    "#plt.yticks()　ｙ軸目盛ラベル\n",
    "#plt.xlim()　ｘ軸の描画範囲\n",
    "#plt.ylim()　ｙ軸の描画範囲\n",
    "#plt.xscale()　ｘ軸の目盛の種類\n",
    "#plt.yscale()　ｙ軸の目盛の種類\n",
    "#plt.legend()　凡例\n",
    "#plt.tick_paramas()　目盛や軸ラベルなどの書式設定"
   ]
  },
  {
   "cell_type": "code",
   "execution_count": 38,
   "id": "c062f33c-e1c4-4faf-82f2-4a83d1fd8523",
   "metadata": {},
   "outputs": [],
   "source": [
    "#plt.boxplot(df_num[['Fresh','Grocery']], labels=['Fr','Gr'])\n",
    "#plt.ylabel('Annual spending [m.u.]')\n",
    "#plt.xticks(fontsize=24)\n",
    "#plt.show()"
   ]
  },
  {
   "cell_type": "code",
   "execution_count": 39,
   "id": "3f90b642-1466-4bde-a7d5-87742dda1a17",
   "metadata": {},
   "outputs": [],
   "source": [
    "#plt.hist(df_num['Fresh'])　ヒストグラムを置く\n",
    "#plt.xlanel('Annual spending [m.u.]')　ｘ軸ラベルを設定\n",
    "#plt.ylabel('Frequency')　ｙ軸ラベルを設定\n",
    "#plt.show()　グラフ全体を描画"
   ]
  },
  {
   "cell_type": "code",
   "execution_count": 40,
   "id": "d7c1d20f-17d3-4bd2-a3ed-637de228b88b",
   "metadata": {},
   "outputs": [],
   "source": [
    "#オプション引数の例\n",
    "#幅:bins=N (デフォルトはN=10）\n",
    "#density=True　デフォルトはFalse　Trueにすると確率密度分布になる"
   ]
  },
  {
   "cell_type": "code",
   "execution_count": 41,
   "id": "4c10db5a-6f39-4365-a7fa-ed80822f6364",
   "metadata": {},
   "outputs": [],
   "source": [
    "#ser1 = 2 * df['Fresh'] + df['Frozen'] - 20000\n",
    "#このように列の数値をまとめて一気に計算できる"
   ]
  },
  {
   "cell_type": "code",
   "execution_count": 43,
   "id": "6cce1941-214c-4bc4-9404-34ca6587148d",
   "metadata": {},
   "outputs": [],
   "source": [
    "#df['new_col'] = ser1 のようにdfに新しい列を追加できる"
   ]
  },
  {
   "cell_type": "code",
   "execution_count": 44,
   "id": "319d61de-3637-4624-a4bf-c76dcc517fc9",
   "metadata": {},
   "outputs": [],
   "source": [
    "#dfから指定した列を削除する\n",
    "#df_drop_c = df.drop(columns='Detergents_Paper') Detergents_Papaer列を削除する\n",
    "#dfから指定した行を削除する\n",
    "#df_drop_r = df.drop(index[1,3]) 1,3行目を削除する"
   ]
  },
  {
   "cell_type": "code",
   "execution_count": 47,
   "id": "b1316ea9-df92-446a-b118-01922c147ed6",
   "metadata": {},
   "outputs": [],
   "source": [
    "#スライスで連続する行、列をして削除することもできる\n",
    "#df_drop_c2 = df.drop(df.loc[:, 'Fresh':'Frozen'],axis=1)\n",
    "#dfのFresh列からFrozen列までを削除\n",
    "#df_drop_r2 = df.drop(df.index[1:3])\n",
    "#dfの行番号1から2まで削除"
   ]
  },
  {
   "cell_type": "code",
   "execution_count": 48,
   "id": "1c630d50-111d-44da-bc9c-430dc2fb7c5f",
   "metadata": {},
   "outputs": [],
   "source": [
    "#inplaceを使えば新しい変数に入れなくても直接変わる\n",
    "#df.drop(columns='new_col', inplace=True)"
   ]
  },
  {
   "cell_type": "code",
   "execution_count": 49,
   "id": "94a908d2-36ab-4946-a030-5a120b8a0e5c",
   "metadata": {},
   "outputs": [],
   "source": [
    "#df_ret1=df[df['Region']=='Lisbon'] dfの中でRegion列の値がLisbonの行を抜き出す\n",
    "#df_ret1=df[df['Region']!='Lisbon'] dfの中でRegion列の値がLibon以外の行を抜き出す\n",
    "#df_ret1=df[df['列名']<='値1'] dfの中で列名の列の値が値1以下の行を抜き出す\n",
    "#df_ret1=df[df['列名'].str.match(r'正規表現パターン')]　dfの中で列名の列の値が正規表現にマッチする行を抜き出す\n",
    "#df_ret1=df[df['列名'].isin(['値1','値2'])　dfの中で列名の列の値が値1、値2のいずれかである行"
   ]
  },
  {
   "cell_type": "code",
   "execution_count": 50,
   "id": "8bc547ca-bca1-4b33-9af4-395c98633035",
   "metadata": {},
   "outputs": [],
   "source": [
    "#df_ret2=df[(df['Region']=='Other')&(df['Fresh']>100000)]\n",
    "#dfの中でRegion列の値がOtherかつ100000より大きい行を抜き出す"
   ]
  },
  {
   "cell_type": "code",
   "execution_count": 51,
   "id": "fbd36797-1348-45f5-8a63-0c0a237d8037",
   "metadata": {},
   "outputs": [],
   "source": [
    "#df_ret2=df[~(df['Region']=='Other')|(df['Fresh']>100000)]\n",
    "#dfの中でRegion列の値がOtherではない、またはFresh列が100000より大きい行を抜き出す"
   ]
  },
  {
   "cell_type": "code",
   "execution_count": 52,
   "id": "9e56232b-a4b3-43b8-beec-847689a167c2",
   "metadata": {},
   "outputs": [],
   "source": [
    "#dfの中でRegion列の値がOtherの行を削除したいときはOther以外の行を取り出すと考えればいい\n",
    "#df_ret4=df[~(df['Region']=='Other')]"
   ]
  },
  {
   "cell_type": "code",
   "execution_count": 54,
   "id": "3a3728b7-a630-4e6b-956d-d014cd0aa7fa",
   "metadata": {},
   "outputs": [],
   "source": [
    "#df_ret5=df_ret3.reset_index(drop=True)\n",
    "#reset_index()を用いると不連続になっていた行番号を0から始まる連番に直せる\n",
    "#drop=Trueがあることによって元の列番号がindex列にならない"
   ]
  },
  {
   "cell_type": "code",
   "execution_count": 55,
   "id": "deff37ad-8600-4034-9d7c-071cee45b1b1",
   "metadata": {},
   "outputs": [],
   "source": [
    "#df1=df.sort_values(by='列名', ascending=True or False)\n",
    "#Trueだと昇順"
   ]
  },
  {
   "cell_type": "code",
   "execution_count": 56,
   "id": "c49f4abd-518a-4ff2-bcfe-716c72faf30a",
   "metadata": {},
   "outputs": [],
   "source": [
    "#df1=df['Fresh'].idxmax() Fresh列の最大値に対応する行番号が取得できる\n",
    "#df1=df['Fresh'].idxmin() Fresh列の最小値に対応する行番号が取得できる"
   ]
  },
  {
   "cell_type": "code",
   "execution_count": 58,
   "id": "cbb6740a-5d4a-4113-8b0a-ce99cda2c6a7",
   "metadata": {},
   "outputs": [
    {
     "name": "stdout",
     "output_type": "stream",
     "text": [
      "7 -2\n",
      "2 1\n"
     ]
    }
   ],
   "source": [
    "a = np.array([5,-2,7,4,1])\n",
    "print(a.max(),a.min())\n",
    "print(a.argmax(),a.argmin())\n",
    "#ndarrayの最大値、最小値に対応するindexはargmax(),argmin()で取得できる"
   ]
  },
  {
   "cell_type": "code",
   "execution_count": 18,
   "id": "018fcc72-03b4-4d1a-aae1-b61cb35f883c",
   "metadata": {},
   "outputs": [],
   "source": [
    "#重複業のチェック\n",
    "#display(df[df.duplicated(keep=False)])\n",
    "#dfの重複した行だけを取り出す事が出来る"
   ]
  },
  {
   "cell_type": "code",
   "execution_count": 62,
   "id": "9136d7b8-b217-4558-a2b0-0e8fed37ec2d",
   "metadata": {},
   "outputs": [],
   "source": [
    "#df1=df.drop_duplicates()で重複行を削除できる\n",
    "#削除によって列番号が不連続になってしまうのでreset_index()で0から始まる連番に振りなおす\n",
    "#df1=df.drop_duplicates().reset_index(drop=True)"
   ]
  },
  {
   "cell_type": "code",
   "execution_count": 63,
   "id": "35f66f5e-e1ab-4ba1-ac8d-0790358e91d0",
   "metadata": {},
   "outputs": [],
   "source": [
    "#列ごとの欠損値の数を取得するには\n",
    "#print(df.isna().sum())\n",
    "#print(df.sinull().sum())"
   ]
  },
  {
   "cell_type": "code",
   "execution_count": 64,
   "id": "bed7047b-8159-41ce-83e6-afbd97277eda",
   "metadata": {},
   "outputs": [],
   "source": [
    "#欠損値を1つでも含む行を表示するにはdisplay(df[df.isna().any(axis=1)])"
   ]
  },
  {
   "cell_type": "code",
   "execution_count": 65,
   "id": "13f3cd27-3347-4613-a93f-6cfa71d96396",
   "metadata": {},
   "outputs": [],
   "source": [
    "#df1=df.fillna(10) 10で埋める\n",
    "#df1=df.fillna(method='bfill')1つ先の非欠損値で埋める\n",
    "#df1=df.fillna(method='ffill')1つ手前の非欠損値で埋める"
   ]
  },
  {
   "cell_type": "code",
   "execution_count": 66,
   "id": "085f8b91-9bd0-4635-9376-979a45e8170b",
   "metadata": {},
   "outputs": [],
   "source": [
    "#mu=df.mean(numeric_only=True) 各列の平均\n",
    "#df_filled=df.fillna(mu)　各列の平均で欠損値を埋める"
   ]
  },
  {
   "cell_type": "code",
   "execution_count": 1,
   "id": "27332a1c-06fd-4aba-93b9-66fa3100341c",
   "metadata": {},
   "outputs": [],
   "source": [
    "#df['Milk']=df['milk'].fillna(埋める値)　milk列の欠損値を指定した値で埋める"
   ]
  },
  {
   "cell_type": "code",
   "execution_count": 68,
   "id": "1af6d160-9fa6-445f-975e-4f15017492c7",
   "metadata": {},
   "outputs": [],
   "source": [
    "#df1=df.dropna() 1つでも欠損値を含む行を削除\n",
    "#df1=df.dropna(how='all')　すべての値が欠損値の行を削除\n",
    "#df1=df.dropma(axis=1)　1つでも欠損値を含む列を削除"
   ]
  },
  {
   "cell_type": "code",
   "execution_count": 69,
   "id": "258a5dfe-bb68-4d5a-aa36-6fbcc4fd37ca",
   "metadata": {},
   "outputs": [],
   "source": [
    "#df['Milk'] = df['Milk'].astype('int') Milk列のデータ型をintに変更"
   ]
  },
  {
   "cell_type": "code",
   "execution_count": 70,
   "id": "41a5319d-eabc-403d-8c8a-1b093abe6c1f",
   "metadata": {},
   "outputs": [],
   "source": [
    "#表記ゆれ等への対応\n",
    "#print(df['Region'].value_counts())　表記ゆれやスペルミスがあるか確認する\n",
    "#df['Region']=df['Region'].replace('other','Other') otherをOtherに変更\n",
    "#df['Region']=df['Region'].replace(['lisbon','Lisbn'],'Lisbon')\n",
    "#df['Region']=df['Region'].replace({'porto':'Oporto','Porto':'Oporto','Otheer':Other',})"
   ]
  },
  {
   "cell_type": "code",
   "execution_count": 71,
   "id": "12b1db88-98c3-4b4d-8f93-6172470fbd7a",
   "metadata": {},
   "outputs": [],
   "source": [
    "#ser_fresh=df['Fresh'].map(lambda x: 10000 if x > 10000 else x)\n",
    "#Fresh列の各値が引数xに代入される。xが10000より大きいなら10000に置き換え、そうでなければ元の値xのままにする"
   ]
  },
  {
   "cell_type": "code",
   "execution_count": 73,
   "id": "a3d8889f-a95a-4c36-ace6-6f634b55df39",
   "metadata": {},
   "outputs": [],
   "source": [
    "#クレンジング済みデータの保存\n",
    "#データフレーム.to_csv('出力CSVファイル名(保存先の名前）', index=False または True, encoding=出力ファイルの文字コード)\n",
    "#index=Trueとすると、index列が追加され行番号がそこに格納されます\n",
    "#行番号をCSVファイルに保存する必要がない場合はindex=Falseとします"
   ]
  },
  {
   "cell_type": "code",
   "execution_count": 75,
   "id": "5be59a41-060d-41cb-9f97-7f547a768685",
   "metadata": {},
   "outputs": [],
   "source": [
    "#csv_out='wholesale_customers-cleaned.csv'\n",
    "#df.to_csv(csv_out,index=False,encoding='utf-8-sig')\n",
    "#以下のようにread_csv()で正常に出力できたか確認\n",
    "#df_check=pd.read_csv(csv_out, sep=',',sikiprows=0,header=0)"
   ]
  },
  {
   "cell_type": "markdown",
   "id": "733c2661-9599-43e9-99c5-971fe3ec45e1",
   "metadata": {},
   "source": [
    "#### 5"
   ]
  },
  {
   "cell_type": "code",
   "execution_count": 1,
   "id": "83d00454-ce7c-4afb-a07f-eb3959a15da9",
   "metadata": {},
   "outputs": [],
   "source": [
    "#カテゴリーデータである１列の各値によってデータを分類し、残りの各列のデータの最大、最小、平均などの統計量を求める事が出来る\n",
    "#変数=df.groupby('列名').統計関数()\n",
    "#統計関数:max(),min(),mean(),size()など"
   ]
  },
  {
   "cell_type": "code",
   "execution_count": 3,
   "id": "25c1275c-3a85-4f0a-a56f-009289dc77be",
   "metadata": {},
   "outputs": [],
   "source": [
    "#df_no_channel=df.drop(columns='Channel')\n",
    "#df_region_max=df_no_channel.groupby('Region').max()\n",
    "#display(df_region_max)\n",
    "#Region列の各グループごとの最大を出す"
   ]
  },
  {
   "cell_type": "code",
   "execution_count": 4,
   "id": "fc8b1738-c266-41df-be0a-53e9190b5a8d",
   "metadata": {},
   "outputs": [],
   "source": [
    "#groupbyで得られた結果もデータフレームなのでこれまで同様に取り出せる\n",
    "#max_lisbon_milk=df_region_max.at['Lisbon','Milk']\n",
    "#print(max_lisbon_milk)"
   ]
  },
  {
   "cell_type": "code",
   "execution_count": 5,
   "id": "937df1d1-0120-4fea-af72-39041958d236",
   "metadata": {},
   "outputs": [],
   "source": [
    "#カテゴリー変数1と2の値を組み合わせてデータをグループ分けする\n",
    "#df_ct = pd.crosstab(df['Region'],df['Channel'])\n",
    "#display(df_ct)\n",
    "#表を見てChannelが１かつRegionが2などを探す"
   ]
  },
  {
   "cell_type": "code",
   "execution_count": 6,
   "id": "0a12c780-7860-4689-b168-dd6a09cb1c26",
   "metadata": {},
   "outputs": [],
   "source": [
    "#margins=Trueを指定すると行・列ごとの合計の列を追加できる\n",
    "#df_ct2 = pd.crosstab(df['Region'],df['Channel'], margins=True)\n",
    "#display(df_ct2)"
   ]
  },
  {
   "cell_type": "code",
   "execution_count": 7,
   "id": "bf6209c7-d609-4d4f-b34a-8bac299626b1",
   "metadata": {},
   "outputs": [],
   "source": [
    "#和が1になるように正規化できる\n",
    "#列の和が1:normalize='columns'\n",
    "#行の和が1:normalize='index'\n",
    "#全セルの和が1:normalize:'all'\n",
    "#df_ct3 = pd.crosstab(df['Region'],df['Channel'], normalize='columns')\n",
    "#display(df_ct3)"
   ]
  },
  {
   "cell_type": "code",
   "execution_count": 8,
   "id": "d5e040d7-20fd-4adb-b0c1-b65bc0bd2c4f",
   "metadata": {},
   "outputs": [],
   "source": [
    "#2列でデータを分類した際に平均最大最小などを求める事が出来る\n",
    "#変数 = df.pivot_table(index='列1', columns='列2',values=['列3',・・・], aggfunc=統計関数)\n",
    "#index, columnsは複数列名をリストで与えることもできる\n",
    "#values=を付けないと残りの全列が対象になる\n",
    "#aggfunc=を付けないとnp.mean"
   ]
  },
  {
   "cell_type": "code",
   "execution_count": 9,
   "id": "14455d62-cad7-4c9f-b745-6229109dd949",
   "metadata": {},
   "outputs": [],
   "source": [
    "#df_pt = df.pivot_table(index='Region', columns='Channel', values=['Fresh','Frozen'],aggfunc=np.mean)\n",
    "#display(df_pt)\n",
    "#Region列の値とChannel列の値で分類\n",
    "#Fresh列とFrozen列の平均値を憑依"
   ]
  },
  {
   "cell_type": "code",
   "execution_count": 10,
   "id": "c984b2a4-d764-424e-82b9-a28a51f74fb1",
   "metadata": {},
   "outputs": [],
   "source": [
    "#datetime型に変換するためにはpd.to_datetime関数を使う\n",
    "#df['Date']=pd.to_datetime(df['Date'])\n",
    "#print(df.info())"
   ]
  },
  {
   "cell_type": "code",
   "execution_count": 12,
   "id": "c24f39f7-426d-434a-b40b-2dd80a1d987b",
   "metadata": {},
   "outputs": [],
   "source": [
    "#plt.plot(x軸用データ,y軸用データ,[フォーマット文字列],オプション引数)\n",
    "#データは2つの1次元データ(第1,2引数)\n",
    "#フォーマット文字列:'マーカー指定線指定色指定'(指定しなくてもよい)\n",
    "#マーカー指定:'o':丸, 's':四角, 'x':x印, ',':点,\n",
    "#線指定:'-':実線, '--':破線, ':':点線\n",
    "#色指定:'r':赤, 'g':緑, 'b':青, 'y':黄\n",
    "#例:'x-r':xマーカーと赤い実線\n",
    "#'--b':マーカー無し青い実線\n",
    "#label='凡例用ラベル'\n",
    "#linewidth=N 線の太さ指定"
   ]
  },
  {
   "cell_type": "code",
   "execution_count": 13,
   "id": "708b9cc5-a793-47d1-8b4c-c67877ad38f5",
   "metadata": {},
   "outputs": [],
   "source": [
    "#set_index(indexに指定したい列名)\n",
    "#df=df.set_index('Date')\n",
    "#Date列をindexに設定"
   ]
  },
  {
   "cell_type": "code",
   "execution_count": 14,
   "id": "3e0e02d8-9080-482a-8981-65cb17cf658c",
   "metadata": {},
   "outputs": [],
   "source": [
    "#datetime型のindexから日付などの情報を取得するためのメソッドが用意されている\n",
    "#以下先頭の3データだけを表示\n",
    "#print(df.index[:3])\n",
    "#print(df.index.year[:3])\n",
    "#month\n",
    "#day\n",
    "#date 年月日のndarray\n",
    "#dayofyear　1年の何日目か\n",
    "#dayofweek　曜日番号0~7\n",
    "#quarter　四半期番号"
   ]
  },
  {
   "cell_type": "code",
   "execution_count": 15,
   "id": "85cbfe1d-8506-447d-b74c-e9984470facb",
   "metadata": {},
   "outputs": [],
   "source": [
    "#時系列データをいてい期間ごとに区切って処理するためのメソッド\n",
    "\n",
    "#rolling:窓関数の適用\n",
    "#一定幅の窓を設定し窓の位置をずらしながら窓内のデータに対する集計の計算を行う\n",
    "#df_rolling7=df.rolling(7).mean() #窓幅7の移動平均を求める\n",
    "#display(df_rolling7.head(10))\n",
    "#display(df_rolling7.tail())\n",
    "#平均移動を用いることによって日ごとの値のばらつきが軽減され全体的他値の変化の傾向を把握しやすくなる\n",
    "#df_rolling7d=df.rolling('7D').mean() 窓幅7日間の移動平均を求める\n",
    "#D:日 H:時間 T:分 S:秒\n",
    "#月平均を求める時は30Dとする\n",
    "#rolling(5) rolling(5D)はちがう\n",
    "\n",
    "#resample:期間の集計\n",
    "#オーバーラップしない一定幅の期間を設定し期間ごとに集計の計算を行う\n",
    "#df_resample_w=df.resample('W').mean() 1週間内のデータの平均を求める"
   ]
  },
  {
   "cell_type": "code",
   "execution_count": 2,
   "id": "a856b267-938c-462c-bbaf-84d01417a13e",
   "metadata": {},
   "outputs": [],
   "source": [
    "#グラフの一部を拡大したいとき\n",
    "#start_date=pd.to_datetime('2018-04-01')\n",
    "#end_date=pd.to_datetime('2018-06-30')\n",
    "#plt.xlim(start_date, end_date)"
   ]
  },
  {
   "cell_type": "code",
   "execution_count": 3,
   "id": "910fd535-a98f-4333-b689-1ac096e77fed",
   "metadata": {},
   "outputs": [],
   "source": [
    "#plt.bar() 棒グラフに描画"
   ]
  },
  {
   "cell_type": "markdown",
   "id": "c502c7b8-74e1-421a-b288-fa162d2b3afe",
   "metadata": {},
   "source": [
    "3-1 assign1"
   ]
  },
  {
   "cell_type": "code",
   "execution_count": 6,
   "id": "3983dccf-73bd-4a9d-a633-35eff7ad1b37",
   "metadata": {},
   "outputs": [
    {
     "data": {
      "text/html": [
       "<div>\n",
       "<style scoped>\n",
       "    .dataframe tbody tr th:only-of-type {\n",
       "        vertical-align: middle;\n",
       "    }\n",
       "\n",
       "    .dataframe tbody tr th {\n",
       "        vertical-align: top;\n",
       "    }\n",
       "\n",
       "    .dataframe thead th {\n",
       "        text-align: right;\n",
       "    }\n",
       "</style>\n",
       "<table border=\"1\" class=\"dataframe\">\n",
       "  <thead>\n",
       "    <tr style=\"text-align: right;\">\n",
       "      <th></th>\n",
       "      <th>0</th>\n",
       "      <th>1</th>\n",
       "      <th>2</th>\n",
       "    </tr>\n",
       "  </thead>\n",
       "  <tbody>\n",
       "    <tr>\n",
       "      <th>0</th>\n",
       "      <td>1</td>\n",
       "      <td>3</td>\n",
       "      <td>5</td>\n",
       "    </tr>\n",
       "    <tr>\n",
       "      <th>1</th>\n",
       "      <td>5</td>\n",
       "      <td>7</td>\n",
       "      <td>9</td>\n",
       "    </tr>\n",
       "  </tbody>\n",
       "</table>\n",
       "</div>"
      ],
      "text/plain": [
       "   0  1  2\n",
       "0  1  3  5\n",
       "1  5  7  9"
      ]
     },
     "metadata": {},
     "output_type": "display_data"
    }
   ],
   "source": [
    "import pandas as pd\n",
    "df1=pd.DataFrame([[1,3,5],[5,7,9]])\n",
    "display(df1)"
   ]
  },
  {
   "cell_type": "code",
   "execution_count": 9,
   "id": "767f3270-fc53-4e8c-8362-f93557e24be5",
   "metadata": {},
   "outputs": [
    {
     "data": {
      "text/html": [
       "<div>\n",
       "<style scoped>\n",
       "    .dataframe tbody tr th:only-of-type {\n",
       "        vertical-align: middle;\n",
       "    }\n",
       "\n",
       "    .dataframe tbody tr th {\n",
       "        vertical-align: top;\n",
       "    }\n",
       "\n",
       "    .dataframe thead th {\n",
       "        text-align: right;\n",
       "    }\n",
       "</style>\n",
       "<table border=\"1\" class=\"dataframe\">\n",
       "  <thead>\n",
       "    <tr style=\"text-align: right;\">\n",
       "      <th></th>\n",
       "      <th>c1</th>\n",
       "      <th>c2</th>\n",
       "      <th>c3</th>\n",
       "    </tr>\n",
       "  </thead>\n",
       "  <tbody>\n",
       "    <tr>\n",
       "      <th>r1</th>\n",
       "      <td>1</td>\n",
       "      <td>3</td>\n",
       "      <td>5</td>\n",
       "    </tr>\n",
       "    <tr>\n",
       "      <th>r2</th>\n",
       "      <td>5</td>\n",
       "      <td>7</td>\n",
       "      <td>9</td>\n",
       "    </tr>\n",
       "  </tbody>\n",
       "</table>\n",
       "</div>"
      ],
      "text/plain": [
       "    c1  c2  c3\n",
       "r1   1   3   5\n",
       "r2   5   7   9"
      ]
     },
     "metadata": {},
     "output_type": "display_data"
    }
   ],
   "source": [
    "df1.columns=['c1','c2','c3']\n",
    "display(df1)"
   ]
  },
  {
   "cell_type": "code",
   "execution_count": 10,
   "id": "e5e3861e-a075-4a41-bac8-e58a636df955",
   "metadata": {},
   "outputs": [
    {
     "data": {
      "text/html": [
       "<div>\n",
       "<style scoped>\n",
       "    .dataframe tbody tr th:only-of-type {\n",
       "        vertical-align: middle;\n",
       "    }\n",
       "\n",
       "    .dataframe tbody tr th {\n",
       "        vertical-align: top;\n",
       "    }\n",
       "\n",
       "    .dataframe thead th {\n",
       "        text-align: right;\n",
       "    }\n",
       "</style>\n",
       "<table border=\"1\" class=\"dataframe\">\n",
       "  <thead>\n",
       "    <tr style=\"text-align: right;\">\n",
       "      <th></th>\n",
       "      <th>c1</th>\n",
       "      <th>c2</th>\n",
       "      <th>c3</th>\n",
       "    </tr>\n",
       "  </thead>\n",
       "  <tbody>\n",
       "    <tr>\n",
       "      <th>r1</th>\n",
       "      <td>1</td>\n",
       "      <td>3</td>\n",
       "      <td>5</td>\n",
       "    </tr>\n",
       "    <tr>\n",
       "      <th>r2</th>\n",
       "      <td>5</td>\n",
       "      <td>7</td>\n",
       "      <td>9</td>\n",
       "    </tr>\n",
       "  </tbody>\n",
       "</table>\n",
       "</div>"
      ],
      "text/plain": [
       "    c1  c2  c3\n",
       "r1   1   3   5\n",
       "r2   5   7   9"
      ]
     },
     "metadata": {},
     "output_type": "display_data"
    }
   ],
   "source": [
    "df1.index=['r1','r2']\n",
    "display(df1)"
   ]
  },
  {
   "cell_type": "code",
   "execution_count": 14,
   "id": "1b917b37-425c-415b-bddf-efda5924f57f",
   "metadata": {},
   "outputs": [
    {
     "name": "stdout",
     "output_type": "stream",
     "text": [
      "[[1 3 5]\n",
      " [5 7 9]]\n"
     ]
    }
   ],
   "source": [
    "print(df1.to_numpy())"
   ]
  },
  {
   "cell_type": "code",
   "execution_count": 15,
   "id": "f36d31d9-369e-4083-af4e-7e926253073d",
   "metadata": {},
   "outputs": [
    {
     "name": "stdout",
     "output_type": "stream",
     "text": [
      "(2, 3)\n"
     ]
    }
   ],
   "source": [
    "print(df1.shape)"
   ]
  },
  {
   "cell_type": "markdown",
   "id": "2a9d3a75-db26-4688-b7c5-54b484adb286",
   "metadata": {},
   "source": [
    "3-1 assign2"
   ]
  },
  {
   "cell_type": "code",
   "execution_count": 16,
   "id": "cc5a5112-0955-45dd-93ce-ef3872615ae2",
   "metadata": {},
   "outputs": [],
   "source": [
    "import numpy as np"
   ]
  },
  {
   "cell_type": "code",
   "execution_count": 18,
   "id": "09a430db-8ed2-4449-9acf-a67d0fd13cd9",
   "metadata": {},
   "outputs": [
    {
     "name": "stdout",
     "output_type": "stream",
     "text": [
      "[1 3 5]\n",
      "[5 7 9]\n"
     ]
    }
   ],
   "source": [
    "a = np.array([1,3,5])\n",
    "b = np.array([5,7,9])\n",
    "print(a)\n",
    "print(b)"
   ]
  },
  {
   "cell_type": "code",
   "execution_count": 20,
   "id": "f8464c10-c393-4b77-938d-78edb0e2222d",
   "metadata": {},
   "outputs": [
    {
     "name": "stdout",
     "output_type": "stream",
     "text": [
      "<class 'numpy.ndarray'>\n"
     ]
    }
   ],
   "source": [
    "print(type(a))"
   ]
  },
  {
   "cell_type": "code",
   "execution_count": 21,
   "id": "875a2bb6-8a1c-4398-a2d4-be54084f858e",
   "metadata": {},
   "outputs": [
    {
     "name": "stdout",
     "output_type": "stream",
     "text": [
      "[ 6 10 14]\n"
     ]
    }
   ],
   "source": [
    "print(a+b)"
   ]
  },
  {
   "cell_type": "code",
   "execution_count": 22,
   "id": "22214bf8-649b-4072-ad35-b8538bad703b",
   "metadata": {},
   "outputs": [
    {
     "name": "stdout",
     "output_type": "stream",
     "text": [
      "[ 5 21 45]\n"
     ]
    }
   ],
   "source": [
    "print(a*b)"
   ]
  },
  {
   "cell_type": "code",
   "execution_count": 23,
   "id": "394e9427-e825-49c6-8d08-4c42add9131d",
   "metadata": {},
   "outputs": [
    {
     "name": "stdout",
     "output_type": "stream",
     "text": [
      "(3,)\n"
     ]
    }
   ],
   "source": [
    "print(a.shape)"
   ]
  },
  {
   "cell_type": "markdown",
   "id": "c5d12106-233e-42d6-9f9c-78c15305fbea",
   "metadata": {},
   "source": [
    "cs3-2 assign1"
   ]
  },
  {
   "cell_type": "code",
   "execution_count": 27,
   "id": "ae71f5bb-745a-4d7d-ab54-d9d1bd3ca991",
   "metadata": {},
   "outputs": [
    {
     "name": "stdout",
     "output_type": "stream",
     "text": [
      "(440, 8)\n",
      "<class 'pandas.core.frame.DataFrame'>\n",
      "RangeIndex: 440 entries, 0 to 439\n",
      "Data columns (total 8 columns):\n",
      " #   Column            Non-Null Count  Dtype \n",
      "---  ------            --------------  ----- \n",
      " 0   Channel           440 non-null    int64 \n",
      " 1   Region            440 non-null    object\n",
      " 2   Fresh             440 non-null    int64 \n",
      " 3   Milk              440 non-null    int64 \n",
      " 4   Grocery           440 non-null    int64 \n",
      " 5   Frozen            440 non-null    int64 \n",
      " 6   Detergents_Paper  440 non-null    int64 \n",
      " 7   Delicatessen      440 non-null    int64 \n",
      "dtypes: int64(7), object(1)\n",
      "memory usage: 27.6+ KB\n",
      "None\n"
     ]
    },
    {
     "data": {
      "text/html": [
       "<div>\n",
       "<style scoped>\n",
       "    .dataframe tbody tr th:only-of-type {\n",
       "        vertical-align: middle;\n",
       "    }\n",
       "\n",
       "    .dataframe tbody tr th {\n",
       "        vertical-align: top;\n",
       "    }\n",
       "\n",
       "    .dataframe thead th {\n",
       "        text-align: right;\n",
       "    }\n",
       "</style>\n",
       "<table border=\"1\" class=\"dataframe\">\n",
       "  <thead>\n",
       "    <tr style=\"text-align: right;\">\n",
       "      <th></th>\n",
       "      <th>Channel</th>\n",
       "      <th>Region</th>\n",
       "      <th>Fresh</th>\n",
       "      <th>Milk</th>\n",
       "      <th>Grocery</th>\n",
       "      <th>Frozen</th>\n",
       "      <th>Detergents_Paper</th>\n",
       "      <th>Delicatessen</th>\n",
       "    </tr>\n",
       "  </thead>\n",
       "  <tbody>\n",
       "    <tr>\n",
       "      <th>0</th>\n",
       "      <td>2</td>\n",
       "      <td>Other</td>\n",
       "      <td>12669</td>\n",
       "      <td>9656</td>\n",
       "      <td>7561</td>\n",
       "      <td>214</td>\n",
       "      <td>2674</td>\n",
       "      <td>1338</td>\n",
       "    </tr>\n",
       "    <tr>\n",
       "      <th>1</th>\n",
       "      <td>2</td>\n",
       "      <td>Other</td>\n",
       "      <td>7057</td>\n",
       "      <td>9810</td>\n",
       "      <td>9568</td>\n",
       "      <td>1762</td>\n",
       "      <td>3293</td>\n",
       "      <td>1776</td>\n",
       "    </tr>\n",
       "    <tr>\n",
       "      <th>2</th>\n",
       "      <td>2</td>\n",
       "      <td>Other</td>\n",
       "      <td>6353</td>\n",
       "      <td>8808</td>\n",
       "      <td>7684</td>\n",
       "      <td>2405</td>\n",
       "      <td>3516</td>\n",
       "      <td>7844</td>\n",
       "    </tr>\n",
       "    <tr>\n",
       "      <th>3</th>\n",
       "      <td>1</td>\n",
       "      <td>Other</td>\n",
       "      <td>13265</td>\n",
       "      <td>1196</td>\n",
       "      <td>4221</td>\n",
       "      <td>6404</td>\n",
       "      <td>507</td>\n",
       "      <td>1788</td>\n",
       "    </tr>\n",
       "    <tr>\n",
       "      <th>4</th>\n",
       "      <td>2</td>\n",
       "      <td>Other</td>\n",
       "      <td>22615</td>\n",
       "      <td>5410</td>\n",
       "      <td>7198</td>\n",
       "      <td>3915</td>\n",
       "      <td>1777</td>\n",
       "      <td>5185</td>\n",
       "    </tr>\n",
       "  </tbody>\n",
       "</table>\n",
       "</div>"
      ],
      "text/plain": [
       "   Channel Region  Fresh  Milk  Grocery  Frozen  Detergents_Paper  \\\n",
       "0        2  Other  12669  9656     7561     214              2674   \n",
       "1        2  Other   7057  9810     9568    1762              3293   \n",
       "2        2  Other   6353  8808     7684    2405              3516   \n",
       "3        1  Other  13265  1196     4221    6404               507   \n",
       "4        2  Other  22615  5410     7198    3915              1777   \n",
       "\n",
       "   Delicatessen  \n",
       "0          1338  \n",
       "1          1776  \n",
       "2          7844  \n",
       "3          1788  \n",
       "4          5185  "
      ]
     },
     "metadata": {},
     "output_type": "display_data"
    }
   ],
   "source": [
    "csv_in = 'cs3-02/wholesale_customers.csv'\n",
    "df1=pd.read_csv(csv_in, sep=',', skiprows=13, header=0)\n",
    "print(df1.shape)\n",
    "print(df1.info())\n",
    "display(df1.head())"
   ]
  },
  {
   "cell_type": "code",
   "execution_count": 34,
   "id": "aad0af91-2e1d-4bb0-86c4-1e27b085d5f2",
   "metadata": {},
   "outputs": [
    {
     "data": {
      "text/html": [
       "<div>\n",
       "<style scoped>\n",
       "    .dataframe tbody tr th:only-of-type {\n",
       "        vertical-align: middle;\n",
       "    }\n",
       "\n",
       "    .dataframe tbody tr th {\n",
       "        vertical-align: top;\n",
       "    }\n",
       "\n",
       "    .dataframe thead th {\n",
       "        text-align: right;\n",
       "    }\n",
       "</style>\n",
       "<table border=\"1\" class=\"dataframe\">\n",
       "  <thead>\n",
       "    <tr style=\"text-align: right;\">\n",
       "      <th></th>\n",
       "      <th>Channel</th>\n",
       "      <th>Region</th>\n",
       "      <th>Fresh</th>\n",
       "      <th>Milk</th>\n",
       "      <th>Grocery</th>\n",
       "      <th>Frozen</th>\n",
       "      <th>Detergents_Paper</th>\n",
       "      <th>Delicatessen</th>\n",
       "    </tr>\n",
       "  </thead>\n",
       "  <tbody>\n",
       "    <tr>\n",
       "      <th>0</th>\n",
       "      <td>2</td>\n",
       "      <td>Other</td>\n",
       "      <td>12669</td>\n",
       "      <td>9656</td>\n",
       "      <td>7561</td>\n",
       "      <td>214</td>\n",
       "      <td>2674</td>\n",
       "      <td>1338</td>\n",
       "    </tr>\n",
       "    <tr>\n",
       "      <th>1</th>\n",
       "      <td>2</td>\n",
       "      <td>Other</td>\n",
       "      <td>7057</td>\n",
       "      <td>9810</td>\n",
       "      <td>9568</td>\n",
       "      <td>1762</td>\n",
       "      <td>3293</td>\n",
       "      <td>1776</td>\n",
       "    </tr>\n",
       "    <tr>\n",
       "      <th>2</th>\n",
       "      <td>2</td>\n",
       "      <td>Other</td>\n",
       "      <td>6353</td>\n",
       "      <td>8808</td>\n",
       "      <td>7684</td>\n",
       "      <td>2405</td>\n",
       "      <td>3516</td>\n",
       "      <td>7844</td>\n",
       "    </tr>\n",
       "    <tr>\n",
       "      <th>3</th>\n",
       "      <td>1</td>\n",
       "      <td>Other</td>\n",
       "      <td>13265</td>\n",
       "      <td>1196</td>\n",
       "      <td>4221</td>\n",
       "      <td>6404</td>\n",
       "      <td>507</td>\n",
       "      <td>1788</td>\n",
       "    </tr>\n",
       "    <tr>\n",
       "      <th>4</th>\n",
       "      <td>2</td>\n",
       "      <td>Other</td>\n",
       "      <td>22615</td>\n",
       "      <td>5410</td>\n",
       "      <td>7198</td>\n",
       "      <td>3915</td>\n",
       "      <td>1777</td>\n",
       "      <td>5185</td>\n",
       "    </tr>\n",
       "    <tr>\n",
       "      <th>5</th>\n",
       "      <td>2</td>\n",
       "      <td>Other</td>\n",
       "      <td>9413</td>\n",
       "      <td>8259</td>\n",
       "      <td>5126</td>\n",
       "      <td>666</td>\n",
       "      <td>1795</td>\n",
       "      <td>1451</td>\n",
       "    </tr>\n",
       "    <tr>\n",
       "      <th>6</th>\n",
       "      <td>2</td>\n",
       "      <td>Other</td>\n",
       "      <td>12126</td>\n",
       "      <td>3199</td>\n",
       "      <td>6975</td>\n",
       "      <td>480</td>\n",
       "      <td>3140</td>\n",
       "      <td>545</td>\n",
       "    </tr>\n",
       "    <tr>\n",
       "      <th>7</th>\n",
       "      <td>2</td>\n",
       "      <td>Other</td>\n",
       "      <td>7579</td>\n",
       "      <td>4956</td>\n",
       "      <td>9426</td>\n",
       "      <td>1669</td>\n",
       "      <td>3321</td>\n",
       "      <td>2566</td>\n",
       "    </tr>\n",
       "    <tr>\n",
       "      <th>8</th>\n",
       "      <td>1</td>\n",
       "      <td>Other</td>\n",
       "      <td>5963</td>\n",
       "      <td>3648</td>\n",
       "      <td>6192</td>\n",
       "      <td>425</td>\n",
       "      <td>1716</td>\n",
       "      <td>750</td>\n",
       "    </tr>\n",
       "    <tr>\n",
       "      <th>9</th>\n",
       "      <td>2</td>\n",
       "      <td>Other</td>\n",
       "      <td>6006</td>\n",
       "      <td>11093</td>\n",
       "      <td>18881</td>\n",
       "      <td>1159</td>\n",
       "      <td>7425</td>\n",
       "      <td>2098</td>\n",
       "    </tr>\n",
       "  </tbody>\n",
       "</table>\n",
       "</div>"
      ],
      "text/plain": [
       "   Channel Region  Fresh   Milk  Grocery  Frozen  Detergents_Paper  \\\n",
       "0        2  Other  12669   9656     7561     214              2674   \n",
       "1        2  Other   7057   9810     9568    1762              3293   \n",
       "2        2  Other   6353   8808     7684    2405              3516   \n",
       "3        1  Other  13265   1196     4221    6404               507   \n",
       "4        2  Other  22615   5410     7198    3915              1777   \n",
       "5        2  Other   9413   8259     5126     666              1795   \n",
       "6        2  Other  12126   3199     6975     480              3140   \n",
       "7        2  Other   7579   4956     9426    1669              3321   \n",
       "8        1  Other   5963   3648     6192     425              1716   \n",
       "9        2  Other   6006  11093    18881    1159              7425   \n",
       "\n",
       "   Delicatessen  \n",
       "0          1338  \n",
       "1          1776  \n",
       "2          7844  \n",
       "3          1788  \n",
       "4          5185  \n",
       "5          1451  \n",
       "6           545  \n",
       "7          2566  \n",
       "8           750  \n",
       "9          2098  "
      ]
     },
     "metadata": {},
     "output_type": "display_data"
    }
   ],
   "source": [
    "display(df1.iloc[0:10])"
   ]
  },
  {
   "cell_type": "code",
   "execution_count": 36,
   "id": "437a1c45-7d6a-41ff-a881-cae9de256050",
   "metadata": {},
   "outputs": [
    {
     "data": {
      "text/html": [
       "<div>\n",
       "<style scoped>\n",
       "    .dataframe tbody tr th:only-of-type {\n",
       "        vertical-align: middle;\n",
       "    }\n",
       "\n",
       "    .dataframe tbody tr th {\n",
       "        vertical-align: top;\n",
       "    }\n",
       "\n",
       "    .dataframe thead th {\n",
       "        text-align: right;\n",
       "    }\n",
       "</style>\n",
       "<table border=\"1\" class=\"dataframe\">\n",
       "  <thead>\n",
       "    <tr style=\"text-align: right;\">\n",
       "      <th></th>\n",
       "      <th>Fresh</th>\n",
       "      <th>Milk</th>\n",
       "      <th>Grocery</th>\n",
       "      <th>Frozen</th>\n",
       "      <th>Detergents_Paper</th>\n",
       "      <th>Delicatessen</th>\n",
       "    </tr>\n",
       "  </thead>\n",
       "  <tbody>\n",
       "    <tr>\n",
       "      <th>0</th>\n",
       "      <td>12669</td>\n",
       "      <td>9656</td>\n",
       "      <td>7561</td>\n",
       "      <td>214</td>\n",
       "      <td>2674</td>\n",
       "      <td>1338</td>\n",
       "    </tr>\n",
       "    <tr>\n",
       "      <th>1</th>\n",
       "      <td>7057</td>\n",
       "      <td>9810</td>\n",
       "      <td>9568</td>\n",
       "      <td>1762</td>\n",
       "      <td>3293</td>\n",
       "      <td>1776</td>\n",
       "    </tr>\n",
       "    <tr>\n",
       "      <th>2</th>\n",
       "      <td>6353</td>\n",
       "      <td>8808</td>\n",
       "      <td>7684</td>\n",
       "      <td>2405</td>\n",
       "      <td>3516</td>\n",
       "      <td>7844</td>\n",
       "    </tr>\n",
       "    <tr>\n",
       "      <th>3</th>\n",
       "      <td>13265</td>\n",
       "      <td>1196</td>\n",
       "      <td>4221</td>\n",
       "      <td>6404</td>\n",
       "      <td>507</td>\n",
       "      <td>1788</td>\n",
       "    </tr>\n",
       "    <tr>\n",
       "      <th>4</th>\n",
       "      <td>22615</td>\n",
       "      <td>5410</td>\n",
       "      <td>7198</td>\n",
       "      <td>3915</td>\n",
       "      <td>1777</td>\n",
       "      <td>5185</td>\n",
       "    </tr>\n",
       "    <tr>\n",
       "      <th>5</th>\n",
       "      <td>9413</td>\n",
       "      <td>8259</td>\n",
       "      <td>5126</td>\n",
       "      <td>666</td>\n",
       "      <td>1795</td>\n",
       "      <td>1451</td>\n",
       "    </tr>\n",
       "    <tr>\n",
       "      <th>6</th>\n",
       "      <td>12126</td>\n",
       "      <td>3199</td>\n",
       "      <td>6975</td>\n",
       "      <td>480</td>\n",
       "      <td>3140</td>\n",
       "      <td>545</td>\n",
       "    </tr>\n",
       "    <tr>\n",
       "      <th>7</th>\n",
       "      <td>7579</td>\n",
       "      <td>4956</td>\n",
       "      <td>9426</td>\n",
       "      <td>1669</td>\n",
       "      <td>3321</td>\n",
       "      <td>2566</td>\n",
       "    </tr>\n",
       "    <tr>\n",
       "      <th>8</th>\n",
       "      <td>5963</td>\n",
       "      <td>3648</td>\n",
       "      <td>6192</td>\n",
       "      <td>425</td>\n",
       "      <td>1716</td>\n",
       "      <td>750</td>\n",
       "    </tr>\n",
       "    <tr>\n",
       "      <th>9</th>\n",
       "      <td>6006</td>\n",
       "      <td>11093</td>\n",
       "      <td>18881</td>\n",
       "      <td>1159</td>\n",
       "      <td>7425</td>\n",
       "      <td>2098</td>\n",
       "    </tr>\n",
       "  </tbody>\n",
       "</table>\n",
       "</div>"
      ],
      "text/plain": [
       "   Fresh   Milk  Grocery  Frozen  Detergents_Paper  Delicatessen\n",
       "0  12669   9656     7561     214              2674          1338\n",
       "1   7057   9810     9568    1762              3293          1776\n",
       "2   6353   8808     7684    2405              3516          7844\n",
       "3  13265   1196     4221    6404               507          1788\n",
       "4  22615   5410     7198    3915              1777          5185\n",
       "5   9413   8259     5126     666              1795          1451\n",
       "6  12126   3199     6975     480              3140           545\n",
       "7   7579   4956     9426    1669              3321          2566\n",
       "8   5963   3648     6192     425              1716           750\n",
       "9   6006  11093    18881    1159              7425          2098"
      ]
     },
     "metadata": {},
     "output_type": "display_data"
    }
   ],
   "source": [
    "df2=df1.loc[0:9,'Fresh':'Delicatessen']\n",
    "display(df2)"
   ]
  },
  {
   "cell_type": "code",
   "execution_count": null,
   "id": "9c9827ad-2927-4b36-9cff-9d049c859e7a",
   "metadata": {},
   "outputs": [],
   "source": []
  }
 ],
 "metadata": {
  "kernelspec": {
   "display_name": "Python 3 (ipykernel)",
   "language": "python",
   "name": "python3"
  },
  "language_info": {
   "codemirror_mode": {
    "name": "ipython",
    "version": 3
   },
   "file_extension": ".py",
   "mimetype": "text/x-python",
   "name": "python",
   "nbconvert_exporter": "python",
   "pygments_lexer": "ipython3",
   "version": "3.8.16"
  }
 },
 "nbformat": 4,
 "nbformat_minor": 5
}
