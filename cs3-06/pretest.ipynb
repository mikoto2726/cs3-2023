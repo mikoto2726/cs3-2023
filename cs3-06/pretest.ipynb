{
 "cells": [
  {
   "cell_type": "code",
   "execution_count": 8,
   "id": "9a50ab40-5cd1-49c9-b70a-fb6e4d999f4d",
   "metadata": {},
   "outputs": [
    {
     "name": "stdout",
     "output_type": "stream",
     "text": [
      "(47, 4)\n",
      "<class 'pandas.core.frame.DataFrame'>\n",
      "RangeIndex: 47 entries, 0 to 46\n",
      "Data columns (total 4 columns):\n",
      " #   Column  Non-Null Count  Dtype \n",
      "---  ------  --------------  ----- \n",
      " 0   ID      47 non-null     int64 \n",
      " 1   Univ    47 non-null     object\n",
      " 2   Grade   47 non-null     int64 \n",
      " 3   Time    47 non-null     int64 \n",
      "dtypes: int64(3), object(1)\n",
      "memory usage: 1.6+ KB\n",
      "None\n"
     ]
    },
    {
     "data": {
      "text/html": [
       "<div>\n",
       "<style scoped>\n",
       "    .dataframe tbody tr th:only-of-type {\n",
       "        vertical-align: middle;\n",
       "    }\n",
       "\n",
       "    .dataframe tbody tr th {\n",
       "        vertical-align: top;\n",
       "    }\n",
       "\n",
       "    .dataframe thead th {\n",
       "        text-align: right;\n",
       "    }\n",
       "</style>\n",
       "<table border=\"1\" class=\"dataframe\">\n",
       "  <thead>\n",
       "    <tr style=\"text-align: right;\">\n",
       "      <th></th>\n",
       "      <th>ID</th>\n",
       "      <th>Univ</th>\n",
       "      <th>Grade</th>\n",
       "      <th>Time</th>\n",
       "    </tr>\n",
       "  </thead>\n",
       "  <tbody>\n",
       "    <tr>\n",
       "      <th>0</th>\n",
       "      <td>1001</td>\n",
       "      <td>D</td>\n",
       "      <td>3</td>\n",
       "      <td>1870</td>\n",
       "    </tr>\n",
       "    <tr>\n",
       "      <th>1</th>\n",
       "      <td>1004</td>\n",
       "      <td>C</td>\n",
       "      <td>1</td>\n",
       "      <td>1957</td>\n",
       "    </tr>\n",
       "    <tr>\n",
       "      <th>2</th>\n",
       "      <td>1006</td>\n",
       "      <td>D</td>\n",
       "      <td>2</td>\n",
       "      <td>2063</td>\n",
       "    </tr>\n",
       "    <tr>\n",
       "      <th>3</th>\n",
       "      <td>1007</td>\n",
       "      <td>D</td>\n",
       "      <td>3</td>\n",
       "      <td>1839</td>\n",
       "    </tr>\n",
       "    <tr>\n",
       "      <th>4</th>\n",
       "      <td>1008</td>\n",
       "      <td>C</td>\n",
       "      <td>2</td>\n",
       "      <td>1740</td>\n",
       "    </tr>\n",
       "  </tbody>\n",
       "</table>\n",
       "</div>"
      ],
      "text/plain": [
       "     ID Univ  Grade  Time\n",
       "0  1001    D      3  1870\n",
       "1  1004    C      1  1957\n",
       "2  1006    D      2  2063\n",
       "3  1007    D      3  1839\n",
       "4  1008    C      2  1740"
      ]
     },
     "metadata": {},
     "output_type": "display_data"
    }
   ],
   "source": [
    "import numpy as np #numpyにnpという別名を付けてimport\n",
    "import pandas as pd #pandasにpdという別名を付けてimport\n",
    "import matplotlib.pyplot as plt #グラフ描画のためのライブラリmatplotlibをimportする\n",
    "\n",
    "csv_in='cs3-04/running.csv'\n",
    "df = pd.read_csv(csv_in, sep=',', skiprows=0, header=0)\n",
    "print(df.shape)\n",
    "print(df.info())\n",
    "display(df.head())"
   ]
  },
  {
   "cell_type": "code",
   "execution_count": 9,
   "id": "f50e6ee9-ef24-45c6-8d8c-3b51b0533f04",
   "metadata": {},
   "outputs": [
    {
     "name": "stdout",
     "output_type": "stream",
     "text": [
      "3    14\n",
      "1    11\n",
      "2    11\n",
      "4    11\n",
      "Name: Grade, dtype: int64\n"
     ]
    }
   ],
   "source": [
    "print(df['Grade'].value_counts())"
   ]
  },
  {
   "cell_type": "code",
   "execution_count": 11,
   "id": "23805224-5d41-4eba-a3ab-8182cf4838cb",
   "metadata": {},
   "outputs": [
    {
     "name": "stdout",
     "output_type": "stream",
     "text": [
      "Grade  1  2  3  4\n",
      "Univ             \n",
      "A      3  4  5  4\n",
      "B      2  1  2  3\n",
      "C      1  3  1  3\n",
      "D      5  3  6  1\n"
     ]
    }
   ],
   "source": [
    "print(pd.crosstab(df['Univ'], df['Grade']))"
   ]
  },
  {
   "cell_type": "code",
   "execution_count": 12,
   "id": "5caa141b-542c-4871-ba18-5e1ddc5e7df8",
   "metadata": {},
   "outputs": [
    {
     "name": "stdout",
     "output_type": "stream",
     "text": [
      "      ID Univ  Grade  Time\n",
      "11  1015    A      2  2123\n",
      "5   1009    B      3  2082\n",
      "2   1006    D      2  2063\n",
      "17  1021    B      3  2052\n",
      "6   1010    C      4  2045\n",
      "33  1037    A      1  2038\n",
      "25  1029    A      1  2030\n",
      "19  1023    A      4  2013\n",
      "46  1050    B      4  1998\n",
      "45  1049    A      4  1980\n",
      "43  1047    B      2  1974\n",
      "42  1046    A      2  1969\n",
      "9   1013    A      2  1965\n",
      "39  1043    C      2  1965\n",
      "1   1004    C      1  1957\n",
      "20  1024    D      1  1947\n",
      "30  1034    C      2  1940\n",
      "15  1019    C      3  1937\n",
      "13  1017    C      4  1932\n",
      "44  1048    D      2  1930\n",
      "18  1022    C      4  1926\n",
      "14  1018    D      1  1926\n",
      "12  1016    D      4  1924\n",
      "35  1039    A      3  1923\n",
      "16  1020    D      1  1897\n",
      "36  1040    D      3  1895\n",
      "31  1035    D      3  1894\n",
      "29  1033    A      3  1888\n",
      "37  1041    B      4  1879\n",
      "40  1044    D      2  1878\n",
      "34  1038    A      4  1875\n",
      "21  1025    A      1  1874\n",
      "28  1032    B      1  1871\n",
      "41  1045    D      3  1870\n",
      "0   1001    D      3  1870\n",
      "23  1027    B      1  1850\n",
      "3   1007    D      3  1839\n",
      "27  1031    A      2  1826\n",
      "22  1026    A      4  1825\n",
      "7   1011    A      3  1818\n",
      "10  1014    D      1  1803\n",
      "32  1036    D      1  1800\n",
      "24  1028    B      4  1785\n",
      "8   1012    A      3  1783\n",
      "38  1042    A      3  1764\n",
      "26  1030    D      3  1761\n",
      "4   1008    C      2  1740\n"
     ]
    }
   ],
   "source": [
    "print(df.sort_values('Time', ascending=False))"
   ]
  },
  {
   "cell_type": "code",
   "execution_count": null,
   "id": "e52dd91a-0ec3-43d2-914f-7df8085d06b1",
   "metadata": {},
   "outputs": [],
   "source": []
  }
 ],
 "metadata": {
  "kernelspec": {
   "display_name": "Python 3 (ipykernel)",
   "language": "python",
   "name": "python3"
  },
  "language_info": {
   "codemirror_mode": {
    "name": "ipython",
    "version": 3
   },
   "file_extension": ".py",
   "mimetype": "text/x-python",
   "name": "python",
   "nbconvert_exporter": "python",
   "pygments_lexer": "ipython3",
   "version": "3.8.16"
  }
 },
 "nbformat": 4,
 "nbformat_minor": 5
}
