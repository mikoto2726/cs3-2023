{
 "cells": [
  {
   "cell_type": "code",
   "execution_count": 2,
   "id": "7505a129-1afe-4a36-a1f0-71f63c65a76a",
   "metadata": {},
   "outputs": [],
   "source": [
    "import os\n",
    "os.environ['OMP_NUM_THREADS'] = '1'\n",
    "\n",
    "import numpy as np\n",
    "import pandas as pd\n",
    "import matplotlib.pyplot as plt\n",
    "from sklearn.cluster import KMeans\n",
    "from sklearn.preprocessing import scale"
   ]
  },
  {
   "cell_type": "code",
   "execution_count": 3,
   "id": "93de2dc0-6b2c-43ac-844b-dcfb3b424672",
   "metadata": {},
   "outputs": [],
   "source": [
    "csv_in = 'car-data.csv'\n",
    "df=pd.read_csv(csv_in, skiprows=0, header=0)"
   ]
  },
  {
   "cell_type": "code",
   "execution_count": 4,
   "id": "49f38501-2818-430e-8f16-c683644a3c57",
   "metadata": {},
   "outputs": [
    {
     "name": "stdout",
     "output_type": "stream",
     "text": [
      "(36, 2)\n"
     ]
    }
   ],
   "source": [
    "dfX=df[['Weight','CO2']]\n",
    "print(dfX.shape)"
   ]
  },
  {
   "cell_type": "code",
   "execution_count": 5,
   "id": "ad6ce672-2dff-4102-8833-3fecee4f2302",
   "metadata": {},
   "outputs": [],
   "source": [
    "X_scaled = scale(dfX)"
   ]
  },
  {
   "cell_type": "code",
   "execution_count": 8,
   "id": "be229e43-8fda-45db-b96b-f3608d3d9367",
   "metadata": {},
   "outputs": [],
   "source": [
    "emit_df = pd.DataFrame(X_scaled, columns=dfX.columns)"
   ]
  },
  {
   "cell_type": "code",
   "execution_count": 10,
   "id": "a732b55a-b624-4687-aaa2-2ad760498fe7",
   "metadata": {},
   "outputs": [],
   "source": [
    "km = KMeans(n_clusters=4, n_init=6, random_state=12)\n",
    "clstr = km.fit_predict(emit_df)"
   ]
  },
  {
   "cell_type": "code",
   "execution_count": 11,
   "id": "f9c030f8-7094-4bb8-910b-4821834e933c",
   "metadata": {},
   "outputs": [
    {
     "name": "stdout",
     "output_type": "stream",
     "text": [
      "14.956613161341018\n"
     ]
    }
   ],
   "source": [
    "print(km.inertia_)"
   ]
  },
  {
   "cell_type": "code",
   "execution_count": 12,
   "id": "c1fbcaa3-d449-48ef-81ff-d04dd86f6158",
   "metadata": {},
   "outputs": [
    {
     "data": {
      "text/html": [
       "<div>\n",
       "<style scoped>\n",
       "    .dataframe tbody tr th:only-of-type {\n",
       "        vertical-align: middle;\n",
       "    }\n",
       "\n",
       "    .dataframe tbody tr th {\n",
       "        vertical-align: top;\n",
       "    }\n",
       "\n",
       "    .dataframe thead th {\n",
       "        text-align: right;\n",
       "    }\n",
       "</style>\n",
       "<table border=\"1\" class=\"dataframe\">\n",
       "  <thead>\n",
       "    <tr style=\"text-align: right;\">\n",
       "      <th></th>\n",
       "      <th>Weight</th>\n",
       "      <th>CO2</th>\n",
       "      <th>cluster_no</th>\n",
       "    </tr>\n",
       "  </thead>\n",
       "  <tbody>\n",
       "    <tr>\n",
       "      <th>0</th>\n",
       "      <td>-2.103893</td>\n",
       "      <td>-0.411925</td>\n",
       "      <td>0</td>\n",
       "    </tr>\n",
       "    <tr>\n",
       "      <th>1</th>\n",
       "      <td>-0.554072</td>\n",
       "      <td>-0.956120</td>\n",
       "      <td>0</td>\n",
       "    </tr>\n",
       "    <tr>\n",
       "      <th>2</th>\n",
       "      <td>-1.521663</td>\n",
       "      <td>-0.956120</td>\n",
       "      <td>0</td>\n",
       "    </tr>\n",
       "    <tr>\n",
       "      <th>3</th>\n",
       "      <td>-1.789740</td>\n",
       "      <td>-1.636364</td>\n",
       "      <td>0</td>\n",
       "    </tr>\n",
       "    <tr>\n",
       "      <th>4</th>\n",
       "      <td>-0.637846</td>\n",
       "      <td>0.404367</td>\n",
       "      <td>3</td>\n",
       "    </tr>\n",
       "  </tbody>\n",
       "</table>\n",
       "</div>"
      ],
      "text/plain": [
       "     Weight       CO2  cluster_no\n",
       "0 -2.103893 -0.411925           0\n",
       "1 -0.554072 -0.956120           0\n",
       "2 -1.521663 -0.956120           0\n",
       "3 -1.789740 -1.636364           0\n",
       "4 -0.637846  0.404367           3"
      ]
     },
     "metadata": {},
     "output_type": "display_data"
    }
   ],
   "source": [
    "emit_df['cluster_no'] = clstr\n",
    "display(emit_df.head())"
   ]
  },
  {
   "cell_type": "code",
   "execution_count": 13,
   "id": "42c173e1-275f-4dac-9261-4d9148172533",
   "metadata": {},
   "outputs": [
    {
     "name": "stdout",
     "output_type": "stream",
     "text": [
      "0    11\n",
      "1    11\n",
      "3     9\n",
      "2     5\n",
      "Name: cluster_no, dtype: int64\n"
     ]
    }
   ],
   "source": [
    "print(emit_df['cluster_no'].value_counts())"
   ]
  },
  {
   "cell_type": "code",
   "execution_count": null,
   "id": "013b9a11-301e-4314-9505-27573cf4324e",
   "metadata": {},
   "outputs": [],
   "source": []
  }
 ],
 "metadata": {
  "kernelspec": {
   "display_name": "Python 3 (ipykernel)",
   "language": "python",
   "name": "python3"
  },
  "language_info": {
   "codemirror_mode": {
    "name": "ipython",
    "version": 3
   },
   "file_extension": ".py",
   "mimetype": "text/x-python",
   "name": "python",
   "nbconvert_exporter": "python",
   "pygments_lexer": "ipython3",
   "version": "3.8.16"
  }
 },
 "nbformat": 4,
 "nbformat_minor": 5
}
