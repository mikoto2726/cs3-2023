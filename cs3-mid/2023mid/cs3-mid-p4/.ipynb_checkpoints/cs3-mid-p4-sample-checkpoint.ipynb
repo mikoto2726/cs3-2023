{
 "cells": [
  {
   "cell_type": "code",
   "execution_count": 5,
   "id": "7505a129-1afe-4a36-a1f0-71f63c65a76a",
   "metadata": {},
   "outputs": [],
   "source": [
    "import os\n",
    "os.environ['OMP_NUM_THREADS'] = '1'\n",
    "\n",
    "import numpy as np\n",
    "import pandas as pd\n",
    "import matplotlib.pyplot as plt\n",
    "from sklearn.cluster import KMeans\n",
    "from sklearn.preprocessing import scale"
   ]
  },
  {
   "cell_type": "code",
   "execution_count": 6,
   "id": "93de2dc0-6b2c-43ac-844b-dcfb3b424672",
   "metadata": {},
   "outputs": [],
   "source": [
    "csv_in = 'car-data.csv'\n",
    "df=pd.read_csv(csv_in, skiprows=0, header=0)"
   ]
  },
  {
   "cell_type": "code",
   "execution_count": 8,
   "id": "49f38501-2818-430e-8f16-c683644a3c57",
   "metadata": {},
   "outputs": [],
   "source": [
    "dfX=df[['Weight','CO2']]"
   ]
  },
  {
   "cell_type": "code",
   "execution_count": null,
   "id": "ad6ce672-2dff-4102-8833-3fecee4f2302",
   "metadata": {},
   "outputs": [],
   "source": []
  }
 ],
 "metadata": {
  "kernelspec": {
   "display_name": "Python 3 (ipykernel)",
   "language": "python",
   "name": "python3"
  },
  "language_info": {
   "codemirror_mode": {
    "name": "ipython",
    "version": 3
   },
   "file_extension": ".py",
   "mimetype": "text/x-python",
   "name": "python",
   "nbconvert_exporter": "python",
   "pygments_lexer": "ipython3",
   "version": "3.8.16"
  }
 },
 "nbformat": 4,
 "nbformat_minor": 5
}
