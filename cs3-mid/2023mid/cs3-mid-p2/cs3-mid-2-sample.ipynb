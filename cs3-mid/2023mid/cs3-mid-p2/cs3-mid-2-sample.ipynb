{
 "cells": [
  {
   "cell_type": "code",
   "execution_count": 1,
   "id": "aa807c6d-3b00-484f-9da2-2b50cf3b780d",
   "metadata": {},
   "outputs": [],
   "source": [
    "import numpy as np\n",
    "import pandas as pd\n",
    "import matplotlib.pyplot as plt"
   ]
  },
  {
   "cell_type": "code",
   "execution_count": 3,
   "id": "fa6f3ecf-971c-493b-8b3b-3e0cff502ae2",
   "metadata": {},
   "outputs": [],
   "source": [
    "df1=pd.read_csv('cs3-mid-2-1.csv', skiprows=0, header=0)\n",
    "df2=pd.read_csv('cs3-mid-2-2.csv', skiprows=0, header=0)"
   ]
  },
  {
   "cell_type": "code",
   "execution_count": 4,
   "id": "ed14e954-eb8a-4af6-ae43-94999d71fc58",
   "metadata": {},
   "outputs": [
    {
     "data": {
      "text/html": [
       "<div>\n",
       "<style scoped>\n",
       "    .dataframe tbody tr th:only-of-type {\n",
       "        vertical-align: middle;\n",
       "    }\n",
       "\n",
       "    .dataframe tbody tr th {\n",
       "        vertical-align: top;\n",
       "    }\n",
       "\n",
       "    .dataframe thead th {\n",
       "        text-align: right;\n",
       "    }\n",
       "</style>\n",
       "<table border=\"1\" class=\"dataframe\">\n",
       "  <thead>\n",
       "    <tr style=\"text-align: right;\">\n",
       "      <th></th>\n",
       "      <th>ID</th>\n",
       "      <th>b1</th>\n",
       "      <th>b2</th>\n",
       "      <th>b3</th>\n",
       "      <th>b4</th>\n",
       "      <th>b5</th>\n",
       "      <th>c1</th>\n",
       "    </tr>\n",
       "  </thead>\n",
       "  <tbody>\n",
       "    <tr>\n",
       "      <th>3</th>\n",
       "      <td>ID03</td>\n",
       "      <td>-0.7</td>\n",
       "      <td>-1.85</td>\n",
       "      <td>0.17</td>\n",
       "      <td>0.15</td>\n",
       "      <td>1.61</td>\n",
       "      <td>A</td>\n",
       "    </tr>\n",
       "    <tr>\n",
       "      <th>80</th>\n",
       "      <td>ID03</td>\n",
       "      <td>-0.7</td>\n",
       "      <td>-1.85</td>\n",
       "      <td>0.17</td>\n",
       "      <td>0.15</td>\n",
       "      <td>1.61</td>\n",
       "      <td>A</td>\n",
       "    </tr>\n",
       "  </tbody>\n",
       "</table>\n",
       "</div>"
      ],
      "text/plain": [
       "      ID   b1    b2    b3    b4    b5 c1\n",
       "3   ID03 -0.7 -1.85  0.17  0.15  1.61  A\n",
       "80  ID03 -0.7 -1.85  0.17  0.15  1.61  A"
      ]
     },
     "metadata": {},
     "output_type": "display_data"
    }
   ],
   "source": [
    "display(df1[df1.duplicated(keep=False)])"
   ]
  },
  {
   "cell_type": "code",
   "execution_count": 5,
   "id": "58f789e4-fd0b-494b-8ee6-39bd715a0f05",
   "metadata": {},
   "outputs": [],
   "source": [
    "df1m=df1.drop_duplicates().reset_index(drop=True)"
   ]
  },
  {
   "cell_type": "code",
   "execution_count": 6,
   "id": "ceef9b62-2df3-41b0-bb3a-5e029a6cbba3",
   "metadata": {},
   "outputs": [
    {
     "name": "stdout",
     "output_type": "stream",
     "text": [
      "(80, 7)\n"
     ]
    }
   ],
   "source": [
    "print(df1m.shape)"
   ]
  },
  {
   "cell_type": "code",
   "execution_count": 10,
   "id": "afbf0448-eff0-460c-9523-9f6a0454ac81",
   "metadata": {},
   "outputs": [
    {
     "name": "stdout",
     "output_type": "stream",
     "text": [
      "ID    0\n",
      "b1    0\n",
      "b2    1\n",
      "b3    0\n",
      "b4    1\n",
      "b5    0\n",
      "c1    0\n",
      "dtype: int64\n"
     ]
    }
   ],
   "source": [
    "print(df1m.isna().sum())"
   ]
  },
  {
   "cell_type": "code",
   "execution_count": 11,
   "id": "8bc9f3c8-37f3-40a0-9203-6721cb3f00ab",
   "metadata": {},
   "outputs": [
    {
     "data": {
      "text/html": [
       "<div>\n",
       "<style scoped>\n",
       "    .dataframe tbody tr th:only-of-type {\n",
       "        vertical-align: middle;\n",
       "    }\n",
       "\n",
       "    .dataframe tbody tr th {\n",
       "        vertical-align: top;\n",
       "    }\n",
       "\n",
       "    .dataframe thead th {\n",
       "        text-align: right;\n",
       "    }\n",
       "</style>\n",
       "<table border=\"1\" class=\"dataframe\">\n",
       "  <thead>\n",
       "    <tr style=\"text-align: right;\">\n",
       "      <th></th>\n",
       "      <th>ID</th>\n",
       "      <th>b1</th>\n",
       "      <th>b2</th>\n",
       "      <th>b3</th>\n",
       "      <th>b4</th>\n",
       "      <th>b5</th>\n",
       "      <th>c1</th>\n",
       "    </tr>\n",
       "  </thead>\n",
       "  <tbody>\n",
       "    <tr>\n",
       "      <th>1</th>\n",
       "      <td>ID01</td>\n",
       "      <td>-1.27</td>\n",
       "      <td>NaN</td>\n",
       "      <td>-0.42</td>\n",
       "      <td>-0.79</td>\n",
       "      <td>-1.42</td>\n",
       "      <td>C</td>\n",
       "    </tr>\n",
       "    <tr>\n",
       "      <th>20</th>\n",
       "      <td>ID20</td>\n",
       "      <td>-1.95</td>\n",
       "      <td>-2.6</td>\n",
       "      <td>-1.12</td>\n",
       "      <td>NaN</td>\n",
       "      <td>1.88</td>\n",
       "      <td>A</td>\n",
       "    </tr>\n",
       "  </tbody>\n",
       "</table>\n",
       "</div>"
      ],
      "text/plain": [
       "      ID    b1   b2    b3    b4    b5 c1\n",
       "1   ID01 -1.27  NaN -0.42 -0.79 -1.42  C\n",
       "20  ID20 -1.95 -2.6 -1.12   NaN  1.88  A"
      ]
     },
     "metadata": {},
     "output_type": "display_data"
    }
   ],
   "source": [
    "display(df1m[df1m.isna().any(axis=1)])"
   ]
  },
  {
   "cell_type": "code",
   "execution_count": 12,
   "id": "ef79a374-bfa9-43b4-be5d-0dd3a395e13a",
   "metadata": {},
   "outputs": [],
   "source": [
    "df1m2=df1m.dropna().reset_index()"
   ]
  },
  {
   "cell_type": "code",
   "execution_count": 14,
   "id": "cf290621-b1d0-4ae7-923c-326afc034fd7",
   "metadata": {},
   "outputs": [
    {
     "data": {
      "text/plain": [
       "X    23\n",
       "Y    18\n",
       "Z    14\n",
       "W    14\n",
       "y     1\n",
       "Name: c2, dtype: int64"
      ]
     },
     "metadata": {},
     "output_type": "display_data"
    }
   ],
   "source": [
    "display(df2['c2'].value_counts())"
   ]
  },
  {
   "cell_type": "code",
   "execution_count": 16,
   "id": "0886b567-4096-49cf-886a-005e210635b3",
   "metadata": {},
   "outputs": [],
   "source": [
    "df2['c2']=df2['c2'].replace('y','Y')"
   ]
  },
  {
   "cell_type": "code",
   "execution_count": 17,
   "id": "16fdc9ea-8c27-455c-8a0b-c806b5584150",
   "metadata": {},
   "outputs": [],
   "source": [
    "df3=pd.merge(df1m2,df2, how='left', left_on='ID', right_on='idx')"
   ]
  },
  {
   "cell_type": "code",
   "execution_count": 18,
   "id": "a30871ef-f5ba-4f7e-a8c1-b990bd0eb251",
   "metadata": {},
   "outputs": [
    {
     "name": "stdout",
     "output_type": "stream",
     "text": [
      "(78, 10)\n",
      "<class 'pandas.core.frame.DataFrame'>\n",
      "Int64Index: 78 entries, 0 to 77\n",
      "Data columns (total 10 columns):\n",
      " #   Column  Non-Null Count  Dtype  \n",
      "---  ------  --------------  -----  \n",
      " 0   index   78 non-null     int64  \n",
      " 1   ID      78 non-null     object \n",
      " 2   b1      78 non-null     float64\n",
      " 3   b2      78 non-null     float64\n",
      " 4   b3      78 non-null     float64\n",
      " 5   b4      78 non-null     float64\n",
      " 6   b5      78 non-null     float64\n",
      " 7   c1      78 non-null     object \n",
      " 8   idx     68 non-null     object \n",
      " 9   c2      68 non-null     object \n",
      "dtypes: float64(5), int64(1), object(4)\n",
      "memory usage: 6.7+ KB\n",
      "None\n"
     ]
    }
   ],
   "source": [
    "df3.to_csv('mid-p2-out.csv',index=False)\n",
    "print(df3.shape)\n",
    "print(df3.info())"
   ]
  },
  {
   "cell_type": "code",
   "execution_count": 24,
   "id": "1b69d497-1ee5-4afa-9813-e25d91241744",
   "metadata": {},
   "outputs": [
    {
     "data": {
      "text/html": [
       "<div>\n",
       "<style scoped>\n",
       "    .dataframe tbody tr th:only-of-type {\n",
       "        vertical-align: middle;\n",
       "    }\n",
       "\n",
       "    .dataframe tbody tr th {\n",
       "        vertical-align: top;\n",
       "    }\n",
       "\n",
       "    .dataframe thead th {\n",
       "        text-align: right;\n",
       "    }\n",
       "</style>\n",
       "<table border=\"1\" class=\"dataframe\">\n",
       "  <thead>\n",
       "    <tr style=\"text-align: right;\">\n",
       "      <th></th>\n",
       "      <th>index</th>\n",
       "      <th>ID</th>\n",
       "      <th>b1</th>\n",
       "      <th>b2</th>\n",
       "      <th>b3</th>\n",
       "      <th>b4</th>\n",
       "      <th>b5</th>\n",
       "      <th>c1</th>\n",
       "      <th>idx</th>\n",
       "      <th>c2</th>\n",
       "    </tr>\n",
       "  </thead>\n",
       "  <tbody>\n",
       "    <tr>\n",
       "      <th>0</th>\n",
       "      <td>0</td>\n",
       "      <td>ID00</td>\n",
       "      <td>-1.04</td>\n",
       "      <td>0.22</td>\n",
       "      <td>-0.50</td>\n",
       "      <td>-0.60</td>\n",
       "      <td>-0.92</td>\n",
       "      <td>C</td>\n",
       "      <td>ID00</td>\n",
       "      <td>Z</td>\n",
       "    </tr>\n",
       "    <tr>\n",
       "      <th>1</th>\n",
       "      <td>2</td>\n",
       "      <td>ID02</td>\n",
       "      <td>-0.58</td>\n",
       "      <td>1.00</td>\n",
       "      <td>-0.32</td>\n",
       "      <td>-0.58</td>\n",
       "      <td>-1.54</td>\n",
       "      <td>C</td>\n",
       "      <td>ID02</td>\n",
       "      <td>X</td>\n",
       "    </tr>\n",
       "    <tr>\n",
       "      <th>2</th>\n",
       "      <td>3</td>\n",
       "      <td>ID03</td>\n",
       "      <td>-0.70</td>\n",
       "      <td>-1.85</td>\n",
       "      <td>0.17</td>\n",
       "      <td>0.15</td>\n",
       "      <td>1.61</td>\n",
       "      <td>A</td>\n",
       "      <td>ID03</td>\n",
       "      <td>Y</td>\n",
       "    </tr>\n",
       "    <tr>\n",
       "      <th>3</th>\n",
       "      <td>4</td>\n",
       "      <td>ID04</td>\n",
       "      <td>2.34</td>\n",
       "      <td>0.68</td>\n",
       "      <td>1.54</td>\n",
       "      <td>1.05</td>\n",
       "      <td>0.57</td>\n",
       "      <td>B</td>\n",
       "      <td>ID04</td>\n",
       "      <td>W</td>\n",
       "    </tr>\n",
       "    <tr>\n",
       "      <th>4</th>\n",
       "      <td>5</td>\n",
       "      <td>ID05</td>\n",
       "      <td>-1.65</td>\n",
       "      <td>-1.65</td>\n",
       "      <td>3.58</td>\n",
       "      <td>-0.30</td>\n",
       "      <td>-0.21</td>\n",
       "      <td>C</td>\n",
       "      <td>ID05</td>\n",
       "      <td>Z</td>\n",
       "    </tr>\n",
       "    <tr>\n",
       "      <th>...</th>\n",
       "      <td>...</td>\n",
       "      <td>...</td>\n",
       "      <td>...</td>\n",
       "      <td>...</td>\n",
       "      <td>...</td>\n",
       "      <td>...</td>\n",
       "      <td>...</td>\n",
       "      <td>...</td>\n",
       "      <td>...</td>\n",
       "      <td>...</td>\n",
       "    </tr>\n",
       "    <tr>\n",
       "      <th>73</th>\n",
       "      <td>75</td>\n",
       "      <td>ID75</td>\n",
       "      <td>-0.57</td>\n",
       "      <td>-1.70</td>\n",
       "      <td>2.08</td>\n",
       "      <td>0.22</td>\n",
       "      <td>1.04</td>\n",
       "      <td>A</td>\n",
       "      <td>NaN</td>\n",
       "      <td>NaN</td>\n",
       "    </tr>\n",
       "    <tr>\n",
       "      <th>74</th>\n",
       "      <td>76</td>\n",
       "      <td>ID76</td>\n",
       "      <td>-0.81</td>\n",
       "      <td>0.07</td>\n",
       "      <td>-0.55</td>\n",
       "      <td>-0.45</td>\n",
       "      <td>-0.55</td>\n",
       "      <td>A</td>\n",
       "      <td>NaN</td>\n",
       "      <td>NaN</td>\n",
       "    </tr>\n",
       "    <tr>\n",
       "      <th>75</th>\n",
       "      <td>77</td>\n",
       "      <td>ID77</td>\n",
       "      <td>-0.76</td>\n",
       "      <td>0.77</td>\n",
       "      <td>-0.54</td>\n",
       "      <td>-0.61</td>\n",
       "      <td>-1.35</td>\n",
       "      <td>C</td>\n",
       "      <td>NaN</td>\n",
       "      <td>NaN</td>\n",
       "    </tr>\n",
       "    <tr>\n",
       "      <th>76</th>\n",
       "      <td>78</td>\n",
       "      <td>ID78</td>\n",
       "      <td>0.50</td>\n",
       "      <td>-1.17</td>\n",
       "      <td>0.83</td>\n",
       "      <td>0.59</td>\n",
       "      <td>1.54</td>\n",
       "      <td>B</td>\n",
       "      <td>NaN</td>\n",
       "      <td>NaN</td>\n",
       "    </tr>\n",
       "    <tr>\n",
       "      <th>77</th>\n",
       "      <td>79</td>\n",
       "      <td>ID79</td>\n",
       "      <td>-0.88</td>\n",
       "      <td>0.16</td>\n",
       "      <td>0.32</td>\n",
       "      <td>-0.49</td>\n",
       "      <td>-0.94</td>\n",
       "      <td>C</td>\n",
       "      <td>NaN</td>\n",
       "      <td>NaN</td>\n",
       "    </tr>\n",
       "  </tbody>\n",
       "</table>\n",
       "<p>78 rows × 10 columns</p>\n",
       "</div>"
      ],
      "text/plain": [
       "    index    ID    b1    b2    b3    b4    b5 c1   idx   c2\n",
       "0       0  ID00 -1.04  0.22 -0.50 -0.60 -0.92  C  ID00    Z\n",
       "1       2  ID02 -0.58  1.00 -0.32 -0.58 -1.54  C  ID02    X\n",
       "2       3  ID03 -0.70 -1.85  0.17  0.15  1.61  A  ID03    Y\n",
       "3       4  ID04  2.34  0.68  1.54  1.05  0.57  B  ID04    W\n",
       "4       5  ID05 -1.65 -1.65  3.58 -0.30 -0.21  C  ID05    Z\n",
       "..    ...   ...   ...   ...   ...   ...   ... ..   ...  ...\n",
       "73     75  ID75 -0.57 -1.70  2.08  0.22  1.04  A   NaN  NaN\n",
       "74     76  ID76 -0.81  0.07 -0.55 -0.45 -0.55  A   NaN  NaN\n",
       "75     77  ID77 -0.76  0.77 -0.54 -0.61 -1.35  C   NaN  NaN\n",
       "76     78  ID78  0.50 -1.17  0.83  0.59  1.54  B   NaN  NaN\n",
       "77     79  ID79 -0.88  0.16  0.32 -0.49 -0.94  C   NaN  NaN\n",
       "\n",
       "[78 rows x 10 columns]"
      ]
     },
     "metadata": {},
     "output_type": "display_data"
    }
   ],
   "source": [
    "display(df3)"
   ]
  },
  {
   "cell_type": "code",
   "execution_count": null,
   "id": "fe362343-54ca-442f-84c8-82317b257f7d",
   "metadata": {},
   "outputs": [],
   "source": []
  }
 ],
 "metadata": {
  "kernelspec": {
   "display_name": "Python 3 (ipykernel)",
   "language": "python",
   "name": "python3"
  },
  "language_info": {
   "codemirror_mode": {
    "name": "ipython",
    "version": 3
   },
   "file_extension": ".py",
   "mimetype": "text/x-python",
   "name": "python",
   "nbconvert_exporter": "python",
   "pygments_lexer": "ipython3",
   "version": "3.8.16"
  }
 },
 "nbformat": 4,
 "nbformat_minor": 5
}
