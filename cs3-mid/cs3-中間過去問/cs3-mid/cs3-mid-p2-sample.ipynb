{
 "cells": [
  {
   "cell_type": "markdown",
   "id": "18e9c6aa-480c-442f-8c66-66e3d419d14c",
   "metadata": {},
   "source": [
    "### CS3-mid-p2  "
   ]
  },
  {
   "cell_type": "code",
   "execution_count": null,
   "id": "dc0497dc-abd6-4b03-8841-06ac00c934fd",
   "metadata": {},
   "outputs": [],
   "source": [
    "import numpy as np\n",
    "import pandas as pd\n",
    "import matplotlib.pyplot as plt"
   ]
  },
  {
   "cell_type": "code",
   "execution_count": null,
   "id": "0d34281c-c966-4693-af58-82c9ffafe861",
   "metadata": {},
   "outputs": [],
   "source": []
  }
 ],
 "metadata": {
  "kernelspec": {
   "display_name": "Python 3 (ipykernel)",
   "language": "python",
   "name": "python3"
  },
  "language_info": {
   "codemirror_mode": {
    "name": "ipython",
    "version": 3
   },
   "file_extension": ".py",
   "mimetype": "text/x-python",
   "name": "python",
   "nbconvert_exporter": "python",
   "pygments_lexer": "ipython3",
   "version": "3.8.12"
  }
 },
 "nbformat": 4,
 "nbformat_minor": 5
}
