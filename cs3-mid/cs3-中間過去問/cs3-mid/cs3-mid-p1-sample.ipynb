{
 "cells": [
  {
   "cell_type": "markdown",
   "id": "9e4d461e-8140-4628-a693-e2649339bd92",
   "metadata": {},
   "source": [
    "### CS3-mid-p1  "
   ]
  },
  {
   "cell_type": "code",
   "execution_count": null,
   "id": "380e9073-8b4e-4d5c-878d-e9743d1d9ffc",
   "metadata": {},
   "outputs": [],
   "source": [
    "import numpy as np\n",
    "import pandas as pd\n",
    "import matplotlib.pyplot as plt"
   ]
  },
  {
   "cell_type": "code",
   "execution_count": null,
   "id": "881b20ca-53c3-473d-9ee0-d69282451363",
   "metadata": {},
   "outputs": [],
   "source": []
  }
 ],
 "metadata": {
  "kernelspec": {
   "display_name": "Python 3 (ipykernel)",
   "language": "python",
   "name": "python3"
  },
  "language_info": {
   "codemirror_mode": {
    "name": "ipython",
    "version": 3
   },
   "file_extension": ".py",
   "mimetype": "text/x-python",
   "name": "python",
   "nbconvert_exporter": "python",
   "pygments_lexer": "ipython3",
   "version": "3.8.16"
  }
 },
 "nbformat": 4,
 "nbformat_minor": 5
}
