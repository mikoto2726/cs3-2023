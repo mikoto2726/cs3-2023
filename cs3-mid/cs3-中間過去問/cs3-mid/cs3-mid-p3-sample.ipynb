{
 "cells": [
  {
   "cell_type": "markdown",
   "id": "c1241859-eb0d-42da-91af-f81f31e93dd9",
   "metadata": {},
   "source": [
    "### CS3-mid-p3  "
   ]
  },
  {
   "cell_type": "code",
   "execution_count": null,
   "id": "34a38823-121e-4473-b858-3887101adf80",
   "metadata": {},
   "outputs": [],
   "source": [
    "import numpy as np\n",
    "import pandas as pd\n",
    "import matplotlib.pyplot as plt"
   ]
  },
  {
   "cell_type": "code",
   "execution_count": null,
   "id": "b218d025-3071-4f58-be7f-8a8d5635d2d0",
   "metadata": {},
   "outputs": [],
   "source": []
  }
 ],
 "metadata": {
  "kernelspec": {
   "display_name": "Python 3 (ipykernel)",
   "language": "python",
   "name": "python3"
  },
  "language_info": {
   "codemirror_mode": {
    "name": "ipython",
    "version": 3
   },
   "file_extension": ".py",
   "mimetype": "text/x-python",
   "name": "python",
   "nbconvert_exporter": "python",
   "pygments_lexer": "ipython3",
   "version": "3.8.12"
  }
 },
 "nbformat": 4,
 "nbformat_minor": 5
}
