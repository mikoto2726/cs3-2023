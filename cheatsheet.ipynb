{
 "cells": [
  {
   "cell_type": "markdown",
   "id": "0b2005aa-5079-45ac-ba7b-7d2c7a6cced3",
   "metadata": {},
   "source": [
    "Numpyはndarrayと呼ばれるデータ型を用いる\n",
    "Pandasは表はDataFrame、表から取り出した1行または1列はSeriesと呼ばれるデータ型を用いる\n"
   ]
  },
  {
   "cell_type": "code",
   "execution_count": 1,
   "id": "fd57a049-467e-46a1-a465-cc20f4fc1015",
   "metadata": {},
   "outputs": [
    {
     "name": "stdout",
     "output_type": "stream",
     "text": [
      "[0, 1, 2]\n",
      "<class 'list'>\n",
      "[0 1 2]\n",
      "<class 'numpy.ndarray'>\n"
     ]
    }
   ],
   "source": [
    "import numpy as np #numpyにnpという別名を付けてimport\n",
    "import pandas as pd #pandasにpdという別名を付けてimport\n",
    "\n",
    "#ndarrayの作り方\n",
    "lst = [0, 1, 2]\n",
    "nd = np.array(lst)\n",
    "print(lst)\n",
    "print(type(lst)) #lstはlist型\n",
    "print(nd)\n",
    "print(type(nd)) #ndはndarray型\n",
    "\n",
    "print(lst * 2) #全要素の2回繰り返し\n",
    "print(nd * 2) #全要素の数値が2倍"
   ]
  },
  {
   "cell_type": "code",
   "execution_count": 4,
   "id": "fbad461b-ef80-42c4-b34c-1aadeb76e430",
   "metadata": {},
   "outputs": [
    {
     "name": "stdout",
     "output_type": "stream",
     "text": [
      "[3 5 7]\n",
      "[ 0  4 10]\n"
     ]
    }
   ],
   "source": [
    "a = np.array([0, 1, 2])\n",
    "b = np.array([3, 4, 5])\n",
    "print(a + b) #adarrayはいずれも対応する要素同士の演算になる\n",
    "print(a * b)"
   ]
  },
  {
   "cell_type": "code",
   "execution_count": 5,
   "id": "ebf22914-f445-48bb-9ceb-d2d85561d27a",
   "metadata": {},
   "outputs": [
    {
     "name": "stdout",
     "output_type": "stream",
     "text": [
      "[ 0  4 10]\n"
     ]
    }
   ],
   "source": [
    "#下の方が計算が高速\n",
    "a = np.array([0, 1, 2])\n",
    "b = np.array([3, 4, 5])\n",
    "c = []\n",
    "for i in range(len(a)):\n",
    "    c.append(a[i] * b[i])\n",
    "c = np.array(c)\n",
    "print(c)"
   ]
  },
  {
   "cell_type": "code",
   "execution_count": 6,
   "id": "3f71ddba-1398-4d09-827d-51eabcfdb9d0",
   "metadata": {},
   "outputs": [
    {
     "name": "stdout",
     "output_type": "stream",
     "text": [
      "[0 1 2]\n",
      "[[0 1 2]\n",
      " [3 4 5]]\n",
      "[[[ 0  1  2]\n",
      "  [ 3  4  5]]\n",
      "\n",
      " [[ 6  7  8]\n",
      "  [ 9 10 11]]]\n"
     ]
    }
   ],
   "source": [
    "a1 = np.array([0, 1, 2])\n",
    "a2 = np.array([[0, 1, 2], [3, 4, 5]])\n",
    "a3 = np.array([[[0, 1, 2], [3, 4, 5]], [[6, 7, 8], [9, 10, 11]]])\n",
    "print(a1)\n",
    "print(a2)\n",
    "print(a3)"
   ]
  },
  {
   "cell_type": "code",
   "execution_count": 7,
   "id": "f4f588af-c196-41e7-b002-6d145177eafc",
   "metadata": {},
   "outputs": [
    {
     "name": "stdout",
     "output_type": "stream",
     "text": [
      "(3,)\n",
      "(2, 3)\n",
      "(2, 2, 3)\n"
     ]
    }
   ],
   "source": [
    "#属性shapeは各軸（次元）の要素数\n",
    "print(a1.shape) #3要素の1次元配列\n",
    "print(a2.shape) #3要素の1次元配列が2つ並んだ2次元配列\n",
    "print(a3.shape) #2行3列の2次元配列が2つ並んだ3次元配列"
   ]
  },
  {
   "cell_type": "code",
   "execution_count": 8,
   "id": "815f668a-b301-441b-b551-511e4b5f56d9",
   "metadata": {},
   "outputs": [
    {
     "name": "stdout",
     "output_type": "stream",
     "text": [
      "<class 'pandas.core.frame.DataFrame'>\n",
      "(2, 3)\n"
     ]
    },
    {
     "data": {
      "text/html": [
       "<div>\n",
       "<style scoped>\n",
       "    .dataframe tbody tr th:only-of-type {\n",
       "        vertical-align: middle;\n",
       "    }\n",
       "\n",
       "    .dataframe tbody tr th {\n",
       "        vertical-align: top;\n",
       "    }\n",
       "\n",
       "    .dataframe thead th {\n",
       "        text-align: right;\n",
       "    }\n",
       "</style>\n",
       "<table border=\"1\" class=\"dataframe\">\n",
       "  <thead>\n",
       "    <tr style=\"text-align: right;\">\n",
       "      <th></th>\n",
       "      <th>c0</th>\n",
       "      <th>c1</th>\n",
       "      <th>c2</th>\n",
       "    </tr>\n",
       "  </thead>\n",
       "  <tbody>\n",
       "    <tr>\n",
       "      <th>r0</th>\n",
       "      <td>0</td>\n",
       "      <td>1</td>\n",
       "      <td>2</td>\n",
       "    </tr>\n",
       "    <tr>\n",
       "      <th>r1</th>\n",
       "      <td>3</td>\n",
       "      <td>4</td>\n",
       "      <td>5</td>\n",
       "    </tr>\n",
       "  </tbody>\n",
       "</table>\n",
       "</div>"
      ],
      "text/plain": [
       "    c0  c1  c2\n",
       "r0   0   1   2\n",
       "r1   3   4   5"
      ]
     },
     "metadata": {},
     "output_type": "display_data"
    }
   ],
   "source": [
    "#DataFrameは、2次元のndarrayに行(index)と列(columns)を付加したもの\n",
    "#pd.DataFrame関数に2次元リストとcolumnsを設定するためのリストを与えるとDataFrameを簡単に作れる\n",
    "df = pd.DataFrame([[0, 1, 2], [3, 4, 5]], columns = ['c0', 'c1', 'c2'], index = ['r0', 'r1'])\n",
    "print(type(df))\n",
    "print(df.shape)\n",
    "display(df) #displayはDataFrameを表にして表示してくれる"
   ]
  },
  {
   "cell_type": "code",
   "execution_count": 9,
   "id": "cb6d08b3-7a40-474f-93f7-60da064c5b46",
   "metadata": {},
   "outputs": [
    {
     "data": {
      "text/html": [
       "<div>\n",
       "<style scoped>\n",
       "    .dataframe tbody tr th:only-of-type {\n",
       "        vertical-align: middle;\n",
       "    }\n",
       "\n",
       "    .dataframe tbody tr th {\n",
       "        vertical-align: top;\n",
       "    }\n",
       "\n",
       "    .dataframe thead th {\n",
       "        text-align: right;\n",
       "    }\n",
       "</style>\n",
       "<table border=\"1\" class=\"dataframe\">\n",
       "  <thead>\n",
       "    <tr style=\"text-align: right;\">\n",
       "      <th></th>\n",
       "      <th>0</th>\n",
       "      <th>1</th>\n",
       "      <th>2</th>\n",
       "    </tr>\n",
       "  </thead>\n",
       "  <tbody>\n",
       "    <tr>\n",
       "      <th>0</th>\n",
       "      <td>0</td>\n",
       "      <td>1</td>\n",
       "      <td>2</td>\n",
       "    </tr>\n",
       "    <tr>\n",
       "      <th>1</th>\n",
       "      <td>3</td>\n",
       "      <td>4</td>\n",
       "      <td>5</td>\n",
       "    </tr>\n",
       "  </tbody>\n",
       "</table>\n",
       "</div>"
      ],
      "text/plain": [
       "   0  1  2\n",
       "0  0  1  2\n",
       "1  3  4  5"
      ]
     },
     "metadata": {},
     "output_type": "display_data"
    },
    {
     "data": {
      "text/html": [
       "<div>\n",
       "<style scoped>\n",
       "    .dataframe tbody tr th:only-of-type {\n",
       "        vertical-align: middle;\n",
       "    }\n",
       "\n",
       "    .dataframe tbody tr th {\n",
       "        vertical-align: top;\n",
       "    }\n",
       "\n",
       "    .dataframe thead th {\n",
       "        text-align: right;\n",
       "    }\n",
       "</style>\n",
       "<table border=\"1\" class=\"dataframe\">\n",
       "  <thead>\n",
       "    <tr style=\"text-align: right;\">\n",
       "      <th></th>\n",
       "      <th>c0</th>\n",
       "      <th>c1</th>\n",
       "      <th>c2</th>\n",
       "    </tr>\n",
       "  </thead>\n",
       "  <tbody>\n",
       "    <tr>\n",
       "      <th>r0</th>\n",
       "      <td>0</td>\n",
       "      <td>1</td>\n",
       "      <td>2</td>\n",
       "    </tr>\n",
       "    <tr>\n",
       "      <th>r1</th>\n",
       "      <td>3</td>\n",
       "      <td>4</td>\n",
       "      <td>5</td>\n",
       "    </tr>\n",
       "  </tbody>\n",
       "</table>\n",
       "</div>"
      ],
      "text/plain": [
       "    c0  c1  c2\n",
       "r0   0   1   2\n",
       "r1   3   4   5"
      ]
     },
     "metadata": {},
     "output_type": "display_data"
    }
   ],
   "source": [
    "#DataFrameのindex属性とcolumns属性にリストを代入することで、行番号と列ラベルを後で指定できる\n",
    "df3 = pd.DataFrame([[0, 1, 2], [3, 4, 5]])\n",
    "display(df3)                 \n",
    "df3.index = ['r0', 'r1']\n",
    "df3.columns = ['c0', 'c1', 'c2']\n",
    "display(df3)"
   ]
  },
  {
   "cell_type": "code",
   "execution_count": 10,
   "id": "68dcc445-bd58-4ce2-9970-a93dee56442b",
   "metadata": {},
   "outputs": [
    {
     "name": "stdout",
     "output_type": "stream",
     "text": [
      "<class 'numpy.ndarray'>\n",
      "[[0 1 2]\n",
      " [3 4 5]]\n"
     ]
    }
   ],
   "source": [
    "#to_numpyメソッドでindexとcolumnsを除いた2次元のndarrayだけを取り出す事が出来る\n",
    "print(type(df3.to_numpy()))\n",
    "print(df3.to_numpy())"
   ]
  },
  {
   "cell_type": "code",
   "execution_count": 35,
   "id": "5496fa38-577b-40df-9140-d3c4439daaa3",
   "metadata": {},
   "outputs": [],
   "source": [
    "#print(df.info())\n",
    "#print(df.head(n)) nは書かないと5の初期設定\n",
    "#print(df.tail())\n",
    "#print(df.tail(N)) 末尾を表示させる"
   ]
  },
  {
   "cell_type": "code",
   "execution_count": 17,
   "id": "97b18941-cf73-44a6-91b3-2283059ac744",
   "metadata": {},
   "outputs": [],
   "source": [
    "#変数 = pd.read_csv('CSVファイル名', sep=',', skiprows=N, header=M)\n",
    "# もしくは \n",
    "# csv_in ='csvファイル名'\n",
    "# 変数 = pd.read_csv('csv_in', sep=',', skiprows=N, header=M)\n",
    "# 区切り字がTab文字の場合はsep='\\t'、空白文字の場合はsep='\\s+'とする。\n",
    "# sep=を省略した場合は区切り字はコンマとみなされる\n",
    "\n",
    "# 先頭の読み飛ばすべきデータ以外の行がない場合はskiprows=0とする\n",
    "\n",
    "# 列ラベルの行がない場合はheader=Noneとする"
   ]
  },
  {
   "cell_type": "code",
   "execution_count": 18,
   "id": "8c2c4ea6-5b61-408a-a105-90fb46b9f4c7",
   "metadata": {},
   "outputs": [],
   "source": [
    "# 変数 = データフレーム[列名]でデータフレーム（表）の１列分のデータを取り出せる\n",
    "# 変数 = データフレーム[列名リスト]でデータフレームの複数のデータを取り出せる\n",
    "#例　df1 = df[['Region', 'Milk', 'Grocery']]"
   ]
  },
  {
   "cell_type": "code",
   "execution_count": 19,
   "id": "251a8d86-f699-4f7e-8f11-67ee25fc97b1",
   "metadata": {},
   "outputs": [],
   "source": [
    "# 複数列の取り出しは　変数 = データフレーム.loc[先頭行の行番号:末尾行の行番号, 先頭列の列ラベル:末尾列の列ラベル]\n",
    "# 例 df3 = df.loc[1:3, 'Milk':'Frozen']\n",
    "# 行番号や列ラベルを省略すると先頭から末尾までになる"
   ]
  },
  {
   "cell_type": "code",
   "execution_count": 20,
   "id": "309bfa2c-3c72-4ded-b0c1-485e7be08fe5",
   "metadata": {},
   "outputs": [],
   "source": [
    "# 列番号を用いて複数列を取り出す場合はilocを使う\n",
    "# 変数 = データフレーム.iloc[先頭行の行番号:末尾行の１つ先の行番号, 先頭列の列番号:末尾列の１つ先の列番号]"
   ]
  },
  {
   "cell_type": "code",
   "execution_count": 21,
   "id": "d52c9d3b-98a2-4cdc-ae56-e8aab5fb1767",
   "metadata": {},
   "outputs": [],
   "source": [
    "# 一定間隔での取り出し、逆順での取り出し\n",
    "# 例 display(df.iloc[2:15:2, 14:3:-1])\n",
    "# 行番号2から14まで、2行ごと\n",
    "# 列番号14から4まで、逆順に1列ごと"
   ]
  },
  {
   "cell_type": "code",
   "execution_count": 25,
   "id": "d8775d70-f60a-461a-8280-1dfef9145297",
   "metadata": {},
   "outputs": [
    {
     "name": "stdout",
     "output_type": "stream",
     "text": [
      "[0 1 2]\n",
      "0\n"
     ]
    }
   ],
   "source": [
    "# ndarrayに対して各軸の番号を指定することで要素の値を取り出せる\n",
    "a1 = np.array([0, 1, 2])\n",
    "print(a1)\n",
    "print(a1[0])"
   ]
  },
  {
   "cell_type": "code",
   "execution_count": 24,
   "id": "32e44002-1520-4240-899e-805bf81bd60a",
   "metadata": {},
   "outputs": [
    {
     "name": "stdout",
     "output_type": "stream",
     "text": [
      "[[0 1 2]\n",
      " [3 4 5]]\n",
      "1\n"
     ]
    }
   ],
   "source": [
    "a2 = np.array([[0, 1, 2], [3, 4, 5]])\n",
    "print(a2)\n",
    "print(a2[0, 1])"
   ]
  },
  {
   "cell_type": "code",
   "execution_count": 27,
   "id": "7c6b1ae8-0012-4d41-b9d9-5ed0f2de5ca4",
   "metadata": {},
   "outputs": [
    {
     "name": "stdout",
     "output_type": "stream",
     "text": [
      "[[[ 0  1  2]\n",
      "  [ 3  4  5]]\n",
      "\n",
      " [[ 6  7  8]\n",
      "  [ 9 10 11]]]\n",
      "8\n"
     ]
    }
   ],
   "source": [
    "a3 = np.array([[[0, 1, 2], [3, 4, 5]], [[6, 7, 8], [9, 10, 11]]])\n",
    "print(a3)\n",
    "print(a3[1, 0, 2])"
   ]
  },
  {
   "cell_type": "code",
   "execution_count": 29,
   "id": "2abebe8f-ff9e-4917-bff5-65e9622e1b46",
   "metadata": {},
   "outputs": [
    {
     "name": "stdout",
     "output_type": "stream",
     "text": [
      "[99  1  2]\n",
      "[[ 0 99  2]\n",
      " [ 3  4  5]]\n",
      "[[[ 0  1  2]\n",
      "  [ 3  4  5]]\n",
      "\n",
      " [[ 6  7 99]\n",
      "  [ 9 10 11]]]\n"
     ]
    }
   ],
   "source": [
    "# 取り出す代わりに値を代入すると値を変更できる\n",
    "a1[0] = 99\n",
    "print(a1)\n",
    "a2[0, 1] = 99\n",
    "print(a2)\n",
    "a3[1, 0, 2] = 99\n",
    "print(a3)"
   ]
  },
  {
   "cell_type": "code",
   "execution_count": 31,
   "id": "cec46473-4f62-48e6-bd66-a479dd052036",
   "metadata": {},
   "outputs": [],
   "source": [
    "# DataFrameに対してatを使って行番号と列ラベルを指定できる\n",
    "# print(df6.at[2, 'Frozen'])"
   ]
  },
  {
   "cell_type": "code",
   "execution_count": 32,
   "id": "666ba9c7-61f9-47b8-abf9-e965e2d24c97",
   "metadata": {},
   "outputs": [],
   "source": [
    "# atの代わりにiatを使うと番号で1つの要素を指定できる\n",
    "# print(df6.iat[2, 1])"
   ]
  },
  {
   "cell_type": "code",
   "execution_count": 34,
   "id": "f708e07a-27db-41c3-8a84-dd544e132916",
   "metadata": {},
   "outputs": [],
   "source": [
    "# DataFrameでも値の代入によって要素の1つを変更できる\n",
    "# df6.at[2, 'Frozen'] = 99\n",
    "# df6.iat[2, 1] = 88"
   ]
  },
  {
   "cell_type": "code",
   "execution_count": null,
   "id": "fdedb3b2-3500-4e8a-9744-02ba27d7e053",
   "metadata": {},
   "outputs": [],
   "source": []
  }
 ],
 "metadata": {
  "kernelspec": {
   "display_name": "Python 3 (ipykernel)",
   "language": "python",
   "name": "python3"
  },
  "language_info": {
   "codemirror_mode": {
    "name": "ipython",
    "version": 3
   },
   "file_extension": ".py",
   "mimetype": "text/x-python",
   "name": "python",
   "nbconvert_exporter": "python",
   "pygments_lexer": "ipython3",
   "version": "3.8.16"
  }
 },
 "nbformat": 4,
 "nbformat_minor": 5
}
