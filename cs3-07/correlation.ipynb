{
 "cells": [
  {
   "cell_type": "code",
   "execution_count": null,
   "id": "024c657b-53ae-4e4f-9505-7bb027d9cc16",
   "metadata": {},
   "outputs": [],
   "source": [
    "csv_in='batting_npb2021.csv'\n",
    "df=pd.read_csv(csv_in, sep=',', skiprows=0, header=0)\n"
   ]
  }
 ],
 "metadata": {
  "kernelspec": {
   "display_name": "Python 3 (ipykernel)",
   "language": "python",
   "name": "python3"
  },
  "language_info": {
   "codemirror_mode": {
    "name": "ipython",
    "version": 3
   },
   "file_extension": ".py",
   "mimetype": "text/x-python",
   "name": "python",
   "nbconvert_exporter": "python",
   "pygments_lexer": "ipython3",
   "version": "3.8.16"
  }
 },
 "nbformat": 4,
 "nbformat_minor": 5
}
