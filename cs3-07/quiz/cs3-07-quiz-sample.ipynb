{
 "cells": [
  {
   "cell_type": "code",
   "execution_count": null,
   "id": "0b34feb5-faf7-418a-a6b4-2ef7e9105fe7",
   "metadata": {},
   "outputs": [],
   "source": [
    "# To avoid the warning about the memory leak of KMeans (Win MKL version)  \n",
    "import os\n",
    "os.environ['OMP_NUM_THREADS'] = '1'\n",
    "\n",
    "import numpy as np\n",
    "import pandas as pd\n",
    "import matplotlib.pyplot as plt\n",
    "from sklearn.cluster import KMeans\n",
    "from sklearn.preprocessing import scale"
   ]
  },
  {
   "cell_type": "code",
   "execution_count": null,
   "id": "0461cdf0-14b3-4d54-adfe-9c458684c3a6",
   "metadata": {},
   "outputs": [],
   "source": [
    "# To show all rows/columns\n",
    "pd.options.display.max_columns = 999\n",
    "pd.options.display.max_rows = 999"
   ]
  },
  {
   "cell_type": "code",
   "execution_count": null,
   "id": "2284d672-f8c4-4b6a-80c0-5be3fd30c2ef",
   "metadata": {},
   "outputs": [],
   "source": [
    "csv_in = 'xxx'\n",
    "\n",
    "df = pd.read_csv(csv_in, ...)\n",
    "print(df.shape)\n",
    "print(df.info())\n",
    "display(df.head())"
   ]
  },
  {
   "cell_type": "code",
   "execution_count": null,
   "id": "5641dc1a-082c-4625-9b79-3d2c75ecbcb4",
   "metadata": {},
   "outputs": [],
   "source": []
  }
 ],
 "metadata": {
  "kernelspec": {
   "display_name": "Python 3 (ipykernel)",
   "language": "python",
   "name": "python3"
  },
  "language_info": {
   "codemirror_mode": {
    "name": "ipython",
    "version": 3
   },
   "file_extension": ".py",
   "mimetype": "text/x-python",
   "name": "python",
   "nbconvert_exporter": "python",
   "pygments_lexer": "ipython3",
   "version": "3.8.12"
  }
 },
 "nbformat": 4,
 "nbformat_minor": 5
}
