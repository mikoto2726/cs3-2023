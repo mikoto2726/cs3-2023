{
 "cells": [
  {
   "cell_type": "markdown",
   "metadata": {},
   "source": [
    "### CS3-end1-p1"
   ]
  },
  {
   "cell_type": "markdown",
   "metadata": {},
   "source": [
    "#### Import libraries  "
   ]
  },
  {
   "cell_type": "code",
   "execution_count": 15,
   "metadata": {},
   "outputs": [],
   "source": [
    "import numpy as np\n",
    "import pandas as pd\n",
    "import statsmodels.api as sm\n",
    "from sklearn.preprocessing import scale"
   ]
  },
  {
   "cell_type": "code",
   "execution_count": 16,
   "metadata": {},
   "outputs": [
    {
     "name": "stdout",
     "output_type": "stream",
     "text": [
      "X: (150, 3)\n"
     ]
    },
    {
     "data": {
      "text/html": [
       "<div>\n",
       "<style scoped>\n",
       "    .dataframe tbody tr th:only-of-type {\n",
       "        vertical-align: middle;\n",
       "    }\n",
       "\n",
       "    .dataframe tbody tr th {\n",
       "        vertical-align: top;\n",
       "    }\n",
       "\n",
       "    .dataframe thead th {\n",
       "        text-align: right;\n",
       "    }\n",
       "</style>\n",
       "<table border=\"1\" class=\"dataframe\">\n",
       "  <thead>\n",
       "    <tr style=\"text-align: right;\">\n",
       "      <th></th>\n",
       "      <th>c1</th>\n",
       "      <th>c2</th>\n",
       "      <th>c4</th>\n",
       "    </tr>\n",
       "  </thead>\n",
       "  <tbody>\n",
       "    <tr>\n",
       "      <th>0</th>\n",
       "      <td>2.01</td>\n",
       "      <td>2.40</td>\n",
       "      <td>1.90</td>\n",
       "    </tr>\n",
       "    <tr>\n",
       "      <th>1</th>\n",
       "      <td>3.28</td>\n",
       "      <td>-0.04</td>\n",
       "      <td>0.32</td>\n",
       "    </tr>\n",
       "    <tr>\n",
       "      <th>2</th>\n",
       "      <td>0.23</td>\n",
       "      <td>-0.48</td>\n",
       "      <td>2.85</td>\n",
       "    </tr>\n",
       "    <tr>\n",
       "      <th>3</th>\n",
       "      <td>2.73</td>\n",
       "      <td>-1.44</td>\n",
       "      <td>-0.02</td>\n",
       "    </tr>\n",
       "    <tr>\n",
       "      <th>4</th>\n",
       "      <td>0.11</td>\n",
       "      <td>1.99</td>\n",
       "      <td>-0.66</td>\n",
       "    </tr>\n",
       "  </tbody>\n",
       "</table>\n",
       "</div>"
      ],
      "text/plain": [
       "     c1    c2    c4\n",
       "0  2.01  2.40  1.90\n",
       "1  3.28 -0.04  0.32\n",
       "2  0.23 -0.48  2.85\n",
       "3  2.73 -1.44 -0.02\n",
       "4  0.11  1.99 -0.66"
      ]
     },
     "metadata": {},
     "output_type": "display_data"
    },
    {
     "name": "stdout",
     "output_type": "stream",
     "text": [
      "y: (150,)\n",
      "0     7.40\n",
      "1     4.42\n",
      "2    27.17\n",
      "3     5.56\n",
      "4    -1.76\n",
      "Name: y, dtype: float64\n"
     ]
    }
   ],
   "source": [
    "csv_in=\"end1-p1.csv\"\n",
    "df=pd.read_csv(csv_in, skiprows=2, header=0)\n",
    "X=df.drop(columns=['c3','c5','c6','y'])\n",
    "y=df['y']\n",
    "print('X:',X.shape)\n",
    "display(X.head())\n",
    "print('y:',y.shape)\n",
    "print(y.head())"
   ]
  },
  {
   "cell_type": "code",
   "execution_count": 17,
   "metadata": {},
   "outputs": [
    {
     "name": "stdout",
     "output_type": "stream",
     "text": [
      "                            OLS Regression Results                            \n",
      "==============================================================================\n",
      "Dep. Variable:                      y   R-squared:                       0.848\n",
      "Model:                            OLS   Adj. R-squared:                  0.845\n",
      "Method:                 Least Squares   F-statistic:                     270.9\n",
      "Date:                Sat, 22 Jul 2023   Prob (F-statistic):           1.95e-59\n",
      "Time:                        14:19:40   Log-Likelihood:                -414.50\n",
      "No. Observations:                 150   AIC:                             837.0\n",
      "Df Residuals:                     146   BIC:                             849.0\n",
      "Df Model:                           3                                         \n",
      "Covariance Type:            nonrobust                                         \n",
      "==============================================================================\n",
      "                 coef    std err          t      P>|t|      [0.025      0.975]\n",
      "------------------------------------------------------------------------------\n",
      "const         10.3675      0.515     20.112      0.000       9.349      11.386\n",
      "c1            -3.9070      0.196    -19.894      0.000      -4.295      -3.519\n",
      "c2            -2.0897      0.216     -9.677      0.000      -2.516      -1.663\n",
      "c4             4.6121      0.294     15.694      0.000       4.031       5.193\n",
      "==============================================================================\n",
      "Omnibus:                        0.262   Durbin-Watson:                   1.966\n",
      "Prob(Omnibus):                  0.877   Jarque-Bera (JB):                0.324\n",
      "Skew:                          -0.098   Prob(JB):                        0.851\n",
      "Kurtosis:                       2.883   Cond. No.                         4.05\n",
      "==============================================================================\n",
      "\n",
      "Notes:\n",
      "[1] Standard Errors assume that the covariance matrix of the errors is correctly specified.\n"
     ]
    }
   ],
   "source": [
    "X_c=sm.add_constant(X)\n",
    "model=sm.OLS(y, X_c)\n",
    "results=model.fit()\n",
    "print(results.summary())"
   ]
  },
  {
   "cell_type": "code",
   "execution_count": 18,
   "metadata": {},
   "outputs": [
    {
     "name": "stdout",
     "output_type": "stream",
     "text": [
      "Adj R2: 0.844558355465199\n"
     ]
    }
   ],
   "source": [
    "print('Adj R2:', results.rsquared_adj)"
   ]
  },
  {
   "cell_type": "code",
   "execution_count": 19,
   "metadata": {},
   "outputs": [
    {
     "name": "stdout",
     "output_type": "stream",
     "text": [
      "const    10.367487\n",
      "c1       -3.906958\n",
      "c2       -2.089675\n",
      "c4        4.612139\n",
      "dtype: float64\n"
     ]
    }
   ],
   "source": [
    "print(results.params)"
   ]
  },
  {
   "cell_type": "code",
   "execution_count": 20,
   "metadata": {},
   "outputs": [
    {
     "name": "stdout",
     "output_type": "stream",
     "text": [
      "                                 OLS Regression Results                                \n",
      "=======================================================================================\n",
      "Dep. Variable:                      y   R-squared (uncentered):                   0.848\n",
      "Model:                            OLS   Adj. R-squared (uncentered):              0.845\n",
      "Method:                 Least Squares   F-statistic:                              272.7\n",
      "Date:                Sat, 22 Jul 2023   Prob (F-statistic):                    7.65e-60\n",
      "Time:                        14:19:40   Log-Likelihood:                         -71.704\n",
      "No. Observations:                 150   AIC:                                      149.4\n",
      "Df Residuals:                     147   BIC:                                      158.4\n",
      "Df Model:                           3                                                  \n",
      "Covariance Type:            nonrobust                                                  \n",
      "==============================================================================\n",
      "                 coef    std err          t      P>|t|      [0.025      0.975]\n",
      "------------------------------------------------------------------------------\n",
      "c1            -0.6477      0.032    -19.962      0.000      -0.712      -0.584\n",
      "c2            -0.3127      0.032     -9.710      0.000      -0.376      -0.249\n",
      "c4             0.5110      0.032     15.747      0.000       0.447       0.575\n",
      "==============================================================================\n",
      "Omnibus:                        0.262   Durbin-Watson:                   1.966\n",
      "Prob(Omnibus):                  0.877   Jarque-Bera (JB):                0.324\n",
      "Skew:                          -0.098   Prob(JB):                        0.851\n",
      "Kurtosis:                       2.883   Cond. No.                         1.14\n",
      "==============================================================================\n",
      "\n",
      "Notes:\n",
      "[1] R² is computed without centering (uncentered) since the model does not contain a constant.\n",
      "[2] Standard Errors assume that the covariance matrix of the errors is correctly specified.\n"
     ]
    }
   ],
   "source": [
    "X_scaled_ar=scale(X)\n",
    "y_scaled_ar=scale(y)\n",
    "X_scaled=pd.DataFrame(X_scaled_ar, columns=X.columns)\n",
    "y_scaled=pd.Series(y_scaled_ar, name=y.name)\n",
    "model=sm.OLS(y_scaled, X_scaled)\n",
    "results_scaled=model.fit()\n",
    "print(results_scaled.summary())"
   ]
  },
  {
   "cell_type": "code",
   "execution_count": 21,
   "metadata": {},
   "outputs": [
    {
     "name": "stdout",
     "output_type": "stream",
     "text": [
      "R2: 0.8476880530061681\n",
      "Adj R2: 0.844558355465199\n"
     ]
    }
   ],
   "source": [
    "print('R2:', results.rsquared)\n",
    "print('Adj R2:', results.rsquared_adj)"
   ]
  },
  {
   "cell_type": "code",
   "execution_count": 24,
   "metadata": {},
   "outputs": [
    {
     "name": "stdout",
     "output_type": "stream",
     "text": [
      "c1   -0.647679\n",
      "c4    0.511014\n",
      "c2   -0.312669\n",
      "dtype: float64\n"
     ]
    }
   ],
   "source": [
    "print(results_scaled.params.sort_values(key=np.abs,ascending=False))"
   ]
  },
  {
   "cell_type": "code",
   "execution_count": 22,
   "metadata": {},
   "outputs": [
    {
     "name": "stdout",
     "output_type": "stream",
     "text": [
      "X1 for prediction:\n"
     ]
    },
    {
     "data": {
      "text/html": [
       "<div>\n",
       "<style scoped>\n",
       "    .dataframe tbody tr th:only-of-type {\n",
       "        vertical-align: middle;\n",
       "    }\n",
       "\n",
       "    .dataframe tbody tr th {\n",
       "        vertical-align: top;\n",
       "    }\n",
       "\n",
       "    .dataframe thead th {\n",
       "        text-align: right;\n",
       "    }\n",
       "</style>\n",
       "<table border=\"1\" class=\"dataframe\">\n",
       "  <thead>\n",
       "    <tr style=\"text-align: right;\">\n",
       "      <th></th>\n",
       "      <th>c1</th>\n",
       "      <th>c2</th>\n",
       "      <th>c4</th>\n",
       "    </tr>\n",
       "  </thead>\n",
       "  <tbody>\n",
       "    <tr>\n",
       "      <th>0</th>\n",
       "      <td>1</td>\n",
       "      <td>1</td>\n",
       "      <td>1</td>\n",
       "    </tr>\n",
       "  </tbody>\n",
       "</table>\n",
       "</div>"
      ],
      "text/plain": [
       "   c1  c2  c4\n",
       "0   1   1   1"
      ]
     },
     "metadata": {},
     "output_type": "display_data"
    },
    {
     "name": "stdout",
     "output_type": "stream",
     "text": [
      "X2 for prediction:\n"
     ]
    },
    {
     "data": {
      "text/html": [
       "<div>\n",
       "<style scoped>\n",
       "    .dataframe tbody tr th:only-of-type {\n",
       "        vertical-align: middle;\n",
       "    }\n",
       "\n",
       "    .dataframe tbody tr th {\n",
       "        vertical-align: top;\n",
       "    }\n",
       "\n",
       "    .dataframe thead th {\n",
       "        text-align: right;\n",
       "    }\n",
       "</style>\n",
       "<table border=\"1\" class=\"dataframe\">\n",
       "  <thead>\n",
       "    <tr style=\"text-align: right;\">\n",
       "      <th></th>\n",
       "      <th>c1</th>\n",
       "      <th>c2</th>\n",
       "      <th>c4</th>\n",
       "    </tr>\n",
       "  </thead>\n",
       "  <tbody>\n",
       "    <tr>\n",
       "      <th>0</th>\n",
       "      <td>2</td>\n",
       "      <td>2</td>\n",
       "      <td>2</td>\n",
       "    </tr>\n",
       "  </tbody>\n",
       "</table>\n",
       "</div>"
      ],
      "text/plain": [
       "   c1  c2  c4\n",
       "0   2   2   2"
      ]
     },
     "metadata": {},
     "output_type": "display_data"
    }
   ],
   "source": [
    "x1=[[1,1,1]]\n",
    "x2=[[2,2,2]]\n",
    "X1_test = pd.DataFrame(x1,columns=X.columns)\n",
    "print('X1 for prediction:')\n",
    "display(X1_test)\n",
    "X2_test = pd.DataFrame(x2,columns=X.columns)\n",
    "print('X2 for prediction:')\n",
    "display(X2_test)"
   ]
  },
  {
   "cell_type": "code",
   "execution_count": 23,
   "metadata": {},
   "outputs": [
    {
     "name": "stdout",
     "output_type": "stream",
     "text": [
      "Predicted y1:\n",
      "0    8.982992\n",
      "dtype: float64\n",
      "Predicted y2:\n",
      "0    7.598498\n",
      "dtype: float64\n"
     ]
    }
   ],
   "source": [
    "X1_test = sm.add_constant(X1_test,has_constant='add')\n",
    "y1_test = results.predict(X1_test)\n",
    "print('Predicted y1:')\n",
    "print(y1_test)\n",
    "X2_test = sm.add_constant(X2_test,has_constant='add')\n",
    "y2_test = results.predict(X2_test)\n",
    "print('Predicted y2:')\n",
    "print(y2_test)"
   ]
  },
  {
   "cell_type": "code",
   "execution_count": null,
   "metadata": {},
   "outputs": [],
   "source": []
  }
 ],
 "metadata": {
  "kernelspec": {
   "display_name": "Python 3 (ipykernel)",
   "language": "python",
   "name": "python3"
  },
  "language_info": {
   "codemirror_mode": {
    "name": "ipython",
    "version": 3
   },
   "file_extension": ".py",
   "mimetype": "text/x-python",
   "name": "python",
   "nbconvert_exporter": "python",
   "pygments_lexer": "ipython3",
   "version": "3.8.16"
  }
 },
 "nbformat": 4,
 "nbformat_minor": 4
}
