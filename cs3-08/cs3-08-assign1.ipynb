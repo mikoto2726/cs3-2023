{
 "cells": [
  {
   "cell_type": "code",
   "execution_count": 1,
   "id": "6854100e-198c-4d9a-a24b-389c6920fd3c",
   "metadata": {},
   "outputs": [],
   "source": [
    "import numpy as np\n",
    "import pandas as pd\n",
    "import matplotlib.pyplot as plt\n",
    "import statsmodels.api as sm\n",
    "import seaborn as sns\n",
    "from sklearn.preprocessing import scale\n",
    "from sklearn.metrics import mean_squared_error"
   ]
  },
  {
   "cell_type": "code",
   "execution_count": 2,
   "id": "aab478f0-833e-4198-9ccd-b75e9f5b6c3c",
   "metadata": {},
   "outputs": [
    {
     "name": "stdout",
     "output_type": "stream",
     "text": [
      "(24, 4)\n",
      "<class 'pandas.core.frame.DataFrame'>\n",
      "RangeIndex: 24 entries, 0 to 23\n",
      "Data columns (total 4 columns):\n",
      " #   Column       Non-Null Count  Dtype \n",
      "---  ------       --------------  ----- \n",
      " 0   Temperature  24 non-null     int64 \n",
      " 1   Humidity     24 non-null     int64 \n",
      " 2   place        24 non-null     object\n",
      " 3   Sales        24 non-null     int64 \n",
      "dtypes: int64(3), object(1)\n",
      "memory usage: 896.0+ bytes\n",
      "None\n"
     ]
    },
    {
     "data": {
      "text/html": [
       "<div>\n",
       "<style scoped>\n",
       "    .dataframe tbody tr th:only-of-type {\n",
       "        vertical-align: middle;\n",
       "    }\n",
       "\n",
       "    .dataframe tbody tr th {\n",
       "        vertical-align: top;\n",
       "    }\n",
       "\n",
       "    .dataframe thead th {\n",
       "        text-align: right;\n",
       "    }\n",
       "</style>\n",
       "<table border=\"1\" class=\"dataframe\">\n",
       "  <thead>\n",
       "    <tr style=\"text-align: right;\">\n",
       "      <th></th>\n",
       "      <th>Temperature</th>\n",
       "      <th>Humidity</th>\n",
       "      <th>place</th>\n",
       "      <th>Sales</th>\n",
       "    </tr>\n",
       "  </thead>\n",
       "  <tbody>\n",
       "    <tr>\n",
       "      <th>0</th>\n",
       "      <td>9</td>\n",
       "      <td>55</td>\n",
       "      <td>A</td>\n",
       "      <td>30</td>\n",
       "    </tr>\n",
       "    <tr>\n",
       "      <th>1</th>\n",
       "      <td>10</td>\n",
       "      <td>45</td>\n",
       "      <td>B</td>\n",
       "      <td>40</td>\n",
       "    </tr>\n",
       "    <tr>\n",
       "      <th>2</th>\n",
       "      <td>12</td>\n",
       "      <td>44</td>\n",
       "      <td>A</td>\n",
       "      <td>33</td>\n",
       "    </tr>\n",
       "    <tr>\n",
       "      <th>3</th>\n",
       "      <td>15</td>\n",
       "      <td>30</td>\n",
       "      <td>B</td>\n",
       "      <td>20</td>\n",
       "    </tr>\n",
       "    <tr>\n",
       "      <th>4</th>\n",
       "      <td>15</td>\n",
       "      <td>30</td>\n",
       "      <td>A</td>\n",
       "      <td>20</td>\n",
       "    </tr>\n",
       "  </tbody>\n",
       "</table>\n",
       "</div>"
      ],
      "text/plain": [
       "   Temperature  Humidity place  Sales\n",
       "0            9        55     A     30\n",
       "1           10        45     B     40\n",
       "2           12        44     A     33\n",
       "3           15        30     B     20\n",
       "4           15        30     A     20"
      ]
     },
     "metadata": {},
     "output_type": "display_data"
    }
   ],
   "source": [
    "csv_in = 'POS_vending.csv'\n",
    "df = pd.read_csv(csv_in,sep=',',skiprows=0,header=0)\n",
    "print(df.shape)\n",
    "print(df.info())\n",
    "display(df.head())"
   ]
  },
  {
   "cell_type": "code",
   "execution_count": 4,
   "id": "51e91145-b03d-4b4d-930e-9c1b7251e9d7",
   "metadata": {},
   "outputs": [
    {
     "name": "stdout",
     "output_type": "stream",
     "text": [
      "X: (24, 3)\n"
     ]
    },
    {
     "data": {
      "text/html": [
       "<div>\n",
       "<style scoped>\n",
       "    .dataframe tbody tr th:only-of-type {\n",
       "        vertical-align: middle;\n",
       "    }\n",
       "\n",
       "    .dataframe tbody tr th {\n",
       "        vertical-align: top;\n",
       "    }\n",
       "\n",
       "    .dataframe thead th {\n",
       "        text-align: right;\n",
       "    }\n",
       "</style>\n",
       "<table border=\"1\" class=\"dataframe\">\n",
       "  <thead>\n",
       "    <tr style=\"text-align: right;\">\n",
       "      <th></th>\n",
       "      <th>Temperature</th>\n",
       "      <th>Humidity</th>\n",
       "      <th>place</th>\n",
       "    </tr>\n",
       "  </thead>\n",
       "  <tbody>\n",
       "    <tr>\n",
       "      <th>0</th>\n",
       "      <td>9</td>\n",
       "      <td>55</td>\n",
       "      <td>A</td>\n",
       "    </tr>\n",
       "    <tr>\n",
       "      <th>1</th>\n",
       "      <td>10</td>\n",
       "      <td>45</td>\n",
       "      <td>B</td>\n",
       "    </tr>\n",
       "    <tr>\n",
       "      <th>2</th>\n",
       "      <td>12</td>\n",
       "      <td>44</td>\n",
       "      <td>A</td>\n",
       "    </tr>\n",
       "    <tr>\n",
       "      <th>3</th>\n",
       "      <td>15</td>\n",
       "      <td>30</td>\n",
       "      <td>B</td>\n",
       "    </tr>\n",
       "    <tr>\n",
       "      <th>4</th>\n",
       "      <td>15</td>\n",
       "      <td>30</td>\n",
       "      <td>A</td>\n",
       "    </tr>\n",
       "  </tbody>\n",
       "</table>\n",
       "</div>"
      ],
      "text/plain": [
       "   Temperature  Humidity place\n",
       "0            9        55     A\n",
       "1           10        45     B\n",
       "2           12        44     A\n",
       "3           15        30     B\n",
       "4           15        30     A"
      ]
     },
     "metadata": {},
     "output_type": "display_data"
    },
    {
     "name": "stdout",
     "output_type": "stream",
     "text": [
      "y: (24,)\n",
      "0    30\n",
      "1    40\n",
      "2    33\n",
      "3    20\n",
      "4    20\n",
      "Name: Sales, dtype: int64\n"
     ]
    }
   ],
   "source": [
    "X = df.drop(columns='Sales')\n",
    "y = df['Sales']\n",
    "print('X:',X.shape)\n",
    "display(X.head())\n",
    "print('y:',y.shape)\n",
    "print(y.head())"
   ]
  },
  {
   "cell_type": "code",
   "execution_count": 5,
   "id": "dd9b40a0-fe28-4193-93a2-4121a87b3d3f",
   "metadata": {},
   "outputs": [
    {
     "name": "stdout",
     "output_type": "stream",
     "text": [
      "A    12\n",
      "B    12\n",
      "Name: place, dtype: int64\n"
     ]
    }
   ],
   "source": [
    "print(X['place'].value_counts())"
   ]
  },
  {
   "cell_type": "code",
   "execution_count": 35,
   "id": "9bd7c6f8-2aaf-4b85-afc5-73f932a8a972",
   "metadata": {},
   "outputs": [
    {
     "name": "stdout",
     "output_type": "stream",
     "text": [
      "X_dumm: (24, 3)\n"
     ]
    },
    {
     "data": {
      "text/html": [
       "<div>\n",
       "<style scoped>\n",
       "    .dataframe tbody tr th:only-of-type {\n",
       "        vertical-align: middle;\n",
       "    }\n",
       "\n",
       "    .dataframe tbody tr th {\n",
       "        vertical-align: top;\n",
       "    }\n",
       "\n",
       "    .dataframe thead th {\n",
       "        text-align: right;\n",
       "    }\n",
       "</style>\n",
       "<table border=\"1\" class=\"dataframe\">\n",
       "  <thead>\n",
       "    <tr style=\"text-align: right;\">\n",
       "      <th></th>\n",
       "      <th>Temperature</th>\n",
       "      <th>Humidity</th>\n",
       "      <th>place_B</th>\n",
       "    </tr>\n",
       "  </thead>\n",
       "  <tbody>\n",
       "    <tr>\n",
       "      <th>0</th>\n",
       "      <td>9</td>\n",
       "      <td>55</td>\n",
       "      <td>0</td>\n",
       "    </tr>\n",
       "    <tr>\n",
       "      <th>1</th>\n",
       "      <td>10</td>\n",
       "      <td>45</td>\n",
       "      <td>1</td>\n",
       "    </tr>\n",
       "    <tr>\n",
       "      <th>2</th>\n",
       "      <td>12</td>\n",
       "      <td>44</td>\n",
       "      <td>0</td>\n",
       "    </tr>\n",
       "    <tr>\n",
       "      <th>3</th>\n",
       "      <td>15</td>\n",
       "      <td>30</td>\n",
       "      <td>1</td>\n",
       "    </tr>\n",
       "    <tr>\n",
       "      <th>4</th>\n",
       "      <td>15</td>\n",
       "      <td>30</td>\n",
       "      <td>0</td>\n",
       "    </tr>\n",
       "  </tbody>\n",
       "</table>\n",
       "</div>"
      ],
      "text/plain": [
       "   Temperature  Humidity  place_B\n",
       "0            9        55        0\n",
       "1           10        45        1\n",
       "2           12        44        0\n",
       "3           15        30        1\n",
       "4           15        30        0"
      ]
     },
     "metadata": {},
     "output_type": "display_data"
    }
   ],
   "source": [
    "X_dumm = pd.get_dummies(X,drop_first=True)\n",
    "print('X_dumm:',X_dumm.shape)\n",
    "display(X_dumm.head())"
   ]
  },
  {
   "cell_type": "code",
   "execution_count": 36,
   "id": "b2a654e3-fe65-45ac-89bf-f1881111ffc9",
   "metadata": {},
   "outputs": [
    {
     "name": "stdout",
     "output_type": "stream",
     "text": [
      "                            OLS Regression Results                            \n",
      "==============================================================================\n",
      "Dep. Variable:                  Sales   R-squared:                       0.710\n",
      "Model:                            OLS   Adj. R-squared:                  0.666\n",
      "Method:                 Least Squares   F-statistic:                     16.32\n",
      "Date:                Sat, 03 Jun 2023   Prob (F-statistic):           1.34e-05\n",
      "Time:                        16:46:52   Log-Likelihood:                -82.070\n",
      "No. Observations:                  24   AIC:                             172.1\n",
      "Df Residuals:                      20   BIC:                             176.9\n",
      "Df Model:                           3                                         \n",
      "Covariance Type:            nonrobust                                         \n",
      "===============================================================================\n",
      "                  coef    std err          t      P>|t|      [0.025      0.975]\n",
      "-------------------------------------------------------------------------------\n",
      "const          66.9869      7.721      8.676      0.000      50.881      83.093\n",
      "Temperature    -1.9666      0.368     -5.343      0.000      -2.734      -1.199\n",
      "Humidity       -0.4208      0.184     -2.281      0.034      -0.806      -0.036\n",
      "place_B         1.2974      3.323      0.390      0.700      -5.634       8.229\n",
      "==============================================================================\n",
      "Omnibus:                        1.225   Durbin-Watson:                   1.377\n",
      "Prob(Omnibus):                  0.542   Jarque-Bera (JB):                0.336\n",
      "Skew:                          -0.234   Prob(JB):                        0.845\n",
      "Kurtosis:                       3.342   Cond. No.                         210.\n",
      "==============================================================================\n",
      "\n",
      "Notes:\n",
      "[1] Standard Errors assume that the covariance matrix of the errors is correctly specified.\n"
     ]
    }
   ],
   "source": [
    "X_dumm_c = sm.add_constant(X_dumm)\n",
    "model = sm.OLS(y,X_dumm_c)\n",
    "results = model.fit()\n",
    "print(results.summary())"
   ]
  },
  {
   "cell_type": "code",
   "execution_count": 22,
   "id": "6660a459-00a7-40d4-8af7-f2ab0487fee5",
   "metadata": {},
   "outputs": [
    {
     "name": "stdout",
     "output_type": "stream",
     "text": [
      "R2: 0.7099706985676919\n",
      "Adj R2: 0.6664663033528457\n"
     ]
    }
   ],
   "source": [
    "print('R2:',results.rsquared)\n",
    "print('Adj R2:',results.rsquared_adj)"
   ]
  },
  {
   "cell_type": "code",
   "execution_count": 23,
   "id": "9812c6cb-1c40-4054-b4bb-96515462eef6",
   "metadata": {},
   "outputs": [
    {
     "name": "stdout",
     "output_type": "stream",
     "text": [
      "const          66.986869\n",
      "Temperature    -1.966592\n",
      "Humidity       -0.420791\n",
      "place_B         1.297446\n",
      "dtype: float64\n"
     ]
    }
   ],
   "source": [
    "print(results.params)"
   ]
  },
  {
   "cell_type": "code",
   "execution_count": 24,
   "id": "a9d8fdc5-22fd-4bd7-bfdb-9f51b7a9127a",
   "metadata": {},
   "outputs": [],
   "source": [
    "X_scaled_ar = scale(X_dumm)\n",
    "y_scaled_ar = scale(y)"
   ]
  },
  {
   "cell_type": "code",
   "execution_count": 25,
   "id": "9888e86a-bbfe-42a6-9d32-6a94e8f2929d",
   "metadata": {},
   "outputs": [
    {
     "name": "stdout",
     "output_type": "stream",
     "text": [
      "                                 OLS Regression Results                                \n",
      "=======================================================================================\n",
      "Dep. Variable:                  Sales   R-squared (uncentered):                   0.710\n",
      "Model:                            OLS   Adj. R-squared (uncentered):              0.669\n",
      "Method:                 Least Squares   F-statistic:                              17.14\n",
      "Date:                Sat, 03 Jun 2023   Prob (F-statistic):                    7.36e-06\n",
      "Time:                        16:37:29   Log-Likelihood:                         -19.201\n",
      "No. Observations:                  24   AIC:                                      44.40\n",
      "Df Residuals:                      21   BIC:                                      47.94\n",
      "Df Model:                           3                                                  \n",
      "Covariance Type:            nonrobust                                                  \n",
      "===============================================================================\n",
      "                  coef    std err          t      P>|t|      [0.025      0.975]\n",
      "-------------------------------------------------------------------------------\n",
      "Temperature    -0.6915      0.126     -5.475      0.000      -0.954      -0.429\n",
      "Humidity       -0.2958      0.127     -2.338      0.029      -0.559      -0.033\n",
      "place_B         0.0473      0.118      0.400      0.693      -0.198       0.293\n",
      "==============================================================================\n",
      "Omnibus:                        1.225   Durbin-Watson:                   1.377\n",
      "Prob(Omnibus):                  0.542   Jarque-Bera (JB):                0.336\n",
      "Skew:                          -0.234   Prob(JB):                        0.845\n",
      "Kurtosis:                       3.342   Cond. No.                         1.48\n",
      "==============================================================================\n",
      "\n",
      "Notes:\n",
      "[1] R² is computed without centering (uncentered) since the model does not contain a constant.\n",
      "[2] Standard Errors assume that the covariance matrix of the errors is correctly specified.\n"
     ]
    }
   ],
   "source": [
    "X_scaled = pd.DataFrame(X_scaled_ar,columns=X_dumm.columns)\n",
    "y_scaled = pd.Series(y_scaled_ar,name=y.name)\n",
    "model = sm.OLS(y_scaled,X_scaled)\n",
    "results_scaled = model.fit()\n",
    "print(results_scaled.summary())"
   ]
  },
  {
   "cell_type": "code",
   "execution_count": 26,
   "id": "539d3c12-3b3a-4c6f-bf9d-dd6b0c07b40b",
   "metadata": {},
   "outputs": [
    {
     "name": "stdout",
     "output_type": "stream",
     "text": [
      "Temperature   -0.691497\n",
      "Humidity      -0.295762\n",
      "place_B        0.047250\n",
      "dtype: float64\n"
     ]
    }
   ],
   "source": [
    "print(results_scaled.params.sort_values(key=np.abs,ascending=False))"
   ]
  },
  {
   "cell_type": "code",
   "execution_count": 38,
   "id": "8c189977-90d6-4c65-bfb1-7443d2dab497",
   "metadata": {},
   "outputs": [
    {
     "name": "stdout",
     "output_type": "stream",
     "text": [
      "X for prediction:\n"
     ]
    },
    {
     "data": {
      "text/html": [
       "<div>\n",
       "<style scoped>\n",
       "    .dataframe tbody tr th:only-of-type {\n",
       "        vertical-align: middle;\n",
       "    }\n",
       "\n",
       "    .dataframe tbody tr th {\n",
       "        vertical-align: top;\n",
       "    }\n",
       "\n",
       "    .dataframe thead th {\n",
       "        text-align: right;\n",
       "    }\n",
       "</style>\n",
       "<table border=\"1\" class=\"dataframe\">\n",
       "  <thead>\n",
       "    <tr style=\"text-align: right;\">\n",
       "      <th></th>\n",
       "      <th>Temperature</th>\n",
       "      <th>Humidity</th>\n",
       "      <th>place_B</th>\n",
       "    </tr>\n",
       "  </thead>\n",
       "  <tbody>\n",
       "    <tr>\n",
       "      <th>0</th>\n",
       "      <td>4</td>\n",
       "      <td>30</td>\n",
       "      <td>1</td>\n",
       "    </tr>\n",
       "  </tbody>\n",
       "</table>\n",
       "</div>"
      ],
      "text/plain": [
       "   Temperature  Humidity  place_B\n",
       "0            4        30        1"
      ]
     },
     "metadata": {},
     "output_type": "display_data"
    }
   ],
   "source": [
    "X_test = pd.DataFrame([[4,30,1]],columns=X_dumm.columns)\n",
    "print('X for prediction:')\n",
    "display(X_test)"
   ]
  },
  {
   "cell_type": "code",
   "execution_count": 39,
   "id": "649f0b5f-052c-4606-ba11-d988578dec41",
   "metadata": {},
   "outputs": [
    {
     "name": "stdout",
     "output_type": "stream",
     "text": [
      "Predicted y:\n",
      "0    47.794211\n",
      "dtype: float64\n"
     ]
    }
   ],
   "source": [
    "X_test_c = sm.add_constant(X_test,has_constant='add')\n",
    "y_test = results.predict(X_test_c)\n",
    "print('Predicted y:')\n",
    "print(y_test)"
   ]
  },
  {
   "cell_type": "code",
   "execution_count": null,
   "id": "a04ca60f-3b60-446c-8ef8-d0c4d156e48c",
   "metadata": {},
   "outputs": [],
   "source": []
  }
 ],
 "metadata": {
  "kernelspec": {
   "display_name": "Python 3 (ipykernel)",
   "language": "python",
   "name": "python3"
  },
  "language_info": {
   "codemirror_mode": {
    "name": "ipython",
    "version": 3
   },
   "file_extension": ".py",
   "mimetype": "text/x-python",
   "name": "python",
   "nbconvert_exporter": "python",
   "pygments_lexer": "ipython3",
   "version": "3.8.16"
  }
 },
 "nbformat": 4,
 "nbformat_minor": 5
}
