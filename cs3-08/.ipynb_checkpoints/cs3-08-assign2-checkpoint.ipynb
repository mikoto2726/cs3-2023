{
 "cells": [
  {
   "cell_type": "code",
   "execution_count": 18,
   "id": "8ec683a1-e617-4808-8861-a9ba547a9fc4",
   "metadata": {},
   "outputs": [],
   "source": [
    "import numpy as np\n",
    "import pandas as pd\n",
    "import matplotlib.pyplot as plt\n",
    "import statsmodels.api as sm\n",
    "import seaborn as sns\n",
    "from sklearn.preprocessing import scale\n",
    "from sklearn.metrics import accuracy_score"
   ]
  },
  {
   "cell_type": "code",
   "execution_count": 19,
   "id": "2266647f-317f-4f6c-ae22-908d8ad68609",
   "metadata": {},
   "outputs": [
    {
     "name": "stdout",
     "output_type": "stream",
     "text": [
      "(20, 4)\n",
      "<class 'pandas.core.frame.DataFrame'>\n",
      "RangeIndex: 20 entries, 0 to 19\n",
      "Data columns (total 4 columns):\n",
      " #   Column   Non-Null Count  Dtype  \n",
      "---  ------   --------------  -----  \n",
      " 0   ID       20 non-null     int64  \n",
      " 1   Alcohol  20 non-null     float64\n",
      " 2   Smoking  20 non-null     int64  \n",
      " 3   Stroke   20 non-null     int64  \n",
      "dtypes: float64(1), int64(3)\n",
      "memory usage: 768.0 bytes\n",
      "None\n"
     ]
    },
    {
     "data": {
      "text/html": [
       "<div>\n",
       "<style scoped>\n",
       "    .dataframe tbody tr th:only-of-type {\n",
       "        vertical-align: middle;\n",
       "    }\n",
       "\n",
       "    .dataframe tbody tr th {\n",
       "        vertical-align: top;\n",
       "    }\n",
       "\n",
       "    .dataframe thead th {\n",
       "        text-align: right;\n",
       "    }\n",
       "</style>\n",
       "<table border=\"1\" class=\"dataframe\">\n",
       "  <thead>\n",
       "    <tr style=\"text-align: right;\">\n",
       "      <th></th>\n",
       "      <th>ID</th>\n",
       "      <th>Alcohol</th>\n",
       "      <th>Smoking</th>\n",
       "      <th>Stroke</th>\n",
       "    </tr>\n",
       "  </thead>\n",
       "  <tbody>\n",
       "    <tr>\n",
       "      <th>0</th>\n",
       "      <td>1</td>\n",
       "      <td>1.3</td>\n",
       "      <td>2</td>\n",
       "      <td>1</td>\n",
       "    </tr>\n",
       "    <tr>\n",
       "      <th>1</th>\n",
       "      <td>2</td>\n",
       "      <td>0.9</td>\n",
       "      <td>0</td>\n",
       "      <td>0</td>\n",
       "    </tr>\n",
       "    <tr>\n",
       "      <th>2</th>\n",
       "      <td>3</td>\n",
       "      <td>0.7</td>\n",
       "      <td>3</td>\n",
       "      <td>1</td>\n",
       "    </tr>\n",
       "    <tr>\n",
       "      <th>3</th>\n",
       "      <td>4</td>\n",
       "      <td>0.8</td>\n",
       "      <td>0</td>\n",
       "      <td>0</td>\n",
       "    </tr>\n",
       "    <tr>\n",
       "      <th>4</th>\n",
       "      <td>5</td>\n",
       "      <td>1.7</td>\n",
       "      <td>3</td>\n",
       "      <td>1</td>\n",
       "    </tr>\n",
       "  </tbody>\n",
       "</table>\n",
       "</div>"
      ],
      "text/plain": [
       "   ID  Alcohol  Smoking  Stroke\n",
       "0   1      1.3        2       1\n",
       "1   2      0.9        0       0\n",
       "2   3      0.7        3       1\n",
       "3   4      0.8        0       0\n",
       "4   5      1.7        3       1"
      ]
     },
     "metadata": {},
     "output_type": "display_data"
    }
   ],
   "source": [
    "csv_in = 'Stroke_small.csv'\n",
    "df = pd.read_csv(csv_in,sep=',',skiprows=0,header=0)\n",
    "print(df.shape)\n",
    "print(df.info())\n",
    "display(df.head())"
   ]
  },
  {
   "cell_type": "code",
   "execution_count": 20,
   "id": "2bbba760-2b5f-496b-98ff-09d249c72779",
   "metadata": {},
   "outputs": [],
   "source": [
    "df = df.drop(columns='ID')"
   ]
  },
  {
   "cell_type": "code",
   "execution_count": 21,
   "id": "118d7568-daf4-44c5-a2d2-3d7f2dbbba19",
   "metadata": {},
   "outputs": [
    {
     "name": "stdout",
     "output_type": "stream",
     "text": [
      "X: (20, 2)\n"
     ]
    },
    {
     "data": {
      "text/html": [
       "<div>\n",
       "<style scoped>\n",
       "    .dataframe tbody tr th:only-of-type {\n",
       "        vertical-align: middle;\n",
       "    }\n",
       "\n",
       "    .dataframe tbody tr th {\n",
       "        vertical-align: top;\n",
       "    }\n",
       "\n",
       "    .dataframe thead th {\n",
       "        text-align: right;\n",
       "    }\n",
       "</style>\n",
       "<table border=\"1\" class=\"dataframe\">\n",
       "  <thead>\n",
       "    <tr style=\"text-align: right;\">\n",
       "      <th></th>\n",
       "      <th>Alcohol</th>\n",
       "      <th>Smoking</th>\n",
       "    </tr>\n",
       "  </thead>\n",
       "  <tbody>\n",
       "    <tr>\n",
       "      <th>0</th>\n",
       "      <td>1.3</td>\n",
       "      <td>2</td>\n",
       "    </tr>\n",
       "    <tr>\n",
       "      <th>1</th>\n",
       "      <td>0.9</td>\n",
       "      <td>0</td>\n",
       "    </tr>\n",
       "    <tr>\n",
       "      <th>2</th>\n",
       "      <td>0.7</td>\n",
       "      <td>3</td>\n",
       "    </tr>\n",
       "    <tr>\n",
       "      <th>3</th>\n",
       "      <td>0.8</td>\n",
       "      <td>0</td>\n",
       "    </tr>\n",
       "    <tr>\n",
       "      <th>4</th>\n",
       "      <td>1.7</td>\n",
       "      <td>3</td>\n",
       "    </tr>\n",
       "  </tbody>\n",
       "</table>\n",
       "</div>"
      ],
      "text/plain": [
       "   Alcohol  Smoking\n",
       "0      1.3        2\n",
       "1      0.9        0\n",
       "2      0.7        3\n",
       "3      0.8        0\n",
       "4      1.7        3"
      ]
     },
     "metadata": {},
     "output_type": "display_data"
    },
    {
     "name": "stdout",
     "output_type": "stream",
     "text": [
      "y: (20,)\n",
      "0    1\n",
      "1    0\n",
      "2    1\n",
      "3    0\n",
      "4    1\n",
      "Name: Stroke, dtype: int64\n"
     ]
    }
   ],
   "source": [
    "X = df.drop(columns='Stroke')\n",
    "y = df['Stroke']\n",
    "print('X:',X.shape)\n",
    "display(X.head())\n",
    "print('y:',y.shape)\n",
    "print(y.head())"
   ]
  },
  {
   "cell_type": "code",
   "execution_count": 22,
   "id": "2397776d-e20d-4f83-923e-540cb60bdb79",
   "metadata": {},
   "outputs": [
    {
     "name": "stdout",
     "output_type": "stream",
     "text": [
      "0    11\n",
      "1     9\n",
      "Name: Stroke, dtype: int64\n"
     ]
    }
   ],
   "source": [
    "print(y.value_counts())"
   ]
  },
  {
   "cell_type": "code",
   "execution_count": 23,
   "id": "11a075f0-0dba-4e69-9b58-f47a32cadbe5",
   "metadata": {},
   "outputs": [
    {
     "name": "stdout",
     "output_type": "stream",
     "text": [
      "X_dumm: (20, 2)\n"
     ]
    },
    {
     "data": {
      "text/html": [
       "<div>\n",
       "<style scoped>\n",
       "    .dataframe tbody tr th:only-of-type {\n",
       "        vertical-align: middle;\n",
       "    }\n",
       "\n",
       "    .dataframe tbody tr th {\n",
       "        vertical-align: top;\n",
       "    }\n",
       "\n",
       "    .dataframe thead th {\n",
       "        text-align: right;\n",
       "    }\n",
       "</style>\n",
       "<table border=\"1\" class=\"dataframe\">\n",
       "  <thead>\n",
       "    <tr style=\"text-align: right;\">\n",
       "      <th></th>\n",
       "      <th>Alcohol</th>\n",
       "      <th>Smoking</th>\n",
       "    </tr>\n",
       "  </thead>\n",
       "  <tbody>\n",
       "    <tr>\n",
       "      <th>0</th>\n",
       "      <td>1.3</td>\n",
       "      <td>2</td>\n",
       "    </tr>\n",
       "    <tr>\n",
       "      <th>1</th>\n",
       "      <td>0.9</td>\n",
       "      <td>0</td>\n",
       "    </tr>\n",
       "    <tr>\n",
       "      <th>2</th>\n",
       "      <td>0.7</td>\n",
       "      <td>3</td>\n",
       "    </tr>\n",
       "    <tr>\n",
       "      <th>3</th>\n",
       "      <td>0.8</td>\n",
       "      <td>0</td>\n",
       "    </tr>\n",
       "    <tr>\n",
       "      <th>4</th>\n",
       "      <td>1.7</td>\n",
       "      <td>3</td>\n",
       "    </tr>\n",
       "  </tbody>\n",
       "</table>\n",
       "</div>"
      ],
      "text/plain": [
       "   Alcohol  Smoking\n",
       "0      1.3        2\n",
       "1      0.9        0\n",
       "2      0.7        3\n",
       "3      0.8        0\n",
       "4      1.7        3"
      ]
     },
     "metadata": {},
     "output_type": "display_data"
    }
   ],
   "source": [
    "X_dumm = pd.get_dummies(X,drop_first=True)\n",
    "print('X_dumm:',X_dumm.shape)\n",
    "display(X_dumm.head())"
   ]
  },
  {
   "cell_type": "code",
   "execution_count": 32,
   "id": "1d1c2f30-fab7-4f1a-840c-17008947e5d3",
   "metadata": {},
   "outputs": [
    {
     "name": "stdout",
     "output_type": "stream",
     "text": [
      "Optimization terminated successfully.\n",
      "         Current function value: 0.465424\n",
      "         Iterations 6\n",
      "                           Logit Regression Results                           \n",
      "==============================================================================\n",
      "Dep. Variable:                 Stroke   No. Observations:                   20\n",
      "Model:                          Logit   Df Residuals:                       17\n",
      "Method:                           MLE   Df Model:                            2\n",
      "Date:                Sat, 03 Jun 2023   Pseudo R-squ.:                  0.3236\n",
      "Time:                        17:26:23   Log-Likelihood:                -9.3085\n",
      "converged:                       True   LL-Null:                       -13.763\n",
      "Covariance Type:            nonrobust   LLR p-value:                   0.01163\n",
      "==============================================================================\n",
      "                 coef    std err          z      P>|z|      [0.025      0.975]\n",
      "------------------------------------------------------------------------------\n",
      "const         -2.7878      2.005     -1.390      0.164      -6.718       1.143\n",
      "Alcohol        0.3945      1.578      0.250      0.803      -2.697       3.486\n",
      "Smoking        1.3069      0.600      2.179      0.029       0.131       2.483\n",
      "==============================================================================\n"
     ]
    }
   ],
   "source": [
    "X_dumm_c = sm.add_constant(X_dumm)\n",
    "model = sm.Logit(y,X_dumm_c)\n",
    "results = model.fit()\n",
    "print(results.summary())"
   ]
  },
  {
   "cell_type": "code",
   "execution_count": 36,
   "id": "e3a3fded-f5ee-4529-8d53-ea2398457e35",
   "metadata": {},
   "outputs": [
    {
     "name": "stdout",
     "output_type": "stream",
     "text": [
      "Predicted y:\n",
      "0    0.583928\n",
      "1    0.080715\n",
      "2    0.803621\n",
      "3    0.077835\n",
      "4    0.858590\n",
      "dtype: float64\n",
      "0    1\n",
      "1    0\n",
      "2    1\n",
      "3    0\n",
      "4    1\n",
      "dtype: int32\n"
     ]
    }
   ],
   "source": [
    "y_pred = results.predict(X_dumm_c)\n",
    "print('Predicted y:')\n",
    "print(y_pred.head())\n",
    "y_pred_bin = (y_pred >= 0.5).astype('int')\n",
    "print(y_pred_bin.head())"
   ]
  },
  {
   "cell_type": "code",
   "execution_count": 37,
   "id": "ff0c7d68-3808-4843-8c4d-9d75f20ec0ed",
   "metadata": {},
   "outputs": [
    {
     "name": "stdout",
     "output_type": "stream",
     "text": [
      "Hitting ratio: 0.85\n"
     ]
    }
   ],
   "source": [
    "acc = accuracy_score(y,y_pred_bin)\n",
    "print('Hitting ratio:',acc)"
   ]
  },
  {
   "cell_type": "code",
   "execution_count": 38,
   "id": "75107bea-f696-41f0-a2a8-9f4fb060c629",
   "metadata": {},
   "outputs": [
    {
     "name": "stdout",
     "output_type": "stream",
     "text": [
      "Odds ratio\n",
      "const      0.061559\n",
      "Alcohol    1.483704\n",
      "Smoking    3.694664\n",
      "dtype: float64\n"
     ]
    }
   ],
   "source": [
    "print('Odds ratio')\n",
    "print(np.exp(results.params))"
   ]
  },
  {
   "cell_type": "code",
   "execution_count": 39,
   "id": "2f39713e-74d4-44e2-a428-5c5d15892ec0",
   "metadata": {},
   "outputs": [
    {
     "name": "stdout",
     "output_type": "stream",
     "text": [
      "Optimization terminated successfully.\n",
      "         Current function value: 0.465424\n",
      "         Iterations 6\n",
      "                           Logit Regression Results                           \n",
      "==============================================================================\n",
      "Dep. Variable:                 Stroke   No. Observations:                   20\n",
      "Model:                          Logit   Df Residuals:                       17\n",
      "Method:                           MLE   Df Model:                            2\n",
      "Date:                Sat, 03 Jun 2023   Pseudo R-squ.:                  0.3236\n",
      "Time:                        17:27:01   Log-Likelihood:                -9.3085\n",
      "converged:                       True   LL-Null:                       -13.763\n",
      "Covariance Type:            nonrobust   LLR p-value:                   0.01163\n",
      "==============================================================================\n",
      "                 coef    std err          z      P>|z|      [0.025      0.975]\n",
      "------------------------------------------------------------------------------\n",
      "const         -0.3382      0.590     -0.573      0.567      -1.495       0.818\n",
      "Alcohol        0.1520      0.608      0.250      0.803      -1.039       1.343\n",
      "Smoking        1.5737      0.722      2.179      0.029       0.158       2.990\n",
      "==============================================================================\n"
     ]
    }
   ],
   "source": [
    "X_scaled_ar = scale(X_dumm)\n",
    "X_scaled = pd.DataFrame(X_scaled_ar,columns=X_dumm.columns)\n",
    "X_scaled_c = sm.add_constant(X_scaled)\n",
    "model = sm.Logit(y,X_scaled_c)\n",
    "results_scaled = model.fit()\n",
    "print(results_scaled.summary())"
   ]
  },
  {
   "cell_type": "code",
   "execution_count": 40,
   "id": "cc6771f8-b3f9-4044-b10d-2c8705205a88",
   "metadata": {},
   "outputs": [
    {
     "name": "stdout",
     "output_type": "stream",
     "text": [
      "Smoking    1.573703\n",
      "const     -0.338199\n",
      "Alcohol    0.151988\n",
      "dtype: float64\n"
     ]
    }
   ],
   "source": [
    "print(results_scaled.params.sort_values(key=np.abs,ascending=False))"
   ]
  },
  {
   "cell_type": "code",
   "execution_count": 41,
   "id": "2de95aac-914d-4275-b3d3-0b7d9719264d",
   "metadata": {},
   "outputs": [
    {
     "name": "stdout",
     "output_type": "stream",
     "text": [
      "X for prediction:\n"
     ]
    },
    {
     "data": {
      "text/html": [
       "<div>\n",
       "<style scoped>\n",
       "    .dataframe tbody tr th:only-of-type {\n",
       "        vertical-align: middle;\n",
       "    }\n",
       "\n",
       "    .dataframe tbody tr th {\n",
       "        vertical-align: top;\n",
       "    }\n",
       "\n",
       "    .dataframe thead th {\n",
       "        text-align: right;\n",
       "    }\n",
       "</style>\n",
       "<table border=\"1\" class=\"dataframe\">\n",
       "  <thead>\n",
       "    <tr style=\"text-align: right;\">\n",
       "      <th></th>\n",
       "      <th>Alcohol</th>\n",
       "      <th>Smoking</th>\n",
       "    </tr>\n",
       "  </thead>\n",
       "  <tbody>\n",
       "    <tr>\n",
       "      <th>0</th>\n",
       "      <td>0.3</td>\n",
       "      <td>1</td>\n",
       "    </tr>\n",
       "    <tr>\n",
       "      <th>1</th>\n",
       "      <td>0.7</td>\n",
       "      <td>1</td>\n",
       "    </tr>\n",
       "  </tbody>\n",
       "</table>\n",
       "</div>"
      ],
      "text/plain": [
       "   Alcohol  Smoking\n",
       "0      0.3        1\n",
       "1      0.7        1"
      ]
     },
     "metadata": {},
     "output_type": "display_data"
    }
   ],
   "source": [
    "X_test = pd.DataFrame([[0.3,1],[0.7,1],],columns=X_dumm.columns)\n",
    "\n",
    "print('X for prediction:')\n",
    "display(X_test)"
   ]
  },
  {
   "cell_type": "code",
   "execution_count": 42,
   "id": "170bf191-75aa-4ef9-b3aa-506ba7cc57fa",
   "metadata": {},
   "outputs": [
    {
     "name": "stdout",
     "output_type": "stream",
     "text": [
      "Predicted y:\n",
      "0    0.203832\n",
      "1    0.230641\n",
      "dtype: float64\n"
     ]
    }
   ],
   "source": [
    "X_test_c = sm.add_constant(X_test,has_constant='add')\n",
    "y_test = results.predict(X_test_c)\n",
    "print('Predicted y:')\n",
    "print(y_test)"
   ]
  },
  {
   "cell_type": "code",
   "execution_count": null,
   "id": "109e87a9-3fae-4b77-91c5-16c7ed2812e7",
   "metadata": {},
   "outputs": [],
   "source": []
  }
 ],
 "metadata": {
  "kernelspec": {
   "display_name": "Python 3 (ipykernel)",
   "language": "python",
   "name": "python3"
  },
  "language_info": {
   "codemirror_mode": {
    "name": "ipython",
    "version": 3
   },
   "file_extension": ".py",
   "mimetype": "text/x-python",
   "name": "python",
   "nbconvert_exporter": "python",
   "pygments_lexer": "ipython3",
   "version": "3.8.16"
  }
 },
 "nbformat": 4,
 "nbformat_minor": 5
}
