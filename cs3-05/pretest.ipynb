{
 "cells": [
  {
   "cell_type": "code",
   "execution_count": 16,
   "id": "9db06c3a-eb12-4498-8e5c-3401029f2927",
   "metadata": {},
   "outputs": [
    {
     "name": "stdout",
     "output_type": "stream",
     "text": [
      "Channel             0\n",
      "Region              0\n",
      "Fresh               0\n",
      "Milk                2\n",
      "Grocery             0\n",
      "Frozen              1\n",
      "Detergents_Paper    0\n",
      "Delicatessen        0\n",
      "dtype: int64\n"
     ]
    }
   ],
   "source": [
    "import numpy as np #numpyにnpという別名を付けてimport\n",
    "import pandas as pd #pandasにpdという別名を付けてimport\n",
    "import matplotlib.pyplot as plt #グラフ描画のためのライブラリmatplotlibをimportする\n",
    "\n",
    "csv_in='../cs3-04/wholesale_customers-with-errors.csv'\n",
    "df = pd.read_csv(csv_in, sep=',', skiprows=13, header=0)\n",
    "print(df.isna().sum())"
   ]
  },
  {
   "cell_type": "code",
   "execution_count": 17,
   "id": "0a7a98dd-7608-48b2-8f51-81abd722637a",
   "metadata": {},
   "outputs": [],
   "source": [
    "df2=df.dropna().reset_index(drop=True)"
   ]
  },
  {
   "cell_type": "code",
   "execution_count": 18,
   "id": "8ff245c3-0859-46b4-910c-6510dab6b54a",
   "metadata": {},
   "outputs": [],
   "source": [
    "df2['Mean'] = (df2['Fresh'] + df2['Milk']) / 2"
   ]
  },
  {
   "cell_type": "code",
   "execution_count": 19,
   "id": "faeaf96f-fb7c-433b-9e6a-22bcae4bccd7",
   "metadata": {},
   "outputs": [],
   "source": [
    "df3 = df2[df2['Mean'] > 10000].reset_index(drop=True)"
   ]
  },
  {
   "cell_type": "code",
   "execution_count": null,
   "id": "c2956d94-1dae-4725-853a-ee9787c6ecc8",
   "metadata": {},
   "outputs": [],
   "source": []
  }
 ],
 "metadata": {
  "kernelspec": {
   "display_name": "Python 3 (ipykernel)",
   "language": "python",
   "name": "python3"
  },
  "language_info": {
   "codemirror_mode": {
    "name": "ipython",
    "version": 3
   },
   "file_extension": ".py",
   "mimetype": "text/x-python",
   "name": "python",
   "nbconvert_exporter": "python",
   "pygments_lexer": "ipython3",
   "version": "3.8.16"
  }
 },
 "nbformat": 4,
 "nbformat_minor": 5
}
