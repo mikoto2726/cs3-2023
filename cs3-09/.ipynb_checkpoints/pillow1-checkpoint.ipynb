{
 "cells": [
  {
   "cell_type": "code",
   "execution_count": 1,
   "id": "f6e3ec7c-3297-492d-86da-b7e28c040d86",
   "metadata": {},
   "outputs": [],
   "source": [
    "import numpy as np\n",
    "import matplotlib.pyplot as plt\n",
    "from PIL import Image"
   ]
  },
  {
   "cell_type": "code",
   "execution_count": 2,
   "id": "0d98aa2d-3110-4620-9140-a1435e53b164",
   "metadata": {},
   "outputs": [],
   "source": [
    "img_in = 'stripes.png'\n",
    "img = Image.open(img_in)"
   ]
  },
  {
   "cell_type": "code",
   "execution_count": 3,
   "id": "f74f7a2b-95ea-47e3-90a2-764b9995db1f",
   "metadata": {},
   "outputs": [
    {
     "name": "stdout",
     "output_type": "stream",
     "text": [
      "PNG (16, 10) 16 10 RGB\n"
     ]
    }
   ],
   "source": [
    "print(img.format, img.size,\n",
    "      img.width, img.height, img.mode)"
   ]
  },
  {
   "cell_type": "code",
   "execution_count": 4,
   "id": "ffd9f2d3-34c4-4439-b875-7e935df20f3e",
   "metadata": {},
   "outputs": [
    {
     "data": {
      "image/png": "[encoded data removed]",
      "text/plain": [
       "<Figure size 640x480 with 1 Axes>"
      ]
     },
     "metadata": {},
     "output_type": "display_data"
    }
   ],
   "source": [
    "plt.imshow(img)\n",
    "plt.show()"
   ]
  },
  {
   "cell_type": "code",
   "execution_count": 5,
   "id": "52c0d9ed-4ced-4367-9549-b3be6da5d9c8",
   "metadata": {},
   "outputs": [
    {
     "name": "stdout",
     "output_type": "stream",
     "text": [
      "(10, 16, 3)\n"
     ]
    }
   ],
   "source": [
    "data=np.array(img)\n",
    "print(data.shape)"
   ]
  },
  {
   "cell_type": "code",
   "execution_count": 7,
   "id": "120b2fd1-3574-4351-9d8a-82e292323989",
   "metadata": {},
   "outputs": [
    {
     "name": "stdout",
     "output_type": "stream",
     "text": [
      "[[  0 255   0  10   0  10   0 255   0 255   0  10   0 255   0 255]\n",
      " [  0 255   0  10   0  10   0 255   0 255   0  10   0 255   0 255]\n",
      " [  0 255   0  10   0  10   0 255   0 255   0  10   0 255   0 192]\n",
      " [  0 255   0  10   0  10   0 255   0 255   0  10   0 255   0 192]\n",
      " [  0 255   0  10   0  10   0 255   0 255   0  10   0 255   0 128]\n",
      " [  0 255   0  10   0  10   0 255   0 255   0  10   0 255   0 128]\n",
      " [  0 255   0  10   0  10   0 255   0 255   0  10   0 255   0  64]\n",
      " [  0 255   0  10   0  10   0 255   0 255   0  10   0 255   0  64]\n",
      " [  0 255   0  10   0  10   0 255   0 255   0  10   0 255   0  10]\n",
      " [  0 255   0  10   0  10   0 255   0 255   0  10   0 255   0  10]]\n"
     ]
    }
   ],
   "source": [
    "print(data[:, :, 0])# R"
   ]
  },
  {
   "cell_type": "code",
   "execution_count": 8,
   "id": "92d89427-d164-4dd5-9f73-b89e8a31ac25",
   "metadata": {},
   "outputs": [
    {
     "name": "stdout",
     "output_type": "stream",
     "text": [
      "[[  0  10   0 255   0  10   0 255   0  10   0 255   0 255   0 255]\n",
      " [  0  10   0 255   0  10   0 255   0  10   0 255   0 255   0 255]\n",
      " [  0  10   0 255   0  10   0 255   0  10   0 255   0 255   0 192]\n",
      " [  0  10   0 255   0  10   0 255   0  10   0 255   0 255   0 192]\n",
      " [  0  10   0 255   0  10   0 255   0  10   0 255   0 255   0 128]\n",
      " [  0  10   0 255   0  10   0 255   0  10   0 255   0 255   0 128]\n",
      " [  0  10   0 255   0  10   0 255   0  10   0 255   0 255   0  64]\n",
      " [  0  10   0 255   0  10   0 255   0  10   0 255   0 255   0  64]\n",
      " [  0  10   0 255   0  10   0 255   0  10   0 255   0 255   0  10]\n",
      " [  0  10   0 255   0  10   0 255   0  10   0 255   0 255   0  10]]\n"
     ]
    }
   ],
   "source": [
    "print(data[:, :, 1])  # G"
   ]
  },
  {
   "cell_type": "code",
   "execution_count": 9,
   "id": "060968ae-d105-4f51-bffe-adfe6565ef0d",
   "metadata": {},
   "outputs": [
    {
     "name": "stdout",
     "output_type": "stream",
     "text": [
      "[[  0  10   0  10   0 255   0  10   0 255   0 255   0 255   0 255]\n",
      " [  0  10   0  10   0 255   0  10   0 255   0 255   0 255   0 255]\n",
      " [  0  10   0  10   0 255   0  10   0 255   0 255   0 255   0 192]\n",
      " [  0  10   0  10   0 255   0  10   0 255   0 255   0 255   0 192]\n",
      " [  0  10   0  10   0 255   0  10   0 255   0 255   0 255   0 128]\n",
      " [  0  10   0  10   0 255   0  10   0 255   0 255   0 255   0 128]\n",
      " [  0  10   0  10   0 255   0  10   0 255   0 255   0 255   0  64]\n",
      " [  0  10   0  10   0 255   0  10   0 255   0 255   0 255   0  64]\n",
      " [  0  10   0  10   0 255   0  10   0 255   0 255   0 255   0  10]\n",
      " [  0  10   0  10   0 255   0  10   0 255   0 255   0 255   0  10]]\n"
     ]
    }
   ],
   "source": [
    "print(data[:, :, 2])  # B"
   ]
  },
  {
   "cell_type": "code",
   "execution_count": 10,
   "id": "6f54d9fe-9204-483a-b2b2-1a3bf8503a08",
   "metadata": {},
   "outputs": [],
   "source": [
    "img_gray_in = 'stripes-gray.png'\n",
    "img_gray = Image.open(img_gray_in)"
   ]
  },
  {
   "cell_type": "code",
   "execution_count": 11,
   "id": "ccd6bbe8-ee1e-4828-8d8b-204024c60e87",
   "metadata": {},
   "outputs": [
    {
     "name": "stdout",
     "output_type": "stream",
     "text": [
      "PNG (16, 10) 16 10 L\n"
     ]
    }
   ],
   "source": [
    "print(img_gray.format, img_gray.size,\n",
    "      img_gray.width, img_gray.height, img_gray.mode)"
   ]
  },
  {
   "cell_type": "code",
   "execution_count": 12,
   "id": "e2d25ab9-1705-49eb-9f6d-498fca5bcadb",
   "metadata": {},
   "outputs": [
    {
     "data": {
      "image/png": "[encoded data removed]",
      "text/plain": [
       "<Figure size 640x480 with 1 Axes>"
      ]
     },
     "metadata": {},
     "output_type": "display_data"
    }
   ],
   "source": [
    "plt.imshow(img_gray, cmap='gray')\n",
    "plt.show()"
   ]
  },
  {
   "cell_type": "code",
   "execution_count": 13,
   "id": "8ab9db92-93dc-46b6-8a72-eae78193eb88",
   "metadata": {},
   "outputs": [
    {
     "name": "stdout",
     "output_type": "stream",
     "text": [
      "(10, 16)\n"
     ]
    }
   ],
   "source": [
    "data_gray=np.array(img_gray)\n",
    "print(data_gray.shape)"
   ]
  },
  {
   "cell_type": "code",
   "execution_count": 14,
   "id": "53bc386e-e1cb-464c-a9cc-2fef52fb0248",
   "metadata": {},
   "outputs": [
    {
     "name": "stdout",
     "output_type": "stream",
     "text": [
      "[[  0  83   0 154   0  38   0 227   0 111   0 182   0 255   0 255]\n",
      " [  0  83   0 154   0  38   0 227   0 111   0 182   0 255   0 255]\n",
      " [  0  83   0 154   0  38   0 227   0 111   0 182   0 255   0 192]\n",
      " [  0  83   0 154   0  38   0 227   0 111   0 182   0 255   0 192]\n",
      " [  0  83   0 154   0  38   0 227   0 111   0 182   0 255   0 128]\n",
      " [  0  83   0 154   0  38   0 227   0 111   0 182   0 255   0 128]\n",
      " [  0  83   0 154   0  38   0 227   0 111   0 182   0 255   0  64]\n",
      " [  0  83   0 154   0  38   0 227   0 111   0 182   0 255   0  64]\n",
      " [  0  83   0 154   0  38   0 227   0 111   0 182   0 255   0  10]\n",
      " [  0  83   0 154   0  38   0 227   0 111   0 182   0 255   0  10]]\n"
     ]
    }
   ],
   "source": [
    "print(data_gray)"
   ]
  },
  {
   "cell_type": "code",
   "execution_count": 15,
   "id": "2dbf5dbc-6028-48a7-b05f-e57f0072c02e",
   "metadata": {},
   "outputs": [],
   "source": [
    "nd_color = np.zeros((4, 10, 3)).astype('uint8')\n",
    "nd_color[1:3, 1:3, 0] = 255\n",
    "nd_color[1:3, 4:6, 1] = 255\n",
    "nd_color[1:3, 7:9, 2] = 255\n",
    "img_color = Image.fromarray(nd_color)"
   ]
  },
  {
   "cell_type": "code",
   "execution_count": 16,
   "id": "6788f60e-e0da-48ba-83a0-ef7d943cc818",
   "metadata": {},
   "outputs": [
    {
     "data": {
      "image/png": "[encoded data removed]",
      "text/plain": [
       "<Figure size 640x480 with 1 Axes>"
      ]
     },
     "metadata": {},
     "output_type": "display_data"
    }
   ],
   "source": [
    "plt.imshow(img_color)\n",
    "plt.show()"
   ]
  },
  {
   "cell_type": "code",
   "execution_count": 17,
   "id": "0d5b2d4a-3795-41f7-83a5-a49609b78b6a",
   "metadata": {},
   "outputs": [],
   "source": [
    "nd_gray = np.zeros((4, 10)).astype('uint8')\n",
    "nd_gray[1:3, 1:3] = 64\n",
    "nd_gray[1:3, 4:6] = 128\n",
    "nd_gray[1:3, 7:9] = 255\n",
    "img_gray = Image.fromarray(nd_gray)"
   ]
  },
  {
   "cell_type": "code",
   "execution_count": 18,
   "id": "48c76d89-102e-462b-842b-3c282367b82c",
   "metadata": {},
   "outputs": [
    {
     "data": {
      "image/png": "[encoded data removed]",
      "text/plain": [
       "<Figure size 640x480 with 1 Axes>"
      ]
     },
     "metadata": {},
     "output_type": "display_data"
    }
   ],
   "source": [
    "plt.imshow(img_gray, cmap='gray')\n",
    "plt.show()"
   ]
  },
  {
   "cell_type": "code",
   "execution_count": null,
   "id": "ee1f9e0c-ff51-4b10-8a35-f2c75059fadc",
   "metadata": {},
   "outputs": [],
   "source": []
  }
 ],
 "metadata": {
  "kernelspec": {
   "display_name": "Python 3 (ipykernel)",
   "language": "python",
   "name": "python3"
  },
  "language_info": {
   "codemirror_mode": {
    "name": "ipython",
    "version": 3
   },
   "file_extension": ".py",
   "mimetype": "text/x-python",
   "name": "python",
   "nbconvert_exporter": "python",
   "pygments_lexer": "ipython3",
   "version": "3.8.16"
  }
 },
 "nbformat": 4,
 "nbformat_minor": 5
}
