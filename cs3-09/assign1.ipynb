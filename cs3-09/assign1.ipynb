{
 "cells": [
  {
   "cell_type": "code",
   "execution_count": 1,
   "id": "b276e1fe-c5d4-4b22-9326-1f99a2015a9b",
   "metadata": {},
   "outputs": [],
   "source": [
    "import numpy as np\n",
    "import matplotlib.pyplot as plt\n",
    "from PIL import Image"
   ]
  },
  {
   "cell_type": "code",
   "execution_count": 4,
   "id": "49381df1-668b-47ec-a31e-26625610ed92",
   "metadata": {},
   "outputs": [],
   "source": [
    "img_in = 'img_color_2.jpg'\n",
    "img = Image.open(img_in)"
   ]
  },
  {
   "cell_type": "code",
   "execution_count": 5,
   "id": "0c00727c-7d78-437d-96ca-7568766e3a4a",
   "metadata": {},
   "outputs": [
    {
     "name": "stdout",
     "output_type": "stream",
     "text": [
      "JPEG (15, 5) 15 5 RGB\n"
     ]
    }
   ],
   "source": [
    "print(img.format, img.size,\n",
    "      img.width, img.height, img.mode)"
   ]
  },
  {
   "cell_type": "code",
   "execution_count": 6,
   "id": "c0a5d571-9cc8-4cde-96b7-4a7f1dbf1b91",
   "metadata": {},
   "outputs": [
    {
     "data": {
      "image/png": "[encoded data removed]",
      "text/plain": [
       "<Figure size 640x480 with 1 Axes>"
      ]
     },
     "metadata": {},
     "output_type": "display_data"
    }
   ],
   "source": [
    "plt.imshow(img)\n",
    "plt.show()"
   ]
  },
  {
   "cell_type": "code",
   "execution_count": 7,
   "id": "1c0c160d-9877-40c3-aca1-ccd799dc163c",
   "metadata": {},
   "outputs": [
    {
     "name": "stdout",
     "output_type": "stream",
     "text": [
      "(5, 15, 3)\n"
     ]
    }
   ],
   "source": [
    "data=np.array(img)\n",
    "print(data.shape)"
   ]
  },
  {
   "cell_type": "code",
   "execution_count": 8,
   "id": "6790d723-a429-4900-a53c-8d8bf37cf1fd",
   "metadata": {},
   "outputs": [
    {
     "name": "stdout",
     "output_type": "stream",
     "text": [
      "[[  0 255 255   0  27  31   0  12  20  25 198 237 112 174 223]\n",
      " [  0 255 255   0  27  31   0  12  20  25 198 237 112 174 223]\n",
      " [  0 255 255   0  27  31   0  12  20  25 198 237 112 174 223]\n",
      " [  0 255 255   0  27  31   0  12  20  25 198 237 112 174 223]\n",
      " [  0 255 255   0  27  31   0  12  20  25 198 237 112 174 223]]\n"
     ]
    }
   ],
   "source": [
    "print(data[:, :, 0])# R"
   ]
  },
  {
   "cell_type": "code",
   "execution_count": 9,
   "id": "e9863d8d-6e5c-4c5f-b47e-867ea8733df7",
   "metadata": {},
   "outputs": [
    {
     "name": "stdout",
     "output_type": "stream",
     "text": [
      "[[ 22 226 232  53 242 224  20  11   1   0  35  23   0  34  16]\n",
      " [ 22 226 232  53 242 224  20  11   1   0  35  23   0  34  16]\n",
      " [ 22 226 232  53 242 224  20  11   1   0  35  23   0  34  16]\n",
      " [ 22 226 232  53 242 224  20  11   1   0  35  23   0  34  16]\n",
      " [ 22 226 232  53 242 224  20  11   1   0  35  23   0  34  16]]\n"
     ]
    }
   ],
   "source": [
    "print(data[:, :, 1])  # G"
   ]
  },
  {
   "cell_type": "code",
   "execution_count": 10,
   "id": "39018c1d-0fb4-4c05-8498-a98a987096c2",
   "metadata": {},
   "outputs": [
    {
     "name": "stdout",
     "output_type": "stream",
     "text": [
      "[[  0 118  91   0   0  81  48 164 189 147 224 183  19  35   0]\n",
      " [  0 118  91   0   0  81  48 164 189 147 224 183  19  35   0]\n",
      " [  0 118  91   0   0  81  48 164 189 147 224 183  19  35   0]\n",
      " [  0 118  91   0   0  81  48 164 189 147 224 183  19  35   0]\n",
      " [  0 118  91   0   0  81  48 164 189 147 224 183  19  35   0]]\n"
     ]
    }
   ],
   "source": [
    "print(data[:, :, 2])  # B"
   ]
  },
  {
   "cell_type": "code",
   "execution_count": 17,
   "id": "7b4392d1-ffa3-4ae9-aba0-736354fb9bb2",
   "metadata": {},
   "outputs": [],
   "source": [
    "nd_c = np.zeros((500, 1500, 3)).astype('uint8')\n",
    "nd_c[:, 100:400, 0] = 255\n",
    "nd_c[:, 600:900, 1] = 255\n",
    "nd_c[:, 1100:1400, 2] = 255"
   ]
  },
  {
   "cell_type": "code",
   "execution_count": 28,
   "id": "4ff39f08-cfc5-4718-b7b9-e46933e00597",
   "metadata": {},
   "outputs": [
    {
     "data": {
      "image/png": "[encoded data removed]",
      "text/plain": [
       "<Figure size 640x480 with 1 Axes>"
      ]
     },
     "metadata": {},
     "output_type": "display_data"
    }
   ],
   "source": [
    "img_c = Image.fromarray(nd_c)\n",
    "plt.imshow(img_c)\n",
    "plt.show()"
   ]
  },
  {
   "cell_type": "code",
   "execution_count": 29,
   "id": "dee7a1a3-59bc-4cb1-b468-34291d72d6ba",
   "metadata": {},
   "outputs": [],
   "source": [
    "img_out = 'img_color.jpg'\n",
    "img_c.save(img_out, quality=95)"
   ]
  },
  {
   "cell_type": "code",
   "execution_count": null,
   "id": "a71d4422-570e-4ab7-bd23-3decac68ed99",
   "metadata": {},
   "outputs": [],
   "source": []
  }
 ],
 "metadata": {
  "kernelspec": {
   "display_name": "Python 3 (ipykernel)",
   "language": "python",
   "name": "python3"
  },
  "language_info": {
   "codemirror_mode": {
    "name": "ipython",
    "version": 3
   },
   "file_extension": ".py",
   "mimetype": "text/x-python",
   "name": "python",
   "nbconvert_exporter": "python",
   "pygments_lexer": "ipython3",
   "version": "3.8.16"
  }
 },
 "nbformat": 4,
 "nbformat_minor": 5
}
