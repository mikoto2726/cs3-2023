{
 "cells": [
  {
   "cell_type": "code",
   "execution_count": 29,
   "id": "7ac3397b-9e08-40fd-b3f3-5c48bed94c72",
   "metadata": {},
   "outputs": [],
   "source": [
    "import pandas as pd\n",
    "import numpy as np\n",
    "import pandas as pd\n",
    "import matplotlib.pyplot as plt\n",
    "import statsmodels.api as sm\n",
    "import seaborn as sns\n",
    "from sklearn.preprocessing import scale\n",
    "from sklearn.metrics import accuracy_score\n",
    "# データの読み込み\n",
    "data = pd.read_csv('../cs3-07/boston_small.csv', skiprows=8,header=0)"
   ]
  },
  {
   "cell_type": "code",
   "execution_count": 30,
   "id": "224bcc65-6a6e-4c0b-a032-307d3210718b",
   "metadata": {},
   "outputs": [
    {
     "name": "stdout",
     "output_type": "stream",
     "text": [
      "自由度調整済み決定係数: 0.807\n"
     ]
    }
   ],
   "source": [
    "import statsmodels.api as sm\n",
    "\n",
    "# 説明変数と目的変数の設定\n",
    "X = df[['CRIM', 'INDUS', 'RM']]\n",
    "y = df['MEDV']\n",
    "\n",
    "# 定数項の追加\n",
    "X = sm.add_constant(X)\n",
    "\n",
    "# 重回帰分析の実行\n",
    "model = sm.OLS(y, X).fit()\n",
    "\n",
    "# 自由度調整済み決定係数の値を取得\n",
    "adj_r2 = model.rsquared_adj\n",
    "\n",
    "# 結果の表示\n",
    "print(f\"自由度調整済み決定係数: {adj_r2:.3f}\")\n"
   ]
  },
  {
   "cell_type": "code",
   "execution_count": 31,
   "id": "eb6fb394-27e3-4a5e-afe6-6c83125c0097",
   "metadata": {},
   "outputs": [
    {
     "ename": "AttributeError",
     "evalue": "'numpy.ndarray' object has no attribute 'iloc'",
     "output_type": "error",
     "traceback": [
      "\u001b[1;31m---------------------------------------------------------------------------\u001b[0m",
      "\u001b[1;31mAttributeError\u001b[0m                            Traceback (most recent call last)",
      "Cell \u001b[1;32mIn[31], line 13\u001b[0m\n\u001b[0;32m     10\u001b[0m original_value \u001b[38;5;241m=\u001b[39m model\u001b[38;5;241m.\u001b[39mpredict(X\u001b[38;5;241m.\u001b[39miloc[\u001b[38;5;241m0\u001b[39m])\n\u001b[0;32m     12\u001b[0m \u001b[38;5;66;03m# 目的変数の増分を計算\u001b[39;00m\n\u001b[1;32m---> 13\u001b[0m delta_MEDV \u001b[38;5;241m=\u001b[39m \u001b[43mpredicted\u001b[49m\u001b[38;5;241;43m.\u001b[39;49m\u001b[43miloc\u001b[49m[\u001b[38;5;241m0\u001b[39m] \u001b[38;5;241m-\u001b[39m original_value\u001b[38;5;241m.\u001b[39miloc[\u001b[38;5;241m0\u001b[39m]\n\u001b[0;32m     15\u001b[0m \u001b[38;5;66;03m# 結果の表示\u001b[39;00m\n\u001b[0;32m     16\u001b[0m \u001b[38;5;28mprint\u001b[39m(\u001b[38;5;124mf\u001b[39m\u001b[38;5;124m\"\u001b[39m\u001b[38;5;124m目的変数の増分: \u001b[39m\u001b[38;5;132;01m{\u001b[39;00mdelta_MEDV\u001b[38;5;132;01m:\u001b[39;00m\u001b[38;5;124m.3f\u001b[39m\u001b[38;5;132;01m}\u001b[39;00m\u001b[38;5;124m\"\u001b[39m)\n",
      "\u001b[1;31mAttributeError\u001b[0m: 'numpy.ndarray' object has no attribute 'iloc'"
     ]
    }
   ],
   "source": [
    "# CRIMの値を1増やした場合の予測\n",
    "new_CRIM = 1\n",
    "\n",
    "# 他の説明変数の値を固定\n",
    "new_INDUS = df['INDUS'].mean()\n",
    "new_RM = df['RM'].mean()\n",
    "\n",
    "# 予測値の計算\n",
    "predicted = model.predict([1, new_CRIM, new_INDUS, new_RM])\n",
    "original_value = model.predict(X.iloc[0])\n",
    "\n",
    "# 目的変数の増分を計算\n",
    "delta_MEDV = predicted.iloc[0] - original_value.iloc[0]\n",
    "\n",
    "# 結果の表示\n",
    "print(f\"目的変数の増分: {delta_MEDV:.3f}\")"
   ]
  },
  {
   "cell_type": "code",
   "execution_count": null,
   "id": "2f2ba5a0-6554-4fb0-9802-43c5600a595e",
   "metadata": {},
   "outputs": [],
   "source": []
  },
  {
   "cell_type": "code",
   "execution_count": null,
   "id": "1b475244-de4b-44a4-aadf-4a39b419eb07",
   "metadata": {},
   "outputs": [],
   "source": []
  }
 ],
 "metadata": {
  "kernelspec": {
   "display_name": "Python 3 (ipykernel)",
   "language": "python",
   "name": "python3"
  },
  "language_info": {
   "codemirror_mode": {
    "name": "ipython",
    "version": 3
   },
   "file_extension": ".py",
   "mimetype": "text/x-python",
   "name": "python",
   "nbconvert_exporter": "python",
   "pygments_lexer": "ipython3",
   "version": "3.8.16"
  }
 },
 "nbformat": 4,
 "nbformat_minor": 5
}
